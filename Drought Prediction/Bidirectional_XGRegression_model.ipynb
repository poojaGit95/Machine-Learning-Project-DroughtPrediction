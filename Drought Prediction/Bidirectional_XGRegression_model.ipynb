{
  "cells": [
    {
      "cell_type": "code",
      "execution_count": 34,
      "id": "c717a3ff",
      "metadata": {
        "id": "c717a3ff"
      },
      "outputs": [],
      "source": [
        "import pandas as pd\n",
        "import numpy as np\n",
        "import seaborn as sns\n",
        "import matplotlib.pyplot as plt\n",
        "import sklearn as skl\n",
        "# from fairmlhealth import report, measure, stat_utils\n",
        "from sklearn.tree import DecisionTreeClassifier\n",
        "import xgboost \n",
        "from sklearn.naive_bayes import GaussianNB\n",
        "from sklearn.linear_model import LogisticRegression\n",
        "from sklearn.ensemble import RandomForestClassifier\n",
        "import warnings\n",
        "warnings.filterwarnings('ignore')\n",
        "import numpy as np\n",
        "import tensorflow as tf\n",
        "from tensorflow.keras.models import Sequential\n",
        "from tensorflow.keras.layers import LSTM\n",
        "from tensorflow.keras.layers import Dense, Dropout, Bidirectional\n",
        "import pandas as pd\n",
        "from matplotlib import pyplot as plt\n",
        "from sklearn.preprocessing import StandardScaler\n",
        "from sklearn.preprocessing import MinMaxScaler\n",
        "import seaborn as sns\n",
        "from keras.preprocessing.sequence import TimeseriesGenerator\n",
        "from sklearn.model_selection import train_test_split\n",
        "from numpy import absolute\n",
        "from pandas import read_csv\n",
        "from sklearn.model_selection import cross_val_score\n",
        "from sklearn.model_selection import RepeatedKFold\n",
        "from xgboost import XGBRegressor\n",
        "from sklearn.metrics import mean_absolute_error, f1_score, accuracy_score, \\\n",
        "                            mean_squared_error, precision_score, recall_score"
      ]
    },
    {
      "cell_type": "code",
      "source": [
        "from google.colab import drive\n",
        "drive.mount('/content/drive')\n",
        "\n",
        "filePath = \"/content/drive/MyDrive/ML_Project_Drought/train_timeseries/train_timeseries.csv\"\n",
        "test_file = \"/content/drive/MyDrive/ML_Project_Drought/test_timeseries/test_timeseries.csv\"\n",
        "val_file = \"/content/drive/MyDrive/ML_Project_Drought/validation_timeseries/validation_timeseries.csv\"\n"
      ],
      "metadata": {
        "colab": {
          "base_uri": "https://localhost:8080/"
        },
        "id": "F8eqjFvSxAkW",
        "outputId": "0f194195-9a6d-46a7-f68a-b4a125371023"
      },
      "id": "F8eqjFvSxAkW",
      "execution_count": 2,
      "outputs": [
        {
          "output_type": "stream",
          "name": "stdout",
          "text": [
            "Mounted at /content/drive\n"
          ]
        }
      ]
    },
    {
      "cell_type": "code",
      "execution_count": 3,
      "id": "213c2c3a",
      "metadata": {
        "id": "213c2c3a"
      },
      "outputs": [],
      "source": [
        "# reads the data set from the file\n",
        "# train_data = pd.read_csv(\"cleaned_data.csv\")\n",
        "train_data = pd.read_csv(filePath)\n",
        "test_data = pd.read_csv(test_file)\n",
        "validation_data = pd.read_csv(val_file)"
      ]
    },
    {
      "cell_type": "code",
      "execution_count": 4,
      "id": "fe5451e6",
      "metadata": {
        "colab": {
          "base_uri": "https://localhost:8080/",
          "height": 224
        },
        "id": "fe5451e6",
        "outputId": "dbc5f453-063f-4c20-ca86-76b7dc8802ed"
      },
      "outputs": [
        {
          "output_type": "stream",
          "name": "stdout",
          "text": [
            "(19300680, 21)\n"
          ]
        },
        {
          "output_type": "execute_result",
          "data": {
            "text/html": [
              "\n",
              "  <div id=\"df-3de811c7-192f-4c8e-9b21-b964f0fb4523\">\n",
              "    <div class=\"colab-df-container\">\n",
              "      <div>\n",
              "<style scoped>\n",
              "    .dataframe tbody tr th:only-of-type {\n",
              "        vertical-align: middle;\n",
              "    }\n",
              "\n",
              "    .dataframe tbody tr th {\n",
              "        vertical-align: top;\n",
              "    }\n",
              "\n",
              "    .dataframe thead th {\n",
              "        text-align: right;\n",
              "    }\n",
              "</style>\n",
              "<table border=\"1\" class=\"dataframe\">\n",
              "  <thead>\n",
              "    <tr style=\"text-align: right;\">\n",
              "      <th></th>\n",
              "      <th>fips</th>\n",
              "      <th>date</th>\n",
              "      <th>PRECTOT</th>\n",
              "      <th>PS</th>\n",
              "      <th>QV2M</th>\n",
              "      <th>T2M</th>\n",
              "      <th>T2MDEW</th>\n",
              "      <th>T2MWET</th>\n",
              "      <th>T2M_MAX</th>\n",
              "      <th>T2M_MIN</th>\n",
              "      <th>T2M_RANGE</th>\n",
              "      <th>TS</th>\n",
              "      <th>WS10M</th>\n",
              "      <th>WS10M_MAX</th>\n",
              "      <th>WS10M_MIN</th>\n",
              "      <th>WS10M_RANGE</th>\n",
              "      <th>WS50M</th>\n",
              "      <th>WS50M_MAX</th>\n",
              "      <th>WS50M_MIN</th>\n",
              "      <th>WS50M_RANGE</th>\n",
              "      <th>score</th>\n",
              "    </tr>\n",
              "  </thead>\n",
              "  <tbody>\n",
              "    <tr>\n",
              "      <th>0</th>\n",
              "      <td>1001</td>\n",
              "      <td>2000-01-01</td>\n",
              "      <td>0.22</td>\n",
              "      <td>100.51</td>\n",
              "      <td>9.65</td>\n",
              "      <td>14.74</td>\n",
              "      <td>13.51</td>\n",
              "      <td>13.51</td>\n",
              "      <td>20.96</td>\n",
              "      <td>11.46</td>\n",
              "      <td>9.50</td>\n",
              "      <td>14.65</td>\n",
              "      <td>2.20</td>\n",
              "      <td>2.94</td>\n",
              "      <td>1.49</td>\n",
              "      <td>1.46</td>\n",
              "      <td>4.85</td>\n",
              "      <td>6.04</td>\n",
              "      <td>3.23</td>\n",
              "      <td>2.81</td>\n",
              "      <td>NaN</td>\n",
              "    </tr>\n",
              "    <tr>\n",
              "      <th>1</th>\n",
              "      <td>1001</td>\n",
              "      <td>2000-01-02</td>\n",
              "      <td>0.20</td>\n",
              "      <td>100.55</td>\n",
              "      <td>10.42</td>\n",
              "      <td>16.69</td>\n",
              "      <td>14.71</td>\n",
              "      <td>14.71</td>\n",
              "      <td>22.80</td>\n",
              "      <td>12.61</td>\n",
              "      <td>10.18</td>\n",
              "      <td>16.60</td>\n",
              "      <td>2.52</td>\n",
              "      <td>3.43</td>\n",
              "      <td>1.83</td>\n",
              "      <td>1.60</td>\n",
              "      <td>5.33</td>\n",
              "      <td>6.13</td>\n",
              "      <td>3.72</td>\n",
              "      <td>2.41</td>\n",
              "      <td>NaN</td>\n",
              "    </tr>\n",
              "    <tr>\n",
              "      <th>2</th>\n",
              "      <td>1001</td>\n",
              "      <td>2000-01-03</td>\n",
              "      <td>3.65</td>\n",
              "      <td>100.15</td>\n",
              "      <td>11.76</td>\n",
              "      <td>18.49</td>\n",
              "      <td>16.52</td>\n",
              "      <td>16.52</td>\n",
              "      <td>22.73</td>\n",
              "      <td>15.32</td>\n",
              "      <td>7.41</td>\n",
              "      <td>18.41</td>\n",
              "      <td>4.03</td>\n",
              "      <td>5.33</td>\n",
              "      <td>2.66</td>\n",
              "      <td>2.67</td>\n",
              "      <td>7.53</td>\n",
              "      <td>9.52</td>\n",
              "      <td>5.87</td>\n",
              "      <td>3.66</td>\n",
              "      <td>NaN</td>\n",
              "    </tr>\n",
              "    <tr>\n",
              "      <th>3</th>\n",
              "      <td>1001</td>\n",
              "      <td>2000-01-04</td>\n",
              "      <td>15.95</td>\n",
              "      <td>100.29</td>\n",
              "      <td>6.42</td>\n",
              "      <td>11.40</td>\n",
              "      <td>6.09</td>\n",
              "      <td>6.10</td>\n",
              "      <td>18.09</td>\n",
              "      <td>2.16</td>\n",
              "      <td>15.92</td>\n",
              "      <td>11.31</td>\n",
              "      <td>3.84</td>\n",
              "      <td>5.67</td>\n",
              "      <td>2.08</td>\n",
              "      <td>3.59</td>\n",
              "      <td>6.73</td>\n",
              "      <td>9.31</td>\n",
              "      <td>3.74</td>\n",
              "      <td>5.58</td>\n",
              "      <td>1.0</td>\n",
              "    </tr>\n",
              "    <tr>\n",
              "      <th>4</th>\n",
              "      <td>1001</td>\n",
              "      <td>2000-01-05</td>\n",
              "      <td>0.00</td>\n",
              "      <td>101.15</td>\n",
              "      <td>2.95</td>\n",
              "      <td>3.86</td>\n",
              "      <td>-3.29</td>\n",
              "      <td>-3.20</td>\n",
              "      <td>10.82</td>\n",
              "      <td>-2.66</td>\n",
              "      <td>13.48</td>\n",
              "      <td>2.65</td>\n",
              "      <td>1.60</td>\n",
              "      <td>2.50</td>\n",
              "      <td>0.52</td>\n",
              "      <td>1.98</td>\n",
              "      <td>2.94</td>\n",
              "      <td>4.85</td>\n",
              "      <td>0.65</td>\n",
              "      <td>4.19</td>\n",
              "      <td>NaN</td>\n",
              "    </tr>\n",
              "  </tbody>\n",
              "</table>\n",
              "</div>\n",
              "      <button class=\"colab-df-convert\" onclick=\"convertToInteractive('df-3de811c7-192f-4c8e-9b21-b964f0fb4523')\"\n",
              "              title=\"Convert this dataframe to an interactive table.\"\n",
              "              style=\"display:none;\">\n",
              "        \n",
              "  <svg xmlns=\"http://www.w3.org/2000/svg\" height=\"24px\"viewBox=\"0 0 24 24\"\n",
              "       width=\"24px\">\n",
              "    <path d=\"M0 0h24v24H0V0z\" fill=\"none\"/>\n",
              "    <path d=\"M18.56 5.44l.94 2.06.94-2.06 2.06-.94-2.06-.94-.94-2.06-.94 2.06-2.06.94zm-11 1L8.5 8.5l.94-2.06 2.06-.94-2.06-.94L8.5 2.5l-.94 2.06-2.06.94zm10 10l.94 2.06.94-2.06 2.06-.94-2.06-.94-.94-2.06-.94 2.06-2.06.94z\"/><path d=\"M17.41 7.96l-1.37-1.37c-.4-.4-.92-.59-1.43-.59-.52 0-1.04.2-1.43.59L10.3 9.45l-7.72 7.72c-.78.78-.78 2.05 0 2.83L4 21.41c.39.39.9.59 1.41.59.51 0 1.02-.2 1.41-.59l7.78-7.78 2.81-2.81c.8-.78.8-2.07 0-2.86zM5.41 20L4 18.59l7.72-7.72 1.47 1.35L5.41 20z\"/>\n",
              "  </svg>\n",
              "      </button>\n",
              "      \n",
              "  <style>\n",
              "    .colab-df-container {\n",
              "      display:flex;\n",
              "      flex-wrap:wrap;\n",
              "      gap: 12px;\n",
              "    }\n",
              "\n",
              "    .colab-df-convert {\n",
              "      background-color: #E8F0FE;\n",
              "      border: none;\n",
              "      border-radius: 50%;\n",
              "      cursor: pointer;\n",
              "      display: none;\n",
              "      fill: #1967D2;\n",
              "      height: 32px;\n",
              "      padding: 0 0 0 0;\n",
              "      width: 32px;\n",
              "    }\n",
              "\n",
              "    .colab-df-convert:hover {\n",
              "      background-color: #E2EBFA;\n",
              "      box-shadow: 0px 1px 2px rgba(60, 64, 67, 0.3), 0px 1px 3px 1px rgba(60, 64, 67, 0.15);\n",
              "      fill: #174EA6;\n",
              "    }\n",
              "\n",
              "    [theme=dark] .colab-df-convert {\n",
              "      background-color: #3B4455;\n",
              "      fill: #D2E3FC;\n",
              "    }\n",
              "\n",
              "    [theme=dark] .colab-df-convert:hover {\n",
              "      background-color: #434B5C;\n",
              "      box-shadow: 0px 1px 3px 1px rgba(0, 0, 0, 0.15);\n",
              "      filter: drop-shadow(0px 1px 2px rgba(0, 0, 0, 0.3));\n",
              "      fill: #FFFFFF;\n",
              "    }\n",
              "  </style>\n",
              "\n",
              "      <script>\n",
              "        const buttonEl =\n",
              "          document.querySelector('#df-3de811c7-192f-4c8e-9b21-b964f0fb4523 button.colab-df-convert');\n",
              "        buttonEl.style.display =\n",
              "          google.colab.kernel.accessAllowed ? 'block' : 'none';\n",
              "\n",
              "        async function convertToInteractive(key) {\n",
              "          const element = document.querySelector('#df-3de811c7-192f-4c8e-9b21-b964f0fb4523');\n",
              "          const dataTable =\n",
              "            await google.colab.kernel.invokeFunction('convertToInteractive',\n",
              "                                                     [key], {});\n",
              "          if (!dataTable) return;\n",
              "\n",
              "          const docLinkHtml = 'Like what you see? Visit the ' +\n",
              "            '<a target=\"_blank\" href=https://colab.research.google.com/notebooks/data_table.ipynb>data table notebook</a>'\n",
              "            + ' to learn more about interactive tables.';\n",
              "          element.innerHTML = '';\n",
              "          dataTable['output_type'] = 'display_data';\n",
              "          await google.colab.output.renderOutput(dataTable, element);\n",
              "          const docLink = document.createElement('div');\n",
              "          docLink.innerHTML = docLinkHtml;\n",
              "          element.appendChild(docLink);\n",
              "        }\n",
              "      </script>\n",
              "    </div>\n",
              "  </div>\n",
              "  "
            ],
            "text/plain": [
              "   fips        date  PRECTOT      PS  ...  WS50M_MAX  WS50M_MIN  WS50M_RANGE  score\n",
              "0  1001  2000-01-01     0.22  100.51  ...       6.04       3.23         2.81    NaN\n",
              "1  1001  2000-01-02     0.20  100.55  ...       6.13       3.72         2.41    NaN\n",
              "2  1001  2000-01-03     3.65  100.15  ...       9.52       5.87         3.66    NaN\n",
              "3  1001  2000-01-04    15.95  100.29  ...       9.31       3.74         5.58    1.0\n",
              "4  1001  2000-01-05     0.00  101.15  ...       4.85       0.65         4.19    NaN\n",
              "\n",
              "[5 rows x 21 columns]"
            ]
          },
          "metadata": {},
          "execution_count": 4
        }
      ],
      "source": [
        "print(train_data.shape)\n",
        "# print(test_data.shape)\n",
        "# print(validation_data.shape)\n",
        "train_data.head()"
      ]
    },
    {
      "cell_type": "code",
      "execution_count": 5,
      "id": "efa1808a",
      "metadata": {
        "id": "efa1808a"
      },
      "outputs": [],
      "source": [
        "#remove nan values\n",
        "train_data = train_data.dropna()\n",
        "test_data = test_data.dropna()\n",
        "validation_data = validation_data.dropna()"
      ]
    },
    {
      "cell_type": "code",
      "execution_count": 7,
      "id": "37d13cb5",
      "metadata": {
        "id": "37d13cb5"
      },
      "outputs": [],
      "source": [
        "train_data['date'] = pd.to_datetime(train_data['date'])\n",
        "validation_data['date'] = pd.to_datetime(validation_data['date'])\n",
        "test_data['date'] = pd.to_datetime(test_data['date'])"
      ]
    },
    {
      "cell_type": "code",
      "execution_count": 8,
      "id": "ca7a323b",
      "metadata": {
        "id": "ca7a323b"
      },
      "outputs": [],
      "source": [
        "train_data.set_index('date', inplace=True)\n",
        "validation_data.set_index('date', inplace=True)\n",
        "test_data.set_index('date', inplace=True)\n"
      ]
    },
    {
      "cell_type": "code",
      "execution_count": 10,
      "id": "18894e68",
      "metadata": {
        "id": "18894e68"
      },
      "outputs": [],
      "source": [
        "train_new = train_data.copy()\n",
        "test_new = test_data.copy()\n",
        "validation_new = validation_data.copy()"
      ]
    },
    {
      "cell_type": "code",
      "execution_count": 11,
      "id": "890c004f",
      "metadata": {
        "id": "890c004f"
      },
      "outputs": [],
      "source": [
        "df_train = train_new.sample(frac =0.01)\n",
        "df_test = test_new.sample(frac = 0.05)"
      ]
    },
    {
      "cell_type": "code",
      "execution_count": 13,
      "id": "c887028f",
      "metadata": {
        "id": "c887028f"
      },
      "outputs": [],
      "source": [
        "scalar = MinMaxScaler()\n",
        "df_tr_scaled = scalar.fit_transform(df_train) \n",
        "df_tt_scaled = scalar.fit_transform(df_test) \n"
      ]
    },
    {
      "cell_type": "code",
      "source": [
        "#Fitting XGBoost regressor model\n",
        "def XGBoost_Regressor(X, y, X_test, y_test):\n",
        "  model = XGBRegressor()\n",
        "  model.fit(X, y)\n",
        "\n",
        "  \n",
        "  yhat = model.predict(X_test)\n",
        "\n",
        "  rmse = np.sqrt(mean_squared_error(y_test, yhat))\n",
        "  mae = mean_absolute_error(y_test, yhat)\n",
        "  test_y_class = y_test.round()\n",
        "  pred_y_class = yhat.round()\n",
        "\n",
        "  fs = f1_score(test_y_class,pred_y_class, labels=[0,1,2,3,4,5,6], average='weighted' )\n",
        "  acc = accuracy_score(test_y_class,pred_y_class)\n",
        "  pre = precision_score(test_y_class, pred_y_class, average='weighted')\n",
        "  rec = recall_score(test_y_class, pred_y_class, average='weighted')\n",
        "  model_name = 'XGBRegressor'\n",
        "\n",
        "  print(\"Results for \", model_name)\n",
        "  print(\"Accuracy:\",acc)\n",
        "  print(\"Precision:\",pre)\n",
        "  print(\"Recall:\",rec)\n",
        "  print(\"F1-score:\",fs)\n",
        "  print(\"MAE:\",mae)\n",
        "  print(\"rmse:\",rmse)"
      ],
      "metadata": {
        "id": "-ocymE3FjFyc"
      },
      "id": "-ocymE3FjFyc",
      "execution_count": 16,
      "outputs": []
    },
    {
      "cell_type": "code",
      "source": [
        "X = df_train.drop(['score'], axis=1, inplace=False)\n",
        "y = df_train['score']\n",
        "X_test = df_test.drop(['score'], axis=1, inplace=False)\n",
        "y_test = df_test.score\n",
        "XGBoost_Regressor(X, y, X_test, y_test)"
      ],
      "metadata": {
        "colab": {
          "base_uri": "https://localhost:8080/"
        },
        "id": "VWLsrzYPjhb7",
        "outputId": "7a1eaa97-ba52-48bd-ffa8-3a4c13c19cdd"
      },
      "id": "VWLsrzYPjhb7",
      "execution_count": 17,
      "outputs": [
        {
          "output_type": "stream",
          "name": "stdout",
          "text": [
            "[05:28:14] WARNING: /workspace/src/objective/regression_obj.cu:152: reg:linear is now deprecated in favor of reg:squarederror.\n",
            "Results for  XGBRegressor\n",
            "Accuracy: 0.40706012134583563\n",
            "Precision: 0.7053971130885435\n",
            "Recall: 0.40706012134583563\n",
            "F1-score: 0.4712350481974276\n",
            "MAE: 0.7091099125082501\n",
            "rmse: 0.8670459758151733\n"
          ]
        }
      ]
    },
    {
      "cell_type": "code",
      "execution_count": 18,
      "id": "71e3d30f",
      "metadata": {
        "id": "71e3d30f",
        "colab": {
          "base_uri": "https://localhost:8080/"
        },
        "outputId": "802dec70-001f-40ee-84b0-f7dfb3bb589c"
      },
      "outputs": [
        {
          "output_type": "execute_result",
          "data": {
            "text/plain": [
              "(27568, 19)"
            ]
          },
          "metadata": {},
          "execution_count": 18
        }
      ],
      "source": [
        "features = df_tr_scaled[:,:-1]\n",
        "target = df_tr_scaled[:,-1]\n",
        "features.shape"
      ]
    },
    {
      "cell_type": "code",
      "execution_count": 19,
      "id": "49729b29",
      "metadata": {
        "id": "49729b29",
        "colab": {
          "base_uri": "https://localhost:8080/"
        },
        "outputId": "cc068759-956c-4394-f355-8c1eb6ff2e64"
      },
      "outputs": [
        {
          "output_type": "execute_result",
          "data": {
            "text/plain": [
              "(array([[[0.47334763, 0.00140428, 0.82639083, 0.51496437, 0.84939482,\n",
              "          0.80609713, 0.80141586, 0.8634032 , 0.85533294, 0.52223767,\n",
              "          0.83377699, 0.23695976, 0.26039387, 0.21925134, 0.19230769,\n",
              "          0.29534606, 0.26559546, 0.22435473, 0.16297895],\n",
              "         [0.92018822, 0.0020284 , 0.9194856 , 0.82517815, 0.86885246,\n",
              "          0.94930876, 0.94808495, 0.80741609, 0.93459045, 0.20291869,\n",
              "          0.85803017, 0.17436662, 0.22647702, 0.00891266, 0.30904184,\n",
              "          0.18436754, 0.26559546, 0.02514891, 0.32541824]]]), array([0.35378]))"
            ]
          },
          "metadata": {},
          "execution_count": 19
        }
      ],
      "source": [
        "TimeseriesGenerator(features, target, length=2, sampling_rate=1, batch_size=1)[0]"
      ]
    },
    {
      "cell_type": "code",
      "execution_count": 20,
      "id": "9818c4c7",
      "metadata": {
        "id": "9818c4c7"
      },
      "outputs": [],
      "source": [
        "x_train, x_test, y_train, y_test = train_test_split(features, target, test_size=0.20, random_state=42, shuffle=False)"
      ]
    },
    {
      "cell_type": "code",
      "execution_count": 21,
      "id": "f8f868bd",
      "metadata": {
        "id": "f8f868bd"
      },
      "outputs": [],
      "source": [
        "win_length = 25\n",
        "batch_size = 32\n",
        "num_features = 20\n",
        "train_generator = TimeseriesGenerator(x_train, y_train, length=win_length, sampling_rate=1, batch_size=batch_size)\n",
        "test_generator = TimeseriesGenerator(x_test, y_test, length=win_length, sampling_rate=1, batch_size=batch_size)"
      ]
    },
    {
      "cell_type": "code",
      "execution_count": 22,
      "id": "9dd743cf",
      "metadata": {
        "id": "9dd743cf"
      },
      "outputs": [],
      "source": [
        "model = tf.keras.Sequential()\n",
        "model.add(Bidirectional(tf.keras.layers.LSTM(128, input_shape=(win_length, num_features), return_sequences=True)))\n",
        "model.add(tf.keras.layers.LeakyReLU(alpha=0.5))\n",
        "model.add(Bidirectional(tf.keras.layers.LSTM(128, return_sequences=True)))\n",
        "model.add(tf.keras.layers.LeakyReLU(alpha=0.5))\n",
        "model.add(Bidirectional(tf.keras.layers.LSTM(128, return_sequences=True)))\n",
        "model.add(tf.keras.layers.LeakyReLU(alpha=0.5))\n",
        "model.add(tf.keras.layers.Dropout(0.3))\n",
        "model.add(Bidirectional(tf.keras.layers.LSTM(64, return_sequences=False)))\n",
        "model.add(tf.keras.layers.Dropout(0.3))\n",
        "model.add(tf.keras.layers.Dense(1))\n"
      ]
    },
    {
      "cell_type": "code",
      "execution_count": 23,
      "id": "86dd1de1",
      "metadata": {
        "scrolled": true,
        "id": "86dd1de1",
        "colab": {
          "base_uri": "https://localhost:8080/"
        },
        "outputId": "47b717e1-e0a0-4c05-f169-e134a578deac"
      },
      "outputs": [
        {
          "output_type": "stream",
          "name": "stdout",
          "text": [
            "Epoch 1/50\n",
            "689/689 [==============================] - 88s 92ms/step - loss: 0.0615 - accuracy: 0.5439 - mae: 0.1954 - mse: 0.0615 - val_loss: 0.0611 - val_accuracy: 0.5261 - val_mae: 0.1987 - val_mse: 0.0611\n",
            "Epoch 2/50\n",
            "689/689 [==============================] - 57s 82ms/step - loss: 0.0608 - accuracy: 0.5440 - mae: 0.1950 - mse: 0.0608 - val_loss: 0.0612 - val_accuracy: 0.5261 - val_mae: 0.1999 - val_mse: 0.0612\n",
            "Epoch 3/50\n",
            "689/689 [==============================] - 57s 83ms/step - loss: 0.0608 - accuracy: 0.5440 - mae: 0.1951 - mse: 0.0608 - val_loss: 0.0611 - val_accuracy: 0.5261 - val_mae: 0.1992 - val_mse: 0.0611\n"
          ]
        },
        {
          "output_type": "execute_result",
          "data": {
            "text/plain": [
              "<keras.callbacks.History at 0x7efdfd787e10>"
            ]
          },
          "metadata": {},
          "execution_count": 23
        }
      ],
      "source": [
        "early_stopping = tf.keras.callbacks.EarlyStopping(monitor='val_loss', patience=2, mode='min')\n",
        "model.compile(loss='mean_squared_error', optimizer='adam',metrics=['accuracy','mae','mse'])\n",
        "model.fit_generator(train_generator, epochs=50, validation_data=test_generator, \n",
        "                    shuffle=False, callbacks=[early_stopping])"
      ]
    },
    {
      "cell_type": "code",
      "source": [
        "model.summary()"
      ],
      "metadata": {
        "colab": {
          "base_uri": "https://localhost:8080/"
        },
        "id": "8FuRI95wBK4x",
        "outputId": "4bb9dd1a-91c7-4863-b232-d0773af1942e"
      },
      "id": "8FuRI95wBK4x",
      "execution_count": 24,
      "outputs": [
        {
          "output_type": "stream",
          "name": "stdout",
          "text": [
            "Model: \"sequential\"\n",
            "_________________________________________________________________\n",
            " Layer (type)                Output Shape              Param #   \n",
            "=================================================================\n",
            " bidirectional (Bidirectiona  (None, None, 256)        151552    \n",
            " l)                                                              \n",
            "                                                                 \n",
            " leaky_re_lu (LeakyReLU)     (None, None, 256)         0         \n",
            "                                                                 \n",
            " bidirectional_1 (Bidirectio  (None, None, 256)        394240    \n",
            " nal)                                                            \n",
            "                                                                 \n",
            " leaky_re_lu_1 (LeakyReLU)   (None, None, 256)         0         \n",
            "                                                                 \n",
            " bidirectional_2 (Bidirectio  (None, None, 256)        394240    \n",
            " nal)                                                            \n",
            "                                                                 \n",
            " leaky_re_lu_2 (LeakyReLU)   (None, None, 256)         0         \n",
            "                                                                 \n",
            " dropout (Dropout)           (None, None, 256)         0         \n",
            "                                                                 \n",
            " bidirectional_3 (Bidirectio  (None, 128)              164352    \n",
            " nal)                                                            \n",
            "                                                                 \n",
            " dropout_1 (Dropout)         (None, 128)               0         \n",
            "                                                                 \n",
            " dense (Dense)               (None, 1)                 129       \n",
            "                                                                 \n",
            "=================================================================\n",
            "Total params: 1,104,513\n",
            "Trainable params: 1,104,513\n",
            "Non-trainable params: 0\n",
            "_________________________________________________________________\n"
          ]
        }
      ]
    },
    {
      "cell_type": "code",
      "execution_count": 25,
      "id": "1f9ee232",
      "metadata": {
        "id": "1f9ee232",
        "colab": {
          "base_uri": "https://localhost:8080/"
        },
        "outputId": "8b1a41db-40c3-4ff5-e918-bc67c5ab0683"
      },
      "outputs": [
        {
          "output_type": "execute_result",
          "data": {
            "text/plain": [
              "[0.06114445999264717,\n",
              " 0.5261431932449341,\n",
              " 0.19916145503520966,\n",
              " 0.06114445999264717]"
            ]
          },
          "metadata": {},
          "execution_count": 25
        }
      ],
      "source": [
        "model.evaluate_generator(test_generator, verbose=0)"
      ]
    },
    {
      "cell_type": "code",
      "execution_count": 26,
      "id": "3a1bec1b",
      "metadata": {
        "id": "3a1bec1b"
      },
      "outputs": [],
      "source": [
        "predictions = model.predict_generator(test_generator)"
      ]
    },
    {
      "cell_type": "code",
      "execution_count": 27,
      "id": "2bfa0111",
      "metadata": {
        "id": "2bfa0111"
      },
      "outputs": [],
      "source": [
        "df_pred = pd.concat([pd.DataFrame(predictions), pd.DataFrame(x_test[:,0:][win_length:])], axis=1)"
      ]
    },
    {
      "cell_type": "code",
      "execution_count": 28,
      "id": "522d9b86",
      "metadata": {
        "id": "522d9b86"
      },
      "outputs": [],
      "source": [
        "rev_trans = scalar.inverse_transform(df_pred)"
      ]
    },
    {
      "cell_type": "code",
      "execution_count": 29,
      "id": "277cb4e4",
      "metadata": {
        "id": "277cb4e4"
      },
      "outputs": [],
      "source": [
        "df_final = df_train[predictions.shape[0]*-1:]"
      ]
    },
    {
      "cell_type": "code",
      "execution_count": 30,
      "id": "5a4c1625",
      "metadata": {
        "id": "5a4c1625"
      },
      "outputs": [],
      "source": [
        "df_final['score_pred'] = rev_trans[:,19]\n"
      ]
    },
    {
      "cell_type": "code",
      "execution_count": 31,
      "id": "e447154b",
      "metadata": {
        "colab": {
          "base_uri": "https://localhost:8080/",
          "height": 320
        },
        "id": "e447154b",
        "outputId": "4ebbc57d-07ab-4796-e98e-f5db5ae603ac"
      },
      "outputs": [
        {
          "output_type": "display_data",
          "data": {
            "image/png": "[encoded data removed]",
            "text/plain": [
              "<Figure size 720x360 with 1 Axes>"
            ]
          },
          "metadata": {
            "needs_background": "light"
          }
        }
      ],
      "source": [
        "# aa=[x for x in range(500)]\n",
        "plt.figure(figsize=(10,5))\n",
        "plt.plot(df_final['score'].values[0:200],  label=\"actual\")\n",
        "plt.plot(df_final['score_pred'].values[0:200],'r', label=\"prediction\")\n",
        "\n",
        "plt.show();"
      ]
    },
    {
      "cell_type": "code",
      "source": [
        "test_multi = df_final['score'].round()\n",
        "pred_multi = df_final['score_pred'].round()\n",
        "test_bin = test_multi.map({0:0, 1:1, 2:1, 3:1, 4:1, 5:1})\n",
        "pred_bin = pred_multi.map({0:0, 1:1, 2:1, 3:1, 4:1, 5:1})\n",
        "\n",
        "\n",
        "mae = mean_absolute_error(test_bin, pred_bin).round(3)\n",
        "print(\"RMSE: \", np.sqrt(MSE(test_bin, pred_bin)))\n",
        "f1 = f1_score(test_bin,pred_bin).round(3)\n",
        "print( f\"MAE {mae}\")\n",
        "print( f\"F1 {f1}\")\n",
        "print(f\"Recall {recall_score(test_bin,pred_bin).round(3)}\")\n",
        "print(\"Precision: \",precision_score(test_bin,pred_bin).round(3))\n",
        "print(\"Accuracy\", accuracy_score(test_bin,pred_bin).round(3))"
      ],
      "metadata": {
        "colab": {
          "base_uri": "https://localhost:8080/"
        },
        "id": "xxw0kM2nnR7N",
        "outputId": "7f1b3267-8eca-4b43-edc4-adae041be386"
      },
      "id": "xxw0kM2nnR7N",
      "execution_count": null,
      "outputs": [
        {
          "output_type": "stream",
          "name": "stdout",
          "text": [
            "RMSE:  0.7574251383641201\n",
            "MAE 0.574\n",
            "F1 0.542\n",
            "Recall 0.86\n",
            "Precision:  0.395\n",
            "Accuracy 0.426\n"
          ]
        }
      ]
    },
    {
      "cell_type": "code",
      "execution_count": null,
      "id": "425b1e1d",
      "metadata": {
        "id": "425b1e1d"
      },
      "outputs": [],
      "source": [
        ""
      ]
    }
  ],
  "metadata": {
    "kernelspec": {
      "display_name": "Python 3",
      "language": "python",
      "name": "python3"
    },
    "language_info": {
      "codemirror_mode": {
        "name": "ipython",
        "version": 3
      },
      "file_extension": ".py",
      "mimetype": "text/x-python",
      "name": "python",
      "nbconvert_exporter": "python",
      "pygments_lexer": "ipython3",
      "version": "3.8.8"
    },
    "colab": {
      "name": "project Bidirectional_XGRegression.ipynb",
      "provenance": []
    },
    "accelerator": "GPU"
  },
  "nbformat": 4,
  "nbformat_minor": 5
}