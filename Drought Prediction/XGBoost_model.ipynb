{
  "nbformat": 4,
  "nbformat_minor": 0,
  "metadata": {
    "kernelspec": {
      "display_name": "Python 3",
      "language": "python",
      "name": "python3"
    },
    "language_info": {
      "codemirror_mode": {
        "name": "ipython",
        "version": 3
      },
      "file_extension": ".py",
      "mimetype": "text/x-python",
      "name": "python",
      "nbconvert_exporter": "python",
      "pygments_lexer": "ipython3",
      "version": "3.6.5"
    },
    "colab": {
      "name": "ML_Project_XGBoost.ipynb",
      "provenance": [],
      "collapsed_sections": []
    }
  },
  "cells": [
    {
      "cell_type": "code",
      "metadata": {
        "colab": {
          "base_uri": "https://localhost:8080/"
        },
        "id": "g215kzUkbdt7",
        "outputId": "ff8e4940-5360-4f2b-f1f5-adeac3eea003"
      },
      "source": [
        "from google.colab import drive\n",
        "drive.mount('/content/drive')"
      ],
      "execution_count": 1,
      "outputs": [
        {
          "output_type": "stream",
          "name": "stdout",
          "text": [
            "Mounted at /content/drive\n"
          ]
        }
      ]
    },
    {
      "cell_type": "code",
      "metadata": {
        "id": "TwglLPjQba_D"
      },
      "source": [
        "import matplotlib.pyplot as plt\n",
        "import numpy as np\n",
        "import pandas as pd\n",
        "import pandas as pd\n",
        "import seaborn as sns\n",
        "import warnings\n",
        "from numpy import absolute\n",
        "from pandas import read_csv\n",
        "from sklearn import metrics\n",
        "from sklearn.feature_selection import (SelectKBest, f_classif, mutual_info_classif, chi2, f_regression,\n",
        "                                       mutual_info_regression,\n",
        "                                       SelectFpr, SelectFdr, SelectFwe, GenericUnivariateSelect)\n",
        "from sklearn.linear_model import LinearRegression\n",
        "from sklearn.metrics import classification_report\n",
        "from sklearn.model_selection import RepeatedKFold\n",
        "from sklearn.model_selection import cross_val_score\n",
        "from sklearn.model_selection import train_test_split\n",
        "from sklearn.model_selection import train_test_split\n",
        "from tabulate import tabulate\n",
        "from xgboost import XGBRegressor, XGBClassifier\n",
        "\n",
        "from numpy import asarray\n",
        "from pandas import read_csv\n",
        "from pandas import DataFrame\n",
        "from pandas import concat\n",
        "from sklearn.metrics import mean_absolute_error\n",
        "from xgboost import XGBRegressor\n",
        "from matplotlib import pyplot\n",
        "import itertools"
      ],
      "execution_count": 22,
      "outputs": []
    },
    {
      "cell_type": "code",
      "metadata": {
        "id": "RygVRbp_bwVc"
      },
      "source": [
        "raw_data = pd.read_csv(\"/content/drive/MyDrive/ML_Project_Drought/train_timeseries/train_timeseries.csv\")\n",
        "clean_data = \"/content/drive/MyDrive/cleaned_data.csv\""
      ],
      "execution_count": 28,
      "outputs": []
    },
    {
      "cell_type": "code",
      "metadata": {
        "id": "1ReI0t81aNF8"
      },
      "source": [
        "df_clean = pd.read_csv(clean_data)\n",
        "df_raw = raw_data.dropna()"
      ],
      "execution_count": 29,
      "outputs": []
    },
    {
      "cell_type": "code",
      "metadata": {
        "id": "yTMMGT59ba_R",
        "colab": {
          "base_uri": "https://localhost:8080/"
        },
        "outputId": "ca1ee08b-62c1-4ca8-ad98-b3f0868bbd14"
      },
      "source": [
        "df_clean['date']= pd.to_datetime(df_clean['date'])\n",
        "df_raw['date']= pd.to_datetime(df_raw['date'])"
      ],
      "execution_count": 30,
      "outputs": [
        {
          "output_type": "stream",
          "name": "stderr",
          "text": [
            "/usr/local/lib/python3.7/dist-packages/ipykernel_launcher.py:2: SettingWithCopyWarning: \n",
            "A value is trying to be set on a copy of a slice from a DataFrame.\n",
            "Try using .loc[row_indexer,col_indexer] = value instead\n",
            "\n",
            "See the caveats in the documentation: https://pandas.pydata.org/pandas-docs/stable/user_guide/indexing.html#returning-a-view-versus-a-copy\n",
            "  \n"
          ]
        }
      ]
    },
    {
      "cell_type": "code",
      "metadata": {
        "id": "MIhMPexUba_R"
      },
      "source": [
        "# converting to binary\n",
        "df_binary = df_clean\n",
        "df_binary['score'] = df_clean['score'].map({0:0, 1:1, 2:1, 3:1, 4:1, 5:1})"
      ],
      "execution_count": 31,
      "outputs": []
    },
    {
      "cell_type": "code",
      "source": [
        "# transform a time series dataset into a supervised learning dataset\n",
        "def series_to_supervised(data, n_in=1, n_out=1, dropnan=True):\n",
        "    n_vars = 1 if type(data) is list else data.shape[1]\n",
        "    df = DataFrame(data)\n",
        "    cols = DataFrame()\n",
        "    # input sequence (t-n, ... t-1)\n",
        "    for i in range(n_in, 0, -1):\n",
        "        cols = concat([cols,df.shift(25)], axis=1)\n",
        "\n",
        "    # forecast sequence (t, t+1, ... t+n)\n",
        "    for i in range(0, n_out):\n",
        "        cols = concat([cols,df.shift(-25)], axis=1)\n",
        "\n",
        "    if dropnan:\n",
        "        cols.dropna(inplace=True)\n",
        "    # print(i, agg)\n",
        "    return cols\n",
        " \n",
        "# split a univariate dataset into train/test sets\n",
        "def train_test_split(data, n_test):\n",
        "    return data[:-n_test, :], data[-n_test:, :]\n",
        " \n",
        "# fit an xgboost model and make a one step prediction\n",
        "def xgboost_forecast(train, testX):\n",
        "    # transform list into array\n",
        "    train = asarray(train)\n",
        "    # split into input and output columns\n",
        "    trainX, trainy = train[:, :-1], train[:, -1]\n",
        "    # fit model\n",
        "    model = XGBClassifier(n_estimators=100)\n",
        "    model.fit(trainX, trainy)\n",
        " \n",
        "# walk-forward validation for univariate data\n",
        "def walk_forward_validation(data, n_test, model_name):\n",
        "    predictions = list()\n",
        "\n",
        "    last_n = -1*n_test\n",
        "    X_data = data.drop(['score41'], axis=1)\n",
        "    y_data = data['score41']\n",
        "    X_train = X_data.iloc[:last_n]\n",
        "    y_train = y_data.iloc[:last_n]\n",
        "    X_test = X_data.iloc[last_n:]\n",
        "    y_test = y_data.iloc[last_n:]\n",
        "\n",
        "    if model_name == 'XGBClassifier':\n",
        "      result = XGBOOST_Classifier(X_train, y_train, X_test, y_test)\n",
        "    else:\n",
        "      result = XGBOOST_Regressor(X_train, y_train, X_test, y_test)\n",
        "\n",
        "    accuracy =result['accuracy']\n",
        "    precision=result['precision']\n",
        "    recall=result['recall']\n",
        "    fscore=result['f-score']\n",
        "    mae = result['mae']\n",
        "    rmse = result['rmse']\n",
        "\n",
        "    printResults(accuracy,precision,recall,fscore,mae,rmse, model_name)\n",
        "    return result\n",
        "\n",
        "def XGBOOST_Classifier(X_train, y_train, X_test, y_test):\n",
        "  # fit model no training data\n",
        "    model = XGBClassifier(n_estimators=100)\n",
        "    model.fit(X_train, y_train)\n",
        "\n",
        "    y_pred = model.predict(X_test)\n",
        "\n",
        "    # plot_df = concat([X_test['month'], X_test['year'],y_test, y_pred)\n",
        "    default_x_ticks = range(100)\n",
        "    plt.plot(default_x_ticks, y_test[-100:], label='Expected')\n",
        "    plt.plot(default_x_ticks, y_pred[-100:], label='Predicted')\n",
        "    plt.legend()\n",
        "    plt.show()\n",
        "    return {\n",
        "            'accuracy':metrics.accuracy_score(y_test, y_pred),\n",
        "            'recall': metrics.recall_score(y_pred, y_test, average='micro'),\n",
        "            'precision':metrics.precision_score(y_pred, y_test, average='micro'),\n",
        "            'f-score':metrics.f1_score(y_pred, y_test, average='micro'),\n",
        "            'y_pred':y_pred,\n",
        "            'y_test':y_test,\n",
        "            'mae':metrics.mean_absolute_error(y_test, y_pred),\n",
        "            'rmse':np.sqrt(metrics.mean_squared_error(y_test, y_pred)) \n",
        "          }\n",
        "\n",
        "def printResults(acc,pre,rec,fs,mae, rmse, model_name):\n",
        "    print(\"Results for \", model_name)\n",
        "    print(\"Accuracy:\",acc)\n",
        "    print(\"Precision:\",pre)\n",
        "    print(\"Recall:\",rec)\n",
        "    print(\"F1-score:\",fs)\n",
        "    print(\"MAE:\",mae)\n",
        "    print(\"rmse:\",rmse)"
      ],
      "metadata": {
        "id": "qMaRvGZH4ktt"
      },
      "execution_count": 24,
      "outputs": []
    },
    {
      "cell_type": "code",
      "metadata": {
        "id": "VhBW_KUGba_V"
      },
      "source": [
        "df_small = df_clean.sample(10000).sort_values(by=['date'])\n",
        "\n",
        "# transform the time series data into supervised learning\n",
        "df_small['year'] = pd.DatetimeIndex(df_small['date']).year\n",
        "df_small['month'] = pd.DatetimeIndex(df_small['date']).month\n",
        "\n",
        "df_small = df_small.drop(['date'], axis=1)\n",
        "df_small = df_small.drop('Unnamed: 0',1)\n",
        "\n",
        "data = series_to_supervised(df_small, n_in=1)\n",
        "# Columns to not rename\n",
        "excluded = data.columns[~data.columns.duplicated(keep=False)]\n",
        "# An incrementer\n",
        "inc = itertools.count().__next__\n",
        "\n",
        "# A renamer\n",
        "def ren(name):\n",
        "  new_name = f\"{name}{inc()}\" if name not in excluded else name\n",
        "  return new_name\n",
        "\n",
        "# Use inside rename()\n",
        "data.rename(columns=ren, inplace=True)"
      ],
      "execution_count": 43,
      "outputs": []
    },
    {
      "cell_type": "code",
      "source": [
        "result = walk_forward_validation(data, 500, 'XGBClassifier')"
      ],
      "metadata": {
        "colab": {
          "base_uri": "https://localhost:8080/",
          "height": 387
        },
        "id": "96PKwZfb5J2r",
        "outputId": "6e496f80-0165-4772-a355-3bdd2c00ded9"
      },
      "execution_count": 44,
      "outputs": [
        {
          "output_type": "display_data",
          "data": {
            "image/png": "[encoded data removed]",
            "text/plain": [
              "<Figure size 432x288 with 1 Axes>"
            ]
          },
          "metadata": {
            "needs_background": "light"
          }
        },
        {
          "output_type": "stream",
          "name": "stdout",
          "text": [
            "Results for  XGBClassifier\n",
            "Accuracy: 0.686\n",
            "Precision: 0.686\n",
            "Recall: 0.686\n",
            "F1-score: 0.686\n",
            "MAE: 0.314\n",
            "rmse: 0.5603570290448759\n"
          ]
        }
      ]
    },
    {
      "cell_type": "code",
      "metadata": {
        "id": "T6y_GHeMkTkI"
      },
      "source": [
        ""
      ],
      "execution_count": null,
      "outputs": []
    }
  ]
}