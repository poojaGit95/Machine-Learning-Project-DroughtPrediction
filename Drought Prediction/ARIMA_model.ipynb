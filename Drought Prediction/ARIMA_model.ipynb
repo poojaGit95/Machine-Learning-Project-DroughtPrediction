{
  "cells": [
    {
      "cell_type": "code",
      "execution_count": 1,
      "metadata": {
        "id": "c717a3ff"
      },
      "outputs": [],
      "source": [
        "# Making the necessary imports\n",
        "import pandas as pd\n",
        "import numpy as np\n",
        "import matplotlib.pyplot as plt\n",
        "import sklearn as skl\n",
        "import warnings\n",
        "warnings.filterwarnings('ignore')\n",
        "import numpy as np\n",
        "import pandas as pd\n",
        "from matplotlib import pyplot as plt\n",
        "import seaborn as sns\n",
        "from sklearn.model_selection import train_test_split\n"
      ],
      "id": "c717a3ff"
    },
    {
      "cell_type": "code",
      "execution_count": 2,
      "metadata": {
        "id": "wzqa3lC1b8mR",
        "colab": {
          "base_uri": "https://localhost:8080/"
        },
        "outputId": "6904c863-eb37-45e3-8ce4-37b993a15412"
      },
      "outputs": [
        {
          "output_type": "stream",
          "name": "stdout",
          "text": [
            "Mounted at /content/drive\n"
          ]
        }
      ],
      "source": [
        "from google.colab import drive\n",
        "drive.mount('/content/drive')\n"
      ],
      "id": "wzqa3lC1b8mR"
    },
    {
      "cell_type": "code",
      "execution_count": 3,
      "metadata": {
        "id": "3Z8JULEscJFL"
      },
      "outputs": [],
      "source": [
        "train_data = pd.read_csv(\"/content/sample_data/cleaned_data.csv\")"
      ],
      "id": "3Z8JULEscJFL"
    },
    {
      "cell_type": "code",
      "execution_count": 4,
      "metadata": {
        "id": "efa1808a"
      },
      "outputs": [],
      "source": [
        "#remove nan values\n",
        "train_data = train_data.dropna()"
      ],
      "id": "efa1808a"
    },
    {
      "cell_type": "code",
      "execution_count": 7,
      "metadata": {
        "id": "064b7a17"
      },
      "outputs": [],
      "source": [
        "train_data['score'] = train_data['score'].map({0:0, 1:1, 2:1, 3:1, 4:1, 5:1})"
      ],
      "id": "064b7a17"
    },
    {
      "cell_type": "code",
      "execution_count": 8,
      "metadata": {
        "colab": {
          "base_uri": "https://localhost:8080/"
        },
        "id": "f96650d9",
        "outputId": "7c6ec268-f664-4639-9999-4a3c84a8b6a0"
      },
      "outputs": [
        {
          "output_type": "execute_result",
          "data": {
            "text/plain": [
              "0.0    16451\n",
              "1.0     5741\n",
              "Name: score, dtype: int64"
            ]
          },
          "metadata": {},
          "execution_count": 8
        }
      ],
      "source": [
        "# number of O and 1 values\n",
        "train_data['score'].value_counts()"
      ],
      "id": "f96650d9"
    },
    {
      "cell_type": "code",
      "execution_count": 9,
      "metadata": {
        "id": "2acf3df1"
      },
      "outputs": [],
      "source": [
        "train_data['date'] = pd.to_datetime(train_data['date'])"
      ],
      "id": "2acf3df1"
    },
    {
      "cell_type": "code",
      "execution_count": 10,
      "metadata": {
        "id": "38b37401"
      },
      "outputs": [],
      "source": [
        "train_data.set_index('date', inplace=True)"
      ],
      "id": "38b37401"
    },
    {
      "cell_type": "code",
      "execution_count": 11,
      "metadata": {
        "colab": {
          "base_uri": "https://localhost:8080/"
        },
        "id": "066be177",
        "outputId": "48c052da-6ec3-4ee7-fe2c-5cae7b222b2e"
      },
      "outputs": [
        {
          "output_type": "stream",
          "name": "stdout",
          "text": [
            "<class 'pandas.core.frame.DataFrame'>\n",
            "DatetimeIndex: 154497 entries, 2000-01-04 to 2003-01-14\n",
            "Data columns (total 21 columns):\n",
            " #   Column       Non-Null Count   Dtype  \n",
            "---  ------       --------------   -----  \n",
            " 0   Unnamed: 0   154497 non-null  int64  \n",
            " 1   fips         154497 non-null  int64  \n",
            " 2   PRECTOT      154497 non-null  float64\n",
            " 3   PS           154497 non-null  float64\n",
            " 4   QV2M         154497 non-null  float64\n",
            " 5   T2M          154497 non-null  float64\n",
            " 6   T2MDEW       154497 non-null  float64\n",
            " 7   T2MWET       154497 non-null  float64\n",
            " 8   T2M_MAX      154497 non-null  float64\n",
            " 9   T2M_MIN      154497 non-null  float64\n",
            " 10  T2M_RANGE    154497 non-null  float64\n",
            " 11  TS           154497 non-null  float64\n",
            " 12  WS10M        154497 non-null  float64\n",
            " 13  WS10M_MAX    154497 non-null  float64\n",
            " 14  WS10M_MIN    154497 non-null  float64\n",
            " 15  WS10M_RANGE  154497 non-null  float64\n",
            " 16  WS50M        154497 non-null  float64\n",
            " 17  WS50M_MAX    154497 non-null  float64\n",
            " 18  WS50M_MIN    154497 non-null  float64\n",
            " 19  WS50M_RANGE  154497 non-null  float64\n",
            " 20  score        22192 non-null   float64\n",
            "dtypes: float64(19), int64(2)\n",
            "memory usage: 25.9 MB\n"
          ]
        }
      ],
      "source": [
        "train_data.info()"
      ],
      "id": "066be177"
    },
    {
      "cell_type": "code",
      "execution_count": 12,
      "metadata": {
        "colab": {
          "base_uri": "https://localhost:8080/"
        },
        "id": "4c71193b",
        "outputId": "5285f5fe-703f-4b84-cbb4-4f14c9ae3081"
      },
      "outputs": [
        {
          "output_type": "execute_result",
          "data": {
            "text/plain": [
              "<bound method NDFrame.head of             Unnamed: 0  fips  PRECTOT  ...  WS50M_MIN  WS50M_RANGE  score\n",
              "date                                   ...                               \n",
              "2000-01-04           3  1001    15.95  ...       3.74         5.58    0.0\n",
              "2000-01-11          10  1001     1.33  ...       1.71         4.67    NaN\n",
              "2000-01-18          17  1001     1.11  ...       3.84         2.55    NaN\n",
              "2000-01-25          24  1001     0.00  ...       3.96         4.07    NaN\n",
              "2000-02-01          31  1001     0.00  ...       1.27         5.11    NaN\n",
              "...                ...   ...      ...  ...        ...          ...    ...\n",
              "2002-12-17     1081621  6035     3.50  ...       2.58         4.27    NaN\n",
              "2002-12-24     1081628  6035     0.66  ...       1.42         3.46    0.0\n",
              "2002-12-31     1081635  6035     8.94  ...       1.09        11.87    NaN\n",
              "2003-01-07     1081642  6035     0.00  ...       4.41         3.33    NaN\n",
              "2003-01-14     1081649  6035     3.72  ...       1.79         2.56    NaN\n",
              "\n",
              "[154497 rows x 21 columns]>"
            ]
          },
          "metadata": {},
          "execution_count": 12
        }
      ],
      "source": [
        "train_data.head"
      ],
      "id": "4c71193b"
    },
    {
      "cell_type": "code",
      "execution_count": 14,
      "metadata": {
        "id": "2Q1oGffgQniW"
      },
      "outputs": [],
      "source": [
        "train_new = train_data"
      ],
      "id": "2Q1oGffgQniW"
    },
    {
      "cell_type": "code",
      "execution_count": 24,
      "metadata": {
        "id": "890c004f"
      },
      "outputs": [],
      "source": [
        "# As Arima model took lot of time to work on 19Million data built it using 1 % of data\n",
        "df_train = train_new.sample(frac = 0.01)\n",
        "df_train.drop('Unnamed: 0', axis =1, inplace = True)"
      ],
      "id": "890c004f"
    },
    {
      "cell_type": "code",
      "source": [
        "df_train['score'].plot()"
      ],
      "metadata": {
        "colab": {
          "base_uri": "https://localhost:8080/",
          "height": 294
        },
        "id": "XBX-tUtGabCW",
        "outputId": "052dfc9f-0c0d-4487-ed5c-98da1d8476f7"
      },
      "id": "XBX-tUtGabCW",
      "execution_count": 18,
      "outputs": [
        {
          "output_type": "execute_result",
          "data": {
            "text/plain": [
              "<matplotlib.axes._subplots.AxesSubplot at 0x7f95d9a9b810>"
            ]
          },
          "metadata": {},
          "execution_count": 18
        },
        {
          "output_type": "display_data",
          "data": {
            "image/png": "[encoded data removed]",
            "text/plain": [
              "<Figure size 432x288 with 1 Axes>"
            ]
          },
          "metadata": {
            "needs_background": "light"
          }
        }
      ]
    },
    {
      "cell_type": "code",
      "source": [
        "# Data distribution of the score variable\n",
        "df_train['score'].hist()"
      ],
      "metadata": {
        "colab": {
          "base_uri": "https://localhost:8080/",
          "height": 282
        },
        "id": "yCBm67zVbadI",
        "outputId": "5368de45-208b-442a-fd90-691c06db82f4"
      },
      "id": "yCBm67zVbadI",
      "execution_count": null,
      "outputs": [
        {
          "output_type": "execute_result",
          "data": {
            "text/plain": [
              "<matplotlib.axes._subplots.AxesSubplot at 0x7f3dbb9093d0>"
            ]
          },
          "metadata": {},
          "execution_count": 202
        },
        {
          "output_type": "display_data",
          "data": {
            "image/png": "[encoded data removed]",
            "text/plain": [
              "<Figure size 432x288 with 1 Axes>"
            ]
          },
          "metadata": {
            "needs_background": "light"
          }
        }
      ]
    },
    {
      "cell_type": "code",
      "execution_count": 21,
      "metadata": {
        "colab": {
          "base_uri": "https://localhost:8080/",
          "height": 1000
        },
        "id": "QvfCfOgA_fBq",
        "outputId": "f549a0f0-fcd3-400e-bbf3-285508535e7d"
      },
      "outputs": [
        {
          "output_type": "stream",
          "name": "stderr",
          "text": [
            "/usr/local/lib/python3.7/dist-packages/statsmodels/tsa/base/tsa_model.py:219: ValueWarning: A date index has been provided, but it has no associated frequency information and so will be ignored when e.g. forecasting.\n",
            "  ' ignored when e.g. forecasting.', ValueWarning)\n",
            "/usr/local/lib/python3.7/dist-packages/statsmodels/tsa/base/tsa_model.py:219: ValueWarning: A date index has been provided, but it has no associated frequency information and so will be ignored when e.g. forecasting.\n",
            "  ' ignored when e.g. forecasting.', ValueWarning)\n"
          ]
        },
        {
          "output_type": "stream",
          "name": "stdout",
          "text": [
            "                             ARIMA Model Results                              \n",
            "==============================================================================\n",
            "Dep. Variable:                D.score   No. Observations:                  227\n",
            "Model:                 ARIMA(5, 1, 0)   Log Likelihood                -138.928\n",
            "Method:                       css-mle   S.D. of innovations              0.445\n",
            "Date:                Sat, 18 Dec 2021   AIC                            291.855\n",
            "Time:                        06:20:51   BIC                            315.830\n",
            "Sample:                             1   HQIC                           301.529\n",
            "                                                                              \n",
            "=================================================================================\n",
            "                    coef    std err          z      P>|z|      [0.025      0.975]\n",
            "---------------------------------------------------------------------------------\n",
            "const             0.0001      0.008      0.014      0.989      -0.016       0.016\n",
            "ar.L1.D.score    -0.9089      0.066    -13.672      0.000      -1.039      -0.779\n",
            "ar.L2.D.score    -0.7638      0.087     -8.768      0.000      -0.935      -0.593\n",
            "ar.L3.D.score    -0.5833      0.093     -6.301      0.000      -0.765      -0.402\n",
            "ar.L4.D.score    -0.3404      0.087     -3.897      0.000      -0.512      -0.169\n",
            "ar.L5.D.score    -0.1102      0.067     -1.633      0.104      -0.242       0.022\n",
            "                                    Roots                                    \n",
            "=============================================================================\n",
            "                  Real          Imaginary           Modulus         Frequency\n",
            "-----------------------------------------------------------------------------\n",
            "AR.1            0.3968           -1.3049j            1.3639           -0.2030\n",
            "AR.2            0.3968           +1.3049j            1.3639            0.2030\n",
            "AR.3           -1.7546           -0.0000j            1.7546           -0.5000\n",
            "AR.4           -1.0644           -1.2836j            1.6675           -0.3602\n",
            "AR.5           -1.0644           +1.2836j            1.6675            0.3602\n",
            "-----------------------------------------------------------------------------\n"
          ]
        },
        {
          "output_type": "display_data",
          "data": {
            "image/png": "[encoded data removed]",
            "text/plain": [
              "<Figure size 432x288 with 1 Axes>"
            ]
          },
          "metadata": {
            "needs_background": "light"
          }
        },
        {
          "output_type": "stream",
          "name": "stdout",
          "text": [
            "                0\n",
            "count  227.000000\n",
            "mean     0.002949\n",
            "std      0.449045\n",
            "min     -0.890229\n",
            "25%     -0.323878\n",
            "50%     -0.110586\n",
            "75%     -0.000407\n",
            "max      0.999890\n"
          ]
        },
        {
          "output_type": "display_data",
          "data": {
            "image/png": "[encoded data removed]",
            "text/plain": [
              "<Figure size 432x288 with 1 Axes>"
            ]
          },
          "metadata": {
            "needs_background": "light"
          }
        }
      ],
      "source": [
        "# fit an ARIMA model and plot residual errors\n",
        "from pandas import datetime\n",
        "from pandas import read_csv\n",
        "from pandas import DataFrame\n",
        "from statsmodels.tsa.arima_model import ARIMA\n",
        "from matplotlib import pyplot\n",
        "\n",
        "series = df_train['score'].dropna()\n",
        "# fit model\n",
        "model = ARIMA(series, order=(5,1,0))\n",
        "model_fit = model.fit()\n",
        "# summary of fit model\n",
        "print(model_fit.summary())\n",
        "# line plot of residuals\n",
        "residuals = DataFrame(model_fit.resid)\n",
        "residuals.plot()\n",
        "pyplot.show()\n",
        "# density plot of residuals\n",
        "residuals.plot(kind='kde')\n",
        "# pyplot.show()\n",
        "# summary stats of residuals\n",
        "print(residuals.describe())"
      ],
      "id": "QvfCfOgA_fBq"
    },
    {
      "cell_type": "code",
      "execution_count": 35,
      "metadata": {
        "colab": {
          "base_uri": "https://localhost:8080/",
          "height": 333
        },
        "id": "YJovD7VDCIm_",
        "outputId": "050a6638-dcdc-42cc-bc8c-2195bccfc04d"
      },
      "outputs": [
        {
          "output_type": "stream",
          "name": "stdout",
          "text": [
            "Test RMSE: 0.577\n"
          ]
        },
        {
          "output_type": "display_data",
          "data": {
            "image/png": "[encoded data removed]",
            "text/plain": [
              "<Figure size 576x288 with 1 Axes>"
            ]
          },
          "metadata": {
            "needs_background": "light"
          }
        }
      ],
      "source": [
        "# evaluate an ARIMA model using a walk-forward validation\n",
        "from pandas import read_csv\n",
        "from pandas import datetime\n",
        "from matplotlib import pyplot\n",
        "from statsmodels.tsa.arima_model import ARIMA\n",
        "from sklearn.metrics import mean_squared_error\n",
        "from math import sqrt\n",
        "\n",
        "# split into train and test sets\n",
        "X = df_train['score'].dropna()\n",
        "size = int(len(X) * 0.8)\n",
        "train, test = X[0:size], X[size:len(X)]\n",
        "history = [x for x in train]\n",
        "predictions = list()\n",
        "# walk-forward validation\n",
        "for t in range(len(test)):\n",
        "\tmodel = ARIMA(history, order=(5,1,0))\n",
        "\tmodel_fit = model.fit()\n",
        "\toutput = model_fit.forecast()\n",
        "\tyhat = np.round(abs(output[0]))\n",
        "\tpredictions.append(yhat)\n",
        "\tobs = test[t]\n",
        "\thistory.append(obs)\n",
        "\t# print('predicted=%f, expected=%f' % (yhat, obs))\n",
        "# evaluate forecasts\n",
        "rmse = sqrt(mean_squared_error(test, predictions))\n",
        "print('Test RMSE: %.3f' % rmse)\n",
        "\n",
        "aa=[x for x in range(48)]\n",
        "plt.figure(figsize=(8,4))\n",
        "plt.plot(aa, predictions[0:48], marker='.', label=\"predictions\")\n",
        "plt.plot(aa, test[0:48], 'r', label=\"actual\")\n",
        "plt.tick_params(left=False, labelleft=True) #remove ticks\n",
        "plt.tight_layout()\n",
        "sns.despine(top=True)\n",
        "plt.subplots_adjust(left=0.07)\n",
        "plt.ylabel('score', size=15)\n",
        "plt.xlabel('Time step', size=15)\n",
        "plt.legend(fontsize=15)\n",
        "plt.show();"
      ],
      "id": "YJovD7VDCIm_"
    },
    {
      "cell_type": "code",
      "execution_count": 28,
      "metadata": {
        "colab": {
          "base_uri": "https://localhost:8080/"
        },
        "id": "baXErlqXCqdk",
        "outputId": "2bd305d9-37ae-45e0-a1ef-802795f28cbb"
      },
      "outputs": [
        {
          "output_type": "stream",
          "name": "stdout",
          "text": [
            "0.3333333333333333\n"
          ]
        }
      ],
      "source": [
        "from sklearn.metrics import mean_absolute_error\n",
        "print(mean_absolute_error(test, predictions))"
      ],
      "id": "baXErlqXCqdk"
    },
    {
      "cell_type": "code",
      "execution_count": 29,
      "metadata": {
        "colab": {
          "base_uri": "https://localhost:8080/"
        },
        "id": "tOWpYws2QGQA",
        "outputId": "d694d755-3c7f-4075-9d66-217456824a2d"
      },
      "outputs": [
        {
          "output_type": "execute_result",
          "data": {
            "text/plain": [
              "0.6666666666666666"
            ]
          },
          "metadata": {},
          "execution_count": 29
        }
      ],
      "source": [
        "from sklearn.metrics import accuracy_score\n",
        "accuracy_score(test, predictions)"
      ],
      "id": "tOWpYws2QGQA"
    },
    {
      "cell_type": "code",
      "execution_count": 30,
      "metadata": {
        "colab": {
          "base_uri": "https://localhost:8080/"
        },
        "id": "kWnVpGMpT1Np",
        "outputId": "3d1d20ea-2b34-44a0-b269-16a66cbaf8f5"
      },
      "outputs": [
        {
          "output_type": "execute_result",
          "data": {
            "text/plain": [
              "0.6666666666666666"
            ]
          },
          "metadata": {},
          "execution_count": 30
        }
      ],
      "source": [
        "from sklearn.metrics import recall_score\n",
        "recall_score(test, predictions, average='weighted')"
      ],
      "id": "kWnVpGMpT1Np"
    },
    {
      "cell_type": "code",
      "execution_count": 31,
      "metadata": {
        "colab": {
          "base_uri": "https://localhost:8080/"
        },
        "id": "rX_G8f_WVHRF",
        "outputId": "e6b6a4d5-e67d-47fd-84b1-a28e38d31d20"
      },
      "outputs": [
        {
          "output_type": "execute_result",
          "data": {
            "text/plain": [
              "0.6453726453726454"
            ]
          },
          "metadata": {},
          "execution_count": 31
        }
      ],
      "source": [
        "from sklearn.metrics import f1_score\n",
        "f1_score(test, predictions, average='weighted')"
      ],
      "id": "rX_G8f_WVHRF"
    },
    {
      "cell_type": "code",
      "source": [
        "from sklearn.metrics import precision_score\n",
        "precision_score(test, predictions, average='weighted')"
      ],
      "metadata": {
        "colab": {
          "base_uri": "https://localhost:8080/"
        },
        "id": "SDvJ-iSoyFO-",
        "outputId": "c6a5e110-c5dc-4b19-dae7-6b469f85f330"
      },
      "id": "SDvJ-iSoyFO-",
      "execution_count": 32,
      "outputs": [
        {
          "output_type": "execute_result",
          "data": {
            "text/plain": [
              "0.6324786324786325"
            ]
          },
          "metadata": {},
          "execution_count": 32
        }
      ]
    }
  ],
  "metadata": {
    "colab": {
      "collapsed_sections": [],
      "name": "ARIMA_MODEL_FINAL.ipynb",
      "provenance": []
    },
    "kernelspec": {
      "display_name": "Python 3",
      "language": "python",
      "name": "python3"
    },
    "language_info": {
      "codemirror_mode": {
        "name": "ipython",
        "version": 3
      },
      "file_extension": ".py",
      "mimetype": "text/x-python",
      "name": "python",
      "nbconvert_exporter": "python",
      "pygments_lexer": "ipython3",
      "version": "3.8.8"
    }
  },
  "nbformat": 4,
  "nbformat_minor": 5
}