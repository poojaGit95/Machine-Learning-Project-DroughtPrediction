{
  "nbformat": 4,
  "nbformat_minor": 0,
  "metadata": {
    "colab": {
      "name": "data_exploration.ipynb",
      "provenance": [],
      "collapsed_sections": []
    },
    "kernelspec": {
      "display_name": "Python 3",
      "name": "python3"
    },
    "language_info": {
      "name": "python"
    }
  },
  "cells": [
    {
      "cell_type": "code",
      "metadata": {
        "id": "vFXprGCzEQcb"
      },
      "source": [
        "#  Making the neccessary imports\n",
        "import pandas as pd\n",
        "import numpy as np\n",
        "import seaborn as sns\n",
        "import matplotlib.pyplot as plt\n",
        "import sklearn as sk\n"
      ],
      "execution_count": null,
      "outputs": []
    },
    {
      "cell_type": "code",
      "metadata": {
        "colab": {
          "base_uri": "https://localhost:8080/"
        },
        "id": "8y5W5H21M1Mo",
        "outputId": "b8f17629-f41a-4bdc-dc0c-0d89e27f2710"
      },
      "source": [
        "from google.colab import drive\n",
        "drive.mount('/content/drive')"
      ],
      "execution_count": null,
      "outputs": [
        {
          "output_type": "stream",
          "name": "stdout",
          "text": [
            "Mounted at /content/drive\n"
          ]
        }
      ]
    },
    {
      "cell_type": "code",
      "metadata": {
        "id": "KpbuQJLfnyUZ"
      },
      "source": [
        "# Reading the data from CSV file\n",
        "df = pd.read_csv('/content/drive/MyDrive/train_timeseries.csv')"
      ],
      "execution_count": null,
      "outputs": []
    },
    {
      "cell_type": "code",
      "metadata": {
        "id": "wuUxWO71p81H"
      },
      "source": [
        "df.info()"
      ],
      "execution_count": null,
      "outputs": []
    },
    {
      "cell_type": "code",
      "metadata": {
        "id": "fM1BWQFvn1tf"
      },
      "source": [
        "# Checking for NUll values in the data\n",
        "df.isnull().sum()"
      ],
      "execution_count": null,
      "outputs": []
    },
    {
      "cell_type": "code",
      "metadata": {
        "colab": {
          "base_uri": "https://localhost:8080/"
        },
        "id": "3ZicUekhPOqr",
        "outputId": "eae2abbe-c16f-4efe-9c5d-fca39454d61c"
      },
      "source": [
        "# Removing the null values in the target variable as the drought score is only available for once in 7 days.\n",
        "# Processing data in batches\n",
        "skipRows = 2000000\n",
        "nRows = 2000000\n",
        "df = pd.read_csv('/content/drive/MyDrive/train_timeseries.csv', nrows=2000000)\n",
        "df = df.dropna()\n",
        "print('here' , df.shape)\n",
        "while True: \n",
        "    try:\n",
        "        dfi = pd.read_csv('/content/drive/MyDrive/train_timeseries.csv', skiprows=skipRows, nrows=nRows, header=None)\n",
        "        dfi.columns = df.columns\n",
        "        dfi = dfi.dropna()\n",
        "        print(dfi.shape)\n",
        "        df = pd.concat([df, dfi], axis=0,ignore_index=False )\n",
        "        print(df.shape)\n",
        "        skipRows += nRows\n",
        "    except:\n",
        "        print('Finished processing')\n",
        "        break;"
      ],
      "execution_count": null,
      "outputs": [
        {
          "output_type": "stream",
          "name": "stdout",
          "text": [
            "here (285668, 21)\n",
            "(285668, 21)\n",
            "(571336, 21)\n",
            "(285669, 21)\n",
            "(857005, 21)\n",
            "(285668, 21)\n",
            "(1142673, 21)\n",
            "(285668, 21)\n",
            "(1428341, 21)\n",
            "(285669, 21)\n",
            "(1714010, 21)\n",
            "(285668, 21)\n",
            "(1999678, 21)\n",
            "(285668, 21)\n",
            "(2285346, 21)\n",
            "(285668, 21)\n",
            "(2571014, 21)\n",
            "(185782, 21)\n",
            "(2756796, 21)\n",
            "Finished processing\n"
          ]
        }
      ]
    },
    {
      "cell_type": "code",
      "metadata": {
        "id": "qnTr1oRi1jcm"
      },
      "source": [
        "df.info()"
      ],
      "execution_count": null,
      "outputs": []
    },
    {
      "cell_type": "code",
      "metadata": {
        "colab": {
          "base_uri": "https://localhost:8080/"
        },
        "id": "OdlvvbvW2pJ2",
        "outputId": "6c3f5f27-5a4d-45b1-9bf6-24dfede33bc4"
      },
      "source": [
        "df.isnull().sum()"
      ],
      "execution_count": null,
      "outputs": [
        {
          "output_type": "execute_result",
          "data": {
            "text/plain": [
              "fips           0\n",
              "date           0\n",
              "PRECTOT        0\n",
              "PS             0\n",
              "QV2M           0\n",
              "T2M            0\n",
              "T2MDEW         0\n",
              "T2MWET         0\n",
              "T2M_MAX        0\n",
              "T2M_MIN        0\n",
              "T2M_RANGE      0\n",
              "TS             0\n",
              "WS10M          0\n",
              "WS10M_MAX      0\n",
              "WS10M_MIN      0\n",
              "WS10M_RANGE    0\n",
              "WS50M          0\n",
              "WS50M_MAX      0\n",
              "WS50M_MIN      0\n",
              "WS50M_RANGE    0\n",
              "score          0\n",
              "dtype: int64"
            ]
          },
          "metadata": {},
          "execution_count": 145
        }
      ]
    },
    {
      "cell_type": "code",
      "metadata": {
        "colab": {
          "base_uri": "https://localhost:8080/"
        },
        "id": "Uh9NRX5_yngU",
        "outputId": "75f44460-6aad-496e-8df9-dc051fccc0ae"
      },
      "source": [
        "df.score.unique()"
      ],
      "execution_count": null,
      "outputs": [
        {
          "output_type": "execute_result",
          "data": {
            "text/plain": [
              "array([   nan, 1.    , 2.    , ..., 0.7399, 0.606 , 0.0886])"
            ]
          },
          "metadata": {},
          "execution_count": 232
        }
      ]
    },
    {
      "cell_type": "code",
      "metadata": {
        "colab": {
          "base_uri": "https://localhost:8080/"
        },
        "id": "k9XAWvrByp0C",
        "outputId": "293ba675-07bd-4eb8-b88c-019041e3c005"
      },
      "source": [
        "# Taraget class has data values ranging from 0 to 5. \n",
        "# Where 0 indicates no drought and values ranging from 1 to 5 indicate low to severe drought.\n",
        "df['score']"
      ],
      "execution_count": null,
      "outputs": [
        {
          "output_type": "execute_result",
          "data": {
            "text/plain": [
              "185        3.0\n",
              "192        3.0\n",
              "199        4.0\n",
              "241        5.0\n",
              "2376       2.0\n",
              "          ... \n",
              "1295055    3.0\n",
              "1295398    4.0\n",
              "1295790    3.0\n",
              "1296861    2.0\n",
              "1297232    1.0\n",
              "Name: score, Length: 77877, dtype: float64"
            ]
          },
          "metadata": {},
          "execution_count": 221
        }
      ]
    },
    {
      "cell_type": "code",
      "metadata": {
        "id": "wTA0uQ5D21l1"
      },
      "source": [
        "# Converting the target variables having continuous values to discrete values.\n",
        "a = np.array(df['score'])\n",
        "df['score']= np.ceil(a)"
      ],
      "execution_count": null,
      "outputs": []
    },
    {
      "cell_type": "code",
      "metadata": {
        "colab": {
          "base_uri": "https://localhost:8080/"
        },
        "id": "3b1QyvW0oar6",
        "outputId": "293ba675-07bd-4eb8-b88c-019041e3c005"
      },
      "source": [
        "df['score']"
      ],
      "execution_count": null,
      "outputs": [
        {
          "output_type": "execute_result",
          "data": {
            "text/plain": [
              "185        3.0\n",
              "192        3.0\n",
              "199        4.0\n",
              "241        5.0\n",
              "2376       2.0\n",
              "          ... \n",
              "1295055    3.0\n",
              "1295398    4.0\n",
              "1295790    3.0\n",
              "1296861    2.0\n",
              "1297232    1.0\n",
              "Name: score, Length: 77877, dtype: float64"
            ]
          },
          "metadata": {},
          "execution_count": 221
        }
      ]
    },
    {
      "cell_type": "code",
      "metadata": {
        "colab": {
          "base_uri": "https://localhost:8080/"
        },
        "id": "4Obn2Xtj3JWc",
        "outputId": "56146a6f-af4c-40d3-a588-489b0c32caeb"
      },
      "source": [
        "#Range of target values.\n",
        "df.score.unique()"
      ],
      "execution_count": null,
      "outputs": [
        {
          "output_type": "execute_result",
          "data": {
            "text/plain": [
              "array([1., 2., 0., 3., 4., 5.])"
            ]
          },
          "metadata": {},
          "execution_count": 148
        }
      ]
    },
    {
      "cell_type": "code",
      "metadata": {
        "colab": {
          "base_uri": "https://localhost:8080/"
        },
        "id": "mQGjhneayq7V",
        "outputId": "293ba675-07bd-4eb8-b88c-019041e3c005"
      },
      "source": [
        "df['score']"
      ],
      "execution_count": null,
      "outputs": [
        {
          "output_type": "execute_result",
          "data": {
            "text/plain": [
              "185        3.0\n",
              "192        3.0\n",
              "199        4.0\n",
              "241        5.0\n",
              "2376       2.0\n",
              "          ... \n",
              "1295055    3.0\n",
              "1295398    4.0\n",
              "1295790    3.0\n",
              "1296861    2.0\n",
              "1297232    1.0\n",
              "Name: score, Length: 77877, dtype: float64"
            ]
          },
          "metadata": {},
          "execution_count": 221
        }
      ]
    },
    {
      "cell_type": "code",
      "metadata": {
        "colab": {
          "base_uri": "https://localhost:8080/"
        },
        "id": "uacTro9d5Ej2",
        "outputId": "f86b717e-a021-4211-b02a-8bf3a17eae9f"
      },
      "source": [
        "df.columns"
      ],
      "execution_count": null,
      "outputs": [
        {
          "output_type": "execute_result",
          "data": {
            "text/plain": [
              "Index(['fips', 'date', 'PRECTOT', 'PS', 'QV2M', 'T2M', 'T2MDEW', 'T2MWET',\n",
              "       'T2M_MAX', 'T2M_MIN', 'T2M_RANGE', 'TS', 'WS10M', 'WS10M_MAX',\n",
              "       'WS10M_MIN', 'WS10M_RANGE', 'WS50M', 'WS50M_MAX', 'WS50M_MIN',\n",
              "       'WS50M_RANGE', 'score'],\n",
              "      dtype='object')"
            ]
          },
          "metadata": {},
          "execution_count": 149
        }
      ]
    },
    {
      "cell_type": "markdown",
      "source": [
        "# Data Exploration"
      ],
      "metadata": {
        "id": "ZqYOkn0AB_EL"
      }
    },
    {
      "cell_type": "code",
      "metadata": {
        "colab": {
          "base_uri": "https://localhost:8080/",
          "height": 356
        },
        "id": "Szcimu9V5Kms",
        "outputId": "dcf1fb3c-3ee0-4e41-dcb8-ca9a2c8f3559"
      },
      "source": [
        "# FIPS data distribution\n",
        "df['fips'].hist(figsize=(5,5))\n",
        "plt.suptitle('Histograms shows distribution of fips', fontsize=10);\n"
      ],
      "execution_count": null,
      "outputs": [
        {
          "output_type": "display_data",
          "data": {
            "image/png": "[encoded data removed]",
            "text/plain": [
              "<Figure size 360x360 with 1 Axes>"
            ]
          },
          "metadata": {
            "needs_background": "light"
          }
        }
      ]
    },
    {
      "cell_type": "code",
      "metadata": {
        "colab": {
          "base_uri": "https://localhost:8080/",
          "height": 356
        },
        "id": "vJ9yd_Yq6Cwe",
        "outputId": "7f5768d8-a675-41d3-d91b-b25111469272"
      },
      "source": [
        "# Plot for PRECTOT -> Precipitation (mm day-1)\n",
        "df['PRECTOT'].hist(figsize=(5,5))\n",
        "plt.suptitle('Histograms shows distribution of Precipitation', fontsize=10);"
      ],
      "execution_count": null,
      "outputs": [
        {
          "output_type": "display_data",
          "data": {
            "image/png": "[encoded data removed]",
            "text/plain": [
              "<Figure size 360x360 with 1 Axes>"
            ]
          },
          "metadata": {
            "needs_background": "light"
          }
        }
      ]
    },
    {
      "cell_type": "code",
      "metadata": {
        "colab": {
          "base_uri": "https://localhost:8080/",
          "height": 455
        },
        "id": "uz7A7MXCO89T",
        "outputId": "bb112436-84b3-4870-869b-f58a905a073f"
      },
      "source": [
        "# Precipitation (mm day-1)\n",
        "# sns.set(rc={'figure.figsize':(10,15)})\n",
        "# sns.histplot(data=df, x='PRECTOT', stat='count', hue='score', multiple='stack', axis =1)\n",
        "df.groupby(['PRECTOT', 'score'])[['score']].count()"
      ],
      "execution_count": null,
      "outputs": [
        {
          "output_type": "execute_result",
          "data": {
            "text/html": [
              "<div>\n",
              "<style scoped>\n",
              "    .dataframe tbody tr th:only-of-type {\n",
              "        vertical-align: middle;\n",
              "    }\n",
              "\n",
              "    .dataframe tbody tr th {\n",
              "        vertical-align: top;\n",
              "    }\n",
              "\n",
              "    .dataframe thead th {\n",
              "        text-align: right;\n",
              "    }\n",
              "</style>\n",
              "<table border=\"1\" class=\"dataframe\">\n",
              "  <thead>\n",
              "    <tr style=\"text-align: right;\">\n",
              "      <th></th>\n",
              "      <th></th>\n",
              "      <th>score</th>\n",
              "    </tr>\n",
              "    <tr>\n",
              "      <th>PRECTOT</th>\n",
              "      <th>score</th>\n",
              "      <th></th>\n",
              "    </tr>\n",
              "  </thead>\n",
              "  <tbody>\n",
              "    <tr>\n",
              "      <th rowspan=\"5\" valign=\"top\">0.00</th>\n",
              "      <th>0.0</th>\n",
              "      <td>435759</td>\n",
              "    </tr>\n",
              "    <tr>\n",
              "      <th>1.0</th>\n",
              "      <td>119377</td>\n",
              "    </tr>\n",
              "    <tr>\n",
              "      <th>2.0</th>\n",
              "      <td>80005</td>\n",
              "    </tr>\n",
              "    <tr>\n",
              "      <th>3.0</th>\n",
              "      <td>53880</td>\n",
              "    </tr>\n",
              "    <tr>\n",
              "      <th>4.0</th>\n",
              "      <td>28064</td>\n",
              "    </tr>\n",
              "    <tr>\n",
              "      <th>...</th>\n",
              "      <th>...</th>\n",
              "      <td>...</td>\n",
              "    </tr>\n",
              "    <tr>\n",
              "      <th>152.83</th>\n",
              "      <th>0.0</th>\n",
              "      <td>3</td>\n",
              "    </tr>\n",
              "    <tr>\n",
              "      <th>153.67</th>\n",
              "      <th>0.0</th>\n",
              "      <td>1</td>\n",
              "    </tr>\n",
              "    <tr>\n",
              "      <th>161.83</th>\n",
              "      <th>0.0</th>\n",
              "      <td>1</td>\n",
              "    </tr>\n",
              "    <tr>\n",
              "      <th>165.51</th>\n",
              "      <th>0.0</th>\n",
              "      <td>1</td>\n",
              "    </tr>\n",
              "    <tr>\n",
              "      <th>168.69</th>\n",
              "      <th>0.0</th>\n",
              "      <td>1</td>\n",
              "    </tr>\n",
              "  </tbody>\n",
              "</table>\n",
              "<p>22354 rows × 1 columns</p>\n",
              "</div>"
            ],
            "text/plain": [
              "                score\n",
              "PRECTOT score        \n",
              "0.00    0.0    435759\n",
              "        1.0    119377\n",
              "        2.0     80005\n",
              "        3.0     53880\n",
              "        4.0     28064\n",
              "...               ...\n",
              "152.83  0.0         3\n",
              "153.67  0.0         1\n",
              "161.83  0.0         1\n",
              "165.51  0.0         1\n",
              "168.69  0.0         1\n",
              "\n",
              "[22354 rows x 1 columns]"
            ]
          },
          "metadata": {},
          "execution_count": 152
        }
      ]
    },
    {
      "cell_type": "code",
      "metadata": {
        "colab": {
          "base_uri": "https://localhost:8080/",
          "height": 279
        },
        "id": "Ndt9bq-SfS1p",
        "outputId": "76a243dd-f5ba-4a2c-ddde-b2698661bd8b"
      },
      "source": [
        " # Precipitation value with respect to target variable score\n",
        " ax2 = df.plot.scatter(x='PRECTOT', y='score', colormap='viridis', s= 0.01)\n"
      ],
      "execution_count": null,
      "outputs": [
        {
          "output_type": "display_data",
          "data": {
            "image/png": "[encoded data removed]",
            "text/plain": [
              "<Figure size 432x288 with 1 Axes>"
            ]
          },
          "metadata": {
            "needs_background": "light"
          }
        }
      ]
    },
    {
      "cell_type": "code",
      "metadata": {
        "colab": {
          "base_uri": "https://localhost:8080/",
          "height": 356
        },
        "id": "odMmObvM6KB_",
        "outputId": "5e8dbc48-ae49-4438-9e13-23cf64459ad7"
      },
      "source": [
        "#  Plot for PS -> Surface Pressure (kPa)\n",
        "df['PS'].hist(figsize=(5,5))\n",
        "plt.suptitle('Histograms shows distribution of Surface Pressure', fontsize=10);\n",
        "# plt.text(75, 0.8e7, 'PS', fontsize = 12)"
      ],
      "execution_count": null,
      "outputs": [
        {
          "output_type": "display_data",
          "data": {
            "image/png": "[encoded data removed]",
            "text/plain": [
              "<Figure size 360x360 with 1 Axes>"
            ]
          },
          "metadata": {
            "needs_background": "light"
          }
        }
      ]
    },
    {
      "cell_type": "code",
      "metadata": {
        "colab": {
          "base_uri": "https://localhost:8080/",
          "height": 455
        },
        "id": "QYyM_xJvP63P",
        "outputId": "ae595748-63ab-493a-bc3d-2fcfc7b5da57"
      },
      "source": [
        "# Surface Pressure (kPa)\n",
        "# sns.histplot(data=df, x='PS', stat='count', hue='score', multiple='stack')\n",
        "df.groupby(['PS', 'score'])[['score']].count()"
      ],
      "execution_count": null,
      "outputs": [
        {
          "output_type": "execute_result",
          "data": {
            "text/html": [
              "<div>\n",
              "<style scoped>\n",
              "    .dataframe tbody tr th:only-of-type {\n",
              "        vertical-align: middle;\n",
              "    }\n",
              "\n",
              "    .dataframe tbody tr th {\n",
              "        vertical-align: top;\n",
              "    }\n",
              "\n",
              "    .dataframe thead th {\n",
              "        text-align: right;\n",
              "    }\n",
              "</style>\n",
              "<table border=\"1\" class=\"dataframe\">\n",
              "  <thead>\n",
              "    <tr style=\"text-align: right;\">\n",
              "      <th></th>\n",
              "      <th></th>\n",
              "      <th>score</th>\n",
              "    </tr>\n",
              "    <tr>\n",
              "      <th>PS</th>\n",
              "      <th>score</th>\n",
              "      <th></th>\n",
              "    </tr>\n",
              "  </thead>\n",
              "  <tbody>\n",
              "    <tr>\n",
              "      <th>66.49</th>\n",
              "      <th>0.0</th>\n",
              "      <td>1</td>\n",
              "    </tr>\n",
              "    <tr>\n",
              "      <th>66.93</th>\n",
              "      <th>0.0</th>\n",
              "      <td>1</td>\n",
              "    </tr>\n",
              "    <tr>\n",
              "      <th>66.95</th>\n",
              "      <th>1.0</th>\n",
              "      <td>1</td>\n",
              "    </tr>\n",
              "    <tr>\n",
              "      <th>66.97</th>\n",
              "      <th>4.0</th>\n",
              "      <td>1</td>\n",
              "    </tr>\n",
              "    <tr>\n",
              "      <th>66.98</th>\n",
              "      <th>0.0</th>\n",
              "      <td>1</td>\n",
              "    </tr>\n",
              "    <tr>\n",
              "      <th>...</th>\n",
              "      <th>...</th>\n",
              "      <td>...</td>\n",
              "    </tr>\n",
              "    <tr>\n",
              "      <th>103.71</th>\n",
              "      <th>0.0</th>\n",
              "      <td>1</td>\n",
              "    </tr>\n",
              "    <tr>\n",
              "      <th>103.72</th>\n",
              "      <th>1.0</th>\n",
              "      <td>1</td>\n",
              "    </tr>\n",
              "    <tr>\n",
              "      <th>103.74</th>\n",
              "      <th>0.0</th>\n",
              "      <td>1</td>\n",
              "    </tr>\n",
              "    <tr>\n",
              "      <th>103.75</th>\n",
              "      <th>0.0</th>\n",
              "      <td>1</td>\n",
              "    </tr>\n",
              "    <tr>\n",
              "      <th>103.76</th>\n",
              "      <th>0.0</th>\n",
              "      <td>1</td>\n",
              "    </tr>\n",
              "  </tbody>\n",
              "</table>\n",
              "<p>19588 rows × 1 columns</p>\n",
              "</div>"
            ],
            "text/plain": [
              "              score\n",
              "PS     score       \n",
              "66.49  0.0        1\n",
              "66.93  0.0        1\n",
              "66.95  1.0        1\n",
              "66.97  4.0        1\n",
              "66.98  0.0        1\n",
              "...             ...\n",
              "103.71 0.0        1\n",
              "103.72 1.0        1\n",
              "103.74 0.0        1\n",
              "103.75 0.0        1\n",
              "103.76 0.0        1\n",
              "\n",
              "[19588 rows x 1 columns]"
            ]
          },
          "metadata": {},
          "execution_count": 155
        }
      ]
    },
    {
      "cell_type": "code",
      "metadata": {
        "colab": {
          "base_uri": "https://localhost:8080/",
          "height": 279
        },
        "id": "lbRFegTxguIw",
        "outputId": "56485d25-80b3-4e15-dc28-708982456d7b"
      },
      "source": [
        " # Surface pressure with respect to the target variable\n",
        " ax2 = df.plot.scatter(x='PS', y='score', colormap='viridis', s= 0.01)"
      ],
      "execution_count": null,
      "outputs": [
        {
          "output_type": "display_data",
          "data": {
            "image/png": "[encoded data removed]",
            "text/plain": [
              "<Figure size 432x288 with 1 Axes>"
            ]
          },
          "metadata": {
            "needs_background": "light"
          }
        }
      ]
    },
    {
      "cell_type": "code",
      "metadata": {
        "colab": {
          "base_uri": "https://localhost:8080/",
          "height": 356
        },
        "id": "StDnbosg6T-R",
        "outputId": "84869771-dffb-4036-aa59-0212ca38c0f3"
      },
      "source": [
        "# Plot for QV2M -> Specific Humidity at 2 Meters (g/kg)\n",
        "df['QV2M'].hist(figsize=(5,5))\n",
        "plt.suptitle('Histograms shows distribution of Specific Humidity at 2 Meters', fontsize=10);\n",
        "# plt.text(15, 4e6, 'QV2M', fontsize = 12)"
      ],
      "execution_count": null,
      "outputs": [
        {
          "output_type": "display_data",
          "data": {
            "image/png": "[encoded data removed]",
            "text/plain": [
              "<Figure size 360x360 with 1 Axes>"
            ]
          },
          "metadata": {
            "needs_background": "light"
          }
        }
      ]
    },
    {
      "cell_type": "code",
      "metadata": {
        "colab": {
          "base_uri": "https://localhost:8080/",
          "height": 455
        },
        "id": "VR76rZ27Qfy4",
        "outputId": "ba700834-4044-4ac9-8a17-c952127068ca"
      },
      "source": [
        "# Specific Humidity at 2 Meters (g/kg)\n",
        "# sns.histplot(data=df, x='QV2M', stat='count', hue='score', multiple='stack')\n",
        "df.groupby(['QV2M', 'score'])[['score']].count()"
      ],
      "execution_count": null,
      "outputs": [
        {
          "output_type": "execute_result",
          "data": {
            "text/html": [
              "<div>\n",
              "<style scoped>\n",
              "    .dataframe tbody tr th:only-of-type {\n",
              "        vertical-align: middle;\n",
              "    }\n",
              "\n",
              "    .dataframe tbody tr th {\n",
              "        vertical-align: top;\n",
              "    }\n",
              "\n",
              "    .dataframe thead th {\n",
              "        text-align: right;\n",
              "    }\n",
              "</style>\n",
              "<table border=\"1\" class=\"dataframe\">\n",
              "  <thead>\n",
              "    <tr style=\"text-align: right;\">\n",
              "      <th></th>\n",
              "      <th></th>\n",
              "      <th>score</th>\n",
              "    </tr>\n",
              "    <tr>\n",
              "      <th>QV2M</th>\n",
              "      <th>score</th>\n",
              "      <th></th>\n",
              "    </tr>\n",
              "  </thead>\n",
              "  <tbody>\n",
              "    <tr>\n",
              "      <th>0.14</th>\n",
              "      <th>0.0</th>\n",
              "      <td>1</td>\n",
              "    </tr>\n",
              "    <tr>\n",
              "      <th>0.15</th>\n",
              "      <th>0.0</th>\n",
              "      <td>1</td>\n",
              "    </tr>\n",
              "    <tr>\n",
              "      <th rowspan=\"2\" valign=\"top\">0.16</th>\n",
              "      <th>0.0</th>\n",
              "      <td>2</td>\n",
              "    </tr>\n",
              "    <tr>\n",
              "      <th>1.0</th>\n",
              "      <td>1</td>\n",
              "    </tr>\n",
              "    <tr>\n",
              "      <th>0.17</th>\n",
              "      <th>0.0</th>\n",
              "      <td>1</td>\n",
              "    </tr>\n",
              "    <tr>\n",
              "      <th>...</th>\n",
              "      <th>...</th>\n",
              "      <td>...</td>\n",
              "    </tr>\n",
              "    <tr>\n",
              "      <th>21.91</th>\n",
              "      <th>0.0</th>\n",
              "      <td>4</td>\n",
              "    </tr>\n",
              "    <tr>\n",
              "      <th>21.92</th>\n",
              "      <th>0.0</th>\n",
              "      <td>2</td>\n",
              "    </tr>\n",
              "    <tr>\n",
              "      <th>21.95</th>\n",
              "      <th>0.0</th>\n",
              "      <td>2</td>\n",
              "    </tr>\n",
              "    <tr>\n",
              "      <th>21.97</th>\n",
              "      <th>0.0</th>\n",
              "      <td>1</td>\n",
              "    </tr>\n",
              "    <tr>\n",
              "      <th>22.12</th>\n",
              "      <th>0.0</th>\n",
              "      <td>1</td>\n",
              "    </tr>\n",
              "  </tbody>\n",
              "</table>\n",
              "<p>11942 rows × 1 columns</p>\n",
              "</div>"
            ],
            "text/plain": [
              "             score\n",
              "QV2M  score       \n",
              "0.14  0.0        1\n",
              "0.15  0.0        1\n",
              "0.16  0.0        2\n",
              "      1.0        1\n",
              "0.17  0.0        1\n",
              "...            ...\n",
              "21.91 0.0        4\n",
              "21.92 0.0        2\n",
              "21.95 0.0        2\n",
              "21.97 0.0        1\n",
              "22.12 0.0        1\n",
              "\n",
              "[11942 rows x 1 columns]"
            ]
          },
          "metadata": {},
          "execution_count": 158
        }
      ]
    },
    {
      "cell_type": "code",
      "metadata": {
        "colab": {
          "base_uri": "https://localhost:8080/",
          "height": 279
        },
        "id": "CTcabKhhig4A",
        "outputId": "0af45f89-f0d8-4077-dbed-0e4d232f7af5"
      },
      "source": [
        " # Specific Humidity at 2 Meters (g/kg) with respect to the target variable\n",
        " ax2 = df.plot.scatter(x='QV2M', y='score', colormap='viridis', s= 0.01)"
      ],
      "execution_count": null,
      "outputs": [
        {
          "output_type": "display_data",
          "data": {
            "image/png": "[encoded data removed]",
            "text/plain": [
              "<Figure size 432x288 with 1 Axes>"
            ]
          },
          "metadata": {
            "needs_background": "light"
          }
        }
      ]
    },
    {
      "cell_type": "code",
      "metadata": {
        "colab": {
          "base_uri": "https://localhost:8080/",
          "height": 356
        },
        "id": "00pJO2qJ6toX",
        "outputId": "dd1e18eb-81a0-43d6-89d2-22c8d01ac269"
      },
      "source": [
        "# Plot for T2M -> Temperature at 2 Meters (C)\n",
        "df['T2M'].hist(figsize=(5,5))\n",
        "plt.suptitle('Histograms shows distribution of Temperature at 2 Meters ', fontsize=10);\n",
        "# plt.text(-30, 4e6, 'T2M', fontsize = 12)"
      ],
      "execution_count": null,
      "outputs": [
        {
          "output_type": "display_data",
          "data": {
            "image/png": "[encoded data removed]",
            "text/plain": [
              "<Figure size 360x360 with 1 Axes>"
            ]
          },
          "metadata": {
            "needs_background": "light"
          }
        }
      ]
    },
    {
      "cell_type": "code",
      "metadata": {
        "colab": {
          "base_uri": "https://localhost:8080/",
          "height": 455
        },
        "id": "6H-BfyShQoWK",
        "outputId": "169388f6-91f4-4c04-e163-898c58173492"
      },
      "source": [
        "# sns.histplot(data=df, x='T2M', stat='count', hue='score', multiple='stack')\n",
        "df.groupby(['T2M', 'score'])[['score']].count()"
      ],
      "execution_count": null,
      "outputs": [
        {
          "output_type": "execute_result",
          "data": {
            "text/html": [
              "<div>\n",
              "<style scoped>\n",
              "    .dataframe tbody tr th:only-of-type {\n",
              "        vertical-align: middle;\n",
              "    }\n",
              "\n",
              "    .dataframe tbody tr th {\n",
              "        vertical-align: top;\n",
              "    }\n",
              "\n",
              "    .dataframe thead th {\n",
              "        text-align: right;\n",
              "    }\n",
              "</style>\n",
              "<table border=\"1\" class=\"dataframe\">\n",
              "  <thead>\n",
              "    <tr style=\"text-align: right;\">\n",
              "      <th></th>\n",
              "      <th></th>\n",
              "      <th>score</th>\n",
              "    </tr>\n",
              "    <tr>\n",
              "      <th>T2M</th>\n",
              "      <th>score</th>\n",
              "      <th></th>\n",
              "    </tr>\n",
              "  </thead>\n",
              "  <tbody>\n",
              "    <tr>\n",
              "      <th>-35.44</th>\n",
              "      <th>0.0</th>\n",
              "      <td>1</td>\n",
              "    </tr>\n",
              "    <tr>\n",
              "      <th>-34.63</th>\n",
              "      <th>0.0</th>\n",
              "      <td>1</td>\n",
              "    </tr>\n",
              "    <tr>\n",
              "      <th>-33.94</th>\n",
              "      <th>0.0</th>\n",
              "      <td>1</td>\n",
              "    </tr>\n",
              "    <tr>\n",
              "      <th>-33.48</th>\n",
              "      <th>0.0</th>\n",
              "      <td>1</td>\n",
              "    </tr>\n",
              "    <tr>\n",
              "      <th>-33.33</th>\n",
              "      <th>0.0</th>\n",
              "      <td>1</td>\n",
              "    </tr>\n",
              "    <tr>\n",
              "      <th>...</th>\n",
              "      <th>...</th>\n",
              "      <td>...</td>\n",
              "    </tr>\n",
              "    <tr>\n",
              "      <th>38.87</th>\n",
              "      <th>4.0</th>\n",
              "      <td>2</td>\n",
              "    </tr>\n",
              "    <tr>\n",
              "      <th>38.91</th>\n",
              "      <th>4.0</th>\n",
              "      <td>2</td>\n",
              "    </tr>\n",
              "    <tr>\n",
              "      <th>38.92</th>\n",
              "      <th>1.0</th>\n",
              "      <td>1</td>\n",
              "    </tr>\n",
              "    <tr>\n",
              "      <th>38.93</th>\n",
              "      <th>0.0</th>\n",
              "      <td>1</td>\n",
              "    </tr>\n",
              "    <tr>\n",
              "      <th>39.33</th>\n",
              "      <th>0.0</th>\n",
              "      <td>1</td>\n",
              "    </tr>\n",
              "  </tbody>\n",
              "</table>\n",
              "<p>32880 rows × 1 columns</p>\n",
              "</div>"
            ],
            "text/plain": [
              "              score\n",
              "T2M    score       \n",
              "-35.44 0.0        1\n",
              "-34.63 0.0        1\n",
              "-33.94 0.0        1\n",
              "-33.48 0.0        1\n",
              "-33.33 0.0        1\n",
              "...             ...\n",
              " 38.87 4.0        2\n",
              " 38.91 4.0        2\n",
              " 38.92 1.0        1\n",
              " 38.93 0.0        1\n",
              " 39.33 0.0        1\n",
              "\n",
              "[32880 rows x 1 columns]"
            ]
          },
          "metadata": {},
          "execution_count": 161
        }
      ]
    },
    {
      "cell_type": "code",
      "metadata": {
        "colab": {
          "base_uri": "https://localhost:8080/",
          "height": 279
        },
        "id": "KYYO_Z5NilX2",
        "outputId": "52cd59d7-08e7-4855-a7ea-e3d8bc004e00"
      },
      "source": [
        " # Plot for T2M -> Temperature at 2 Meters (C) with respect to the target variable\n",
        " ax2 = df.plot.scatter(x='T2M', y='score', colormap='viridis', s= 0.01)"
      ],
      "execution_count": null,
      "outputs": [
        {
          "output_type": "display_data",
          "data": {
            "image/png": "[encoded data removed]",
            "text/plain": [
              "<Figure size 432x288 with 1 Axes>"
            ]
          },
          "metadata": {
            "needs_background": "light"
          }
        }
      ]
    },
    {
      "cell_type": "code",
      "metadata": {
        "colab": {
          "base_uri": "https://localhost:8080/",
          "height": 356
        },
        "id": "onitHpN57KFm",
        "outputId": "d4c478e6-f10d-434e-b7a0-c3738656b459"
      },
      "source": [
        "# Plot for T2MDEW -> Dew/Frost Point at 2 Meters (C)\n",
        "df['T2MDEW'].hist(figsize=(5,5))\n",
        "plt.suptitle('Histograms shows distribution of Dew/Frost Point at 2 Meters', fontsize=10);\n",
        "# plt.text(-30, 3.5e6, 'T2MDEW', fontsize = 12)"
      ],
      "execution_count": null,
      "outputs": [
        {
          "output_type": "display_data",
          "data": {
            "image/png": "[encoded data removed]",
            "text/plain": [
              "<Figure size 360x360 with 1 Axes>"
            ]
          },
          "metadata": {
            "needs_background": "light"
          }
        }
      ]
    },
    {
      "cell_type": "code",
      "metadata": {
        "colab": {
          "base_uri": "https://localhost:8080/",
          "height": 455
        },
        "id": "X0u9csKbQvnY",
        "outputId": "ea9829a1-f2f7-471f-8b32-4bcf82798829"
      },
      "source": [
        "# sns.histplot(data=df, x='T2MDEW', stat='count', hue='score', multiple='stack')\n",
        "df.groupby(['T2MDEW', 'score'])[['score']].count()"
      ],
      "execution_count": null,
      "outputs": [
        {
          "output_type": "execute_result",
          "data": {
            "text/html": [
              "<div>\n",
              "<style scoped>\n",
              "    .dataframe tbody tr th:only-of-type {\n",
              "        vertical-align: middle;\n",
              "    }\n",
              "\n",
              "    .dataframe tbody tr th {\n",
              "        vertical-align: top;\n",
              "    }\n",
              "\n",
              "    .dataframe thead th {\n",
              "        text-align: right;\n",
              "    }\n",
              "</style>\n",
              "<table border=\"1\" class=\"dataframe\">\n",
              "  <thead>\n",
              "    <tr style=\"text-align: right;\">\n",
              "      <th></th>\n",
              "      <th></th>\n",
              "      <th>score</th>\n",
              "    </tr>\n",
              "    <tr>\n",
              "      <th>T2MDEW</th>\n",
              "      <th>score</th>\n",
              "      <th></th>\n",
              "    </tr>\n",
              "  </thead>\n",
              "  <tbody>\n",
              "    <tr>\n",
              "      <th>-35.44</th>\n",
              "      <th>0.0</th>\n",
              "      <td>1</td>\n",
              "    </tr>\n",
              "    <tr>\n",
              "      <th>-34.95</th>\n",
              "      <th>0.0</th>\n",
              "      <td>1</td>\n",
              "    </tr>\n",
              "    <tr>\n",
              "      <th>-34.21</th>\n",
              "      <th>0.0</th>\n",
              "      <td>1</td>\n",
              "    </tr>\n",
              "    <tr>\n",
              "      <th>-34.10</th>\n",
              "      <th>0.0</th>\n",
              "      <td>1</td>\n",
              "    </tr>\n",
              "    <tr>\n",
              "      <th>-33.98</th>\n",
              "      <th>0.0</th>\n",
              "      <td>1</td>\n",
              "    </tr>\n",
              "    <tr>\n",
              "      <th>...</th>\n",
              "      <th>...</th>\n",
              "      <td>...</td>\n",
              "    </tr>\n",
              "    <tr>\n",
              "      <th>26.39</th>\n",
              "      <th>0.0</th>\n",
              "      <td>4</td>\n",
              "    </tr>\n",
              "    <tr>\n",
              "      <th>26.48</th>\n",
              "      <th>0.0</th>\n",
              "      <td>3</td>\n",
              "    </tr>\n",
              "    <tr>\n",
              "      <th>26.49</th>\n",
              "      <th>0.0</th>\n",
              "      <td>2</td>\n",
              "    </tr>\n",
              "    <tr>\n",
              "      <th>26.54</th>\n",
              "      <th>0.0</th>\n",
              "      <td>1</td>\n",
              "    </tr>\n",
              "    <tr>\n",
              "      <th>26.87</th>\n",
              "      <th>0.0</th>\n",
              "      <td>1</td>\n",
              "    </tr>\n",
              "  </tbody>\n",
              "</table>\n",
              "<p>28634 rows × 1 columns</p>\n",
              "</div>"
            ],
            "text/plain": [
              "              score\n",
              "T2MDEW score       \n",
              "-35.44 0.0        1\n",
              "-34.95 0.0        1\n",
              "-34.21 0.0        1\n",
              "-34.10 0.0        1\n",
              "-33.98 0.0        1\n",
              "...             ...\n",
              " 26.39 0.0        4\n",
              " 26.48 0.0        3\n",
              " 26.49 0.0        2\n",
              " 26.54 0.0        1\n",
              " 26.87 0.0        1\n",
              "\n",
              "[28634 rows x 1 columns]"
            ]
          },
          "metadata": {},
          "execution_count": 164
        }
      ]
    },
    {
      "cell_type": "code",
      "metadata": {
        "colab": {
          "base_uri": "https://localhost:8080/",
          "height": 279
        },
        "id": "8h2Fn_VUisW-",
        "outputId": "e787886f-d941-4c68-94b8-24974e38e45e"
      },
      "source": [
        "# T2MDEW -> Dew/Frost Point at 2 Meters (C) with respect to the target variable\n",
        " ax2 = df.plot.scatter(x='T2MDEW', y='score', colormap='viridis', s= 0.01)"
      ],
      "execution_count": null,
      "outputs": [
        {
          "output_type": "display_data",
          "data": {
            "image/png": "[encoded data removed]",
            "text/plain": [
              "<Figure size 432x288 with 1 Axes>"
            ]
          },
          "metadata": {
            "needs_background": "light"
          }
        }
      ]
    },
    {
      "cell_type": "code",
      "metadata": {
        "colab": {
          "base_uri": "https://localhost:8080/",
          "height": 356
        },
        "id": "PuzGnvPf7hgV",
        "outputId": "86a841e9-b546-485f-ee54-fed95f7aa8c3"
      },
      "source": [
        "# Plot for T2MWET -> Wet Bulb Temperature at 2 Meters (C)\n",
        "df['T2MWET'].hist(figsize=(5,5))\n",
        "plt.suptitle('Histograms shows distribution of Wet Bulb Temperature at 2 Meters', fontsize=10);\n",
        "# plt.text(-30, 3.5e6, 'T2MWET', fontsize = 12)"
      ],
      "execution_count": null,
      "outputs": [
        {
          "output_type": "display_data",
          "data": {
            "image/png": "[encoded data removed]",
            "text/plain": [
              "<Figure size 360x360 with 1 Axes>"
            ]
          },
          "metadata": {
            "needs_background": "light"
          }
        }
      ]
    },
    {
      "cell_type": "code",
      "metadata": {
        "colab": {
          "base_uri": "https://localhost:8080/",
          "height": 455
        },
        "id": "85QmdxbJ7meM",
        "outputId": "a31d2b82-c044-42a6-ffff-476ac9b5e61c"
      },
      "source": [
        "df.groupby(['T2MWET', 'score'])[['score']].count()"
      ],
      "execution_count": null,
      "outputs": [
        {
          "output_type": "execute_result",
          "data": {
            "text/html": [
              "<div>\n",
              "<style scoped>\n",
              "    .dataframe tbody tr th:only-of-type {\n",
              "        vertical-align: middle;\n",
              "    }\n",
              "\n",
              "    .dataframe tbody tr th {\n",
              "        vertical-align: top;\n",
              "    }\n",
              "\n",
              "    .dataframe thead th {\n",
              "        text-align: right;\n",
              "    }\n",
              "</style>\n",
              "<table border=\"1\" class=\"dataframe\">\n",
              "  <thead>\n",
              "    <tr style=\"text-align: right;\">\n",
              "      <th></th>\n",
              "      <th></th>\n",
              "      <th>score</th>\n",
              "    </tr>\n",
              "    <tr>\n",
              "      <th>T2MWET</th>\n",
              "      <th>score</th>\n",
              "      <th></th>\n",
              "    </tr>\n",
              "  </thead>\n",
              "  <tbody>\n",
              "    <tr>\n",
              "      <th>-35.46</th>\n",
              "      <th>0.0</th>\n",
              "      <td>1</td>\n",
              "    </tr>\n",
              "    <tr>\n",
              "      <th>-34.75</th>\n",
              "      <th>0.0</th>\n",
              "      <td>1</td>\n",
              "    </tr>\n",
              "    <tr>\n",
              "      <th>-34.01</th>\n",
              "      <th>0.0</th>\n",
              "      <td>1</td>\n",
              "    </tr>\n",
              "    <tr>\n",
              "      <th>-33.77</th>\n",
              "      <th>0.0</th>\n",
              "      <td>1</td>\n",
              "    </tr>\n",
              "    <tr>\n",
              "      <th>-33.59</th>\n",
              "      <th>0.0</th>\n",
              "      <td>1</td>\n",
              "    </tr>\n",
              "    <tr>\n",
              "      <th>...</th>\n",
              "      <th>...</th>\n",
              "      <td>...</td>\n",
              "    </tr>\n",
              "    <tr>\n",
              "      <th>26.39</th>\n",
              "      <th>0.0</th>\n",
              "      <td>4</td>\n",
              "    </tr>\n",
              "    <tr>\n",
              "      <th>26.48</th>\n",
              "      <th>0.0</th>\n",
              "      <td>3</td>\n",
              "    </tr>\n",
              "    <tr>\n",
              "      <th>26.49</th>\n",
              "      <th>0.0</th>\n",
              "      <td>2</td>\n",
              "    </tr>\n",
              "    <tr>\n",
              "      <th>26.54</th>\n",
              "      <th>0.0</th>\n",
              "      <td>1</td>\n",
              "    </tr>\n",
              "    <tr>\n",
              "      <th>26.87</th>\n",
              "      <th>0.0</th>\n",
              "      <td>1</td>\n",
              "    </tr>\n",
              "  </tbody>\n",
              "</table>\n",
              "<p>28350 rows × 1 columns</p>\n",
              "</div>"
            ],
            "text/plain": [
              "              score\n",
              "T2MWET score       \n",
              "-35.46 0.0        1\n",
              "-34.75 0.0        1\n",
              "-34.01 0.0        1\n",
              "-33.77 0.0        1\n",
              "-33.59 0.0        1\n",
              "...             ...\n",
              " 26.39 0.0        4\n",
              " 26.48 0.0        3\n",
              " 26.49 0.0        2\n",
              " 26.54 0.0        1\n",
              " 26.87 0.0        1\n",
              "\n",
              "[28350 rows x 1 columns]"
            ]
          },
          "metadata": {},
          "execution_count": 167
        }
      ]
    },
    {
      "cell_type": "code",
      "metadata": {
        "colab": {
          "base_uri": "https://localhost:8080/",
          "height": 279
        },
        "id": "iLiU1hKv7sHW",
        "outputId": "027eb561-d7c6-43a9-868a-c6006aff118c"
      },
      "source": [
        " # Plot for T2MWET -> Wet Bulb Temperature at 2 Meters (C) with respect to the target variable\n",
        " ax2 = df.plot.scatter(x='T2MWET', y='score', colormap='viridis', s= 0.01)"
      ],
      "execution_count": null,
      "outputs": [
        {
          "output_type": "display_data",
          "data": {
            "image/png": "[encoded data removed]",
            "text/plain": [
              "<Figure size 432x288 with 1 Axes>"
            ]
          },
          "metadata": {
            "needs_background": "light"
          }
        }
      ]
    },
    {
      "cell_type": "code",
      "metadata": {
        "colab": {
          "base_uri": "https://localhost:8080/",
          "height": 356
        },
        "id": "u_Cw6GWe7114",
        "outputId": "5c09d831-bccf-4458-f822-52369bf7cbfd"
      },
      "source": [
        "# Plot for T2M_MAX -> Maximum Temperature at 2 Meters (C)\n",
        "df['T2M_MAX'].hist(figsize=(5,5))\n",
        "plt.suptitle('Histograms shows distribution of Maximum Temperature at 2 Meters', fontsize=10);\n",
        "# plt.text(-20, 4e6, 'T2M_MAX', fontsize = 12)"
      ],
      "execution_count": null,
      "outputs": [
        {
          "output_type": "display_data",
          "data": {
            "image/png": "[encoded data removed]",
            "text/plain": [
              "<Figure size 360x360 with 1 Axes>"
            ]
          },
          "metadata": {
            "needs_background": "light"
          }
        }
      ]
    },
    {
      "cell_type": "code",
      "metadata": {
        "colab": {
          "base_uri": "https://localhost:8080/",
          "height": 455
        },
        "id": "HEnuu8laQzgK",
        "outputId": "12006f5d-6fe0-498a-9b62-293ffe950f25"
      },
      "source": [
        "# sns.histplot(data=df, x='T2M_MAX', stat='count', hue='score', multiple='stack')\n",
        "df.groupby(['T2M_MAX', 'score'])[['score']].count()"
      ],
      "execution_count": null,
      "outputs": [
        {
          "output_type": "execute_result",
          "data": {
            "text/html": [
              "<div>\n",
              "<style scoped>\n",
              "    .dataframe tbody tr th:only-of-type {\n",
              "        vertical-align: middle;\n",
              "    }\n",
              "\n",
              "    .dataframe tbody tr th {\n",
              "        vertical-align: top;\n",
              "    }\n",
              "\n",
              "    .dataframe thead th {\n",
              "        text-align: right;\n",
              "    }\n",
              "</style>\n",
              "<table border=\"1\" class=\"dataframe\">\n",
              "  <thead>\n",
              "    <tr style=\"text-align: right;\">\n",
              "      <th></th>\n",
              "      <th></th>\n",
              "      <th>score</th>\n",
              "    </tr>\n",
              "    <tr>\n",
              "      <th>T2M_MAX</th>\n",
              "      <th>score</th>\n",
              "      <th></th>\n",
              "    </tr>\n",
              "  </thead>\n",
              "  <tbody>\n",
              "    <tr>\n",
              "      <th>-30.03</th>\n",
              "      <th>0.0</th>\n",
              "      <td>1</td>\n",
              "    </tr>\n",
              "    <tr>\n",
              "      <th>-29.71</th>\n",
              "      <th>0.0</th>\n",
              "      <td>1</td>\n",
              "    </tr>\n",
              "    <tr>\n",
              "      <th rowspan=\"2\" valign=\"top\">-29.06</th>\n",
              "      <th>0.0</th>\n",
              "      <td>1</td>\n",
              "    </tr>\n",
              "    <tr>\n",
              "      <th>1.0</th>\n",
              "      <td>1</td>\n",
              "    </tr>\n",
              "    <tr>\n",
              "      <th>-29.05</th>\n",
              "      <th>0.0</th>\n",
              "      <td>1</td>\n",
              "    </tr>\n",
              "    <tr>\n",
              "      <th>...</th>\n",
              "      <th>...</th>\n",
              "      <td>...</td>\n",
              "    </tr>\n",
              "    <tr>\n",
              "      <th>46.72</th>\n",
              "      <th>1.0</th>\n",
              "      <td>1</td>\n",
              "    </tr>\n",
              "    <tr>\n",
              "      <th>47.16</th>\n",
              "      <th>0.0</th>\n",
              "      <td>1</td>\n",
              "    </tr>\n",
              "    <tr>\n",
              "      <th>47.27</th>\n",
              "      <th>0.0</th>\n",
              "      <td>1</td>\n",
              "    </tr>\n",
              "    <tr>\n",
              "      <th>47.47</th>\n",
              "      <th>0.0</th>\n",
              "      <td>1</td>\n",
              "    </tr>\n",
              "    <tr>\n",
              "      <th>47.75</th>\n",
              "      <th>0.0</th>\n",
              "      <td>1</td>\n",
              "    </tr>\n",
              "  </tbody>\n",
              "</table>\n",
              "<p>34742 rows × 1 columns</p>\n",
              "</div>"
            ],
            "text/plain": [
              "               score\n",
              "T2M_MAX score       \n",
              "-30.03  0.0        1\n",
              "-29.71  0.0        1\n",
              "-29.06  0.0        1\n",
              "        1.0        1\n",
              "-29.05  0.0        1\n",
              "...              ...\n",
              " 46.72  1.0        1\n",
              " 47.16  0.0        1\n",
              " 47.27  0.0        1\n",
              " 47.47  0.0        1\n",
              " 47.75  0.0        1\n",
              "\n",
              "[34742 rows x 1 columns]"
            ]
          },
          "metadata": {},
          "execution_count": 170
        }
      ]
    },
    {
      "cell_type": "code",
      "metadata": {
        "colab": {
          "base_uri": "https://localhost:8080/",
          "height": 280
        },
        "id": "-uOW3oGWkxGf",
        "outputId": "785f3042-cd4d-41b8-80df-b3bed36dd2d5"
      },
      "source": [
        " # Plot for T2M_MAX -> Maximum Temperature at 2 Meters (C) with respect to the target variable\n",
        " ax2 = df.plot.scatter(x='T2M_MAX', y='score', colormap='viridis', s= 0.01)"
      ],
      "execution_count": null,
      "outputs": [
        {
          "output_type": "display_data",
          "data": {
            "image/png": "[encoded data removed]",
            "text/plain": [
              "<Figure size 432x288 with 1 Axes>"
            ]
          },
          "metadata": {
            "needs_background": "light"
          }
        }
      ]
    },
    {
      "cell_type": "code",
      "metadata": {
        "colab": {
          "base_uri": "https://localhost:8080/",
          "height": 356
        },
        "id": "_sw5HlWO79j1",
        "outputId": "5d4d310c-8ed4-46a8-97cf-7b2201291576"
      },
      "source": [
        "# Plot for T2M_MIN -> Minimum Temperature at 2 Meters (C)\n",
        "df['T2M_MIN'].hist(figsize=(5,5))\n",
        "plt.suptitle('Histograms shows distribution of Minimum Temperature at 2 Meters', fontsize=10);\n",
        "# plt.text(-40, 4e6, 'T2M_MIN', fontsize = 12)"
      ],
      "execution_count": null,
      "outputs": [
        {
          "output_type": "display_data",
          "data": {
            "image/png": "[encoded data removed]",
            "text/plain": [
              "<Figure size 360x360 with 1 Axes>"
            ]
          },
          "metadata": {
            "needs_background": "light"
          }
        }
      ]
    },
    {
      "cell_type": "code",
      "metadata": {
        "colab": {
          "base_uri": "https://localhost:8080/",
          "height": 455
        },
        "id": "3o78xQAVVyBA",
        "outputId": "27286152-1607-444c-f5df-524f163c9b76"
      },
      "source": [
        "df.groupby(['T2M_MIN', 'score'])[['score']].count()"
      ],
      "execution_count": null,
      "outputs": [
        {
          "output_type": "execute_result",
          "data": {
            "text/html": [
              "<div>\n",
              "<style scoped>\n",
              "    .dataframe tbody tr th:only-of-type {\n",
              "        vertical-align: middle;\n",
              "    }\n",
              "\n",
              "    .dataframe tbody tr th {\n",
              "        vertical-align: top;\n",
              "    }\n",
              "\n",
              "    .dataframe thead th {\n",
              "        text-align: right;\n",
              "    }\n",
              "</style>\n",
              "<table border=\"1\" class=\"dataframe\">\n",
              "  <thead>\n",
              "    <tr style=\"text-align: right;\">\n",
              "      <th></th>\n",
              "      <th></th>\n",
              "      <th>score</th>\n",
              "    </tr>\n",
              "    <tr>\n",
              "      <th>T2M_MIN</th>\n",
              "      <th>score</th>\n",
              "      <th></th>\n",
              "    </tr>\n",
              "  </thead>\n",
              "  <tbody>\n",
              "    <tr>\n",
              "      <th>-40.85</th>\n",
              "      <th>0.0</th>\n",
              "      <td>1</td>\n",
              "    </tr>\n",
              "    <tr>\n",
              "      <th>-39.83</th>\n",
              "      <th>0.0</th>\n",
              "      <td>1</td>\n",
              "    </tr>\n",
              "    <tr>\n",
              "      <th>-39.77</th>\n",
              "      <th>0.0</th>\n",
              "      <td>1</td>\n",
              "    </tr>\n",
              "    <tr>\n",
              "      <th>-39.30</th>\n",
              "      <th>0.0</th>\n",
              "      <td>1</td>\n",
              "    </tr>\n",
              "    <tr>\n",
              "      <th>-39.27</th>\n",
              "      <th>0.0</th>\n",
              "      <td>1</td>\n",
              "    </tr>\n",
              "    <tr>\n",
              "      <th>...</th>\n",
              "      <th>...</th>\n",
              "      <td>...</td>\n",
              "    </tr>\n",
              "    <tr>\n",
              "      <th>32.03</th>\n",
              "      <th>1.0</th>\n",
              "      <td>1</td>\n",
              "    </tr>\n",
              "    <tr>\n",
              "      <th>32.09</th>\n",
              "      <th>0.0</th>\n",
              "      <td>1</td>\n",
              "    </tr>\n",
              "    <tr>\n",
              "      <th>32.14</th>\n",
              "      <th>0.0</th>\n",
              "      <td>1</td>\n",
              "    </tr>\n",
              "    <tr>\n",
              "      <th>32.20</th>\n",
              "      <th>1.0</th>\n",
              "      <td>1</td>\n",
              "    </tr>\n",
              "    <tr>\n",
              "      <th>32.28</th>\n",
              "      <th>0.0</th>\n",
              "      <td>1</td>\n",
              "    </tr>\n",
              "  </tbody>\n",
              "</table>\n",
              "<p>32164 rows × 1 columns</p>\n",
              "</div>"
            ],
            "text/plain": [
              "               score\n",
              "T2M_MIN score       \n",
              "-40.85  0.0        1\n",
              "-39.83  0.0        1\n",
              "-39.77  0.0        1\n",
              "-39.30  0.0        1\n",
              "-39.27  0.0        1\n",
              "...              ...\n",
              " 32.03  1.0        1\n",
              " 32.09  0.0        1\n",
              " 32.14  0.0        1\n",
              " 32.20  1.0        1\n",
              " 32.28  0.0        1\n",
              "\n",
              "[32164 rows x 1 columns]"
            ]
          },
          "metadata": {},
          "execution_count": 173
        }
      ]
    },
    {
      "cell_type": "code",
      "metadata": {
        "colab": {
          "base_uri": "https://localhost:8080/",
          "height": 280
        },
        "id": "Cdl4pR6pk2sQ",
        "outputId": "e88514b8-9a01-484f-b8db-162d76883d22"
      },
      "source": [
        "#Plot for T2M_MIN -> Minimum Temperature at 2 Meters (C) with respect to the target variable\n",
        " ax2 = df.plot.scatter(x='T2M_MIN', y='score', colormap='viridis', s= 0.01)"
      ],
      "execution_count": null,
      "outputs": [
        {
          "output_type": "display_data",
          "data": {
            "image/png": "[encoded data removed]",
            "text/plain": [
              "<Figure size 432x288 with 1 Axes>"
            ]
          },
          "metadata": {
            "needs_background": "light"
          }
        }
      ]
    },
    {
      "cell_type": "code",
      "metadata": {
        "colab": {
          "base_uri": "https://localhost:8080/",
          "height": 356
        },
        "id": "MvA8mElL8FZ4",
        "outputId": "19e1f865-ed86-4a80-e108-76125725c749"
      },
      "source": [
        "# Plot for T2M_RANGE -> Temperature Range at 2 Meters (C)\n",
        "df['T2M_RANGE'].hist(figsize=(5,5))\n",
        "plt.suptitle('Histograms shows distribution of Temperature Range at 2 Meters', fontsize=10);\n",
        "# plt.text(25, 5e6, 'T2M_RANGE', fontsize = 12)\n"
      ],
      "execution_count": null,
      "outputs": [
        {
          "output_type": "display_data",
          "data": {
            "image/png": "[encoded data removed]",
            "text/plain": [
              "<Figure size 360x360 with 1 Axes>"
            ]
          },
          "metadata": {
            "needs_background": "light"
          }
        }
      ]
    },
    {
      "cell_type": "code",
      "metadata": {
        "colab": {
          "base_uri": "https://localhost:8080/",
          "height": 455
        },
        "id": "9jnrabq4cJYK",
        "outputId": "5e6a94c4-f894-4daa-e2d4-d909531b6823"
      },
      "source": [
        "df.groupby(['T2M_RANGE', 'score'])[['score']].count()"
      ],
      "execution_count": null,
      "outputs": [
        {
          "output_type": "execute_result",
          "data": {
            "text/html": [
              "<div>\n",
              "<style scoped>\n",
              "    .dataframe tbody tr th:only-of-type {\n",
              "        vertical-align: middle;\n",
              "    }\n",
              "\n",
              "    .dataframe tbody tr th {\n",
              "        vertical-align: top;\n",
              "    }\n",
              "\n",
              "    .dataframe thead th {\n",
              "        text-align: right;\n",
              "    }\n",
              "</style>\n",
              "<table border=\"1\" class=\"dataframe\">\n",
              "  <thead>\n",
              "    <tr style=\"text-align: right;\">\n",
              "      <th></th>\n",
              "      <th></th>\n",
              "      <th>score</th>\n",
              "    </tr>\n",
              "    <tr>\n",
              "      <th>T2M_RANGE</th>\n",
              "      <th>score</th>\n",
              "      <th></th>\n",
              "    </tr>\n",
              "  </thead>\n",
              "  <tbody>\n",
              "    <tr>\n",
              "      <th rowspan=\"2\" valign=\"top\">0.16</th>\n",
              "      <th>0.0</th>\n",
              "      <td>1</td>\n",
              "    </tr>\n",
              "    <tr>\n",
              "      <th>2.0</th>\n",
              "      <td>1</td>\n",
              "    </tr>\n",
              "    <tr>\n",
              "      <th rowspan=\"2\" valign=\"top\">0.17</th>\n",
              "      <th>0.0</th>\n",
              "      <td>1</td>\n",
              "    </tr>\n",
              "    <tr>\n",
              "      <th>2.0</th>\n",
              "      <td>1</td>\n",
              "    </tr>\n",
              "    <tr>\n",
              "      <th>0.21</th>\n",
              "      <th>1.0</th>\n",
              "      <td>1</td>\n",
              "    </tr>\n",
              "    <tr>\n",
              "      <th>...</th>\n",
              "      <th>...</th>\n",
              "      <td>...</td>\n",
              "    </tr>\n",
              "    <tr>\n",
              "      <th>29.72</th>\n",
              "      <th>2.0</th>\n",
              "      <td>1</td>\n",
              "    </tr>\n",
              "    <tr>\n",
              "      <th>29.88</th>\n",
              "      <th>3.0</th>\n",
              "      <td>1</td>\n",
              "    </tr>\n",
              "    <tr>\n",
              "      <th>29.99</th>\n",
              "      <th>2.0</th>\n",
              "      <td>1</td>\n",
              "    </tr>\n",
              "    <tr>\n",
              "      <th>30.13</th>\n",
              "      <th>3.0</th>\n",
              "      <td>2</td>\n",
              "    </tr>\n",
              "    <tr>\n",
              "      <th>30.17</th>\n",
              "      <th>4.0</th>\n",
              "      <td>1</td>\n",
              "    </tr>\n",
              "  </tbody>\n",
              "</table>\n",
              "<p>14524 rows × 1 columns</p>\n",
              "</div>"
            ],
            "text/plain": [
              "                 score\n",
              "T2M_RANGE score       \n",
              "0.16      0.0        1\n",
              "          2.0        1\n",
              "0.17      0.0        1\n",
              "          2.0        1\n",
              "0.21      1.0        1\n",
              "...                ...\n",
              "29.72     2.0        1\n",
              "29.88     3.0        1\n",
              "29.99     2.0        1\n",
              "30.13     3.0        2\n",
              "30.17     4.0        1\n",
              "\n",
              "[14524 rows x 1 columns]"
            ]
          },
          "metadata": {},
          "execution_count": 176
        }
      ]
    },
    {
      "cell_type": "code",
      "metadata": {
        "colab": {
          "base_uri": "https://localhost:8080/",
          "height": 280
        },
        "id": "NqBEtSmUlJH-",
        "outputId": "12a9b24b-cd4f-4fa7-f217-f51274435376"
      },
      "source": [
        " # Plot for T2M_RANGE -> Temperature Range at 2 Meters (C) with respect to the target variable\n",
        " ax2 = df.plot.scatter(x='T2M_RANGE', y='score', colormap='viridis', s= 0.01)"
      ],
      "execution_count": null,
      "outputs": [
        {
          "output_type": "display_data",
          "data": {
            "image/png": "[encoded data removed]",
            "text/plain": [
              "<Figure size 432x288 with 1 Axes>"
            ]
          },
          "metadata": {
            "needs_background": "light"
          }
        }
      ]
    },
    {
      "cell_type": "code",
      "metadata": {
        "colab": {
          "base_uri": "https://localhost:8080/",
          "height": 356
        },
        "id": "3CKz07r88OYB",
        "outputId": "d685a2a4-32dd-4f0e-8986-7377ad77013c"
      },
      "source": [
        "# Plot for TS -> Earth Skin Temperature (C)\n",
        "df['TS'].hist(figsize=(5,5))\n",
        "plt.suptitle('Histograms shows distribution of Earth Skin Temperature', fontsize=10);\n",
        "# plt.text(-30, 4e6, 'TS', fontsize = 12)"
      ],
      "execution_count": null,
      "outputs": [
        {
          "output_type": "display_data",
          "data": {
            "image/png": "[encoded data removed]",
            "text/plain": [
              "<Figure size 360x360 with 1 Axes>"
            ]
          },
          "metadata": {
            "needs_background": "light"
          }
        }
      ]
    },
    {
      "cell_type": "code",
      "metadata": {
        "colab": {
          "base_uri": "https://localhost:8080/",
          "height": 455
        },
        "id": "NvST2SgMcPkr",
        "outputId": "4d9ad6cb-b361-42d7-b726-962fdffaa8d0"
      },
      "source": [
        "df.groupby(['TS', 'score'])[['score']].count()"
      ],
      "execution_count": null,
      "outputs": [
        {
          "output_type": "execute_result",
          "data": {
            "text/html": [
              "<div>\n",
              "<style scoped>\n",
              "    .dataframe tbody tr th:only-of-type {\n",
              "        vertical-align: middle;\n",
              "    }\n",
              "\n",
              "    .dataframe tbody tr th {\n",
              "        vertical-align: top;\n",
              "    }\n",
              "\n",
              "    .dataframe thead th {\n",
              "        text-align: right;\n",
              "    }\n",
              "</style>\n",
              "<table border=\"1\" class=\"dataframe\">\n",
              "  <thead>\n",
              "    <tr style=\"text-align: right;\">\n",
              "      <th></th>\n",
              "      <th></th>\n",
              "      <th>score</th>\n",
              "    </tr>\n",
              "    <tr>\n",
              "      <th>TS</th>\n",
              "      <th>score</th>\n",
              "      <th></th>\n",
              "    </tr>\n",
              "  </thead>\n",
              "  <tbody>\n",
              "    <tr>\n",
              "      <th>-37.16</th>\n",
              "      <th>0.0</th>\n",
              "      <td>1</td>\n",
              "    </tr>\n",
              "    <tr>\n",
              "      <th>-36.18</th>\n",
              "      <th>0.0</th>\n",
              "      <td>1</td>\n",
              "    </tr>\n",
              "    <tr>\n",
              "      <th>-35.24</th>\n",
              "      <th>0.0</th>\n",
              "      <td>1</td>\n",
              "    </tr>\n",
              "    <tr>\n",
              "      <th>-34.78</th>\n",
              "      <th>0.0</th>\n",
              "      <td>1</td>\n",
              "    </tr>\n",
              "    <tr>\n",
              "      <th>-34.76</th>\n",
              "      <th>0.0</th>\n",
              "      <td>1</td>\n",
              "    </tr>\n",
              "    <tr>\n",
              "      <th>...</th>\n",
              "      <th>...</th>\n",
              "      <td>...</td>\n",
              "    </tr>\n",
              "    <tr>\n",
              "      <th>41.86</th>\n",
              "      <th>2.0</th>\n",
              "      <td>1</td>\n",
              "    </tr>\n",
              "    <tr>\n",
              "      <th>41.89</th>\n",
              "      <th>0.0</th>\n",
              "      <td>1</td>\n",
              "    </tr>\n",
              "    <tr>\n",
              "      <th>41.91</th>\n",
              "      <th>1.0</th>\n",
              "      <td>1</td>\n",
              "    </tr>\n",
              "    <tr>\n",
              "      <th>41.93</th>\n",
              "      <th>1.0</th>\n",
              "      <td>1</td>\n",
              "    </tr>\n",
              "    <tr>\n",
              "      <th>42.48</th>\n",
              "      <th>0.0</th>\n",
              "      <td>1</td>\n",
              "    </tr>\n",
              "  </tbody>\n",
              "</table>\n",
              "<p>34532 rows × 1 columns</p>\n",
              "</div>"
            ],
            "text/plain": [
              "              score\n",
              "TS     score       \n",
              "-37.16 0.0        1\n",
              "-36.18 0.0        1\n",
              "-35.24 0.0        1\n",
              "-34.78 0.0        1\n",
              "-34.76 0.0        1\n",
              "...             ...\n",
              " 41.86 2.0        1\n",
              " 41.89 0.0        1\n",
              " 41.91 1.0        1\n",
              " 41.93 1.0        1\n",
              " 42.48 0.0        1\n",
              "\n",
              "[34532 rows x 1 columns]"
            ]
          },
          "metadata": {},
          "execution_count": 179
        }
      ]
    },
    {
      "cell_type": "code",
      "metadata": {
        "id": "gQ6ADVn6ow23"
      },
      "source": [
        "df = df[df['TS']>30]"
      ],
      "execution_count": null,
      "outputs": []
    },
    {
      "cell_type": "code",
      "metadata": {
        "colab": {
          "base_uri": "https://localhost:8080/",
          "height": 279
        },
        "id": "B-scBMPZlM_i",
        "outputId": "989e221c-ab74-4fa6-946c-bd4448c56a9d"
      },
      "source": [
        "# Plot for TS -> Earth Skin Temperature (C) with respect to the target variable\n",
        "ax2 = df.plot.scatter(x='TS', y='score', colormap='viridis', s= 0.01)"
      ],
      "execution_count": null,
      "outputs": [
        {
          "output_type": "display_data",
          "data": {
            "image/png": "[encoded data removed]",
            "text/plain": [
              "<Figure size 432x288 with 1 Axes>"
            ]
          },
          "metadata": {
            "needs_background": "light"
          }
        }
      ]
    },
    {
      "cell_type": "code",
      "metadata": {
        "colab": {
          "base_uri": "https://localhost:8080/",
          "height": 356
        },
        "id": "rud6LnUn8br8",
        "outputId": "24e76bc5-b2f9-4fca-c538-6dac6a0e434b"
      },
      "source": [
        "# Plot for WS10M -> Wind Speed at 10 Meters (m/s)\n",
        "df['WS10M'].hist(figsize=(5,5))\n",
        "plt.suptitle('Histograms shows distribution of Wind Speed at 10 Meters', fontsize=10);\n",
        "# plt.text(16, 7e6, 'WS10M', fontsize = 12)"
      ],
      "execution_count": null,
      "outputs": [
        {
          "output_type": "display_data",
          "data": {
            "image/png": "[encoded data removed]",
            "text/plain": [
              "<Figure size 360x360 with 1 Axes>"
            ]
          },
          "metadata": {
            "needs_background": "light"
          }
        }
      ]
    },
    {
      "cell_type": "code",
      "metadata": {
        "colab": {
          "base_uri": "https://localhost:8080/",
          "height": 455
        },
        "id": "BCBc3YYccUHR",
        "outputId": "fa8bafea-e008-40f2-d095-d203915f52d1"
      },
      "source": [
        "df.groupby(['WS10M', 'score'])[['score']].count()"
      ],
      "execution_count": null,
      "outputs": [
        {
          "output_type": "execute_result",
          "data": {
            "text/html": [
              "<div>\n",
              "<style scoped>\n",
              "    .dataframe tbody tr th:only-of-type {\n",
              "        vertical-align: middle;\n",
              "    }\n",
              "\n",
              "    .dataframe tbody tr th {\n",
              "        vertical-align: top;\n",
              "    }\n",
              "\n",
              "    .dataframe thead th {\n",
              "        text-align: right;\n",
              "    }\n",
              "</style>\n",
              "<table border=\"1\" class=\"dataframe\">\n",
              "  <thead>\n",
              "    <tr style=\"text-align: right;\">\n",
              "      <th></th>\n",
              "      <th></th>\n",
              "      <th>score</th>\n",
              "    </tr>\n",
              "    <tr>\n",
              "      <th>WS10M</th>\n",
              "      <th>score</th>\n",
              "      <th></th>\n",
              "    </tr>\n",
              "  </thead>\n",
              "  <tbody>\n",
              "    <tr>\n",
              "      <th>0.45</th>\n",
              "      <th>0.0</th>\n",
              "      <td>1</td>\n",
              "    </tr>\n",
              "    <tr>\n",
              "      <th rowspan=\"2\" valign=\"top\">0.46</th>\n",
              "      <th>0.0</th>\n",
              "      <td>2</td>\n",
              "    </tr>\n",
              "    <tr>\n",
              "      <th>2.0</th>\n",
              "      <td>2</td>\n",
              "    </tr>\n",
              "    <tr>\n",
              "      <th>0.50</th>\n",
              "      <th>2.0</th>\n",
              "      <td>2</td>\n",
              "    </tr>\n",
              "    <tr>\n",
              "      <th>0.51</th>\n",
              "      <th>0.0</th>\n",
              "      <td>1</td>\n",
              "    </tr>\n",
              "    <tr>\n",
              "      <th>...</th>\n",
              "      <th>...</th>\n",
              "      <td>...</td>\n",
              "    </tr>\n",
              "    <tr>\n",
              "      <th>11.67</th>\n",
              "      <th>2.0</th>\n",
              "      <td>1</td>\n",
              "    </tr>\n",
              "    <tr>\n",
              "      <th>11.76</th>\n",
              "      <th>2.0</th>\n",
              "      <td>2</td>\n",
              "    </tr>\n",
              "    <tr>\n",
              "      <th>11.85</th>\n",
              "      <th>3.0</th>\n",
              "      <td>1</td>\n",
              "    </tr>\n",
              "    <tr>\n",
              "      <th>11.99</th>\n",
              "      <th>2.0</th>\n",
              "      <td>1</td>\n",
              "    </tr>\n",
              "    <tr>\n",
              "      <th>12.09</th>\n",
              "      <th>3.0</th>\n",
              "      <td>1</td>\n",
              "    </tr>\n",
              "  </tbody>\n",
              "</table>\n",
              "<p>4829 rows × 1 columns</p>\n",
              "</div>"
            ],
            "text/plain": [
              "             score\n",
              "WS10M score       \n",
              "0.45  0.0        1\n",
              "0.46  0.0        2\n",
              "      2.0        2\n",
              "0.50  2.0        2\n",
              "0.51  0.0        1\n",
              "...            ...\n",
              "11.67 2.0        1\n",
              "11.76 2.0        2\n",
              "11.85 3.0        1\n",
              "11.99 2.0        1\n",
              "12.09 3.0        1\n",
              "\n",
              "[4829 rows x 1 columns]"
            ]
          },
          "metadata": {},
          "execution_count": 183
        }
      ]
    },
    {
      "cell_type": "code",
      "metadata": {
        "colab": {
          "base_uri": "https://localhost:8080/",
          "height": 279
        },
        "id": "z9JADcaWlU4g",
        "outputId": "2ad14dd7-6164-4f68-989d-1eac39286cb5"
      },
      "source": [
        "# Plot for TS -> Earth Skin Temperature (C) with respect to the target variable\n",
        "ax2 = df.plot.scatter(x='WS10M', y='score', colormap='viridis', s= 0.01)"
      ],
      "execution_count": null,
      "outputs": [
        {
          "output_type": "display_data",
          "data": {
            "image/png": "[encoded data removed]",
            "text/plain": [
              "<Figure size 432x288 with 1 Axes>"
            ]
          },
          "metadata": {
            "needs_background": "light"
          }
        }
      ]
    },
    {
      "cell_type": "code",
      "metadata": {
        "colab": {
          "base_uri": "https://localhost:8080/",
          "height": 356
        },
        "id": "EJb54m-P8xFo",
        "outputId": "b3abf6eb-dd01-434e-cca6-b1d2ca6e9ed2"
      },
      "source": [
        "# Plot for WS10M_MAX -> Maximum Wind Speed at 10 Meters (m/s)\n",
        "df['WS10M_MAX'].hist(figsize=(5,5))\n",
        "plt.suptitle('Histograms shows distribution of Maximum Wind Speed at 10 Meters', fontsize=10);\n",
        "# plt.text(25, 7e6, 'WS10M_MAX', fontsize = 12)"
      ],
      "execution_count": null,
      "outputs": [
        {
          "output_type": "display_data",
          "data": {
            "image/png": "[encoded data removed]",
            "text/plain": [
              "<Figure size 360x360 with 1 Axes>"
            ]
          },
          "metadata": {
            "needs_background": "light"
          }
        }
      ]
    },
    {
      "cell_type": "code",
      "metadata": {
        "colab": {
          "base_uri": "https://localhost:8080/",
          "height": 455
        },
        "id": "FJOd-mqoclR6",
        "outputId": "edf8f33b-c9df-4c09-a64e-67686ac01fa5"
      },
      "source": [
        "df.groupby(['WS10M_MAX', 'score'])[['score']].count()"
      ],
      "execution_count": null,
      "outputs": [
        {
          "output_type": "execute_result",
          "data": {
            "text/html": [
              "<div>\n",
              "<style scoped>\n",
              "    .dataframe tbody tr th:only-of-type {\n",
              "        vertical-align: middle;\n",
              "    }\n",
              "\n",
              "    .dataframe tbody tr th {\n",
              "        vertical-align: top;\n",
              "    }\n",
              "\n",
              "    .dataframe thead th {\n",
              "        text-align: right;\n",
              "    }\n",
              "</style>\n",
              "<table border=\"1\" class=\"dataframe\">\n",
              "  <thead>\n",
              "    <tr style=\"text-align: right;\">\n",
              "      <th></th>\n",
              "      <th></th>\n",
              "      <th>score</th>\n",
              "    </tr>\n",
              "    <tr>\n",
              "      <th>WS10M_MAX</th>\n",
              "      <th>score</th>\n",
              "      <th></th>\n",
              "    </tr>\n",
              "  </thead>\n",
              "  <tbody>\n",
              "    <tr>\n",
              "      <th>0.86</th>\n",
              "      <th>0.0</th>\n",
              "      <td>1</td>\n",
              "    </tr>\n",
              "    <tr>\n",
              "      <th>0.89</th>\n",
              "      <th>0.0</th>\n",
              "      <td>2</td>\n",
              "    </tr>\n",
              "    <tr>\n",
              "      <th rowspan=\"2\" valign=\"top\">0.92</th>\n",
              "      <th>2.0</th>\n",
              "      <td>1</td>\n",
              "    </tr>\n",
              "    <tr>\n",
              "      <th>3.0</th>\n",
              "      <td>1</td>\n",
              "    </tr>\n",
              "    <tr>\n",
              "      <th>0.93</th>\n",
              "      <th>0.0</th>\n",
              "      <td>1</td>\n",
              "    </tr>\n",
              "    <tr>\n",
              "      <th>...</th>\n",
              "      <th>...</th>\n",
              "      <td>...</td>\n",
              "    </tr>\n",
              "    <tr>\n",
              "      <th>14.21</th>\n",
              "      <th>3.0</th>\n",
              "      <td>1</td>\n",
              "    </tr>\n",
              "    <tr>\n",
              "      <th>14.26</th>\n",
              "      <th>3.0</th>\n",
              "      <td>1</td>\n",
              "    </tr>\n",
              "    <tr>\n",
              "      <th>14.37</th>\n",
              "      <th>2.0</th>\n",
              "      <td>2</td>\n",
              "    </tr>\n",
              "    <tr>\n",
              "      <th>14.72</th>\n",
              "      <th>2.0</th>\n",
              "      <td>1</td>\n",
              "    </tr>\n",
              "    <tr>\n",
              "      <th>14.77</th>\n",
              "      <th>2.0</th>\n",
              "      <td>2</td>\n",
              "    </tr>\n",
              "  </tbody>\n",
              "</table>\n",
              "<p>5862 rows × 1 columns</p>\n",
              "</div>"
            ],
            "text/plain": [
              "                 score\n",
              "WS10M_MAX score       \n",
              "0.86      0.0        1\n",
              "0.89      0.0        2\n",
              "0.92      2.0        1\n",
              "          3.0        1\n",
              "0.93      0.0        1\n",
              "...                ...\n",
              "14.21     3.0        1\n",
              "14.26     3.0        1\n",
              "14.37     2.0        2\n",
              "14.72     2.0        1\n",
              "14.77     2.0        2\n",
              "\n",
              "[5862 rows x 1 columns]"
            ]
          },
          "metadata": {},
          "execution_count": 186
        }
      ]
    },
    {
      "cell_type": "code",
      "metadata": {
        "colab": {
          "base_uri": "https://localhost:8080/",
          "height": 280
        },
        "id": "zbRsV6bClcVv",
        "outputId": "4a138f7d-1956-443b-bd3d-8d8836194f19"
      },
      "source": [
        "# Plot for WS10M_MAX -> Maximum Wind Speed at 10 Meters (m/s) with respect to the target variable\n",
        "ax2 = df.plot.scatter(x='WS10M_MAX', y='score', colormap='viridis', s= 0.01)"
      ],
      "execution_count": null,
      "outputs": [
        {
          "output_type": "display_data",
          "data": {
            "image/png": "[encoded data removed]",
            "text/plain": [
              "<Figure size 432x288 with 1 Axes>"
            ]
          },
          "metadata": {
            "needs_background": "light"
          }
        }
      ]
    },
    {
      "cell_type": "code",
      "metadata": {
        "colab": {
          "base_uri": "https://localhost:8080/",
          "height": 356
        },
        "id": "129PcQ9y82W_",
        "outputId": "7e865073-2ecb-4e29-9947-0263727e2225"
      },
      "source": [
        "# Plot for WS10M_MIN -> Minimum Wind Speed at 10 Meters (m/s)\n",
        "df['WS10M_MIN'].hist(figsize=(5,5))\n",
        "plt.suptitle('Histograms shows distribution of Minimum Wind Speed at 10 Meters', fontsize=10);\n",
        "# plt.text(12.5, 0.8e7, 'WS10M_MIN', fontsize = 12)"
      ],
      "execution_count": null,
      "outputs": [
        {
          "output_type": "display_data",
          "data": {
            "image/png": "[encoded data removed]",
            "text/plain": [
              "<Figure size 360x360 with 1 Axes>"
            ]
          },
          "metadata": {
            "needs_background": "light"
          }
        }
      ]
    },
    {
      "cell_type": "code",
      "metadata": {
        "colab": {
          "base_uri": "https://localhost:8080/",
          "height": 455
        },
        "id": "FRRA0VHGcqlZ",
        "outputId": "6930eee6-9f4b-4ca1-b6a6-44e688f3e41b"
      },
      "source": [
        "df.groupby(['WS10M_MIN', 'score'])[['score']].count()"
      ],
      "execution_count": null,
      "outputs": [
        {
          "output_type": "execute_result",
          "data": {
            "text/html": [
              "<div>\n",
              "<style scoped>\n",
              "    .dataframe tbody tr th:only-of-type {\n",
              "        vertical-align: middle;\n",
              "    }\n",
              "\n",
              "    .dataframe tbody tr th {\n",
              "        vertical-align: top;\n",
              "    }\n",
              "\n",
              "    .dataframe thead th {\n",
              "        text-align: right;\n",
              "    }\n",
              "</style>\n",
              "<table border=\"1\" class=\"dataframe\">\n",
              "  <thead>\n",
              "    <tr style=\"text-align: right;\">\n",
              "      <th></th>\n",
              "      <th></th>\n",
              "      <th>score</th>\n",
              "    </tr>\n",
              "    <tr>\n",
              "      <th>WS10M_MIN</th>\n",
              "      <th>score</th>\n",
              "      <th></th>\n",
              "    </tr>\n",
              "  </thead>\n",
              "  <tbody>\n",
              "    <tr>\n",
              "      <th rowspan=\"3\" valign=\"top\">0.00</th>\n",
              "      <th>1.0</th>\n",
              "      <td>2</td>\n",
              "    </tr>\n",
              "    <tr>\n",
              "      <th>3.0</th>\n",
              "      <td>2</td>\n",
              "    </tr>\n",
              "    <tr>\n",
              "      <th>4.0</th>\n",
              "      <td>1</td>\n",
              "    </tr>\n",
              "    <tr>\n",
              "      <th rowspan=\"2\" valign=\"top\">0.01</th>\n",
              "      <th>0.0</th>\n",
              "      <td>2</td>\n",
              "    </tr>\n",
              "    <tr>\n",
              "      <th>1.0</th>\n",
              "      <td>2</td>\n",
              "    </tr>\n",
              "    <tr>\n",
              "      <th>...</th>\n",
              "      <th>...</th>\n",
              "      <td>...</td>\n",
              "    </tr>\n",
              "    <tr>\n",
              "      <th>9.56</th>\n",
              "      <th>2.0</th>\n",
              "      <td>1</td>\n",
              "    </tr>\n",
              "    <tr>\n",
              "      <th>9.67</th>\n",
              "      <th>4.0</th>\n",
              "      <td>1</td>\n",
              "    </tr>\n",
              "    <tr>\n",
              "      <th>9.75</th>\n",
              "      <th>3.0</th>\n",
              "      <td>1</td>\n",
              "    </tr>\n",
              "    <tr>\n",
              "      <th>10.00</th>\n",
              "      <th>2.0</th>\n",
              "      <td>2</td>\n",
              "    </tr>\n",
              "    <tr>\n",
              "      <th>10.06</th>\n",
              "      <th>3.0</th>\n",
              "      <td>1</td>\n",
              "    </tr>\n",
              "  </tbody>\n",
              "</table>\n",
              "<p>4139 rows × 1 columns</p>\n",
              "</div>"
            ],
            "text/plain": [
              "                 score\n",
              "WS10M_MIN score       \n",
              "0.00      1.0        2\n",
              "          3.0        2\n",
              "          4.0        1\n",
              "0.01      0.0        2\n",
              "          1.0        2\n",
              "...                ...\n",
              "9.56      2.0        1\n",
              "9.67      4.0        1\n",
              "9.75      3.0        1\n",
              "10.00     2.0        2\n",
              "10.06     3.0        1\n",
              "\n",
              "[4139 rows x 1 columns]"
            ]
          },
          "metadata": {},
          "execution_count": 189
        }
      ]
    },
    {
      "cell_type": "code",
      "metadata": {
        "colab": {
          "base_uri": "https://localhost:8080/",
          "height": 280
        },
        "id": "8LPkCYWSlfsi",
        "outputId": "d300c74f-89fa-403b-887b-779811ee680f"
      },
      "source": [
        "# Plot for WS10M_MIN -> Minimum Wind Speed at 10 Meters (m/s)  with respect to the target variable\n",
        "ax2 = df.plot.scatter(x='WS10M_MIN', y='score', colormap='viridis', s= 0.01)"
      ],
      "execution_count": null,
      "outputs": [
        {
          "output_type": "display_data",
          "data": {
            "image/png": "[encoded data removed]",
            "text/plain": [
              "<Figure size 432x288 with 1 Axes>"
            ]
          },
          "metadata": {
            "needs_background": "light"
          }
        }
      ]
    },
    {
      "cell_type": "code",
      "metadata": {
        "colab": {
          "base_uri": "https://localhost:8080/",
          "height": 356
        },
        "id": "k9dxGZV488bb",
        "outputId": "5c8463af-c496-49e7-ef90-dca972de3bee"
      },
      "source": [
        "# Plot for WS10M_RANGE -> Wind Speed Range at 10 Meters (m/s)\n",
        "df['WS10M_RANGE'].hist(figsize=(5,5))\n",
        "plt.suptitle('Histograms shows distribution of Wind Speed Range at 10 Meters ', fontsize=10);\n",
        "# plt.text(19, 0.8e7, 'WS10M_RANGE', fontsize = 12)"
      ],
      "execution_count": null,
      "outputs": [
        {
          "output_type": "display_data",
          "data": {
            "image/png": "[encoded data removed]",
            "text/plain": [
              "<Figure size 360x360 with 1 Axes>"
            ]
          },
          "metadata": {
            "needs_background": "light"
          }
        }
      ]
    },
    {
      "cell_type": "code",
      "metadata": {
        "colab": {
          "base_uri": "https://localhost:8080/",
          "height": 455
        },
        "id": "jbFT0GR_czUB",
        "outputId": "c6c5adc4-25de-4847-b24d-16086a9dec4b"
      },
      "source": [
        "df.groupby(['WS10M_RANGE', 'score'])[['WS10M_RANGE']].count()"
      ],
      "execution_count": null,
      "outputs": [
        {
          "output_type": "execute_result",
          "data": {
            "text/html": [
              "<div>\n",
              "<style scoped>\n",
              "    .dataframe tbody tr th:only-of-type {\n",
              "        vertical-align: middle;\n",
              "    }\n",
              "\n",
              "    .dataframe tbody tr th {\n",
              "        vertical-align: top;\n",
              "    }\n",
              "\n",
              "    .dataframe thead th {\n",
              "        text-align: right;\n",
              "    }\n",
              "</style>\n",
              "<table border=\"1\" class=\"dataframe\">\n",
              "  <thead>\n",
              "    <tr style=\"text-align: right;\">\n",
              "      <th></th>\n",
              "      <th></th>\n",
              "      <th>WS10M_RANGE</th>\n",
              "    </tr>\n",
              "    <tr>\n",
              "      <th>WS10M_RANGE</th>\n",
              "      <th>score</th>\n",
              "      <th></th>\n",
              "    </tr>\n",
              "  </thead>\n",
              "  <tbody>\n",
              "    <tr>\n",
              "      <th rowspan=\"2\" valign=\"top\">0.34</th>\n",
              "      <th>1.0</th>\n",
              "      <td>1</td>\n",
              "    </tr>\n",
              "    <tr>\n",
              "      <th>2.0</th>\n",
              "      <td>1</td>\n",
              "    </tr>\n",
              "    <tr>\n",
              "      <th>0.38</th>\n",
              "      <th>0.0</th>\n",
              "      <td>1</td>\n",
              "    </tr>\n",
              "    <tr>\n",
              "      <th>0.39</th>\n",
              "      <th>1.0</th>\n",
              "      <td>2</td>\n",
              "    </tr>\n",
              "    <tr>\n",
              "      <th>0.43</th>\n",
              "      <th>0.0</th>\n",
              "      <td>1</td>\n",
              "    </tr>\n",
              "    <tr>\n",
              "      <th>...</th>\n",
              "      <th>...</th>\n",
              "      <td>...</td>\n",
              "    </tr>\n",
              "    <tr>\n",
              "      <th>11.68</th>\n",
              "      <th>3.0</th>\n",
              "      <td>1</td>\n",
              "    </tr>\n",
              "    <tr>\n",
              "      <th>12.03</th>\n",
              "      <th>0.0</th>\n",
              "      <td>1</td>\n",
              "    </tr>\n",
              "    <tr>\n",
              "      <th>12.06</th>\n",
              "      <th>0.0</th>\n",
              "      <td>1</td>\n",
              "    </tr>\n",
              "    <tr>\n",
              "      <th>12.38</th>\n",
              "      <th>0.0</th>\n",
              "      <td>1</td>\n",
              "    </tr>\n",
              "    <tr>\n",
              "      <th>13.03</th>\n",
              "      <th>4.0</th>\n",
              "      <td>1</td>\n",
              "    </tr>\n",
              "  </tbody>\n",
              "</table>\n",
              "<p>4487 rows × 1 columns</p>\n",
              "</div>"
            ],
            "text/plain": [
              "                   WS10M_RANGE\n",
              "WS10M_RANGE score             \n",
              "0.34        1.0              1\n",
              "            2.0              1\n",
              "0.38        0.0              1\n",
              "0.39        1.0              2\n",
              "0.43        0.0              1\n",
              "...                        ...\n",
              "11.68       3.0              1\n",
              "12.03       0.0              1\n",
              "12.06       0.0              1\n",
              "12.38       0.0              1\n",
              "13.03       4.0              1\n",
              "\n",
              "[4487 rows x 1 columns]"
            ]
          },
          "metadata": {},
          "execution_count": 192
        }
      ]
    },
    {
      "cell_type": "code",
      "metadata": {
        "colab": {
          "base_uri": "https://localhost:8080/",
          "height": 280
        },
        "id": "UX0rHNnXln_n",
        "outputId": "41848ad4-6257-4f23-cf29-d695e000849f"
      },
      "source": [
        "## Plot for WS10M_RANGE -> Wind Speed Range at 10 Meters (m/s) with respect to the target variable\n",
        "ax2 = df.plot.scatter(x='WS10M_RANGE', y='score', colormap='viridis', s= 0.01 )"
      ],
      "execution_count": null,
      "outputs": [
        {
          "output_type": "display_data",
          "data": {
            "image/png": "[encoded data removed]",
            "text/plain": [
              "<Figure size 432x288 with 1 Axes>"
            ]
          },
          "metadata": {
            "needs_background": "light"
          }
        }
      ]
    },
    {
      "cell_type": "code",
      "metadata": {
        "colab": {
          "base_uri": "https://localhost:8080/",
          "height": 356
        },
        "id": "d4rlFPfc9ARs",
        "outputId": "8dbb21a9-1db8-479d-f160-eedad9f38dfc"
      },
      "source": [
        "# Plot for WS50M -> Wind Speed at 50 Meters (m/s)\n",
        "df['WS50M'].hist(figsize=(5,5))\n",
        "plt.suptitle('Histograms shows distribution of Wind Speed at 50 Meters', fontsize=10);\n",
        "# plt.text(23, 0.8e7, 'WS50M', fontsize = 12)"
      ],
      "execution_count": null,
      "outputs": [
        {
          "output_type": "display_data",
          "data": {
            "image/png": "[encoded data removed]",
            "text/plain": [
              "<Figure size 360x360 with 1 Axes>"
            ]
          },
          "metadata": {
            "needs_background": "light"
          }
        }
      ]
    },
    {
      "cell_type": "code",
      "metadata": {
        "colab": {
          "base_uri": "https://localhost:8080/",
          "height": 455
        },
        "id": "Kb3kHqP9dSKX",
        "outputId": "eda1b5b7-9b9b-4042-e743-78fed31d825d"
      },
      "source": [
        "df.groupby(['WS50M', 'score'])[['score']].count()"
      ],
      "execution_count": null,
      "outputs": [
        {
          "output_type": "execute_result",
          "data": {
            "text/html": [
              "<div>\n",
              "<style scoped>\n",
              "    .dataframe tbody tr th:only-of-type {\n",
              "        vertical-align: middle;\n",
              "    }\n",
              "\n",
              "    .dataframe tbody tr th {\n",
              "        vertical-align: top;\n",
              "    }\n",
              "\n",
              "    .dataframe thead th {\n",
              "        text-align: right;\n",
              "    }\n",
              "</style>\n",
              "<table border=\"1\" class=\"dataframe\">\n",
              "  <thead>\n",
              "    <tr style=\"text-align: right;\">\n",
              "      <th></th>\n",
              "      <th></th>\n",
              "      <th>score</th>\n",
              "    </tr>\n",
              "    <tr>\n",
              "      <th>WS50M</th>\n",
              "      <th>score</th>\n",
              "      <th></th>\n",
              "    </tr>\n",
              "  </thead>\n",
              "  <tbody>\n",
              "    <tr>\n",
              "      <th rowspan=\"2\" valign=\"top\">0.69</th>\n",
              "      <th>0.0</th>\n",
              "      <td>1</td>\n",
              "    </tr>\n",
              "    <tr>\n",
              "      <th>2.0</th>\n",
              "      <td>2</td>\n",
              "    </tr>\n",
              "    <tr>\n",
              "      <th>0.76</th>\n",
              "      <th>1.0</th>\n",
              "      <td>2</td>\n",
              "    </tr>\n",
              "    <tr>\n",
              "      <th>0.78</th>\n",
              "      <th>0.0</th>\n",
              "      <td>2</td>\n",
              "    </tr>\n",
              "    <tr>\n",
              "      <th>0.79</th>\n",
              "      <th>0.0</th>\n",
              "      <td>1</td>\n",
              "    </tr>\n",
              "    <tr>\n",
              "      <th>...</th>\n",
              "      <th>...</th>\n",
              "      <td>...</td>\n",
              "    </tr>\n",
              "    <tr>\n",
              "      <th>15.22</th>\n",
              "      <th>2.0</th>\n",
              "      <td>2</td>\n",
              "    </tr>\n",
              "    <tr>\n",
              "      <th>15.27</th>\n",
              "      <th>2.0</th>\n",
              "      <td>1</td>\n",
              "    </tr>\n",
              "    <tr>\n",
              "      <th>15.33</th>\n",
              "      <th>3.0</th>\n",
              "      <td>1</td>\n",
              "    </tr>\n",
              "    <tr>\n",
              "      <th>15.63</th>\n",
              "      <th>2.0</th>\n",
              "      <td>1</td>\n",
              "    </tr>\n",
              "    <tr>\n",
              "      <th>15.73</th>\n",
              "      <th>3.0</th>\n",
              "      <td>1</td>\n",
              "    </tr>\n",
              "  </tbody>\n",
              "</table>\n",
              "<p>5969 rows × 1 columns</p>\n",
              "</div>"
            ],
            "text/plain": [
              "             score\n",
              "WS50M score       \n",
              "0.69  0.0        1\n",
              "      2.0        2\n",
              "0.76  1.0        2\n",
              "0.78  0.0        2\n",
              "0.79  0.0        1\n",
              "...            ...\n",
              "15.22 2.0        2\n",
              "15.27 2.0        1\n",
              "15.33 3.0        1\n",
              "15.63 2.0        1\n",
              "15.73 3.0        1\n",
              "\n",
              "[5969 rows x 1 columns]"
            ]
          },
          "metadata": {},
          "execution_count": 195
        }
      ]
    },
    {
      "cell_type": "code",
      "metadata": {
        "colab": {
          "base_uri": "https://localhost:8080/",
          "height": 279
        },
        "id": "vKT5STThlvgQ",
        "outputId": "9b24b225-42b6-43e9-a07b-f8cc8e7cc748"
      },
      "source": [
        "# Plot for WS50M -> Wind Speed at 50 Meters (m/s) with respect to the target variable\n",
        "ax2 = df.plot.scatter(x='WS50M', y='score', colormap='viridis', s= 0.01)"
      ],
      "execution_count": null,
      "outputs": [
        {
          "output_type": "display_data",
          "data": {
            "image/png": "[encoded data removed]",
            "text/plain": [
              "<Figure size 432x288 with 1 Axes>"
            ]
          },
          "metadata": {
            "needs_background": "light"
          }
        }
      ]
    },
    {
      "cell_type": "code",
      "metadata": {
        "colab": {
          "base_uri": "https://localhost:8080/",
          "height": 356
        },
        "id": "FIEwJer89Hgz",
        "outputId": "1aedcc33-e0c6-44b0-aac7-d3234be67f3b"
      },
      "source": [
        "# Plot for WS50M_MAX -> Maximum Wind Speed at 50 Meters (m/s)\n",
        "df['WS50M_MAX'].hist(figsize=(5,5))\n",
        "plt.suptitle('Histograms shows distribution of Maximum Wind Speed at 50 Meters', fontsize=10);\n",
        "# plt.text(30, 1.0e7, 'WS50M_MAX', fontsize = 12)"
      ],
      "execution_count": null,
      "outputs": [
        {
          "output_type": "display_data",
          "data": {
            "image/png": "[encoded data removed]",
            "text/plain": [
              "<Figure size 360x360 with 1 Axes>"
            ]
          },
          "metadata": {
            "needs_background": "light"
          }
        }
      ]
    },
    {
      "cell_type": "code",
      "metadata": {
        "colab": {
          "base_uri": "https://localhost:8080/",
          "height": 455
        },
        "id": "fo60xtwZl6ZC",
        "outputId": "168dc564-dde8-4543-af4d-67c0fea83407"
      },
      "source": [
        "df.groupby(['WS50M_MAX', 'score'])[['score']].count()"
      ],
      "execution_count": null,
      "outputs": [
        {
          "output_type": "execute_result",
          "data": {
            "text/html": [
              "<div>\n",
              "<style scoped>\n",
              "    .dataframe tbody tr th:only-of-type {\n",
              "        vertical-align: middle;\n",
              "    }\n",
              "\n",
              "    .dataframe tbody tr th {\n",
              "        vertical-align: top;\n",
              "    }\n",
              "\n",
              "    .dataframe thead th {\n",
              "        text-align: right;\n",
              "    }\n",
              "</style>\n",
              "<table border=\"1\" class=\"dataframe\">\n",
              "  <thead>\n",
              "    <tr style=\"text-align: right;\">\n",
              "      <th></th>\n",
              "      <th></th>\n",
              "      <th>score</th>\n",
              "    </tr>\n",
              "    <tr>\n",
              "      <th>WS50M_MAX</th>\n",
              "      <th>score</th>\n",
              "      <th></th>\n",
              "    </tr>\n",
              "  </thead>\n",
              "  <tbody>\n",
              "    <tr>\n",
              "      <th rowspan=\"2\" valign=\"top\">1.36</th>\n",
              "      <th>0.0</th>\n",
              "      <td>1</td>\n",
              "    </tr>\n",
              "    <tr>\n",
              "      <th>1.0</th>\n",
              "      <td>2</td>\n",
              "    </tr>\n",
              "    <tr>\n",
              "      <th>1.38</th>\n",
              "      <th>0.0</th>\n",
              "      <td>1</td>\n",
              "    </tr>\n",
              "    <tr>\n",
              "      <th>1.39</th>\n",
              "      <th>2.0</th>\n",
              "      <td>2</td>\n",
              "    </tr>\n",
              "    <tr>\n",
              "      <th>1.44</th>\n",
              "      <th>2.0</th>\n",
              "      <td>1</td>\n",
              "    </tr>\n",
              "    <tr>\n",
              "      <th>...</th>\n",
              "      <th>...</th>\n",
              "      <td>...</td>\n",
              "    </tr>\n",
              "    <tr>\n",
              "      <th>18.57</th>\n",
              "      <th>3.0</th>\n",
              "      <td>1</td>\n",
              "    </tr>\n",
              "    <tr>\n",
              "      <th>18.62</th>\n",
              "      <th>2.0</th>\n",
              "      <td>1</td>\n",
              "    </tr>\n",
              "    <tr>\n",
              "      <th>18.77</th>\n",
              "      <th>2.0</th>\n",
              "      <td>2</td>\n",
              "    </tr>\n",
              "    <tr>\n",
              "      <th>19.16</th>\n",
              "      <th>2.0</th>\n",
              "      <td>1</td>\n",
              "    </tr>\n",
              "    <tr>\n",
              "      <th>19.18</th>\n",
              "      <th>2.0</th>\n",
              "      <td>2</td>\n",
              "    </tr>\n",
              "  </tbody>\n",
              "</table>\n",
              "<p>6719 rows × 1 columns</p>\n",
              "</div>"
            ],
            "text/plain": [
              "                 score\n",
              "WS50M_MAX score       \n",
              "1.36      0.0        1\n",
              "          1.0        2\n",
              "1.38      0.0        1\n",
              "1.39      2.0        2\n",
              "1.44      2.0        1\n",
              "...                ...\n",
              "18.57     3.0        1\n",
              "18.62     2.0        1\n",
              "18.77     2.0        2\n",
              "19.16     2.0        1\n",
              "19.18     2.0        2\n",
              "\n",
              "[6719 rows x 1 columns]"
            ]
          },
          "metadata": {},
          "execution_count": 198
        }
      ]
    },
    {
      "cell_type": "code",
      "metadata": {
        "colab": {
          "base_uri": "https://localhost:8080/",
          "height": 280
        },
        "id": "Oi1BtqqzmAe5",
        "outputId": "374141a2-68d3-4bad-f58a-3b2c95e091e5"
      },
      "source": [
        "# Plot for WS50M_MAX -> Maximum Wind Speed at 50 Meters (m/s) with respect to target variable\n",
        "ax2 = df.plot.scatter(x='WS50M_MAX', y='score', colormap='viridis', s= 0.01)"
      ],
      "execution_count": null,
      "outputs": [
        {
          "output_type": "display_data",
          "data": {
            "image/png": "[encoded data removed]",
            "text/plain": [
              "<Figure size 432x288 with 1 Axes>"
            ]
          },
          "metadata": {
            "needs_background": "light"
          }
        }
      ]
    },
    {
      "cell_type": "code",
      "metadata": {
        "colab": {
          "base_uri": "https://localhost:8080/",
          "height": 356
        },
        "id": "9LNjGlq39n2I",
        "outputId": "9d828c8a-6226-4e50-b73c-3a5961406cc0"
      },
      "source": [
        "# Plot for WS50M_MIN -> Minimum Wind Speed at 50 Meters (m/s)\n",
        "df['WS50M_MIN'].hist(figsize=(5,5))\n",
        "plt.suptitle('Histograms shows distribution of Minimum Wind Speed at 50 Meters', fontsize=10);\n",
        "# plt.text(15, 6e6, 'WS50M_MIN', fontsize = 12)"
      ],
      "execution_count": null,
      "outputs": [
        {
          "output_type": "display_data",
          "data": {
            "image/png": "[encoded data removed]",
            "text/plain": [
              "<Figure size 360x360 with 1 Axes>"
            ]
          },
          "metadata": {
            "needs_background": "light"
          }
        }
      ]
    },
    {
      "cell_type": "code",
      "metadata": {
        "colab": {
          "base_uri": "https://localhost:8080/",
          "height": 455
        },
        "id": "L8Xzlh4ymomo",
        "outputId": "f8c1be04-1597-406f-fe92-caa62f891a64"
      },
      "source": [
        "df.groupby(['WS50M_MIN', 'score'])[['score']].count()"
      ],
      "execution_count": null,
      "outputs": [
        {
          "output_type": "execute_result",
          "data": {
            "text/html": [
              "<div>\n",
              "<style scoped>\n",
              "    .dataframe tbody tr th:only-of-type {\n",
              "        vertical-align: middle;\n",
              "    }\n",
              "\n",
              "    .dataframe tbody tr th {\n",
              "        vertical-align: top;\n",
              "    }\n",
              "\n",
              "    .dataframe thead th {\n",
              "        text-align: right;\n",
              "    }\n",
              "</style>\n",
              "<table border=\"1\" class=\"dataframe\">\n",
              "  <thead>\n",
              "    <tr style=\"text-align: right;\">\n",
              "      <th></th>\n",
              "      <th></th>\n",
              "      <th>score</th>\n",
              "    </tr>\n",
              "    <tr>\n",
              "      <th>WS50M_MIN</th>\n",
              "      <th>score</th>\n",
              "      <th></th>\n",
              "    </tr>\n",
              "  </thead>\n",
              "  <tbody>\n",
              "    <tr>\n",
              "      <th rowspan=\"2\" valign=\"top\">0.00</th>\n",
              "      <th>0.0</th>\n",
              "      <td>4</td>\n",
              "    </tr>\n",
              "    <tr>\n",
              "      <th>3.0</th>\n",
              "      <td>1</td>\n",
              "    </tr>\n",
              "    <tr>\n",
              "      <th rowspan=\"3\" valign=\"top\">0.01</th>\n",
              "      <th>0.0</th>\n",
              "      <td>10</td>\n",
              "    </tr>\n",
              "    <tr>\n",
              "      <th>2.0</th>\n",
              "      <td>3</td>\n",
              "    </tr>\n",
              "    <tr>\n",
              "      <th>3.0</th>\n",
              "      <td>2</td>\n",
              "    </tr>\n",
              "    <tr>\n",
              "      <th>...</th>\n",
              "      <th>...</th>\n",
              "      <td>...</td>\n",
              "    </tr>\n",
              "    <tr>\n",
              "      <th rowspan=\"2\" valign=\"top\">12.94</th>\n",
              "      <th>2.0</th>\n",
              "      <td>1</td>\n",
              "    </tr>\n",
              "    <tr>\n",
              "      <th>3.0</th>\n",
              "      <td>2</td>\n",
              "    </tr>\n",
              "    <tr>\n",
              "      <th>12.96</th>\n",
              "      <th>2.0</th>\n",
              "      <td>1</td>\n",
              "    </tr>\n",
              "    <tr>\n",
              "      <th>13.25</th>\n",
              "      <th>1.0</th>\n",
              "      <td>1</td>\n",
              "    </tr>\n",
              "    <tr>\n",
              "      <th>13.33</th>\n",
              "      <th>3.0</th>\n",
              "      <td>1</td>\n",
              "    </tr>\n",
              "  </tbody>\n",
              "</table>\n",
              "<p>5529 rows × 1 columns</p>\n",
              "</div>"
            ],
            "text/plain": [
              "                 score\n",
              "WS50M_MIN score       \n",
              "0.00      0.0        4\n",
              "          3.0        1\n",
              "0.01      0.0       10\n",
              "          2.0        3\n",
              "          3.0        2\n",
              "...                ...\n",
              "12.94     2.0        1\n",
              "          3.0        2\n",
              "12.96     2.0        1\n",
              "13.25     1.0        1\n",
              "13.33     3.0        1\n",
              "\n",
              "[5529 rows x 1 columns]"
            ]
          },
          "metadata": {},
          "execution_count": 201
        }
      ]
    },
    {
      "cell_type": "code",
      "metadata": {
        "colab": {
          "base_uri": "https://localhost:8080/",
          "height": 280
        },
        "id": "DQ3in1Slmvuv",
        "outputId": "ce782b20-3f02-412c-ab0a-571e6fb91349"
      },
      "source": [
        "# Plot for WS50M_MIN -> Minimum Wind Speed at 50 Meters (m/s) with respect to the target variable\n",
        "ax2 = df.plot.scatter(x='WS50M_MIN', y='score', colormap='viridis', s= 0.01)"
      ],
      "execution_count": null,
      "outputs": [
        {
          "output_type": "display_data",
          "data": {
            "image/png": "[encoded data removed]",
            "text/plain": [
              "<Figure size 432x288 with 1 Axes>"
            ]
          },
          "metadata": {
            "needs_background": "light"
          }
        }
      ]
    },
    {
      "cell_type": "code",
      "metadata": {
        "colab": {
          "base_uri": "https://localhost:8080/",
          "height": 356
        },
        "id": "EIDkOzD09-tO",
        "outputId": "42dbfc73-e084-429d-92d9-4beec371fb46"
      },
      "source": [
        "# Plot for WS50M_RANGE -> Wind Speed Range at 50 Meters (m/s)\n",
        "df['WS50M_RANGE'].hist(figsize=(5,5))\n",
        "plt.suptitle('Histograms shows distribution of Wind Speed Range at 50 Meters', fontsize=10);\n",
        "# plt.text(20, 0.8e7, 'WS50M_RANGE', fontsize = 12)"
      ],
      "execution_count": null,
      "outputs": [
        {
          "output_type": "display_data",
          "data": {
            "image/png": "[encoded data removed]",
            "text/plain": [
              "<Figure size 360x360 with 1 Axes>"
            ]
          },
          "metadata": {
            "needs_background": "light"
          }
        }
      ]
    },
    {
      "cell_type": "code",
      "metadata": {
        "colab": {
          "base_uri": "https://localhost:8080/",
          "height": 455
        },
        "id": "yYaml-wRm1De",
        "outputId": "8c574238-bae9-4dca-962e-c4efa35332af"
      },
      "source": [
        "df.groupby(['WS50M_RANGE', 'score'])[['score']].count()"
      ],
      "execution_count": null,
      "outputs": [
        {
          "output_type": "execute_result",
          "data": {
            "text/html": [
              "<div>\n",
              "<style scoped>\n",
              "    .dataframe tbody tr th:only-of-type {\n",
              "        vertical-align: middle;\n",
              "    }\n",
              "\n",
              "    .dataframe tbody tr th {\n",
              "        vertical-align: top;\n",
              "    }\n",
              "\n",
              "    .dataframe thead th {\n",
              "        text-align: right;\n",
              "    }\n",
              "</style>\n",
              "<table border=\"1\" class=\"dataframe\">\n",
              "  <thead>\n",
              "    <tr style=\"text-align: right;\">\n",
              "      <th></th>\n",
              "      <th></th>\n",
              "      <th>score</th>\n",
              "    </tr>\n",
              "    <tr>\n",
              "      <th>WS50M_RANGE</th>\n",
              "      <th>score</th>\n",
              "      <th></th>\n",
              "    </tr>\n",
              "  </thead>\n",
              "  <tbody>\n",
              "    <tr>\n",
              "      <th>0.58</th>\n",
              "      <th>1.0</th>\n",
              "      <td>1</td>\n",
              "    </tr>\n",
              "    <tr>\n",
              "      <th>0.71</th>\n",
              "      <th>1.0</th>\n",
              "      <td>1</td>\n",
              "    </tr>\n",
              "    <tr>\n",
              "      <th>0.86</th>\n",
              "      <th>4.0</th>\n",
              "      <td>2</td>\n",
              "    </tr>\n",
              "    <tr>\n",
              "      <th rowspan=\"2\" valign=\"top\">0.88</th>\n",
              "      <th>2.0</th>\n",
              "      <td>1</td>\n",
              "    </tr>\n",
              "    <tr>\n",
              "      <th>3.0</th>\n",
              "      <td>2</td>\n",
              "    </tr>\n",
              "    <tr>\n",
              "      <th>...</th>\n",
              "      <th>...</th>\n",
              "      <td>...</td>\n",
              "    </tr>\n",
              "    <tr>\n",
              "      <th>15.63</th>\n",
              "      <th>3.0</th>\n",
              "      <td>1</td>\n",
              "    </tr>\n",
              "    <tr>\n",
              "      <th rowspan=\"2\" valign=\"top\">15.78</th>\n",
              "      <th>0.0</th>\n",
              "      <td>1</td>\n",
              "    </tr>\n",
              "    <tr>\n",
              "      <th>4.0</th>\n",
              "      <td>1</td>\n",
              "    </tr>\n",
              "    <tr>\n",
              "      <th>16.57</th>\n",
              "      <th>0.0</th>\n",
              "      <td>1</td>\n",
              "    </tr>\n",
              "    <tr>\n",
              "      <th>18.09</th>\n",
              "      <th>4.0</th>\n",
              "      <td>1</td>\n",
              "    </tr>\n",
              "  </tbody>\n",
              "</table>\n",
              "<p>5455 rows × 1 columns</p>\n",
              "</div>"
            ],
            "text/plain": [
              "                   score\n",
              "WS50M_RANGE score       \n",
              "0.58        1.0        1\n",
              "0.71        1.0        1\n",
              "0.86        4.0        2\n",
              "0.88        2.0        1\n",
              "            3.0        2\n",
              "...                  ...\n",
              "15.63       3.0        1\n",
              "15.78       0.0        1\n",
              "            4.0        1\n",
              "16.57       0.0        1\n",
              "18.09       4.0        1\n",
              "\n",
              "[5455 rows x 1 columns]"
            ]
          },
          "metadata": {},
          "execution_count": 204
        }
      ]
    },
    {
      "cell_type": "code",
      "metadata": {
        "colab": {
          "base_uri": "https://localhost:8080/",
          "height": 280
        },
        "id": "yQ9WjFJQm_US",
        "outputId": "b477be2a-1961-4790-ebce-6b5a278952b9"
      },
      "source": [
        "# Plot for WS50M_RANGE -> Wind Speed Range at 50 Meters (m/s) with respect to the target variable\n",
        "ax2 = df.plot.scatter(x='WS50M_RANGE', y='score', colormap='viridis', s= 0.01)"
      ],
      "execution_count": null,
      "outputs": [
        {
          "output_type": "display_data",
          "data": {
            "image/png": "[encoded data removed]",
            "text/plain": [
              "<Figure size 432x288 with 1 Axes>"
            ]
          },
          "metadata": {
            "needs_background": "light"
          }
        }
      ]
    },
    {
      "cell_type": "code",
      "metadata": {
        "colab": {
          "base_uri": "https://localhost:8080/",
          "height": 356
        },
        "id": "PTpXZcLS-Jfz",
        "outputId": "ce388dac-48ed-4cce-8e17-0d6d20f34f1a"
      },
      "source": [
        "# Plot for score -> Score assigned for drought\n",
        "df['score'].hist(figsize=(5,5))\n",
        "plt.suptitle('Histograms shows distribution of Score assigned for drought', fontsize=10);\n",
        "# plt.text(4.2, 1.4e6, 'score', fontsize = 12)"
      ],
      "execution_count": null,
      "outputs": [
        {
          "output_type": "display_data",
          "data": {
            "image/png": "[encoded data removed]",
            "text/plain": [
              "<Figure size 360x360 with 1 Axes>"
            ]
          },
          "metadata": {
            "needs_background": "light"
          }
        }
      ]
    },
    {
      "cell_type": "code",
      "metadata": {
        "id": "Ym8d5KysdQ4G",
        "colab": {
          "base_uri": "https://localhost:8080/"
        },
        "outputId": "e0c05d9b-6c74-4e7b-9160-37a143fbf03c"
      },
      "source": [
        "df['date']= pd.to_datetime(df['date'])\n",
        "df.info()"
      ],
      "execution_count": null,
      "outputs": [
        {
          "output_type": "stream",
          "name": "stdout",
          "text": [
            "<class 'pandas.core.frame.DataFrame'>\n",
            "Int64Index: 77877 entries, 185 to 1297232\n",
            "Data columns (total 21 columns):\n",
            " #   Column       Non-Null Count  Dtype         \n",
            "---  ------       --------------  -----         \n",
            " 0   fips         77877 non-null  int64         \n",
            " 1   date         77877 non-null  datetime64[ns]\n",
            " 2   PRECTOT      77877 non-null  float64       \n",
            " 3   PS           77877 non-null  float64       \n",
            " 4   QV2M         77877 non-null  float64       \n",
            " 5   T2M          77877 non-null  float64       \n",
            " 6   T2MDEW       77877 non-null  float64       \n",
            " 7   T2MWET       77877 non-null  float64       \n",
            " 8   T2M_MAX      77877 non-null  float64       \n",
            " 9   T2M_MIN      77877 non-null  float64       \n",
            " 10  T2M_RANGE    77877 non-null  float64       \n",
            " 11  TS           77877 non-null  float64       \n",
            " 12  WS10M        77877 non-null  float64       \n",
            " 13  WS10M_MAX    77877 non-null  float64       \n",
            " 14  WS10M_MIN    77877 non-null  float64       \n",
            " 15  WS10M_RANGE  77877 non-null  float64       \n",
            " 16  WS50M        77877 non-null  float64       \n",
            " 17  WS50M_MAX    77877 non-null  float64       \n",
            " 18  WS50M_MIN    77877 non-null  float64       \n",
            " 19  WS50M_RANGE  77877 non-null  float64       \n",
            " 20  score        77877 non-null  float64       \n",
            "dtypes: datetime64[ns](1), float64(19), int64(1)\n",
            "memory usage: 13.1 MB\n"
          ]
        }
      ]
    },
    {
      "cell_type": "code",
      "metadata": {
        "id": "QBRD54GgeFhP",
        "colab": {
          "base_uri": "https://localhost:8080/",
          "height": 652
        },
        "outputId": "81e31b82-bb60-45cb-d527-2ad18ead078d"
      },
      "source": [
        "df['date']\n",
        "df['year'] = df['date'].dt.year\n",
        "df['month'] = df['date'].dt.month\n",
        "df['week'] = df['date'].dt.week\n",
        "df['day'] = df['date'].dt.day\n",
        "df\n"
      ],
      "execution_count": null,
      "outputs": [
        {
          "output_type": "stream",
          "name": "stderr",
          "text": [
            "/usr/local/lib/python3.7/dist-packages/ipykernel_launcher.py:4: FutureWarning: Series.dt.weekofyear and Series.dt.week have been deprecated.  Please use Series.dt.isocalendar().week instead.\n",
            "  after removing the cwd from sys.path.\n"
          ]
        },
        {
          "output_type": "execute_result",
          "data": {
            "text/html": [
              "<div>\n",
              "<style scoped>\n",
              "    .dataframe tbody tr th:only-of-type {\n",
              "        vertical-align: middle;\n",
              "    }\n",
              "\n",
              "    .dataframe tbody tr th {\n",
              "        vertical-align: top;\n",
              "    }\n",
              "\n",
              "    .dataframe thead th {\n",
              "        text-align: right;\n",
              "    }\n",
              "</style>\n",
              "<table border=\"1\" class=\"dataframe\">\n",
              "  <thead>\n",
              "    <tr style=\"text-align: right;\">\n",
              "      <th></th>\n",
              "      <th>fips</th>\n",
              "      <th>date</th>\n",
              "      <th>PRECTOT</th>\n",
              "      <th>PS</th>\n",
              "      <th>QV2M</th>\n",
              "      <th>T2M</th>\n",
              "      <th>T2MDEW</th>\n",
              "      <th>T2MWET</th>\n",
              "      <th>T2M_MAX</th>\n",
              "      <th>T2M_MIN</th>\n",
              "      <th>T2M_RANGE</th>\n",
              "      <th>TS</th>\n",
              "      <th>WS10M</th>\n",
              "      <th>WS10M_MAX</th>\n",
              "      <th>WS10M_MIN</th>\n",
              "      <th>WS10M_RANGE</th>\n",
              "      <th>WS50M</th>\n",
              "      <th>WS50M_MAX</th>\n",
              "      <th>WS50M_MIN</th>\n",
              "      <th>WS50M_RANGE</th>\n",
              "      <th>score</th>\n",
              "      <th>year</th>\n",
              "      <th>month</th>\n",
              "      <th>week</th>\n",
              "      <th>day</th>\n",
              "    </tr>\n",
              "  </thead>\n",
              "  <tbody>\n",
              "    <tr>\n",
              "      <th>185</th>\n",
              "      <td>1001</td>\n",
              "      <td>2000-07-04</td>\n",
              "      <td>0.03</td>\n",
              "      <td>100.31</td>\n",
              "      <td>12.93</td>\n",
              "      <td>29.71</td>\n",
              "      <td>17.93</td>\n",
              "      <td>17.93</td>\n",
              "      <td>37.55</td>\n",
              "      <td>22.42</td>\n",
              "      <td>15.14</td>\n",
              "      <td>30.07</td>\n",
              "      <td>1.57</td>\n",
              "      <td>2.40</td>\n",
              "      <td>1.10</td>\n",
              "      <td>1.30</td>\n",
              "      <td>2.96</td>\n",
              "      <td>4.96</td>\n",
              "      <td>1.59</td>\n",
              "      <td>3.36</td>\n",
              "      <td>3.0</td>\n",
              "      <td>2000</td>\n",
              "      <td>7</td>\n",
              "      <td>27</td>\n",
              "      <td>4</td>\n",
              "    </tr>\n",
              "    <tr>\n",
              "      <th>192</th>\n",
              "      <td>1001</td>\n",
              "      <td>2000-07-11</td>\n",
              "      <td>0.30</td>\n",
              "      <td>99.99</td>\n",
              "      <td>15.87</td>\n",
              "      <td>31.10</td>\n",
              "      <td>21.19</td>\n",
              "      <td>21.18</td>\n",
              "      <td>37.89</td>\n",
              "      <td>24.80</td>\n",
              "      <td>13.09</td>\n",
              "      <td>31.47</td>\n",
              "      <td>1.98</td>\n",
              "      <td>2.86</td>\n",
              "      <td>1.01</td>\n",
              "      <td>1.85</td>\n",
              "      <td>3.77</td>\n",
              "      <td>4.96</td>\n",
              "      <td>1.64</td>\n",
              "      <td>3.32</td>\n",
              "      <td>3.0</td>\n",
              "      <td>2000</td>\n",
              "      <td>7</td>\n",
              "      <td>28</td>\n",
              "      <td>11</td>\n",
              "    </tr>\n",
              "    <tr>\n",
              "      <th>199</th>\n",
              "      <td>1001</td>\n",
              "      <td>2000-07-18</td>\n",
              "      <td>0.00</td>\n",
              "      <td>100.14</td>\n",
              "      <td>10.51</td>\n",
              "      <td>30.31</td>\n",
              "      <td>14.53</td>\n",
              "      <td>14.53</td>\n",
              "      <td>38.94</td>\n",
              "      <td>20.00</td>\n",
              "      <td>18.94</td>\n",
              "      <td>30.58</td>\n",
              "      <td>2.06</td>\n",
              "      <td>3.14</td>\n",
              "      <td>1.15</td>\n",
              "      <td>1.99</td>\n",
              "      <td>3.82</td>\n",
              "      <td>5.32</td>\n",
              "      <td>1.49</td>\n",
              "      <td>3.82</td>\n",
              "      <td>4.0</td>\n",
              "      <td>2000</td>\n",
              "      <td>7</td>\n",
              "      <td>29</td>\n",
              "      <td>18</td>\n",
              "    </tr>\n",
              "    <tr>\n",
              "      <th>241</th>\n",
              "      <td>1001</td>\n",
              "      <td>2000-08-29</td>\n",
              "      <td>0.01</td>\n",
              "      <td>99.82</td>\n",
              "      <td>13.64</td>\n",
              "      <td>31.07</td>\n",
              "      <td>18.78</td>\n",
              "      <td>18.78</td>\n",
              "      <td>39.23</td>\n",
              "      <td>24.55</td>\n",
              "      <td>14.69</td>\n",
              "      <td>31.48</td>\n",
              "      <td>2.35</td>\n",
              "      <td>3.15</td>\n",
              "      <td>1.70</td>\n",
              "      <td>1.46</td>\n",
              "      <td>4.77</td>\n",
              "      <td>6.11</td>\n",
              "      <td>2.82</td>\n",
              "      <td>3.29</td>\n",
              "      <td>5.0</td>\n",
              "      <td>2000</td>\n",
              "      <td>8</td>\n",
              "      <td>35</td>\n",
              "      <td>29</td>\n",
              "    </tr>\n",
              "    <tr>\n",
              "      <th>2376</th>\n",
              "      <td>1001</td>\n",
              "      <td>2006-07-04</td>\n",
              "      <td>1.80</td>\n",
              "      <td>100.25</td>\n",
              "      <td>14.41</td>\n",
              "      <td>30.29</td>\n",
              "      <td>19.66</td>\n",
              "      <td>19.66</td>\n",
              "      <td>36.67</td>\n",
              "      <td>22.74</td>\n",
              "      <td>13.94</td>\n",
              "      <td>30.39</td>\n",
              "      <td>1.29</td>\n",
              "      <td>1.70</td>\n",
              "      <td>0.80</td>\n",
              "      <td>0.90</td>\n",
              "      <td>2.37</td>\n",
              "      <td>4.16</td>\n",
              "      <td>1.34</td>\n",
              "      <td>2.82</td>\n",
              "      <td>2.0</td>\n",
              "      <td>2006</td>\n",
              "      <td>7</td>\n",
              "      <td>27</td>\n",
              "      <td>4</td>\n",
              "    </tr>\n",
              "    <tr>\n",
              "      <th>...</th>\n",
              "      <td>...</td>\n",
              "      <td>...</td>\n",
              "      <td>...</td>\n",
              "      <td>...</td>\n",
              "      <td>...</td>\n",
              "      <td>...</td>\n",
              "      <td>...</td>\n",
              "      <td>...</td>\n",
              "      <td>...</td>\n",
              "      <td>...</td>\n",
              "      <td>...</td>\n",
              "      <td>...</td>\n",
              "      <td>...</td>\n",
              "      <td>...</td>\n",
              "      <td>...</td>\n",
              "      <td>...</td>\n",
              "      <td>...</td>\n",
              "      <td>...</td>\n",
              "      <td>...</td>\n",
              "      <td>...</td>\n",
              "      <td>...</td>\n",
              "      <td>...</td>\n",
              "      <td>...</td>\n",
              "      <td>...</td>\n",
              "      <td>...</td>\n",
              "    </tr>\n",
              "    <tr>\n",
              "      <th>1295055</th>\n",
              "      <td>56043</td>\n",
              "      <td>2001-08-07</td>\n",
              "      <td>0.41</td>\n",
              "      <td>83.52</td>\n",
              "      <td>9.58</td>\n",
              "      <td>28.39</td>\n",
              "      <td>10.51</td>\n",
              "      <td>10.51</td>\n",
              "      <td>35.80</td>\n",
              "      <td>21.12</td>\n",
              "      <td>14.68</td>\n",
              "      <td>30.46</td>\n",
              "      <td>3.06</td>\n",
              "      <td>4.77</td>\n",
              "      <td>0.64</td>\n",
              "      <td>4.12</td>\n",
              "      <td>4.58</td>\n",
              "      <td>6.32</td>\n",
              "      <td>0.78</td>\n",
              "      <td>5.55</td>\n",
              "      <td>3.0</td>\n",
              "      <td>2001</td>\n",
              "      <td>8</td>\n",
              "      <td>32</td>\n",
              "      <td>7</td>\n",
              "    </tr>\n",
              "    <tr>\n",
              "      <th>1295398</th>\n",
              "      <td>56043</td>\n",
              "      <td>2002-07-16</td>\n",
              "      <td>0.89</td>\n",
              "      <td>83.15</td>\n",
              "      <td>9.28</td>\n",
              "      <td>28.02</td>\n",
              "      <td>9.58</td>\n",
              "      <td>9.58</td>\n",
              "      <td>36.86</td>\n",
              "      <td>18.96</td>\n",
              "      <td>17.90</td>\n",
              "      <td>30.62</td>\n",
              "      <td>2.51</td>\n",
              "      <td>4.96</td>\n",
              "      <td>0.71</td>\n",
              "      <td>4.25</td>\n",
              "      <td>3.72</td>\n",
              "      <td>7.08</td>\n",
              "      <td>0.94</td>\n",
              "      <td>6.14</td>\n",
              "      <td>4.0</td>\n",
              "      <td>2002</td>\n",
              "      <td>7</td>\n",
              "      <td>29</td>\n",
              "      <td>16</td>\n",
              "    </tr>\n",
              "    <tr>\n",
              "      <th>1295790</th>\n",
              "      <td>56043</td>\n",
              "      <td>2003-08-12</td>\n",
              "      <td>0.02</td>\n",
              "      <td>83.25</td>\n",
              "      <td>8.32</td>\n",
              "      <td>28.63</td>\n",
              "      <td>8.38</td>\n",
              "      <td>8.38</td>\n",
              "      <td>37.07</td>\n",
              "      <td>20.51</td>\n",
              "      <td>16.55</td>\n",
              "      <td>30.06</td>\n",
              "      <td>2.39</td>\n",
              "      <td>3.98</td>\n",
              "      <td>0.99</td>\n",
              "      <td>2.99</td>\n",
              "      <td>3.52</td>\n",
              "      <td>6.94</td>\n",
              "      <td>1.74</td>\n",
              "      <td>5.19</td>\n",
              "      <td>3.0</td>\n",
              "      <td>2003</td>\n",
              "      <td>8</td>\n",
              "      <td>33</td>\n",
              "      <td>12</td>\n",
              "    </tr>\n",
              "    <tr>\n",
              "      <th>1296861</th>\n",
              "      <td>56043</td>\n",
              "      <td>2006-07-18</td>\n",
              "      <td>0.20</td>\n",
              "      <td>83.18</td>\n",
              "      <td>6.24</td>\n",
              "      <td>28.89</td>\n",
              "      <td>4.09</td>\n",
              "      <td>4.09</td>\n",
              "      <td>38.18</td>\n",
              "      <td>19.54</td>\n",
              "      <td>18.63</td>\n",
              "      <td>30.26</td>\n",
              "      <td>3.55</td>\n",
              "      <td>4.93</td>\n",
              "      <td>2.24</td>\n",
              "      <td>2.68</td>\n",
              "      <td>5.60</td>\n",
              "      <td>9.11</td>\n",
              "      <td>3.19</td>\n",
              "      <td>5.92</td>\n",
              "      <td>2.0</td>\n",
              "      <td>2006</td>\n",
              "      <td>7</td>\n",
              "      <td>29</td>\n",
              "      <td>18</td>\n",
              "    </tr>\n",
              "    <tr>\n",
              "      <th>1297232</th>\n",
              "      <td>56043</td>\n",
              "      <td>2007-07-24</td>\n",
              "      <td>1.72</td>\n",
              "      <td>82.96</td>\n",
              "      <td>8.95</td>\n",
              "      <td>28.89</td>\n",
              "      <td>9.32</td>\n",
              "      <td>9.33</td>\n",
              "      <td>36.60</td>\n",
              "      <td>20.86</td>\n",
              "      <td>15.73</td>\n",
              "      <td>30.62</td>\n",
              "      <td>4.04</td>\n",
              "      <td>5.76</td>\n",
              "      <td>1.40</td>\n",
              "      <td>4.36</td>\n",
              "      <td>5.54</td>\n",
              "      <td>9.43</td>\n",
              "      <td>2.16</td>\n",
              "      <td>7.26</td>\n",
              "      <td>1.0</td>\n",
              "      <td>2007</td>\n",
              "      <td>7</td>\n",
              "      <td>30</td>\n",
              "      <td>24</td>\n",
              "    </tr>\n",
              "  </tbody>\n",
              "</table>\n",
              "<p>77877 rows × 25 columns</p>\n",
              "</div>"
            ],
            "text/plain": [
              "          fips       date  PRECTOT      PS  ...  year  month  week  day\n",
              "185       1001 2000-07-04     0.03  100.31  ...  2000      7    27    4\n",
              "192       1001 2000-07-11     0.30   99.99  ...  2000      7    28   11\n",
              "199       1001 2000-07-18     0.00  100.14  ...  2000      7    29   18\n",
              "241       1001 2000-08-29     0.01   99.82  ...  2000      8    35   29\n",
              "2376      1001 2006-07-04     1.80  100.25  ...  2006      7    27    4\n",
              "...        ...        ...      ...     ...  ...   ...    ...   ...  ...\n",
              "1295055  56043 2001-08-07     0.41   83.52  ...  2001      8    32    7\n",
              "1295398  56043 2002-07-16     0.89   83.15  ...  2002      7    29   16\n",
              "1295790  56043 2003-08-12     0.02   83.25  ...  2003      8    33   12\n",
              "1296861  56043 2006-07-18     0.20   83.18  ...  2006      7    29   18\n",
              "1297232  56043 2007-07-24     1.72   82.96  ...  2007      7    30   24\n",
              "\n",
              "[77877 rows x 25 columns]"
            ]
          },
          "metadata": {},
          "execution_count": 211
        }
      ]
    },
    {
      "cell_type": "code",
      "metadata": {
        "id": "Hsx2Dx4GeYkC",
        "colab": {
          "base_uri": "https://localhost:8080/",
          "height": 356
        },
        "outputId": "225c7db0-9551-44d0-c8a6-1db1d7823fe3"
      },
      "source": [
        "# Distribution of data according to the year. Data from 2000 to 2016 is been used\n",
        "df['year'].hist(figsize=(5,5))\n",
        "plt.suptitle('Histograms shows distribution of years', fontsize=10);"
      ],
      "execution_count": null,
      "outputs": [
        {
          "output_type": "display_data",
          "data": {
            "image/png": "[encoded data removed]",
            "text/plain": [
              "<Figure size 360x360 with 1 Axes>"
            ]
          },
          "metadata": {
            "needs_background": "light"
          }
        }
      ]
    },
    {
      "cell_type": "code",
      "metadata": {
        "id": "8YUt-8Epegzf",
        "colab": {
          "base_uri": "https://localhost:8080/",
          "height": 356
        },
        "outputId": "670c14b6-5370-46d5-c7c2-9c5625d3eb76"
      },
      "source": [
        "# Distribution of data according to month\n",
        "df['month'].hist(figsize=(5,5))\n",
        "plt.suptitle('Histograms shows distribution of months', fontsize=10);"
      ],
      "execution_count": null,
      "outputs": [
        {
          "output_type": "display_data",
          "data": {
            "image/png": "[encoded data removed]",
            "text/plain": [
              "<Figure size 360x360 with 1 Axes>"
            ]
          },
          "metadata": {
            "needs_background": "light"
          }
        }
      ]
    },
    {
      "cell_type": "code",
      "metadata": {
        "id": "jAT0lHplemOO",
        "colab": {
          "base_uri": "https://localhost:8080/",
          "height": 356
        },
        "outputId": "318a1207-4c17-4510-899b-685ad361fc97"
      },
      "source": [
        "# Distribution of data according to week\n",
        "df['week'].hist(figsize=(5,5))\n",
        "plt.suptitle('Histograms shows distribution of weeks', fontsize=10);"
      ],
      "execution_count": null,
      "outputs": [
        {
          "output_type": "display_data",
          "data": {
            "image/png": "[encoded data removed]",
            "text/plain": [
              "<Figure size 360x360 with 1 Axes>"
            ]
          },
          "metadata": {
            "needs_background": "light"
          }
        }
      ]
    },
    {
      "cell_type": "code",
      "metadata": {
        "id": "N298-MbkeqQG",
        "colab": {
          "base_uri": "https://localhost:8080/",
          "height": 356
        },
        "outputId": "00d72425-ec32-4c61-80de-2bb1c6167f01"
      },
      "source": [
        "# Distribution of data according to day\n",
        "df['day'].hist(figsize=(5,5))\n",
        "plt.suptitle('Histograms shows distribution of  days', fontsize=10);"
      ],
      "execution_count": null,
      "outputs": [
        {
          "output_type": "display_data",
          "data": {
            "image/png": "[encoded data removed]",
            "text/plain": [
              "<Figure size 360x360 with 1 Axes>"
            ]
          },
          "metadata": {
            "needs_background": "light"
          }
        }
      ]
    },
    {
      "cell_type": "code",
      "metadata": {
        "id": "C_aXZLl1evJY",
        "colab": {
          "base_uri": "https://localhost:8080/",
          "height": 822
        },
        "outputId": "f825bbcd-d70e-41fc-cd50-d3833628b1a4"
      },
      "source": [
        "# Correlation matrix plot\n",
        "corealtion_matrix = df.corr()\n",
        "corealtion_matrix"
      ],
      "execution_count": null,
      "outputs": [
        {
          "output_type": "execute_result",
          "data": {
            "text/html": [
              "<div>\n",
              "<style scoped>\n",
              "    .dataframe tbody tr th:only-of-type {\n",
              "        vertical-align: middle;\n",
              "    }\n",
              "\n",
              "    .dataframe tbody tr th {\n",
              "        vertical-align: top;\n",
              "    }\n",
              "\n",
              "    .dataframe thead th {\n",
              "        text-align: right;\n",
              "    }\n",
              "</style>\n",
              "<table border=\"1\" class=\"dataframe\">\n",
              "  <thead>\n",
              "    <tr style=\"text-align: right;\">\n",
              "      <th></th>\n",
              "      <th>fips</th>\n",
              "      <th>PRECTOT</th>\n",
              "      <th>PS</th>\n",
              "      <th>QV2M</th>\n",
              "      <th>T2M</th>\n",
              "      <th>T2MDEW</th>\n",
              "      <th>T2MWET</th>\n",
              "      <th>T2M_MAX</th>\n",
              "      <th>T2M_MIN</th>\n",
              "      <th>T2M_RANGE</th>\n",
              "      <th>TS</th>\n",
              "      <th>WS10M</th>\n",
              "      <th>WS10M_MAX</th>\n",
              "      <th>WS10M_MIN</th>\n",
              "      <th>WS10M_RANGE</th>\n",
              "      <th>WS50M</th>\n",
              "      <th>WS50M_MAX</th>\n",
              "      <th>WS50M_MIN</th>\n",
              "      <th>WS50M_RANGE</th>\n",
              "      <th>score</th>\n",
              "      <th>year</th>\n",
              "      <th>month</th>\n",
              "      <th>week</th>\n",
              "      <th>day</th>\n",
              "    </tr>\n",
              "  </thead>\n",
              "  <tbody>\n",
              "    <tr>\n",
              "      <th>fips</th>\n",
              "      <td>1.000000</td>\n",
              "      <td>-0.057942</td>\n",
              "      <td>-0.104166</td>\n",
              "      <td>0.036827</td>\n",
              "      <td>-0.035788</td>\n",
              "      <td>0.056190</td>\n",
              "      <td>0.055890</td>\n",
              "      <td>-0.076970</td>\n",
              "      <td>0.036424</td>\n",
              "      <td>-0.085247</td>\n",
              "      <td>0.109544</td>\n",
              "      <td>0.351739</td>\n",
              "      <td>0.346802</td>\n",
              "      <td>0.291494</td>\n",
              "      <td>0.222233</td>\n",
              "      <td>0.324720</td>\n",
              "      <td>0.335203</td>\n",
              "      <td>0.262578</td>\n",
              "      <td>0.116800</td>\n",
              "      <td>0.005794</td>\n",
              "      <td>0.008911</td>\n",
              "      <td>-0.046321</td>\n",
              "      <td>-0.037325</td>\n",
              "      <td>0.016032</td>\n",
              "    </tr>\n",
              "    <tr>\n",
              "      <th>PRECTOT</th>\n",
              "      <td>-0.057942</td>\n",
              "      <td>1.000000</td>\n",
              "      <td>0.086157</td>\n",
              "      <td>0.262928</td>\n",
              "      <td>-0.111960</td>\n",
              "      <td>0.223812</td>\n",
              "      <td>0.224008</td>\n",
              "      <td>-0.221066</td>\n",
              "      <td>0.132294</td>\n",
              "      <td>-0.264215</td>\n",
              "      <td>-0.166011</td>\n",
              "      <td>-0.132543</td>\n",
              "      <td>-0.109413</td>\n",
              "      <td>-0.145477</td>\n",
              "      <td>-0.015629</td>\n",
              "      <td>-0.143694</td>\n",
              "      <td>-0.128286</td>\n",
              "      <td>-0.141102</td>\n",
              "      <td>0.005543</td>\n",
              "      <td>-0.012724</td>\n",
              "      <td>0.016803</td>\n",
              "      <td>0.000144</td>\n",
              "      <td>0.007337</td>\n",
              "      <td>0.029887</td>\n",
              "    </tr>\n",
              "    <tr>\n",
              "      <th>PS</th>\n",
              "      <td>-0.104166</td>\n",
              "      <td>0.086157</td>\n",
              "      <td>1.000000</td>\n",
              "      <td>0.683033</td>\n",
              "      <td>0.138355</td>\n",
              "      <td>0.730546</td>\n",
              "      <td>0.731083</td>\n",
              "      <td>-0.127037</td>\n",
              "      <td>0.477353</td>\n",
              "      <td>-0.433047</td>\n",
              "      <td>-0.078597</td>\n",
              "      <td>-0.384509</td>\n",
              "      <td>-0.461919</td>\n",
              "      <td>-0.236007</td>\n",
              "      <td>-0.451051</td>\n",
              "      <td>-0.369270</td>\n",
              "      <td>-0.489322</td>\n",
              "      <td>-0.185282</td>\n",
              "      <td>-0.415434</td>\n",
              "      <td>-0.051535</td>\n",
              "      <td>0.037325</td>\n",
              "      <td>0.121151</td>\n",
              "      <td>0.121039</td>\n",
              "      <td>-0.003542</td>\n",
              "    </tr>\n",
              "    <tr>\n",
              "      <th>QV2M</th>\n",
              "      <td>0.036827</td>\n",
              "      <td>0.262928</td>\n",
              "      <td>0.683033</td>\n",
              "      <td>1.000000</td>\n",
              "      <td>-0.094610</td>\n",
              "      <td>0.979268</td>\n",
              "      <td>0.979593</td>\n",
              "      <td>-0.448385</td>\n",
              "      <td>0.497852</td>\n",
              "      <td>-0.696744</td>\n",
              "      <td>-0.283952</td>\n",
              "      <td>-0.268419</td>\n",
              "      <td>-0.341642</td>\n",
              "      <td>-0.145290</td>\n",
              "      <td>-0.363421</td>\n",
              "      <td>-0.268089</td>\n",
              "      <td>-0.381605</td>\n",
              "      <td>-0.107874</td>\n",
              "      <td>-0.369291</td>\n",
              "      <td>-0.201055</td>\n",
              "      <td>0.124962</td>\n",
              "      <td>0.143646</td>\n",
              "      <td>0.135767</td>\n",
              "      <td>-0.026158</td>\n",
              "    </tr>\n",
              "    <tr>\n",
              "      <th>T2M</th>\n",
              "      <td>-0.035788</td>\n",
              "      <td>-0.111960</td>\n",
              "      <td>0.138355</td>\n",
              "      <td>-0.094610</td>\n",
              "      <td>1.000000</td>\n",
              "      <td>-0.040505</td>\n",
              "      <td>-0.040935</td>\n",
              "      <td>0.787714</td>\n",
              "      <td>0.631722</td>\n",
              "      <td>0.168563</td>\n",
              "      <td>0.894569</td>\n",
              "      <td>0.030629</td>\n",
              "      <td>0.025467</td>\n",
              "      <td>0.023400</td>\n",
              "      <td>0.014287</td>\n",
              "      <td>0.046501</td>\n",
              "      <td>0.049805</td>\n",
              "      <td>0.021359</td>\n",
              "      <td>0.039190</td>\n",
              "      <td>0.182773</td>\n",
              "      <td>0.035938</td>\n",
              "      <td>0.134541</td>\n",
              "      <td>0.136626</td>\n",
              "      <td>0.012751</td>\n",
              "    </tr>\n",
              "    <tr>\n",
              "      <th>T2MDEW</th>\n",
              "      <td>0.056190</td>\n",
              "      <td>0.223812</td>\n",
              "      <td>0.730546</td>\n",
              "      <td>0.979268</td>\n",
              "      <td>-0.040505</td>\n",
              "      <td>1.000000</td>\n",
              "      <td>0.999995</td>\n",
              "      <td>-0.389230</td>\n",
              "      <td>0.507582</td>\n",
              "      <td>-0.657662</td>\n",
              "      <td>-0.231240</td>\n",
              "      <td>-0.256550</td>\n",
              "      <td>-0.337709</td>\n",
              "      <td>-0.127478</td>\n",
              "      <td>-0.375674</td>\n",
              "      <td>-0.249093</td>\n",
              "      <td>-0.366386</td>\n",
              "      <td>-0.088385</td>\n",
              "      <td>-0.373345</td>\n",
              "      <td>-0.170253</td>\n",
              "      <td>0.104133</td>\n",
              "      <td>0.160228</td>\n",
              "      <td>0.155294</td>\n",
              "      <td>-0.020766</td>\n",
              "    </tr>\n",
              "    <tr>\n",
              "      <th>T2MWET</th>\n",
              "      <td>0.055890</td>\n",
              "      <td>0.224008</td>\n",
              "      <td>0.731083</td>\n",
              "      <td>0.979593</td>\n",
              "      <td>-0.040935</td>\n",
              "      <td>0.999995</td>\n",
              "      <td>1.000000</td>\n",
              "      <td>-0.389784</td>\n",
              "      <td>0.507628</td>\n",
              "      <td>-0.658124</td>\n",
              "      <td>-0.231762</td>\n",
              "      <td>-0.257004</td>\n",
              "      <td>-0.338173</td>\n",
              "      <td>-0.127842</td>\n",
              "      <td>-0.375998</td>\n",
              "      <td>-0.249581</td>\n",
              "      <td>-0.366971</td>\n",
              "      <td>-0.088709</td>\n",
              "      <td>-0.373715</td>\n",
              "      <td>-0.170420</td>\n",
              "      <td>0.104280</td>\n",
              "      <td>0.160110</td>\n",
              "      <td>0.155157</td>\n",
              "      <td>-0.020805</td>\n",
              "    </tr>\n",
              "    <tr>\n",
              "      <th>T2M_MAX</th>\n",
              "      <td>-0.076970</td>\n",
              "      <td>-0.221066</td>\n",
              "      <td>-0.127037</td>\n",
              "      <td>-0.448385</td>\n",
              "      <td>0.787714</td>\n",
              "      <td>-0.389230</td>\n",
              "      <td>-0.389784</td>\n",
              "      <td>1.000000</td>\n",
              "      <td>0.085521</td>\n",
              "      <td>0.715986</td>\n",
              "      <td>0.729412</td>\n",
              "      <td>0.079601</td>\n",
              "      <td>0.105532</td>\n",
              "      <td>0.035802</td>\n",
              "      <td>0.121503</td>\n",
              "      <td>0.125185</td>\n",
              "      <td>0.197087</td>\n",
              "      <td>0.031167</td>\n",
              "      <td>0.221076</td>\n",
              "      <td>0.182332</td>\n",
              "      <td>-0.019337</td>\n",
              "      <td>0.014984</td>\n",
              "      <td>0.015771</td>\n",
              "      <td>0.009680</td>\n",
              "    </tr>\n",
              "    <tr>\n",
              "      <th>T2M_MIN</th>\n",
              "      <td>0.036424</td>\n",
              "      <td>0.132294</td>\n",
              "      <td>0.477353</td>\n",
              "      <td>0.497852</td>\n",
              "      <td>0.631722</td>\n",
              "      <td>0.507582</td>\n",
              "      <td>0.507628</td>\n",
              "      <td>0.085521</td>\n",
              "      <td>1.000000</td>\n",
              "      <td>-0.634323</td>\n",
              "      <td>0.490524</td>\n",
              "      <td>-0.040048</td>\n",
              "      <td>-0.077190</td>\n",
              "      <td>-0.000637</td>\n",
              "      <td>-0.114910</td>\n",
              "      <td>-0.064228</td>\n",
              "      <td>-0.156804</td>\n",
              "      <td>0.015872</td>\n",
              "      <td>-0.226207</td>\n",
              "      <td>0.053470</td>\n",
              "      <td>0.094599</td>\n",
              "      <td>0.248104</td>\n",
              "      <td>0.257326</td>\n",
              "      <td>0.017508</td>\n",
              "    </tr>\n",
              "    <tr>\n",
              "      <th>T2M_RANGE</th>\n",
              "      <td>-0.085247</td>\n",
              "      <td>-0.264215</td>\n",
              "      <td>-0.433047</td>\n",
              "      <td>-0.696744</td>\n",
              "      <td>0.168563</td>\n",
              "      <td>-0.657662</td>\n",
              "      <td>-0.658124</td>\n",
              "      <td>0.715986</td>\n",
              "      <td>-0.634323</td>\n",
              "      <td>1.000000</td>\n",
              "      <td>0.222262</td>\n",
              "      <td>0.089817</td>\n",
              "      <td>0.135959</td>\n",
              "      <td>0.028217</td>\n",
              "      <td>0.174784</td>\n",
              "      <td>0.142129</td>\n",
              "      <td>0.262784</td>\n",
              "      <td>0.013054</td>\n",
              "      <td>0.330034</td>\n",
              "      <td>0.104015</td>\n",
              "      <td>-0.081292</td>\n",
              "      <td>-0.162223</td>\n",
              "      <td>-0.168076</td>\n",
              "      <td>-0.004762</td>\n",
              "    </tr>\n",
              "    <tr>\n",
              "      <th>TS</th>\n",
              "      <td>0.109544</td>\n",
              "      <td>-0.166011</td>\n",
              "      <td>-0.078597</td>\n",
              "      <td>-0.283952</td>\n",
              "      <td>0.894569</td>\n",
              "      <td>-0.231240</td>\n",
              "      <td>-0.231762</td>\n",
              "      <td>0.729412</td>\n",
              "      <td>0.490524</td>\n",
              "      <td>0.222262</td>\n",
              "      <td>1.000000</td>\n",
              "      <td>0.155104</td>\n",
              "      <td>0.192260</td>\n",
              "      <td>0.083641</td>\n",
              "      <td>0.202600</td>\n",
              "      <td>0.125895</td>\n",
              "      <td>0.191023</td>\n",
              "      <td>0.041615</td>\n",
              "      <td>0.200174</td>\n",
              "      <td>0.244193</td>\n",
              "      <td>0.024447</td>\n",
              "      <td>0.049251</td>\n",
              "      <td>0.054890</td>\n",
              "      <td>0.023323</td>\n",
              "    </tr>\n",
              "    <tr>\n",
              "      <th>WS10M</th>\n",
              "      <td>0.351739</td>\n",
              "      <td>-0.132543</td>\n",
              "      <td>-0.384509</td>\n",
              "      <td>-0.268419</td>\n",
              "      <td>0.030629</td>\n",
              "      <td>-0.256550</td>\n",
              "      <td>-0.257004</td>\n",
              "      <td>0.079601</td>\n",
              "      <td>-0.040048</td>\n",
              "      <td>0.089817</td>\n",
              "      <td>0.155104</td>\n",
              "      <td>1.000000</td>\n",
              "      <td>0.944415</td>\n",
              "      <td>0.895164</td>\n",
              "      <td>0.501916</td>\n",
              "      <td>0.982269</td>\n",
              "      <td>0.903070</td>\n",
              "      <td>0.876128</td>\n",
              "      <td>0.106018</td>\n",
              "      <td>0.066938</td>\n",
              "      <td>-0.041727</td>\n",
              "      <td>-0.208089</td>\n",
              "      <td>-0.199443</td>\n",
              "      <td>0.036706</td>\n",
              "    </tr>\n",
              "    <tr>\n",
              "      <th>WS10M_MAX</th>\n",
              "      <td>0.346802</td>\n",
              "      <td>-0.109413</td>\n",
              "      <td>-0.461919</td>\n",
              "      <td>-0.341642</td>\n",
              "      <td>0.025467</td>\n",
              "      <td>-0.337709</td>\n",
              "      <td>-0.338173</td>\n",
              "      <td>0.105532</td>\n",
              "      <td>-0.077190</td>\n",
              "      <td>0.135959</td>\n",
              "      <td>0.192260</td>\n",
              "      <td>0.944415</td>\n",
              "      <td>1.000000</td>\n",
              "      <td>0.747052</td>\n",
              "      <td>0.735958</td>\n",
              "      <td>0.913993</td>\n",
              "      <td>0.937159</td>\n",
              "      <td>0.728668</td>\n",
              "      <td>0.333305</td>\n",
              "      <td>0.080104</td>\n",
              "      <td>-0.036091</td>\n",
              "      <td>-0.206755</td>\n",
              "      <td>-0.194473</td>\n",
              "      <td>0.043286</td>\n",
              "    </tr>\n",
              "    <tr>\n",
              "      <th>WS10M_MIN</th>\n",
              "      <td>0.291494</td>\n",
              "      <td>-0.145477</td>\n",
              "      <td>-0.236007</td>\n",
              "      <td>-0.145290</td>\n",
              "      <td>0.023400</td>\n",
              "      <td>-0.127478</td>\n",
              "      <td>-0.127842</td>\n",
              "      <td>0.035802</td>\n",
              "      <td>-0.000637</td>\n",
              "      <td>0.028217</td>\n",
              "      <td>0.083641</td>\n",
              "      <td>0.895164</td>\n",
              "      <td>0.747052</td>\n",
              "      <td>1.000000</td>\n",
              "      <td>0.099741</td>\n",
              "      <td>0.897522</td>\n",
              "      <td>0.726874</td>\n",
              "      <td>0.956344</td>\n",
              "      <td>-0.225297</td>\n",
              "      <td>0.047100</td>\n",
              "      <td>-0.040989</td>\n",
              "      <td>-0.183786</td>\n",
              "      <td>-0.181196</td>\n",
              "      <td>0.021625</td>\n",
              "    </tr>\n",
              "    <tr>\n",
              "      <th>WS10M_RANGE</th>\n",
              "      <td>0.222233</td>\n",
              "      <td>-0.015629</td>\n",
              "      <td>-0.451051</td>\n",
              "      <td>-0.363421</td>\n",
              "      <td>0.014287</td>\n",
              "      <td>-0.375674</td>\n",
              "      <td>-0.375998</td>\n",
              "      <td>0.121503</td>\n",
              "      <td>-0.114910</td>\n",
              "      <td>0.174784</td>\n",
              "      <td>0.202600</td>\n",
              "      <td>0.501916</td>\n",
              "      <td>0.735958</td>\n",
              "      <td>0.099741</td>\n",
              "      <td>1.000000</td>\n",
              "      <td>0.453978</td>\n",
              "      <td>0.662458</td>\n",
              "      <td>0.116671</td>\n",
              "      <td>0.728364</td>\n",
              "      <td>0.071901</td>\n",
              "      <td>-0.012280</td>\n",
              "      <td>-0.122295</td>\n",
              "      <td>-0.106549</td>\n",
              "      <td>0.042764</td>\n",
              "    </tr>\n",
              "    <tr>\n",
              "      <th>WS50M</th>\n",
              "      <td>0.324720</td>\n",
              "      <td>-0.143694</td>\n",
              "      <td>-0.369270</td>\n",
              "      <td>-0.268089</td>\n",
              "      <td>0.046501</td>\n",
              "      <td>-0.249093</td>\n",
              "      <td>-0.249581</td>\n",
              "      <td>0.125185</td>\n",
              "      <td>-0.064228</td>\n",
              "      <td>0.142129</td>\n",
              "      <td>0.125895</td>\n",
              "      <td>0.982269</td>\n",
              "      <td>0.913993</td>\n",
              "      <td>0.897522</td>\n",
              "      <td>0.453978</td>\n",
              "      <td>1.000000</td>\n",
              "      <td>0.906320</td>\n",
              "      <td>0.896854</td>\n",
              "      <td>0.084662</td>\n",
              "      <td>0.049385</td>\n",
              "      <td>-0.046426</td>\n",
              "      <td>-0.190619</td>\n",
              "      <td>-0.184052</td>\n",
              "      <td>0.029955</td>\n",
              "    </tr>\n",
              "    <tr>\n",
              "      <th>WS50M_MAX</th>\n",
              "      <td>0.335203</td>\n",
              "      <td>-0.128286</td>\n",
              "      <td>-0.489322</td>\n",
              "      <td>-0.381605</td>\n",
              "      <td>0.049805</td>\n",
              "      <td>-0.366386</td>\n",
              "      <td>-0.366971</td>\n",
              "      <td>0.197087</td>\n",
              "      <td>-0.156804</td>\n",
              "      <td>0.262784</td>\n",
              "      <td>0.191023</td>\n",
              "      <td>0.903070</td>\n",
              "      <td>0.937159</td>\n",
              "      <td>0.726874</td>\n",
              "      <td>0.662458</td>\n",
              "      <td>0.906320</td>\n",
              "      <td>1.000000</td>\n",
              "      <td>0.695105</td>\n",
              "      <td>0.457598</td>\n",
              "      <td>0.064056</td>\n",
              "      <td>-0.039927</td>\n",
              "      <td>-0.205342</td>\n",
              "      <td>-0.196535</td>\n",
              "      <td>0.034325</td>\n",
              "    </tr>\n",
              "    <tr>\n",
              "      <th>WS50M_MIN</th>\n",
              "      <td>0.262578</td>\n",
              "      <td>-0.141102</td>\n",
              "      <td>-0.185282</td>\n",
              "      <td>-0.107874</td>\n",
              "      <td>0.021359</td>\n",
              "      <td>-0.088385</td>\n",
              "      <td>-0.088709</td>\n",
              "      <td>0.031167</td>\n",
              "      <td>0.015872</td>\n",
              "      <td>0.013054</td>\n",
              "      <td>0.041615</td>\n",
              "      <td>0.876128</td>\n",
              "      <td>0.728668</td>\n",
              "      <td>0.956344</td>\n",
              "      <td>0.116671</td>\n",
              "      <td>0.896854</td>\n",
              "      <td>0.695105</td>\n",
              "      <td>1.000000</td>\n",
              "      <td>-0.321142</td>\n",
              "      <td>0.033045</td>\n",
              "      <td>-0.040611</td>\n",
              "      <td>-0.163425</td>\n",
              "      <td>-0.162497</td>\n",
              "      <td>0.015700</td>\n",
              "    </tr>\n",
              "    <tr>\n",
              "      <th>WS50M_RANGE</th>\n",
              "      <td>0.116800</td>\n",
              "      <td>0.005543</td>\n",
              "      <td>-0.415434</td>\n",
              "      <td>-0.369291</td>\n",
              "      <td>0.039190</td>\n",
              "      <td>-0.373345</td>\n",
              "      <td>-0.373715</td>\n",
              "      <td>0.221076</td>\n",
              "      <td>-0.226207</td>\n",
              "      <td>0.330034</td>\n",
              "      <td>0.200174</td>\n",
              "      <td>0.106018</td>\n",
              "      <td>0.333305</td>\n",
              "      <td>-0.225297</td>\n",
              "      <td>0.728364</td>\n",
              "      <td>0.084662</td>\n",
              "      <td>0.457598</td>\n",
              "      <td>-0.321142</td>\n",
              "      <td>1.000000</td>\n",
              "      <td>0.043536</td>\n",
              "      <td>-0.002372</td>\n",
              "      <td>-0.068384</td>\n",
              "      <td>-0.057935</td>\n",
              "      <td>0.025792</td>\n",
              "    </tr>\n",
              "    <tr>\n",
              "      <th>score</th>\n",
              "      <td>0.005794</td>\n",
              "      <td>-0.012724</td>\n",
              "      <td>-0.051535</td>\n",
              "      <td>-0.201055</td>\n",
              "      <td>0.182773</td>\n",
              "      <td>-0.170253</td>\n",
              "      <td>-0.170420</td>\n",
              "      <td>0.182332</td>\n",
              "      <td>0.053470</td>\n",
              "      <td>0.104015</td>\n",
              "      <td>0.244193</td>\n",
              "      <td>0.066938</td>\n",
              "      <td>0.080104</td>\n",
              "      <td>0.047100</td>\n",
              "      <td>0.071901</td>\n",
              "      <td>0.049385</td>\n",
              "      <td>0.064056</td>\n",
              "      <td>0.033045</td>\n",
              "      <td>0.043536</td>\n",
              "      <td>1.000000</td>\n",
              "      <td>0.094532</td>\n",
              "      <td>-0.036524</td>\n",
              "      <td>-0.026999</td>\n",
              "      <td>0.047672</td>\n",
              "    </tr>\n",
              "    <tr>\n",
              "      <th>year</th>\n",
              "      <td>0.008911</td>\n",
              "      <td>0.016803</td>\n",
              "      <td>0.037325</td>\n",
              "      <td>0.124962</td>\n",
              "      <td>0.035938</td>\n",
              "      <td>0.104133</td>\n",
              "      <td>0.104280</td>\n",
              "      <td>-0.019337</td>\n",
              "      <td>0.094599</td>\n",
              "      <td>-0.081292</td>\n",
              "      <td>0.024447</td>\n",
              "      <td>-0.041727</td>\n",
              "      <td>-0.036091</td>\n",
              "      <td>-0.040989</td>\n",
              "      <td>-0.012280</td>\n",
              "      <td>-0.046426</td>\n",
              "      <td>-0.039927</td>\n",
              "      <td>-0.040611</td>\n",
              "      <td>-0.002372</td>\n",
              "      <td>0.094532</td>\n",
              "      <td>1.000000</td>\n",
              "      <td>-0.017256</td>\n",
              "      <td>-0.020320</td>\n",
              "      <td>-0.006832</td>\n",
              "    </tr>\n",
              "    <tr>\n",
              "      <th>month</th>\n",
              "      <td>-0.046321</td>\n",
              "      <td>0.000144</td>\n",
              "      <td>0.121151</td>\n",
              "      <td>0.143646</td>\n",
              "      <td>0.134541</td>\n",
              "      <td>0.160228</td>\n",
              "      <td>0.160110</td>\n",
              "      <td>0.014984</td>\n",
              "      <td>0.248104</td>\n",
              "      <td>-0.162223</td>\n",
              "      <td>0.049251</td>\n",
              "      <td>-0.208089</td>\n",
              "      <td>-0.206755</td>\n",
              "      <td>-0.183786</td>\n",
              "      <td>-0.122295</td>\n",
              "      <td>-0.190619</td>\n",
              "      <td>-0.205342</td>\n",
              "      <td>-0.163425</td>\n",
              "      <td>-0.068384</td>\n",
              "      <td>-0.036524</td>\n",
              "      <td>-0.017256</td>\n",
              "      <td>1.000000</td>\n",
              "      <td>0.943872</td>\n",
              "      <td>-0.312436</td>\n",
              "    </tr>\n",
              "    <tr>\n",
              "      <th>week</th>\n",
              "      <td>-0.037325</td>\n",
              "      <td>0.007337</td>\n",
              "      <td>0.121039</td>\n",
              "      <td>0.135767</td>\n",
              "      <td>0.136626</td>\n",
              "      <td>0.155294</td>\n",
              "      <td>0.155157</td>\n",
              "      <td>0.015771</td>\n",
              "      <td>0.257326</td>\n",
              "      <td>-0.168076</td>\n",
              "      <td>0.054890</td>\n",
              "      <td>-0.199443</td>\n",
              "      <td>-0.194473</td>\n",
              "      <td>-0.181196</td>\n",
              "      <td>-0.106549</td>\n",
              "      <td>-0.184052</td>\n",
              "      <td>-0.196535</td>\n",
              "      <td>-0.162497</td>\n",
              "      <td>-0.057935</td>\n",
              "      <td>-0.026999</td>\n",
              "      <td>-0.020320</td>\n",
              "      <td>0.943872</td>\n",
              "      <td>1.000000</td>\n",
              "      <td>0.011610</td>\n",
              "    </tr>\n",
              "    <tr>\n",
              "      <th>day</th>\n",
              "      <td>0.016032</td>\n",
              "      <td>0.029887</td>\n",
              "      <td>-0.003542</td>\n",
              "      <td>-0.026158</td>\n",
              "      <td>0.012751</td>\n",
              "      <td>-0.020766</td>\n",
              "      <td>-0.020805</td>\n",
              "      <td>0.009680</td>\n",
              "      <td>0.017508</td>\n",
              "      <td>-0.004762</td>\n",
              "      <td>0.023323</td>\n",
              "      <td>0.036706</td>\n",
              "      <td>0.043286</td>\n",
              "      <td>0.021625</td>\n",
              "      <td>0.042764</td>\n",
              "      <td>0.029955</td>\n",
              "      <td>0.034325</td>\n",
              "      <td>0.015700</td>\n",
              "      <td>0.025792</td>\n",
              "      <td>0.047672</td>\n",
              "      <td>-0.006832</td>\n",
              "      <td>-0.312436</td>\n",
              "      <td>0.011610</td>\n",
              "      <td>1.000000</td>\n",
              "    </tr>\n",
              "  </tbody>\n",
              "</table>\n",
              "</div>"
            ],
            "text/plain": [
              "                 fips   PRECTOT        PS  ...     month      week       day\n",
              "fips         1.000000 -0.057942 -0.104166  ... -0.046321 -0.037325  0.016032\n",
              "PRECTOT     -0.057942  1.000000  0.086157  ...  0.000144  0.007337  0.029887\n",
              "PS          -0.104166  0.086157  1.000000  ...  0.121151  0.121039 -0.003542\n",
              "QV2M         0.036827  0.262928  0.683033  ...  0.143646  0.135767 -0.026158\n",
              "T2M         -0.035788 -0.111960  0.138355  ...  0.134541  0.136626  0.012751\n",
              "T2MDEW       0.056190  0.223812  0.730546  ...  0.160228  0.155294 -0.020766\n",
              "T2MWET       0.055890  0.224008  0.731083  ...  0.160110  0.155157 -0.020805\n",
              "T2M_MAX     -0.076970 -0.221066 -0.127037  ...  0.014984  0.015771  0.009680\n",
              "T2M_MIN      0.036424  0.132294  0.477353  ...  0.248104  0.257326  0.017508\n",
              "T2M_RANGE   -0.085247 -0.264215 -0.433047  ... -0.162223 -0.168076 -0.004762\n",
              "TS           0.109544 -0.166011 -0.078597  ...  0.049251  0.054890  0.023323\n",
              "WS10M        0.351739 -0.132543 -0.384509  ... -0.208089 -0.199443  0.036706\n",
              "WS10M_MAX    0.346802 -0.109413 -0.461919  ... -0.206755 -0.194473  0.043286\n",
              "WS10M_MIN    0.291494 -0.145477 -0.236007  ... -0.183786 -0.181196  0.021625\n",
              "WS10M_RANGE  0.222233 -0.015629 -0.451051  ... -0.122295 -0.106549  0.042764\n",
              "WS50M        0.324720 -0.143694 -0.369270  ... -0.190619 -0.184052  0.029955\n",
              "WS50M_MAX    0.335203 -0.128286 -0.489322  ... -0.205342 -0.196535  0.034325\n",
              "WS50M_MIN    0.262578 -0.141102 -0.185282  ... -0.163425 -0.162497  0.015700\n",
              "WS50M_RANGE  0.116800  0.005543 -0.415434  ... -0.068384 -0.057935  0.025792\n",
              "score        0.005794 -0.012724 -0.051535  ... -0.036524 -0.026999  0.047672\n",
              "year         0.008911  0.016803  0.037325  ... -0.017256 -0.020320 -0.006832\n",
              "month       -0.046321  0.000144  0.121151  ...  1.000000  0.943872 -0.312436\n",
              "week        -0.037325  0.007337  0.121039  ...  0.943872  1.000000  0.011610\n",
              "day          0.016032  0.029887 -0.003542  ... -0.312436  0.011610  1.000000\n",
              "\n",
              "[24 rows x 24 columns]"
            ]
          },
          "metadata": {},
          "execution_count": 216
        }
      ]
    },
    {
      "cell_type": "code",
      "metadata": {
        "id": "jYyzLn6Qe0tp",
        "colab": {
          "base_uri": "https://localhost:8080/",
          "height": 822
        },
        "outputId": "5e9efdd7-f8b4-4d6c-f019-b1f142b41757"
      },
      "source": [
        "corealtion_matrix.style.background_gradient(cmap='coolwarm')"
      ],
      "execution_count": null,
      "outputs": [
        {
          "output_type": "execute_result",
          "data": {
            "text/html": [
              "<style  type=\"text/css\" >\n",
              "#T_94b547a4_4b36_11ec_be6c_0242ac1c0002row0_col0,#T_94b547a4_4b36_11ec_be6c_0242ac1c0002row1_col1,#T_94b547a4_4b36_11ec_be6c_0242ac1c0002row2_col2,#T_94b547a4_4b36_11ec_be6c_0242ac1c0002row3_col3,#T_94b547a4_4b36_11ec_be6c_0242ac1c0002row4_col4,#T_94b547a4_4b36_11ec_be6c_0242ac1c0002row5_col5,#T_94b547a4_4b36_11ec_be6c_0242ac1c0002row5_col6,#T_94b547a4_4b36_11ec_be6c_0242ac1c0002row6_col5,#T_94b547a4_4b36_11ec_be6c_0242ac1c0002row6_col6,#T_94b547a4_4b36_11ec_be6c_0242ac1c0002row7_col7,#T_94b547a4_4b36_11ec_be6c_0242ac1c0002row8_col8,#T_94b547a4_4b36_11ec_be6c_0242ac1c0002row9_col9,#T_94b547a4_4b36_11ec_be6c_0242ac1c0002row10_col10,#T_94b547a4_4b36_11ec_be6c_0242ac1c0002row11_col11,#T_94b547a4_4b36_11ec_be6c_0242ac1c0002row12_col12,#T_94b547a4_4b36_11ec_be6c_0242ac1c0002row13_col13,#T_94b547a4_4b36_11ec_be6c_0242ac1c0002row14_col14,#T_94b547a4_4b36_11ec_be6c_0242ac1c0002row15_col15,#T_94b547a4_4b36_11ec_be6c_0242ac1c0002row16_col16,#T_94b547a4_4b36_11ec_be6c_0242ac1c0002row17_col17,#T_94b547a4_4b36_11ec_be6c_0242ac1c0002row18_col18,#T_94b547a4_4b36_11ec_be6c_0242ac1c0002row19_col19,#T_94b547a4_4b36_11ec_be6c_0242ac1c0002row20_col20,#T_94b547a4_4b36_11ec_be6c_0242ac1c0002row21_col21,#T_94b547a4_4b36_11ec_be6c_0242ac1c0002row22_col22,#T_94b547a4_4b36_11ec_be6c_0242ac1c0002row23_col23{\n",
              "            background-color:  #b40426;\n",
              "            color:  #f1f1f1;\n",
              "        }#T_94b547a4_4b36_11ec_be6c_0242ac1c0002row0_col1,#T_94b547a4_4b36_11ec_be6c_0242ac1c0002row3_col17,#T_94b547a4_4b36_11ec_be6c_0242ac1c0002row7_col5,#T_94b547a4_4b36_11ec_be6c_0242ac1c0002row7_col6,#T_94b547a4_4b36_11ec_be6c_0242ac1c0002row8_col20,#T_94b547a4_4b36_11ec_be6c_0242ac1c0002row19_col20{\n",
              "            background-color:  #6e90f2;\n",
              "            color:  #000000;\n",
              "        }#T_94b547a4_4b36_11ec_be6c_0242ac1c0002row0_col2,#T_94b547a4_4b36_11ec_be6c_0242ac1c0002row1_col23,#T_94b547a4_4b36_11ec_be6c_0242ac1c0002row4_col17,#T_94b547a4_4b36_11ec_be6c_0242ac1c0002row10_col13,#T_94b547a4_4b36_11ec_be6c_0242ac1c0002row15_col23,#T_94b547a4_4b36_11ec_be6c_0242ac1c0002row21_col10{\n",
              "            background-color:  #90b2fe;\n",
              "            color:  #000000;\n",
              "        }#T_94b547a4_4b36_11ec_be6c_0242ac1c0002row0_col3,#T_94b547a4_4b36_11ec_be6c_0242ac1c0002row0_col5,#T_94b547a4_4b36_11ec_be6c_0242ac1c0002row0_col6,#T_94b547a4_4b36_11ec_be6c_0242ac1c0002row9_col14{\n",
              "            background-color:  #cad8ef;\n",
              "            color:  #000000;\n",
              "        }#T_94b547a4_4b36_11ec_be6c_0242ac1c0002row0_col4,#T_94b547a4_4b36_11ec_be6c_0242ac1c0002row17_col18,#T_94b547a4_4b36_11ec_be6c_0242ac1c0002row23_col20{\n",
              "            background-color:  #4f69d9;\n",
              "            color:  #000000;\n",
              "        }#T_94b547a4_4b36_11ec_be6c_0242ac1c0002row0_col7,#T_94b547a4_4b36_11ec_be6c_0242ac1c0002row1_col9,#T_94b547a4_4b36_11ec_be6c_0242ac1c0002row8_col17,#T_94b547a4_4b36_11ec_be6c_0242ac1c0002row9_col19,#T_94b547a4_4b36_11ec_be6c_0242ac1c0002row10_col5,#T_94b547a4_4b36_11ec_be6c_0242ac1c0002row10_col6,#T_94b547a4_4b36_11ec_be6c_0242ac1c0002row10_col23,#T_94b547a4_4b36_11ec_be6c_0242ac1c0002row13_col23,#T_94b547a4_4b36_11ec_be6c_0242ac1c0002row18_col23,#T_94b547a4_4b36_11ec_be6c_0242ac1c0002row23_col17{\n",
              "            background-color:  #8fb1fe;\n",
              "            color:  #000000;\n",
              "        }#T_94b547a4_4b36_11ec_be6c_0242ac1c0002row0_col8,#T_94b547a4_4b36_11ec_be6c_0242ac1c0002row11_col0,#T_94b547a4_4b36_11ec_be6c_0242ac1c0002row19_col10{\n",
              "            background-color:  #c4d5f3;\n",
              "            color:  #000000;\n",
              "        }#T_94b547a4_4b36_11ec_be6c_0242ac1c0002row0_col9,#T_94b547a4_4b36_11ec_be6c_0242ac1c0002row4_col16,#T_94b547a4_4b36_11ec_be6c_0242ac1c0002row5_col21,#T_94b547a4_4b36_11ec_be6c_0242ac1c0002row6_col21,#T_94b547a4_4b36_11ec_be6c_0242ac1c0002row7_col15,#T_94b547a4_4b36_11ec_be6c_0242ac1c0002row10_col15,#T_94b547a4_4b36_11ec_be6c_0242ac1c0002row19_col14,#T_94b547a4_4b36_11ec_be6c_0242ac1c0002row20_col9{\n",
              "            background-color:  #b3cdfb;\n",
              "            color:  #000000;\n",
              "        }#T_94b547a4_4b36_11ec_be6c_0242ac1c0002row0_col10,#T_94b547a4_4b36_11ec_be6c_0242ac1c0002row19_col15{\n",
              "            background-color:  #a1c0ff;\n",
              "            color:  #000000;\n",
              "        }#T_94b547a4_4b36_11ec_be6c_0242ac1c0002row0_col11,#T_94b547a4_4b36_11ec_be6c_0242ac1c0002row1_col5,#T_94b547a4_4b36_11ec_be6c_0242ac1c0002row1_col6{\n",
              "            background-color:  #e5d8d1;\n",
              "            color:  #000000;\n",
              "        }#T_94b547a4_4b36_11ec_be6c_0242ac1c0002row0_col12,#T_94b547a4_4b36_11ec_be6c_0242ac1c0002row0_col16{\n",
              "            background-color:  #ead5c9;\n",
              "            color:  #000000;\n",
              "        }#T_94b547a4_4b36_11ec_be6c_0242ac1c0002row0_col13,#T_94b547a4_4b36_11ec_be6c_0242ac1c0002row8_col21,#T_94b547a4_4b36_11ec_be6c_0242ac1c0002row13_col9{\n",
              "            background-color:  #c9d7f0;\n",
              "            color:  #000000;\n",
              "        }#T_94b547a4_4b36_11ec_be6c_0242ac1c0002row0_col14,#T_94b547a4_4b36_11ec_be6c_0242ac1c0002row11_col9,#T_94b547a4_4b36_11ec_be6c_0242ac1c0002row18_col7{\n",
              "            background-color:  #d3dbe7;\n",
              "            color:  #000000;\n",
              "        }#T_94b547a4_4b36_11ec_be6c_0242ac1c0002row0_col15,#T_94b547a4_4b36_11ec_be6c_0242ac1c0002row9_col16{\n",
              "            background-color:  #dedcdb;\n",
              "            color:  #000000;\n",
              "        }#T_94b547a4_4b36_11ec_be6c_0242ac1c0002row0_col17{\n",
              "            background-color:  #cdd9ec;\n",
              "            color:  #000000;\n",
              "        }#T_94b547a4_4b36_11ec_be6c_0242ac1c0002row0_col18,#T_94b547a4_4b36_11ec_be6c_0242ac1c0002row18_col10{\n",
              "            background-color:  #b9d0f9;\n",
              "            color:  #000000;\n",
              "        }#T_94b547a4_4b36_11ec_be6c_0242ac1c0002row0_col19,#T_94b547a4_4b36_11ec_be6c_0242ac1c0002row1_col22,#T_94b547a4_4b36_11ec_be6c_0242ac1c0002row16_col5,#T_94b547a4_4b36_11ec_be6c_0242ac1c0002row16_col6,#T_94b547a4_4b36_11ec_be6c_0242ac1c0002row21_col12{\n",
              "            background-color:  #7295f4;\n",
              "            color:  #000000;\n",
              "        }#T_94b547a4_4b36_11ec_be6c_0242ac1c0002row0_col20,#T_94b547a4_4b36_11ec_be6c_0242ac1c0002row3_col11,#T_94b547a4_4b36_11ec_be6c_0242ac1c0002row3_col12,#T_94b547a4_4b36_11ec_be6c_0242ac1c0002row5_col12,#T_94b547a4_4b36_11ec_be6c_0242ac1c0002row5_col16,#T_94b547a4_4b36_11ec_be6c_0242ac1c0002row6_col12,#T_94b547a4_4b36_11ec_be6c_0242ac1c0002row6_col16{\n",
              "            background-color:  #5470de;\n",
              "            color:  #000000;\n",
              "        }#T_94b547a4_4b36_11ec_be6c_0242ac1c0002row0_col21,#T_94b547a4_4b36_11ec_be6c_0242ac1c0002row18_col0{\n",
              "            background-color:  #7b9ff9;\n",
              "            color:  #000000;\n",
              "        }#T_94b547a4_4b36_11ec_be6c_0242ac1c0002row0_col22,#T_94b547a4_4b36_11ec_be6c_0242ac1c0002row1_col17,#T_94b547a4_4b36_11ec_be6c_0242ac1c0002row8_col18,#T_94b547a4_4b36_11ec_be6c_0242ac1c0002row13_col18,#T_94b547a4_4b36_11ec_be6c_0242ac1c0002row18_col4,#T_94b547a4_4b36_11ec_be6c_0242ac1c0002row20_col4,#T_94b547a4_4b36_11ec_be6c_0242ac1c0002row22_col11,#T_94b547a4_4b36_11ec_be6c_0242ac1c0002row22_col15{\n",
              "            background-color:  #6485ec;\n",
              "            color:  #000000;\n",
              "        }#T_94b547a4_4b36_11ec_be6c_0242ac1c0002row0_col23,#T_94b547a4_4b36_11ec_be6c_0242ac1c0002row8_col23,#T_94b547a4_4b36_11ec_be6c_0242ac1c0002row9_col4,#T_94b547a4_4b36_11ec_be6c_0242ac1c0002row9_col17,#T_94b547a4_4b36_11ec_be6c_0242ac1c0002row11_col3,#T_94b547a4_4b36_11ec_be6c_0242ac1c0002row15_col3,#T_94b547a4_4b36_11ec_be6c_0242ac1c0002row17_col10,#T_94b547a4_4b36_11ec_be6c_0242ac1c0002row17_col23,#T_94b547a4_4b36_11ec_be6c_0242ac1c0002row22_col18{\n",
              "            background-color:  #8db0fe;\n",
              "            color:  #000000;\n",
              "        }#T_94b547a4_4b36_11ec_be6c_0242ac1c0002row1_col0,#T_94b547a4_4b36_11ec_be6c_0242ac1c0002row5_col7,#T_94b547a4_4b36_11ec_be6c_0242ac1c0002row5_col10,#T_94b547a4_4b36_11ec_be6c_0242ac1c0002row6_col7,#T_94b547a4_4b36_11ec_be6c_0242ac1c0002row6_col10,#T_94b547a4_4b36_11ec_be6c_0242ac1c0002row12_col20,#T_94b547a4_4b36_11ec_be6c_0242ac1c0002row21_col13{\n",
              "            background-color:  #465ecf;\n",
              "            color:  #f1f1f1;\n",
              "        }#T_94b547a4_4b36_11ec_be6c_0242ac1c0002row1_col2,#T_94b547a4_4b36_11ec_be6c_0242ac1c0002row5_col1,#T_94b547a4_4b36_11ec_be6c_0242ac1c0002row6_col1,#T_94b547a4_4b36_11ec_be6c_0242ac1c0002row23_col5,#T_94b547a4_4b36_11ec_be6c_0242ac1c0002row23_col6{\n",
              "            background-color:  #bbd1f8;\n",
              "            color:  #000000;\n",
              "        }#T_94b547a4_4b36_11ec_be6c_0242ac1c0002row1_col3,#T_94b547a4_4b36_11ec_be6c_0242ac1c0002row16_col9{\n",
              "            background-color:  #ecd3c5;\n",
              "            color:  #000000;\n",
              "        }#T_94b547a4_4b36_11ec_be6c_0242ac1c0002row1_col4,#T_94b547a4_4b36_11ec_be6c_0242ac1c0002row2_col0,#T_94b547a4_4b36_11ec_be6c_0242ac1c0002row2_col11,#T_94b547a4_4b36_11ec_be6c_0242ac1c0002row2_col12,#T_94b547a4_4b36_11ec_be6c_0242ac1c0002row2_col13,#T_94b547a4_4b36_11ec_be6c_0242ac1c0002row2_col14,#T_94b547a4_4b36_11ec_be6c_0242ac1c0002row2_col15,#T_94b547a4_4b36_11ec_be6c_0242ac1c0002row2_col16,#T_94b547a4_4b36_11ec_be6c_0242ac1c0002row2_col18,#T_94b547a4_4b36_11ec_be6c_0242ac1c0002row3_col7,#T_94b547a4_4b36_11ec_be6c_0242ac1c0002row3_col9,#T_94b547a4_4b36_11ec_be6c_0242ac1c0002row3_col10,#T_94b547a4_4b36_11ec_be6c_0242ac1c0002row3_col19,#T_94b547a4_4b36_11ec_be6c_0242ac1c0002row9_col1,#T_94b547a4_4b36_11ec_be6c_0242ac1c0002row9_col3,#T_94b547a4_4b36_11ec_be6c_0242ac1c0002row9_col5,#T_94b547a4_4b36_11ec_be6c_0242ac1c0002row9_col6,#T_94b547a4_4b36_11ec_be6c_0242ac1c0002row9_col8,#T_94b547a4_4b36_11ec_be6c_0242ac1c0002row9_col20,#T_94b547a4_4b36_11ec_be6c_0242ac1c0002row11_col22,#T_94b547a4_4b36_11ec_be6c_0242ac1c0002row16_col2,#T_94b547a4_4b36_11ec_be6c_0242ac1c0002row16_col22,#T_94b547a4_4b36_11ec_be6c_0242ac1c0002row18_col17,#T_94b547a4_4b36_11ec_be6c_0242ac1c0002row21_col23,#T_94b547a4_4b36_11ec_be6c_0242ac1c0002row23_col21{\n",
              "            background-color:  #3b4cc0;\n",
              "            color:  #f1f1f1;\n",
              "        }#T_94b547a4_4b36_11ec_be6c_0242ac1c0002row1_col7,#T_94b547a4_4b36_11ec_be6c_0242ac1c0002row1_col19,#T_94b547a4_4b36_11ec_be6c_0242ac1c0002row2_col10,#T_94b547a4_4b36_11ec_be6c_0242ac1c0002row20_col13{\n",
              "            background-color:  #6c8ff1;\n",
              "            color:  #000000;\n",
              "        }#T_94b547a4_4b36_11ec_be6c_0242ac1c0002row1_col8,#T_94b547a4_4b36_11ec_be6c_0242ac1c0002row19_col9{\n",
              "            background-color:  #d5dbe5;\n",
              "            color:  #000000;\n",
              "        }#T_94b547a4_4b36_11ec_be6c_0242ac1c0002row1_col10,#T_94b547a4_4b36_11ec_be6c_0242ac1c0002row1_col20,#T_94b547a4_4b36_11ec_be6c_0242ac1c0002row5_col11,#T_94b547a4_4b36_11ec_be6c_0242ac1c0002row6_col11,#T_94b547a4_4b36_11ec_be6c_0242ac1c0002row15_col21{\n",
              "            background-color:  #5673e0;\n",
              "            color:  #000000;\n",
              "        }#T_94b547a4_4b36_11ec_be6c_0242ac1c0002row1_col11,#T_94b547a4_4b36_11ec_be6c_0242ac1c0002row22_col12{\n",
              "            background-color:  #7597f6;\n",
              "            color:  #000000;\n",
              "        }#T_94b547a4_4b36_11ec_be6c_0242ac1c0002row1_col12,#T_94b547a4_4b36_11ec_be6c_0242ac1c0002row11_col5,#T_94b547a4_4b36_11ec_be6c_0242ac1c0002row11_col6,#T_94b547a4_4b36_11ec_be6c_0242ac1c0002row20_col10,#T_94b547a4_4b36_11ec_be6c_0242ac1c0002row23_col10{\n",
              "            background-color:  #89acfd;\n",
              "            color:  #000000;\n",
              "        }#T_94b547a4_4b36_11ec_be6c_0242ac1c0002row1_col13,#T_94b547a4_4b36_11ec_be6c_0242ac1c0002row3_col13,#T_94b547a4_4b36_11ec_be6c_0242ac1c0002row3_col15,#T_94b547a4_4b36_11ec_be6c_0242ac1c0002row3_col16,#T_94b547a4_4b36_11ec_be6c_0242ac1c0002row11_col2,#T_94b547a4_4b36_11ec_be6c_0242ac1c0002row18_col20{\n",
              "            background-color:  #506bda;\n",
              "            color:  #000000;\n",
              "        }#T_94b547a4_4b36_11ec_be6c_0242ac1c0002row1_col14,#T_94b547a4_4b36_11ec_be6c_0242ac1c0002row1_col18,#T_94b547a4_4b36_11ec_be6c_0242ac1c0002row4_col11{\n",
              "            background-color:  #9ebeff;\n",
              "            color:  #000000;\n",
              "        }#T_94b547a4_4b36_11ec_be6c_0242ac1c0002row1_col15{\n",
              "            background-color:  #6f92f3;\n",
              "            color:  #000000;\n",
              "        }#T_94b547a4_4b36_11ec_be6c_0242ac1c0002row1_col16,#T_94b547a4_4b36_11ec_be6c_0242ac1c0002row7_col2,#T_94b547a4_4b36_11ec_be6c_0242ac1c0002row7_col23,#T_94b547a4_4b36_11ec_be6c_0242ac1c0002row10_col3,#T_94b547a4_4b36_11ec_be6c_0242ac1c0002row21_col18{\n",
              "            background-color:  #8badfd;\n",
              "            color:  #000000;\n",
              "        }#T_94b547a4_4b36_11ec_be6c_0242ac1c0002row1_col21,#T_94b547a4_4b36_11ec_be6c_0242ac1c0002row2_col23,#T_94b547a4_4b36_11ec_be6c_0242ac1c0002row9_col23,#T_94b547a4_4b36_11ec_be6c_0242ac1c0002row20_col15,#T_94b547a4_4b36_11ec_be6c_0242ac1c0002row22_col14{\n",
              "            background-color:  #88abfd;\n",
              "            color:  #000000;\n",
              "        }#T_94b547a4_4b36_11ec_be6c_0242ac1c0002row2_col1,#T_94b547a4_4b36_11ec_be6c_0242ac1c0002row10_col2,#T_94b547a4_4b36_11ec_be6c_0242ac1c0002row10_col17,#T_94b547a4_4b36_11ec_be6c_0242ac1c0002row10_col21,#T_94b547a4_4b36_11ec_be6c_0242ac1c0002row19_col23{\n",
              "            background-color:  #96b7ff;\n",
              "            color:  #000000;\n",
              "        }#T_94b547a4_4b36_11ec_be6c_0242ac1c0002row2_col3,#T_94b547a4_4b36_11ec_be6c_0242ac1c0002row10_col7,#T_94b547a4_4b36_11ec_be6c_0242ac1c0002row17_col12,#T_94b547a4_4b36_11ec_be6c_0242ac1c0002row18_col14{\n",
              "            background-color:  #eb7d62;\n",
              "            color:  #000000;\n",
              "        }#T_94b547a4_4b36_11ec_be6c_0242ac1c0002row2_col4,#T_94b547a4_4b36_11ec_be6c_0242ac1c0002row8_col15,#T_94b547a4_4b36_11ec_be6c_0242ac1c0002row8_col16,#T_94b547a4_4b36_11ec_be6c_0242ac1c0002row11_col19,#T_94b547a4_4b36_11ec_be6c_0242ac1c0002row20_col21,#T_94b547a4_4b36_11ec_be6c_0242ac1c0002row22_col4{\n",
              "            background-color:  #84a7fc;\n",
              "            color:  #000000;\n",
              "        }#T_94b547a4_4b36_11ec_be6c_0242ac1c0002row2_col5,#T_94b547a4_4b36_11ec_be6c_0242ac1c0002row2_col6{\n",
              "            background-color:  #e67259;\n",
              "            color:  #000000;\n",
              "        }#T_94b547a4_4b36_11ec_be6c_0242ac1c0002row2_col7,#T_94b547a4_4b36_11ec_be6c_0242ac1c0002row5_col23,#T_94b547a4_4b36_11ec_be6c_0242ac1c0002row6_col23,#T_94b547a4_4b36_11ec_be6c_0242ac1c0002row7_col13,#T_94b547a4_4b36_11ec_be6c_0242ac1c0002row16_col19,#T_94b547a4_4b36_11ec_be6c_0242ac1c0002row20_col1,#T_94b547a4_4b36_11ec_be6c_0242ac1c0002row21_col4{\n",
              "            background-color:  #82a6fb;\n",
              "            color:  #000000;\n",
              "        }#T_94b547a4_4b36_11ec_be6c_0242ac1c0002row2_col8{\n",
              "            background-color:  #f7b396;\n",
              "            color:  #000000;\n",
              "        }#T_94b547a4_4b36_11ec_be6c_0242ac1c0002row2_col9{\n",
              "            background-color:  #6b8df0;\n",
              "            color:  #000000;\n",
              "        }#T_94b547a4_4b36_11ec_be6c_0242ac1c0002row2_col17,#T_94b547a4_4b36_11ec_be6c_0242ac1c0002row11_col1,#T_94b547a4_4b36_11ec_be6c_0242ac1c0002row20_col0{\n",
              "            background-color:  #5a78e4;\n",
              "            color:  #000000;\n",
              "        }#T_94b547a4_4b36_11ec_be6c_0242ac1c0002row2_col19,#T_94b547a4_4b36_11ec_be6c_0242ac1c0002row12_col1,#T_94b547a4_4b36_11ec_be6c_0242ac1c0002row12_col4,#T_94b547a4_4b36_11ec_be6c_0242ac1c0002row13_col4{\n",
              "            background-color:  #6180e9;\n",
              "            color:  #000000;\n",
              "        }#T_94b547a4_4b36_11ec_be6c_0242ac1c0002row2_col20,#T_94b547a4_4b36_11ec_be6c_0242ac1c0002row23_col4{\n",
              "            background-color:  #5d7ce6;\n",
              "            color:  #000000;\n",
              "        }#T_94b547a4_4b36_11ec_be6c_0242ac1c0002row2_col21,#T_94b547a4_4b36_11ec_be6c_0242ac1c0002row14_col17,#T_94b547a4_4b36_11ec_be6c_0242ac1c0002row17_col7,#T_94b547a4_4b36_11ec_be6c_0242ac1c0002row18_col15{\n",
              "            background-color:  #a9c6fd;\n",
              "            color:  #000000;\n",
              "        }#T_94b547a4_4b36_11ec_be6c_0242ac1c0002row2_col22,#T_94b547a4_4b36_11ec_be6c_0242ac1c0002row7_col17,#T_94b547a4_4b36_11ec_be6c_0242ac1c0002row11_col23,#T_94b547a4_4b36_11ec_be6c_0242ac1c0002row19_col17{\n",
              "            background-color:  #93b5fe;\n",
              "            color:  #000000;\n",
              "        }#T_94b547a4_4b36_11ec_be6c_0242ac1c0002row3_col0,#T_94b547a4_4b36_11ec_be6c_0242ac1c0002row8_col0,#T_94b547a4_4b36_11ec_be6c_0242ac1c0002row11_col4,#T_94b547a4_4b36_11ec_be6c_0242ac1c0002row21_col11{\n",
              "            background-color:  #6282ea;\n",
              "            color:  #000000;\n",
              "        }#T_94b547a4_4b36_11ec_be6c_0242ac1c0002row3_col1{\n",
              "            background-color:  #c5d6f2;\n",
              "            color:  #000000;\n",
              "        }#T_94b547a4_4b36_11ec_be6c_0242ac1c0002row3_col2{\n",
              "            background-color:  #f08a6c;\n",
              "            color:  #000000;\n",
              "        }#T_94b547a4_4b36_11ec_be6c_0242ac1c0002row3_col4,#T_94b547a4_4b36_11ec_be6c_0242ac1c0002row13_col22,#T_94b547a4_4b36_11ec_be6c_0242ac1c0002row15_col22{\n",
              "            background-color:  #3e51c5;\n",
              "            color:  #f1f1f1;\n",
              "        }#T_94b547a4_4b36_11ec_be6c_0242ac1c0002row3_col5,#T_94b547a4_4b36_11ec_be6c_0242ac1c0002row3_col6,#T_94b547a4_4b36_11ec_be6c_0242ac1c0002row5_col3,#T_94b547a4_4b36_11ec_be6c_0242ac1c0002row6_col3,#T_94b547a4_4b36_11ec_be6c_0242ac1c0002row11_col15,#T_94b547a4_4b36_11ec_be6c_0242ac1c0002row15_col11{\n",
              "            background-color:  #b8122a;\n",
              "            color:  #f1f1f1;\n",
              "        }#T_94b547a4_4b36_11ec_be6c_0242ac1c0002row3_col8{\n",
              "            background-color:  #f7af91;\n",
              "            color:  #000000;\n",
              "        }#T_94b547a4_4b36_11ec_be6c_0242ac1c0002row3_col14,#T_94b547a4_4b36_11ec_be6c_0242ac1c0002row4_col0,#T_94b547a4_4b36_11ec_be6c_0242ac1c0002row21_col20,#T_94b547a4_4b36_11ec_be6c_0242ac1c0002row22_col0{\n",
              "            background-color:  #4c66d6;\n",
              "            color:  #000000;\n",
              "        }#T_94b547a4_4b36_11ec_be6c_0242ac1c0002row3_col18,#T_94b547a4_4b36_11ec_be6c_0242ac1c0002row7_col1,#T_94b547a4_4b36_11ec_be6c_0242ac1c0002row15_col20{\n",
              "            background-color:  #445acc;\n",
              "            color:  #f1f1f1;\n",
              "        }#T_94b547a4_4b36_11ec_be6c_0242ac1c0002row3_col20,#T_94b547a4_4b36_11ec_be6c_0242ac1c0002row8_col13,#T_94b547a4_4b36_11ec_be6c_0242ac1c0002row21_col16{\n",
              "            background-color:  #779af7;\n",
              "            color:  #000000;\n",
              "        }#T_94b547a4_4b36_11ec_be6c_0242ac1c0002row3_col21,#T_94b547a4_4b36_11ec_be6c_0242ac1c0002row17_col3,#T_94b547a4_4b36_11ec_be6c_0242ac1c0002row23_col12{\n",
              "            background-color:  #aec9fc;\n",
              "            color:  #000000;\n",
              "        }#T_94b547a4_4b36_11ec_be6c_0242ac1c0002row3_col22,#T_94b547a4_4b36_11ec_be6c_0242ac1c0002row4_col22{\n",
              "            background-color:  #97b8ff;\n",
              "            color:  #000000;\n",
              "        }#T_94b547a4_4b36_11ec_be6c_0242ac1c0002row3_col23{\n",
              "            background-color:  #81a4fb;\n",
              "            color:  #000000;\n",
              "        }#T_94b547a4_4b36_11ec_be6c_0242ac1c0002row4_col1,#T_94b547a4_4b36_11ec_be6c_0242ac1c0002row17_col4,#T_94b547a4_4b36_11ec_be6c_0242ac1c0002row18_col22,#T_94b547a4_4b36_11ec_be6c_0242ac1c0002row21_col17,#T_94b547a4_4b36_11ec_be6c_0242ac1c0002row22_col17{\n",
              "            background-color:  #5f7fe8;\n",
              "            color:  #000000;\n",
              "        }#T_94b547a4_4b36_11ec_be6c_0242ac1c0002row4_col2,#T_94b547a4_4b36_11ec_be6c_0242ac1c0002row17_col9,#T_94b547a4_4b36_11ec_be6c_0242ac1c0002row19_col8{\n",
              "            background-color:  #c6d6f1;\n",
              "            color:  #000000;\n",
              "        }#T_94b547a4_4b36_11ec_be6c_0242ac1c0002row4_col3,#T_94b547a4_4b36_11ec_be6c_0242ac1c0002row15_col18,#T_94b547a4_4b36_11ec_be6c_0242ac1c0002row18_col11,#T_94b547a4_4b36_11ec_be6c_0242ac1c0002row20_col2,#T_94b547a4_4b36_11ec_be6c_0242ac1c0002row23_col16{\n",
              "            background-color:  #b1cbfc;\n",
              "            color:  #000000;\n",
              "        }#T_94b547a4_4b36_11ec_be6c_0242ac1c0002row4_col5,#T_94b547a4_4b36_11ec_be6c_0242ac1c0002row4_col6,#T_94b547a4_4b36_11ec_be6c_0242ac1c0002row9_col15,#T_94b547a4_4b36_11ec_be6c_0242ac1c0002row19_col16{\n",
              "            background-color:  #b7cff9;\n",
              "            color:  #000000;\n",
              "        }#T_94b547a4_4b36_11ec_be6c_0242ac1c0002row4_col7{\n",
              "            background-color:  #e36b54;\n",
              "            color:  #000000;\n",
              "        }#T_94b547a4_4b36_11ec_be6c_0242ac1c0002row4_col8{\n",
              "            background-color:  #f18f71;\n",
              "            color:  #000000;\n",
              "        }#T_94b547a4_4b36_11ec_be6c_0242ac1c0002row4_col9{\n",
              "            background-color:  #dfdbd9;\n",
              "            color:  #000000;\n",
              "        }#T_94b547a4_4b36_11ec_be6c_0242ac1c0002row4_col10,#T_94b547a4_4b36_11ec_be6c_0242ac1c0002row11_col13,#T_94b547a4_4b36_11ec_be6c_0242ac1c0002row15_col13{\n",
              "            background-color:  #d1493f;\n",
              "            color:  #f1f1f1;\n",
              "        }#T_94b547a4_4b36_11ec_be6c_0242ac1c0002row4_col12,#T_94b547a4_4b36_11ec_be6c_0242ac1c0002row7_col11,#T_94b547a4_4b36_11ec_be6c_0242ac1c0002row13_col7,#T_94b547a4_4b36_11ec_be6c_0242ac1c0002row17_col0{\n",
              "            background-color:  #aac7fd;\n",
              "            color:  #000000;\n",
              "        }#T_94b547a4_4b36_11ec_be6c_0242ac1c0002row4_col13,#T_94b547a4_4b36_11ec_be6c_0242ac1c0002row12_col3,#T_94b547a4_4b36_11ec_be6c_0242ac1c0002row15_col19,#T_94b547a4_4b36_11ec_be6c_0242ac1c0002row19_col21,#T_94b547a4_4b36_11ec_be6c_0242ac1c0002row21_col1,#T_94b547a4_4b36_11ec_be6c_0242ac1c0002row23_col13,#T_94b547a4_4b36_11ec_be6c_0242ac1c0002row23_col19{\n",
              "            background-color:  #7ea1fa;\n",
              "            color:  #000000;\n",
              "        }#T_94b547a4_4b36_11ec_be6c_0242ac1c0002row4_col14,#T_94b547a4_4b36_11ec_be6c_0242ac1c0002row4_col18,#T_94b547a4_4b36_11ec_be6c_0242ac1c0002row22_col7{\n",
              "            background-color:  #a6c4fe;\n",
              "            color:  #000000;\n",
              "        }#T_94b547a4_4b36_11ec_be6c_0242ac1c0002row4_col15,#T_94b547a4_4b36_11ec_be6c_0242ac1c0002row20_col14,#T_94b547a4_4b36_11ec_be6c_0242ac1c0002row20_col16,#T_94b547a4_4b36_11ec_be6c_0242ac1c0002row23_col11{\n",
              "            background-color:  #9fbfff;\n",
              "            color:  #000000;\n",
              "        }#T_94b547a4_4b36_11ec_be6c_0242ac1c0002row4_col19,#T_94b547a4_4b36_11ec_be6c_0242ac1c0002row7_col19,#T_94b547a4_4b36_11ec_be6c_0242ac1c0002row13_col5,#T_94b547a4_4b36_11ec_be6c_0242ac1c0002row13_col6,#T_94b547a4_4b36_11ec_be6c_0242ac1c0002row14_col8,#T_94b547a4_4b36_11ec_be6c_0242ac1c0002row15_col10,#T_94b547a4_4b36_11ec_be6c_0242ac1c0002row21_col7{\n",
              "            background-color:  #a5c3fe;\n",
              "            color:  #000000;\n",
              "        }#T_94b547a4_4b36_11ec_be6c_0242ac1c0002row4_col20,#T_94b547a4_4b36_11ec_be6c_0242ac1c0002row16_col1,#T_94b547a4_4b36_11ec_be6c_0242ac1c0002row23_col0{\n",
              "            background-color:  #5b7ae5;\n",
              "            color:  #000000;\n",
              "        }#T_94b547a4_4b36_11ec_be6c_0242ac1c0002row4_col21,#T_94b547a4_4b36_11ec_be6c_0242ac1c0002row9_col11,#T_94b547a4_4b36_11ec_be6c_0242ac1c0002row11_col10,#T_94b547a4_4b36_11ec_be6c_0242ac1c0002row12_col8,#T_94b547a4_4b36_11ec_be6c_0242ac1c0002row17_col5,#T_94b547a4_4b36_11ec_be6c_0242ac1c0002row17_col6,#T_94b547a4_4b36_11ec_be6c_0242ac1c0002row23_col14{\n",
              "            background-color:  #adc9fd;\n",
              "            color:  #000000;\n",
              "        }#T_94b547a4_4b36_11ec_be6c_0242ac1c0002row4_col23,#T_94b547a4_4b36_11ec_be6c_0242ac1c0002row7_col21,#T_94b547a4_4b36_11ec_be6c_0242ac1c0002row8_col11,#T_94b547a4_4b36_11ec_be6c_0242ac1c0002row15_col5,#T_94b547a4_4b36_11ec_be6c_0242ac1c0002row15_col6,#T_94b547a4_4b36_11ec_be6c_0242ac1c0002row18_col8,#T_94b547a4_4b36_11ec_be6c_0242ac1c0002row20_col11,#T_94b547a4_4b36_11ec_be6c_0242ac1c0002row20_col19,#T_94b547a4_4b36_11ec_be6c_0242ac1c0002row22_col23{\n",
              "            background-color:  #8caffe;\n",
              "            color:  #000000;\n",
              "        }#T_94b547a4_4b36_11ec_be6c_0242ac1c0002row5_col0,#T_94b547a4_4b36_11ec_be6c_0242ac1c0002row6_col0,#T_94b547a4_4b36_11ec_be6c_0242ac1c0002row7_col3,#T_94b547a4_4b36_11ec_be6c_0242ac1c0002row14_col21,#T_94b547a4_4b36_11ec_be6c_0242ac1c0002row16_col4,#T_94b547a4_4b36_11ec_be6c_0242ac1c0002row22_col19{\n",
              "            background-color:  #688aef;\n",
              "            color:  #000000;\n",
              "        }#T_94b547a4_4b36_11ec_be6c_0242ac1c0002row5_col2,#T_94b547a4_4b36_11ec_be6c_0242ac1c0002row6_col2,#T_94b547a4_4b36_11ec_be6c_0242ac1c0002row12_col14,#T_94b547a4_4b36_11ec_be6c_0242ac1c0002row13_col16,#T_94b547a4_4b36_11ec_be6c_0242ac1c0002row14_col12{\n",
              "            background-color:  #ea7b60;\n",
              "            color:  #000000;\n",
              "        }#T_94b547a4_4b36_11ec_be6c_0242ac1c0002row5_col4,#T_94b547a4_4b36_11ec_be6c_0242ac1c0002row6_col4,#T_94b547a4_4b36_11ec_be6c_0242ac1c0002row14_col20{\n",
              "            background-color:  #4e68d8;\n",
              "            color:  #000000;\n",
              "        }#T_94b547a4_4b36_11ec_be6c_0242ac1c0002row5_col8,#T_94b547a4_4b36_11ec_be6c_0242ac1c0002row6_col8{\n",
              "            background-color:  #f7ad90;\n",
              "            color:  #000000;\n",
              "        }#T_94b547a4_4b36_11ec_be6c_0242ac1c0002row5_col9,#T_94b547a4_4b36_11ec_be6c_0242ac1c0002row6_col9{\n",
              "            background-color:  #4055c8;\n",
              "            color:  #f1f1f1;\n",
              "        }#T_94b547a4_4b36_11ec_be6c_0242ac1c0002row5_col13,#T_94b547a4_4b36_11ec_be6c_0242ac1c0002row5_col15,#T_94b547a4_4b36_11ec_be6c_0242ac1c0002row6_col13,#T_94b547a4_4b36_11ec_be6c_0242ac1c0002row6_col15{\n",
              "            background-color:  #5572df;\n",
              "            color:  #000000;\n",
              "        }#T_94b547a4_4b36_11ec_be6c_0242ac1c0002row5_col14,#T_94b547a4_4b36_11ec_be6c_0242ac1c0002row6_col14,#T_94b547a4_4b36_11ec_be6c_0242ac1c0002row21_col0{\n",
              "            background-color:  #4a63d3;\n",
              "            color:  #f1f1f1;\n",
              "        }#T_94b547a4_4b36_11ec_be6c_0242ac1c0002row5_col17,#T_94b547a4_4b36_11ec_be6c_0242ac1c0002row6_col17,#T_94b547a4_4b36_11ec_be6c_0242ac1c0002row7_col22,#T_94b547a4_4b36_11ec_be6c_0242ac1c0002row23_col22{\n",
              "            background-color:  #7396f5;\n",
              "            color:  #000000;\n",
              "        }#T_94b547a4_4b36_11ec_be6c_0242ac1c0002row5_col18,#T_94b547a4_4b36_11ec_be6c_0242ac1c0002row6_col18,#T_94b547a4_4b36_11ec_be6c_0242ac1c0002row17_col22{\n",
              "            background-color:  #4358cb;\n",
              "            color:  #f1f1f1;\n",
              "        }#T_94b547a4_4b36_11ec_be6c_0242ac1c0002row5_col19,#T_94b547a4_4b36_11ec_be6c_0242ac1c0002row6_col19,#T_94b547a4_4b36_11ec_be6c_0242ac1c0002row7_col0,#T_94b547a4_4b36_11ec_be6c_0242ac1c0002row9_col22,#T_94b547a4_4b36_11ec_be6c_0242ac1c0002row14_col2{\n",
              "            background-color:  #4257c9;\n",
              "            color:  #f1f1f1;\n",
              "        }#T_94b547a4_4b36_11ec_be6c_0242ac1c0002row5_col20,#T_94b547a4_4b36_11ec_be6c_0242ac1c0002row6_col20,#T_94b547a4_4b36_11ec_be6c_0242ac1c0002row13_col2,#T_94b547a4_4b36_11ec_be6c_0242ac1c0002row14_col5,#T_94b547a4_4b36_11ec_be6c_0242ac1c0002row14_col6,#T_94b547a4_4b36_11ec_be6c_0242ac1c0002row18_col5,#T_94b547a4_4b36_11ec_be6c_0242ac1c0002row18_col6{\n",
              "            background-color:  #7093f3;\n",
              "            color:  #000000;\n",
              "        }#T_94b547a4_4b36_11ec_be6c_0242ac1c0002row5_col22,#T_94b547a4_4b36_11ec_be6c_0242ac1c0002row6_col22,#T_94b547a4_4b36_11ec_be6c_0242ac1c0002row14_col0,#T_94b547a4_4b36_11ec_be6c_0242ac1c0002row19_col2,#T_94b547a4_4b36_11ec_be6c_0242ac1c0002row19_col5,#T_94b547a4_4b36_11ec_be6c_0242ac1c0002row19_col6,#T_94b547a4_4b36_11ec_be6c_0242ac1c0002row20_col7{\n",
              "            background-color:  #9dbdff;\n",
              "            color:  #000000;\n",
              "        }#T_94b547a4_4b36_11ec_be6c_0242ac1c0002row7_col4{\n",
              "            background-color:  #ec7f63;\n",
              "            color:  #000000;\n",
              "        }#T_94b547a4_4b36_11ec_be6c_0242ac1c0002row7_col8{\n",
              "            background-color:  #ccd9ed;\n",
              "            color:  #000000;\n",
              "        }#T_94b547a4_4b36_11ec_be6c_0242ac1c0002row7_col9{\n",
              "            background-color:  #e7745b;\n",
              "            color:  #000000;\n",
              "        }#T_94b547a4_4b36_11ec_be6c_0242ac1c0002row7_col10{\n",
              "            background-color:  #ef886b;\n",
              "            color:  #000000;\n",
              "        }#T_94b547a4_4b36_11ec_be6c_0242ac1c0002row7_col12,#T_94b547a4_4b36_11ec_be6c_0242ac1c0002row10_col11,#T_94b547a4_4b36_11ec_be6c_0242ac1c0002row13_col8,#T_94b547a4_4b36_11ec_be6c_0242ac1c0002row15_col0{\n",
              "            background-color:  #bcd2f7;\n",
              "            color:  #000000;\n",
              "        }#T_94b547a4_4b36_11ec_be6c_0242ac1c0002row7_col14,#T_94b547a4_4b36_11ec_be6c_0242ac1c0002row15_col7,#T_94b547a4_4b36_11ec_be6c_0242ac1c0002row16_col0,#T_94b547a4_4b36_11ec_be6c_0242ac1c0002row17_col8,#T_94b547a4_4b36_11ec_be6c_0242ac1c0002row23_col3{\n",
              "            background-color:  #bfd3f6;\n",
              "            color:  #000000;\n",
              "        }#T_94b547a4_4b36_11ec_be6c_0242ac1c0002row7_col16,#T_94b547a4_4b36_11ec_be6c_0242ac1c0002row20_col5,#T_94b547a4_4b36_11ec_be6c_0242ac1c0002row20_col6{\n",
              "            background-color:  #d2dbe8;\n",
              "            color:  #000000;\n",
              "        }#T_94b547a4_4b36_11ec_be6c_0242ac1c0002row7_col18,#T_94b547a4_4b36_11ec_be6c_0242ac1c0002row10_col14{\n",
              "            background-color:  #cfdaea;\n",
              "            color:  #000000;\n",
              "        }#T_94b547a4_4b36_11ec_be6c_0242ac1c0002row7_col20,#T_94b547a4_4b36_11ec_be6c_0242ac1c0002row22_col20{\n",
              "            background-color:  #4b64d5;\n",
              "            color:  #f1f1f1;\n",
              "        }#T_94b547a4_4b36_11ec_be6c_0242ac1c0002row8_col1,#T_94b547a4_4b36_11ec_be6c_0242ac1c0002row21_col9,#T_94b547a4_4b36_11ec_be6c_0242ac1c0002row23_col7{\n",
              "            background-color:  #a3c2fe;\n",
              "            color:  #000000;\n",
              "        }#T_94b547a4_4b36_11ec_be6c_0242ac1c0002row8_col2{\n",
              "            background-color:  #f6bda2;\n",
              "            color:  #000000;\n",
              "        }#T_94b547a4_4b36_11ec_be6c_0242ac1c0002row8_col3{\n",
              "            background-color:  #f7aa8c;\n",
              "            color:  #000000;\n",
              "        }#T_94b547a4_4b36_11ec_be6c_0242ac1c0002row8_col4{\n",
              "            background-color:  #f7b79b;\n",
              "            color:  #000000;\n",
              "        }#T_94b547a4_4b36_11ec_be6c_0242ac1c0002row8_col5,#T_94b547a4_4b36_11ec_be6c_0242ac1c0002row8_col6{\n",
              "            background-color:  #f7ac8e;\n",
              "            color:  #000000;\n",
              "        }#T_94b547a4_4b36_11ec_be6c_0242ac1c0002row8_col7,#T_94b547a4_4b36_11ec_be6c_0242ac1c0002row10_col19,#T_94b547a4_4b36_11ec_be6c_0242ac1c0002row11_col18,#T_94b547a4_4b36_11ec_be6c_0242ac1c0002row12_col10,#T_94b547a4_4b36_11ec_be6c_0242ac1c0002row16_col10,#T_94b547a4_4b36_11ec_be6c_0242ac1c0002row19_col12{\n",
              "            background-color:  #b6cefa;\n",
              "            color:  #000000;\n",
              "        }#T_94b547a4_4b36_11ec_be6c_0242ac1c0002row8_col9,#T_94b547a4_4b36_11ec_be6c_0242ac1c0002row9_col2,#T_94b547a4_4b36_11ec_be6c_0242ac1c0002row11_col20,#T_94b547a4_4b36_11ec_be6c_0242ac1c0002row13_col20,#T_94b547a4_4b36_11ec_be6c_0242ac1c0002row16_col20,#T_94b547a4_4b36_11ec_be6c_0242ac1c0002row17_col20{\n",
              "            background-color:  #455cce;\n",
              "            color:  #f1f1f1;\n",
              "        }#T_94b547a4_4b36_11ec_be6c_0242ac1c0002row8_col10,#T_94b547a4_4b36_11ec_be6c_0242ac1c0002row18_col9{\n",
              "            background-color:  #f2cab5;\n",
              "            color:  #000000;\n",
              "        }#T_94b547a4_4b36_11ec_be6c_0242ac1c0002row8_col12,#T_94b547a4_4b36_11ec_be6c_0242ac1c0002row16_col23,#T_94b547a4_4b36_11ec_be6c_0242ac1c0002row19_col4,#T_94b547a4_4b36_11ec_be6c_0242ac1c0002row22_col10{\n",
              "            background-color:  #92b4fe;\n",
              "            color:  #000000;\n",
              "        }#T_94b547a4_4b36_11ec_be6c_0242ac1c0002row8_col14,#T_94b547a4_4b36_11ec_be6c_0242ac1c0002row12_col19,#T_94b547a4_4b36_11ec_be6c_0242ac1c0002row20_col23,#T_94b547a4_4b36_11ec_be6c_0242ac1c0002row23_col1{\n",
              "            background-color:  #86a9fc;\n",
              "            color:  #000000;\n",
              "        }#T_94b547a4_4b36_11ec_be6c_0242ac1c0002row8_col19,#T_94b547a4_4b36_11ec_be6c_0242ac1c0002row9_col13,#T_94b547a4_4b36_11ec_be6c_0242ac1c0002row10_col22,#T_94b547a4_4b36_11ec_be6c_0242ac1c0002row18_col1,#T_94b547a4_4b36_11ec_be6c_0242ac1c0002row20_col17,#T_94b547a4_4b36_11ec_be6c_0242ac1c0002row22_col1{\n",
              "            background-color:  #80a3fa;\n",
              "            color:  #000000;\n",
              "        }#T_94b547a4_4b36_11ec_be6c_0242ac1c0002row8_col22,#T_94b547a4_4b36_11ec_be6c_0242ac1c0002row12_col7,#T_94b547a4_4b36_11ec_be6c_0242ac1c0002row13_col14,#T_94b547a4_4b36_11ec_be6c_0242ac1c0002row14_col10{\n",
              "            background-color:  #bad0f8;\n",
              "            color:  #000000;\n",
              "        }#T_94b547a4_4b36_11ec_be6c_0242ac1c0002row9_col0,#T_94b547a4_4b36_11ec_be6c_0242ac1c0002row12_col2{\n",
              "            background-color:  #3f53c6;\n",
              "            color:  #f1f1f1;\n",
              "        }#T_94b547a4_4b36_11ec_be6c_0242ac1c0002row9_col7{\n",
              "            background-color:  #ed8366;\n",
              "            color:  #000000;\n",
              "        }#T_94b547a4_4b36_11ec_be6c_0242ac1c0002row9_col10,#T_94b547a4_4b36_11ec_be6c_0242ac1c0002row14_col7,#T_94b547a4_4b36_11ec_be6c_0242ac1c0002row17_col14{\n",
              "            background-color:  #bed2f6;\n",
              "            color:  #000000;\n",
              "        }#T_94b547a4_4b36_11ec_be6c_0242ac1c0002row9_col12,#T_94b547a4_4b36_11ec_be6c_0242ac1c0002row12_col0,#T_94b547a4_4b36_11ec_be6c_0242ac1c0002row21_col2,#T_94b547a4_4b36_11ec_be6c_0242ac1c0002row22_col2,#T_94b547a4_4b36_11ec_be6c_0242ac1c0002row23_col9{\n",
              "            background-color:  #c3d5f4;\n",
              "            color:  #000000;\n",
              "        }#T_94b547a4_4b36_11ec_be6c_0242ac1c0002row9_col18{\n",
              "            background-color:  #e3d9d3;\n",
              "            color:  #000000;\n",
              "        }#T_94b547a4_4b36_11ec_be6c_0242ac1c0002row9_col21,#T_94b547a4_4b36_11ec_be6c_0242ac1c0002row14_col4,#T_94b547a4_4b36_11ec_be6c_0242ac1c0002row17_col21{\n",
              "            background-color:  #5e7de7;\n",
              "            color:  #000000;\n",
              "        }#T_94b547a4_4b36_11ec_be6c_0242ac1c0002row10_col0,#T_94b547a4_4b36_11ec_be6c_0242ac1c0002row12_col5,#T_94b547a4_4b36_11ec_be6c_0242ac1c0002row12_col6,#T_94b547a4_4b36_11ec_be6c_0242ac1c0002row17_col19,#T_94b547a4_4b36_11ec_be6c_0242ac1c0002row18_col3{\n",
              "            background-color:  #799cf8;\n",
              "            color:  #000000;\n",
              "        }#T_94b547a4_4b36_11ec_be6c_0242ac1c0002row10_col1,#T_94b547a4_4b36_11ec_be6c_0242ac1c0002row14_col22{\n",
              "            background-color:  #516ddb;\n",
              "            color:  #000000;\n",
              "        }#T_94b547a4_4b36_11ec_be6c_0242ac1c0002row10_col4,#T_94b547a4_4b36_11ec_be6c_0242ac1c0002row11_col17{\n",
              "            background-color:  #d55042;\n",
              "            color:  #000000;\n",
              "        }#T_94b547a4_4b36_11ec_be6c_0242ac1c0002row10_col8{\n",
              "            background-color:  #f7b093;\n",
              "            color:  #000000;\n",
              "        }#T_94b547a4_4b36_11ec_be6c_0242ac1c0002row10_col9,#T_94b547a4_4b36_11ec_be6c_0242ac1c0002row21_col8{\n",
              "            background-color:  #e7d7ce;\n",
              "            color:  #000000;\n",
              "        }#T_94b547a4_4b36_11ec_be6c_0242ac1c0002row10_col12,#T_94b547a4_4b36_11ec_be6c_0242ac1c0002row16_col7,#T_94b547a4_4b36_11ec_be6c_0242ac1c0002row20_col8{\n",
              "            background-color:  #cedaeb;\n",
              "            color:  #000000;\n",
              "        }#T_94b547a4_4b36_11ec_be6c_0242ac1c0002row10_col16{\n",
              "            background-color:  #d1dae9;\n",
              "            color:  #000000;\n",
              "        }#T_94b547a4_4b36_11ec_be6c_0242ac1c0002row10_col18,#T_94b547a4_4b36_11ec_be6c_0242ac1c0002row19_col7{\n",
              "            background-color:  #cbd8ee;\n",
              "            color:  #000000;\n",
              "        }#T_94b547a4_4b36_11ec_be6c_0242ac1c0002row10_col20,#T_94b547a4_4b36_11ec_be6c_0242ac1c0002row13_col21,#T_94b547a4_4b36_11ec_be6c_0242ac1c0002row19_col0{\n",
              "            background-color:  #5977e3;\n",
              "            color:  #000000;\n",
              "        }#T_94b547a4_4b36_11ec_be6c_0242ac1c0002row11_col7,#T_94b547a4_4b36_11ec_be6c_0242ac1c0002row11_col8{\n",
              "            background-color:  #b5cdfa;\n",
              "            color:  #000000;\n",
              "        }#T_94b547a4_4b36_11ec_be6c_0242ac1c0002row11_col12,#T_94b547a4_4b36_11ec_be6c_0242ac1c0002row17_col13{\n",
              "            background-color:  #c12b30;\n",
              "            color:  #f1f1f1;\n",
              "        }#T_94b547a4_4b36_11ec_be6c_0242ac1c0002row11_col14{\n",
              "            background-color:  #f7ba9f;\n",
              "            color:  #000000;\n",
              "        }#T_94b547a4_4b36_11ec_be6c_0242ac1c0002row11_col16,#T_94b547a4_4b36_11ec_be6c_0242ac1c0002row12_col15,#T_94b547a4_4b36_11ec_be6c_0242ac1c0002row15_col16{\n",
              "            background-color:  #cb3e38;\n",
              "            color:  #f1f1f1;\n",
              "        }#T_94b547a4_4b36_11ec_be6c_0242ac1c0002row11_col21,#T_94b547a4_4b36_11ec_be6c_0242ac1c0002row12_col21,#T_94b547a4_4b36_11ec_be6c_0242ac1c0002row15_col2,#T_94b547a4_4b36_11ec_be6c_0242ac1c0002row16_col21{\n",
              "            background-color:  #536edd;\n",
              "            color:  #000000;\n",
              "        }#T_94b547a4_4b36_11ec_be6c_0242ac1c0002row12_col9,#T_94b547a4_4b36_11ec_be6c_0242ac1c0002row22_col3,#T_94b547a4_4b36_11ec_be6c_0242ac1c0002row22_col5,#T_94b547a4_4b36_11ec_be6c_0242ac1c0002row22_col6{\n",
              "            background-color:  #dadce0;\n",
              "            color:  #000000;\n",
              "        }#T_94b547a4_4b36_11ec_be6c_0242ac1c0002row12_col11,#T_94b547a4_4b36_11ec_be6c_0242ac1c0002row12_col16,#T_94b547a4_4b36_11ec_be6c_0242ac1c0002row22_col21{\n",
              "            background-color:  #c32e31;\n",
              "            color:  #f1f1f1;\n",
              "        }#T_94b547a4_4b36_11ec_be6c_0242ac1c0002row12_col13,#T_94b547a4_4b36_11ec_be6c_0242ac1c0002row12_col17,#T_94b547a4_4b36_11ec_be6c_0242ac1c0002row17_col16{\n",
              "            background-color:  #ee8669;\n",
              "            color:  #000000;\n",
              "        }#T_94b547a4_4b36_11ec_be6c_0242ac1c0002row12_col18{\n",
              "            background-color:  #e4d9d2;\n",
              "            color:  #000000;\n",
              "        }#T_94b547a4_4b36_11ec_be6c_0242ac1c0002row12_col22{\n",
              "            background-color:  #3c4ec2;\n",
              "            color:  #f1f1f1;\n",
              "        }#T_94b547a4_4b36_11ec_be6c_0242ac1c0002row12_col23,#T_94b547a4_4b36_11ec_be6c_0242ac1c0002row14_col13,#T_94b547a4_4b36_11ec_be6c_0242ac1c0002row14_col23{\n",
              "            background-color:  #94b6ff;\n",
              "            color:  #000000;\n",
              "        }#T_94b547a4_4b36_11ec_be6c_0242ac1c0002row13_col0{\n",
              "            background-color:  #b2ccfb;\n",
              "            color:  #000000;\n",
              "        }#T_94b547a4_4b36_11ec_be6c_0242ac1c0002row13_col1,#T_94b547a4_4b36_11ec_be6c_0242ac1c0002row15_col1,#T_94b547a4_4b36_11ec_be6c_0242ac1c0002row17_col1{\n",
              "            background-color:  #5875e1;\n",
              "            color:  #000000;\n",
              "        }#T_94b547a4_4b36_11ec_be6c_0242ac1c0002row13_col3,#T_94b547a4_4b36_11ec_be6c_0242ac1c0002row19_col11,#T_94b547a4_4b36_11ec_be6c_0242ac1c0002row19_col18,#T_94b547a4_4b36_11ec_be6c_0242ac1c0002row23_col2{\n",
              "            background-color:  #a7c5fe;\n",
              "            color:  #000000;\n",
              "        }#T_94b547a4_4b36_11ec_be6c_0242ac1c0002row13_col10{\n",
              "            background-color:  #9abbff;\n",
              "            color:  #000000;\n",
              "        }#T_94b547a4_4b36_11ec_be6c_0242ac1c0002row13_col11,#T_94b547a4_4b36_11ec_be6c_0242ac1c0002row13_col15,#T_94b547a4_4b36_11ec_be6c_0242ac1c0002row15_col17,#T_94b547a4_4b36_11ec_be6c_0242ac1c0002row17_col15{\n",
              "            background-color:  #cf453c;\n",
              "            color:  #f1f1f1;\n",
              "        }#T_94b547a4_4b36_11ec_be6c_0242ac1c0002row13_col12{\n",
              "            background-color:  #e9785d;\n",
              "            color:  #000000;\n",
              "        }#T_94b547a4_4b36_11ec_be6c_0242ac1c0002row13_col17{\n",
              "            background-color:  #c0282f;\n",
              "            color:  #f1f1f1;\n",
              "        }#T_94b547a4_4b36_11ec_be6c_0242ac1c0002row13_col19,#T_94b547a4_4b36_11ec_be6c_0242ac1c0002row17_col2,#T_94b547a4_4b36_11ec_be6c_0242ac1c0002row18_col19{\n",
              "            background-color:  #7da0f9;\n",
              "            color:  #000000;\n",
              "        }#T_94b547a4_4b36_11ec_be6c_0242ac1c0002row14_col1,#T_94b547a4_4b36_11ec_be6c_0242ac1c0002row14_col3,#T_94b547a4_4b36_11ec_be6c_0242ac1c0002row19_col1,#T_94b547a4_4b36_11ec_be6c_0242ac1c0002row22_col16{\n",
              "            background-color:  #7a9df8;\n",
              "            color:  #000000;\n",
              "        }#T_94b547a4_4b36_11ec_be6c_0242ac1c0002row14_col9{\n",
              "            background-color:  #e0dbd8;\n",
              "            color:  #000000;\n",
              "        }#T_94b547a4_4b36_11ec_be6c_0242ac1c0002row14_col11{\n",
              "            background-color:  #f5c0a7;\n",
              "            color:  #000000;\n",
              "        }#T_94b547a4_4b36_11ec_be6c_0242ac1c0002row14_col15{\n",
              "            background-color:  #f2cbb7;\n",
              "            color:  #000000;\n",
              "        }#T_94b547a4_4b36_11ec_be6c_0242ac1c0002row14_col16{\n",
              "            background-color:  #f29072;\n",
              "            color:  #000000;\n",
              "        }#T_94b547a4_4b36_11ec_be6c_0242ac1c0002row14_col18{\n",
              "            background-color:  #ec8165;\n",
              "            color:  #000000;\n",
              "        }#T_94b547a4_4b36_11ec_be6c_0242ac1c0002row14_col19,#T_94b547a4_4b36_11ec_be6c_0242ac1c0002row19_col13,#T_94b547a4_4b36_11ec_be6c_0242ac1c0002row21_col14{\n",
              "            background-color:  #85a8fc;\n",
              "            color:  #000000;\n",
              "        }#T_94b547a4_4b36_11ec_be6c_0242ac1c0002row15_col4,#T_94b547a4_4b36_11ec_be6c_0242ac1c0002row19_col22{\n",
              "            background-color:  #6788ee;\n",
              "            color:  #000000;\n",
              "        }#T_94b547a4_4b36_11ec_be6c_0242ac1c0002row15_col8{\n",
              "            background-color:  #afcafc;\n",
              "            color:  #000000;\n",
              "        }#T_94b547a4_4b36_11ec_be6c_0242ac1c0002row15_col9,#T_94b547a4_4b36_11ec_be6c_0242ac1c0002row21_col3,#T_94b547a4_4b36_11ec_be6c_0242ac1c0002row21_col5,#T_94b547a4_4b36_11ec_be6c_0242ac1c0002row21_col6{\n",
              "            background-color:  #dbdcde;\n",
              "            color:  #000000;\n",
              "        }#T_94b547a4_4b36_11ec_be6c_0242ac1c0002row15_col12{\n",
              "            background-color:  #ca3b37;\n",
              "            color:  #f1f1f1;\n",
              "        }#T_94b547a4_4b36_11ec_be6c_0242ac1c0002row15_col14{\n",
              "            background-color:  #f4c5ad;\n",
              "            color:  #000000;\n",
              "        }#T_94b547a4_4b36_11ec_be6c_0242ac1c0002row16_col3,#T_94b547a4_4b36_11ec_be6c_0242ac1c0002row18_col21{\n",
              "            background-color:  #7699f6;\n",
              "            color:  #000000;\n",
              "        }#T_94b547a4_4b36_11ec_be6c_0242ac1c0002row16_col8,#T_94b547a4_4b36_11ec_be6c_0242ac1c0002row19_col3,#T_94b547a4_4b36_11ec_be6c_0242ac1c0002row20_col12,#T_94b547a4_4b36_11ec_be6c_0242ac1c0002row20_col18,#T_94b547a4_4b36_11ec_be6c_0242ac1c0002row23_col15{\n",
              "            background-color:  #9bbcff;\n",
              "            color:  #000000;\n",
              "        }#T_94b547a4_4b36_11ec_be6c_0242ac1c0002row16_col11,#T_94b547a4_4b36_11ec_be6c_0242ac1c0002row16_col15{\n",
              "            background-color:  #cc403a;\n",
              "            color:  #f1f1f1;\n",
              "        }#T_94b547a4_4b36_11ec_be6c_0242ac1c0002row16_col12,#T_94b547a4_4b36_11ec_be6c_0242ac1c0002row21_col22{\n",
              "            background-color:  #c43032;\n",
              "            color:  #f1f1f1;\n",
              "        }#T_94b547a4_4b36_11ec_be6c_0242ac1c0002row16_col13{\n",
              "            background-color:  #f18d6f;\n",
              "            color:  #000000;\n",
              "        }#T_94b547a4_4b36_11ec_be6c_0242ac1c0002row16_col14,#T_94b547a4_4b36_11ec_be6c_0242ac1c0002row16_col17{\n",
              "            background-color:  #f29274;\n",
              "            color:  #000000;\n",
              "        }#T_94b547a4_4b36_11ec_be6c_0242ac1c0002row16_col18{\n",
              "            background-color:  #f3c7b1;\n",
              "            color:  #000000;\n",
              "        }#T_94b547a4_4b36_11ec_be6c_0242ac1c0002row17_col11{\n",
              "            background-color:  #d24b40;\n",
              "            color:  #f1f1f1;\n",
              "        }#T_94b547a4_4b36_11ec_be6c_0242ac1c0002row18_col2{\n",
              "            background-color:  #4961d2;\n",
              "            color:  #f1f1f1;\n",
              "        }#T_94b547a4_4b36_11ec_be6c_0242ac1c0002row18_col12,#T_94b547a4_4b36_11ec_be6c_0242ac1c0002row22_col8{\n",
              "            background-color:  #e8d6cc;\n",
              "            color:  #000000;\n",
              "        }#T_94b547a4_4b36_11ec_be6c_0242ac1c0002row18_col13{\n",
              "            background-color:  #3d50c3;\n",
              "            color:  #f1f1f1;\n",
              "        }#T_94b547a4_4b36_11ec_be6c_0242ac1c0002row18_col16{\n",
              "            background-color:  #f5c1a9;\n",
              "            color:  #000000;\n",
              "        }#T_94b547a4_4b36_11ec_be6c_0242ac1c0002row20_col3{\n",
              "            background-color:  #d8dce2;\n",
              "            color:  #000000;\n",
              "        }#T_94b547a4_4b36_11ec_be6c_0242ac1c0002row20_col22{\n",
              "            background-color:  #6a8bef;\n",
              "            color:  #000000;\n",
              "        }#T_94b547a4_4b36_11ec_be6c_0242ac1c0002row21_col15{\n",
              "            background-color:  #6384eb;\n",
              "            color:  #000000;\n",
              "        }#T_94b547a4_4b36_11ec_be6c_0242ac1c0002row21_col19{\n",
              "            background-color:  #6687ed;\n",
              "            color:  #000000;\n",
              "        }#T_94b547a4_4b36_11ec_be6c_0242ac1c0002row22_col9,#T_94b547a4_4b36_11ec_be6c_0242ac1c0002row23_col18{\n",
              "            background-color:  #a2c1ff;\n",
              "            color:  #000000;\n",
              "        }#T_94b547a4_4b36_11ec_be6c_0242ac1c0002row22_col13{\n",
              "            background-color:  #485fd1;\n",
              "            color:  #f1f1f1;\n",
              "        }#T_94b547a4_4b36_11ec_be6c_0242ac1c0002row23_col8{\n",
              "            background-color:  #c0d4f5;\n",
              "            color:  #000000;\n",
              "        }</style><table id=\"T_94b547a4_4b36_11ec_be6c_0242ac1c0002\" class=\"dataframe\"><thead>    <tr>        <th class=\"blank level0\" ></th>        <th class=\"col_heading level0 col0\" >fips</th>        <th class=\"col_heading level0 col1\" >PRECTOT</th>        <th class=\"col_heading level0 col2\" >PS</th>        <th class=\"col_heading level0 col3\" >QV2M</th>        <th class=\"col_heading level0 col4\" >T2M</th>        <th class=\"col_heading level0 col5\" >T2MDEW</th>        <th class=\"col_heading level0 col6\" >T2MWET</th>        <th class=\"col_heading level0 col7\" >T2M_MAX</th>        <th class=\"col_heading level0 col8\" >T2M_MIN</th>        <th class=\"col_heading level0 col9\" >T2M_RANGE</th>        <th class=\"col_heading level0 col10\" >TS</th>        <th class=\"col_heading level0 col11\" >WS10M</th>        <th class=\"col_heading level0 col12\" >WS10M_MAX</th>        <th class=\"col_heading level0 col13\" >WS10M_MIN</th>        <th class=\"col_heading level0 col14\" >WS10M_RANGE</th>        <th class=\"col_heading level0 col15\" >WS50M</th>        <th class=\"col_heading level0 col16\" >WS50M_MAX</th>        <th class=\"col_heading level0 col17\" >WS50M_MIN</th>        <th class=\"col_heading level0 col18\" >WS50M_RANGE</th>        <th class=\"col_heading level0 col19\" >score</th>        <th class=\"col_heading level0 col20\" >year</th>        <th class=\"col_heading level0 col21\" >month</th>        <th class=\"col_heading level0 col22\" >week</th>        <th class=\"col_heading level0 col23\" >day</th>    </tr></thead><tbody>\n",
              "                <tr>\n",
              "                        <th id=\"T_94b547a4_4b36_11ec_be6c_0242ac1c0002level0_row0\" class=\"row_heading level0 row0\" >fips</th>\n",
              "                        <td id=\"T_94b547a4_4b36_11ec_be6c_0242ac1c0002row0_col0\" class=\"data row0 col0\" >1.000000</td>\n",
              "                        <td id=\"T_94b547a4_4b36_11ec_be6c_0242ac1c0002row0_col1\" class=\"data row0 col1\" >-0.057942</td>\n",
              "                        <td id=\"T_94b547a4_4b36_11ec_be6c_0242ac1c0002row0_col2\" class=\"data row0 col2\" >-0.104166</td>\n",
              "                        <td id=\"T_94b547a4_4b36_11ec_be6c_0242ac1c0002row0_col3\" class=\"data row0 col3\" >0.036827</td>\n",
              "                        <td id=\"T_94b547a4_4b36_11ec_be6c_0242ac1c0002row0_col4\" class=\"data row0 col4\" >-0.035788</td>\n",
              "                        <td id=\"T_94b547a4_4b36_11ec_be6c_0242ac1c0002row0_col5\" class=\"data row0 col5\" >0.056190</td>\n",
              "                        <td id=\"T_94b547a4_4b36_11ec_be6c_0242ac1c0002row0_col6\" class=\"data row0 col6\" >0.055890</td>\n",
              "                        <td id=\"T_94b547a4_4b36_11ec_be6c_0242ac1c0002row0_col7\" class=\"data row0 col7\" >-0.076970</td>\n",
              "                        <td id=\"T_94b547a4_4b36_11ec_be6c_0242ac1c0002row0_col8\" class=\"data row0 col8\" >0.036424</td>\n",
              "                        <td id=\"T_94b547a4_4b36_11ec_be6c_0242ac1c0002row0_col9\" class=\"data row0 col9\" >-0.085247</td>\n",
              "                        <td id=\"T_94b547a4_4b36_11ec_be6c_0242ac1c0002row0_col10\" class=\"data row0 col10\" >0.109544</td>\n",
              "                        <td id=\"T_94b547a4_4b36_11ec_be6c_0242ac1c0002row0_col11\" class=\"data row0 col11\" >0.351739</td>\n",
              "                        <td id=\"T_94b547a4_4b36_11ec_be6c_0242ac1c0002row0_col12\" class=\"data row0 col12\" >0.346802</td>\n",
              "                        <td id=\"T_94b547a4_4b36_11ec_be6c_0242ac1c0002row0_col13\" class=\"data row0 col13\" >0.291494</td>\n",
              "                        <td id=\"T_94b547a4_4b36_11ec_be6c_0242ac1c0002row0_col14\" class=\"data row0 col14\" >0.222233</td>\n",
              "                        <td id=\"T_94b547a4_4b36_11ec_be6c_0242ac1c0002row0_col15\" class=\"data row0 col15\" >0.324720</td>\n",
              "                        <td id=\"T_94b547a4_4b36_11ec_be6c_0242ac1c0002row0_col16\" class=\"data row0 col16\" >0.335203</td>\n",
              "                        <td id=\"T_94b547a4_4b36_11ec_be6c_0242ac1c0002row0_col17\" class=\"data row0 col17\" >0.262578</td>\n",
              "                        <td id=\"T_94b547a4_4b36_11ec_be6c_0242ac1c0002row0_col18\" class=\"data row0 col18\" >0.116800</td>\n",
              "                        <td id=\"T_94b547a4_4b36_11ec_be6c_0242ac1c0002row0_col19\" class=\"data row0 col19\" >0.005794</td>\n",
              "                        <td id=\"T_94b547a4_4b36_11ec_be6c_0242ac1c0002row0_col20\" class=\"data row0 col20\" >0.008911</td>\n",
              "                        <td id=\"T_94b547a4_4b36_11ec_be6c_0242ac1c0002row0_col21\" class=\"data row0 col21\" >-0.046321</td>\n",
              "                        <td id=\"T_94b547a4_4b36_11ec_be6c_0242ac1c0002row0_col22\" class=\"data row0 col22\" >-0.037325</td>\n",
              "                        <td id=\"T_94b547a4_4b36_11ec_be6c_0242ac1c0002row0_col23\" class=\"data row0 col23\" >0.016032</td>\n",
              "            </tr>\n",
              "            <tr>\n",
              "                        <th id=\"T_94b547a4_4b36_11ec_be6c_0242ac1c0002level0_row1\" class=\"row_heading level0 row1\" >PRECTOT</th>\n",
              "                        <td id=\"T_94b547a4_4b36_11ec_be6c_0242ac1c0002row1_col0\" class=\"data row1 col0\" >-0.057942</td>\n",
              "                        <td id=\"T_94b547a4_4b36_11ec_be6c_0242ac1c0002row1_col1\" class=\"data row1 col1\" >1.000000</td>\n",
              "                        <td id=\"T_94b547a4_4b36_11ec_be6c_0242ac1c0002row1_col2\" class=\"data row1 col2\" >0.086157</td>\n",
              "                        <td id=\"T_94b547a4_4b36_11ec_be6c_0242ac1c0002row1_col3\" class=\"data row1 col3\" >0.262928</td>\n",
              "                        <td id=\"T_94b547a4_4b36_11ec_be6c_0242ac1c0002row1_col4\" class=\"data row1 col4\" >-0.111960</td>\n",
              "                        <td id=\"T_94b547a4_4b36_11ec_be6c_0242ac1c0002row1_col5\" class=\"data row1 col5\" >0.223812</td>\n",
              "                        <td id=\"T_94b547a4_4b36_11ec_be6c_0242ac1c0002row1_col6\" class=\"data row1 col6\" >0.224008</td>\n",
              "                        <td id=\"T_94b547a4_4b36_11ec_be6c_0242ac1c0002row1_col7\" class=\"data row1 col7\" >-0.221066</td>\n",
              "                        <td id=\"T_94b547a4_4b36_11ec_be6c_0242ac1c0002row1_col8\" class=\"data row1 col8\" >0.132294</td>\n",
              "                        <td id=\"T_94b547a4_4b36_11ec_be6c_0242ac1c0002row1_col9\" class=\"data row1 col9\" >-0.264215</td>\n",
              "                        <td id=\"T_94b547a4_4b36_11ec_be6c_0242ac1c0002row1_col10\" class=\"data row1 col10\" >-0.166011</td>\n",
              "                        <td id=\"T_94b547a4_4b36_11ec_be6c_0242ac1c0002row1_col11\" class=\"data row1 col11\" >-0.132543</td>\n",
              "                        <td id=\"T_94b547a4_4b36_11ec_be6c_0242ac1c0002row1_col12\" class=\"data row1 col12\" >-0.109413</td>\n",
              "                        <td id=\"T_94b547a4_4b36_11ec_be6c_0242ac1c0002row1_col13\" class=\"data row1 col13\" >-0.145477</td>\n",
              "                        <td id=\"T_94b547a4_4b36_11ec_be6c_0242ac1c0002row1_col14\" class=\"data row1 col14\" >-0.015629</td>\n",
              "                        <td id=\"T_94b547a4_4b36_11ec_be6c_0242ac1c0002row1_col15\" class=\"data row1 col15\" >-0.143694</td>\n",
              "                        <td id=\"T_94b547a4_4b36_11ec_be6c_0242ac1c0002row1_col16\" class=\"data row1 col16\" >-0.128286</td>\n",
              "                        <td id=\"T_94b547a4_4b36_11ec_be6c_0242ac1c0002row1_col17\" class=\"data row1 col17\" >-0.141102</td>\n",
              "                        <td id=\"T_94b547a4_4b36_11ec_be6c_0242ac1c0002row1_col18\" class=\"data row1 col18\" >0.005543</td>\n",
              "                        <td id=\"T_94b547a4_4b36_11ec_be6c_0242ac1c0002row1_col19\" class=\"data row1 col19\" >-0.012724</td>\n",
              "                        <td id=\"T_94b547a4_4b36_11ec_be6c_0242ac1c0002row1_col20\" class=\"data row1 col20\" >0.016803</td>\n",
              "                        <td id=\"T_94b547a4_4b36_11ec_be6c_0242ac1c0002row1_col21\" class=\"data row1 col21\" >0.000144</td>\n",
              "                        <td id=\"T_94b547a4_4b36_11ec_be6c_0242ac1c0002row1_col22\" class=\"data row1 col22\" >0.007337</td>\n",
              "                        <td id=\"T_94b547a4_4b36_11ec_be6c_0242ac1c0002row1_col23\" class=\"data row1 col23\" >0.029887</td>\n",
              "            </tr>\n",
              "            <tr>\n",
              "                        <th id=\"T_94b547a4_4b36_11ec_be6c_0242ac1c0002level0_row2\" class=\"row_heading level0 row2\" >PS</th>\n",
              "                        <td id=\"T_94b547a4_4b36_11ec_be6c_0242ac1c0002row2_col0\" class=\"data row2 col0\" >-0.104166</td>\n",
              "                        <td id=\"T_94b547a4_4b36_11ec_be6c_0242ac1c0002row2_col1\" class=\"data row2 col1\" >0.086157</td>\n",
              "                        <td id=\"T_94b547a4_4b36_11ec_be6c_0242ac1c0002row2_col2\" class=\"data row2 col2\" >1.000000</td>\n",
              "                        <td id=\"T_94b547a4_4b36_11ec_be6c_0242ac1c0002row2_col3\" class=\"data row2 col3\" >0.683033</td>\n",
              "                        <td id=\"T_94b547a4_4b36_11ec_be6c_0242ac1c0002row2_col4\" class=\"data row2 col4\" >0.138355</td>\n",
              "                        <td id=\"T_94b547a4_4b36_11ec_be6c_0242ac1c0002row2_col5\" class=\"data row2 col5\" >0.730546</td>\n",
              "                        <td id=\"T_94b547a4_4b36_11ec_be6c_0242ac1c0002row2_col6\" class=\"data row2 col6\" >0.731083</td>\n",
              "                        <td id=\"T_94b547a4_4b36_11ec_be6c_0242ac1c0002row2_col7\" class=\"data row2 col7\" >-0.127037</td>\n",
              "                        <td id=\"T_94b547a4_4b36_11ec_be6c_0242ac1c0002row2_col8\" class=\"data row2 col8\" >0.477353</td>\n",
              "                        <td id=\"T_94b547a4_4b36_11ec_be6c_0242ac1c0002row2_col9\" class=\"data row2 col9\" >-0.433047</td>\n",
              "                        <td id=\"T_94b547a4_4b36_11ec_be6c_0242ac1c0002row2_col10\" class=\"data row2 col10\" >-0.078597</td>\n",
              "                        <td id=\"T_94b547a4_4b36_11ec_be6c_0242ac1c0002row2_col11\" class=\"data row2 col11\" >-0.384509</td>\n",
              "                        <td id=\"T_94b547a4_4b36_11ec_be6c_0242ac1c0002row2_col12\" class=\"data row2 col12\" >-0.461919</td>\n",
              "                        <td id=\"T_94b547a4_4b36_11ec_be6c_0242ac1c0002row2_col13\" class=\"data row2 col13\" >-0.236007</td>\n",
              "                        <td id=\"T_94b547a4_4b36_11ec_be6c_0242ac1c0002row2_col14\" class=\"data row2 col14\" >-0.451051</td>\n",
              "                        <td id=\"T_94b547a4_4b36_11ec_be6c_0242ac1c0002row2_col15\" class=\"data row2 col15\" >-0.369270</td>\n",
              "                        <td id=\"T_94b547a4_4b36_11ec_be6c_0242ac1c0002row2_col16\" class=\"data row2 col16\" >-0.489322</td>\n",
              "                        <td id=\"T_94b547a4_4b36_11ec_be6c_0242ac1c0002row2_col17\" class=\"data row2 col17\" >-0.185282</td>\n",
              "                        <td id=\"T_94b547a4_4b36_11ec_be6c_0242ac1c0002row2_col18\" class=\"data row2 col18\" >-0.415434</td>\n",
              "                        <td id=\"T_94b547a4_4b36_11ec_be6c_0242ac1c0002row2_col19\" class=\"data row2 col19\" >-0.051535</td>\n",
              "                        <td id=\"T_94b547a4_4b36_11ec_be6c_0242ac1c0002row2_col20\" class=\"data row2 col20\" >0.037325</td>\n",
              "                        <td id=\"T_94b547a4_4b36_11ec_be6c_0242ac1c0002row2_col21\" class=\"data row2 col21\" >0.121151</td>\n",
              "                        <td id=\"T_94b547a4_4b36_11ec_be6c_0242ac1c0002row2_col22\" class=\"data row2 col22\" >0.121039</td>\n",
              "                        <td id=\"T_94b547a4_4b36_11ec_be6c_0242ac1c0002row2_col23\" class=\"data row2 col23\" >-0.003542</td>\n",
              "            </tr>\n",
              "            <tr>\n",
              "                        <th id=\"T_94b547a4_4b36_11ec_be6c_0242ac1c0002level0_row3\" class=\"row_heading level0 row3\" >QV2M</th>\n",
              "                        <td id=\"T_94b547a4_4b36_11ec_be6c_0242ac1c0002row3_col0\" class=\"data row3 col0\" >0.036827</td>\n",
              "                        <td id=\"T_94b547a4_4b36_11ec_be6c_0242ac1c0002row3_col1\" class=\"data row3 col1\" >0.262928</td>\n",
              "                        <td id=\"T_94b547a4_4b36_11ec_be6c_0242ac1c0002row3_col2\" class=\"data row3 col2\" >0.683033</td>\n",
              "                        <td id=\"T_94b547a4_4b36_11ec_be6c_0242ac1c0002row3_col3\" class=\"data row3 col3\" >1.000000</td>\n",
              "                        <td id=\"T_94b547a4_4b36_11ec_be6c_0242ac1c0002row3_col4\" class=\"data row3 col4\" >-0.094610</td>\n",
              "                        <td id=\"T_94b547a4_4b36_11ec_be6c_0242ac1c0002row3_col5\" class=\"data row3 col5\" >0.979268</td>\n",
              "                        <td id=\"T_94b547a4_4b36_11ec_be6c_0242ac1c0002row3_col6\" class=\"data row3 col6\" >0.979593</td>\n",
              "                        <td id=\"T_94b547a4_4b36_11ec_be6c_0242ac1c0002row3_col7\" class=\"data row3 col7\" >-0.448385</td>\n",
              "                        <td id=\"T_94b547a4_4b36_11ec_be6c_0242ac1c0002row3_col8\" class=\"data row3 col8\" >0.497852</td>\n",
              "                        <td id=\"T_94b547a4_4b36_11ec_be6c_0242ac1c0002row3_col9\" class=\"data row3 col9\" >-0.696744</td>\n",
              "                        <td id=\"T_94b547a4_4b36_11ec_be6c_0242ac1c0002row3_col10\" class=\"data row3 col10\" >-0.283952</td>\n",
              "                        <td id=\"T_94b547a4_4b36_11ec_be6c_0242ac1c0002row3_col11\" class=\"data row3 col11\" >-0.268419</td>\n",
              "                        <td id=\"T_94b547a4_4b36_11ec_be6c_0242ac1c0002row3_col12\" class=\"data row3 col12\" >-0.341642</td>\n",
              "                        <td id=\"T_94b547a4_4b36_11ec_be6c_0242ac1c0002row3_col13\" class=\"data row3 col13\" >-0.145290</td>\n",
              "                        <td id=\"T_94b547a4_4b36_11ec_be6c_0242ac1c0002row3_col14\" class=\"data row3 col14\" >-0.363421</td>\n",
              "                        <td id=\"T_94b547a4_4b36_11ec_be6c_0242ac1c0002row3_col15\" class=\"data row3 col15\" >-0.268089</td>\n",
              "                        <td id=\"T_94b547a4_4b36_11ec_be6c_0242ac1c0002row3_col16\" class=\"data row3 col16\" >-0.381605</td>\n",
              "                        <td id=\"T_94b547a4_4b36_11ec_be6c_0242ac1c0002row3_col17\" class=\"data row3 col17\" >-0.107874</td>\n",
              "                        <td id=\"T_94b547a4_4b36_11ec_be6c_0242ac1c0002row3_col18\" class=\"data row3 col18\" >-0.369291</td>\n",
              "                        <td id=\"T_94b547a4_4b36_11ec_be6c_0242ac1c0002row3_col19\" class=\"data row3 col19\" >-0.201055</td>\n",
              "                        <td id=\"T_94b547a4_4b36_11ec_be6c_0242ac1c0002row3_col20\" class=\"data row3 col20\" >0.124962</td>\n",
              "                        <td id=\"T_94b547a4_4b36_11ec_be6c_0242ac1c0002row3_col21\" class=\"data row3 col21\" >0.143646</td>\n",
              "                        <td id=\"T_94b547a4_4b36_11ec_be6c_0242ac1c0002row3_col22\" class=\"data row3 col22\" >0.135767</td>\n",
              "                        <td id=\"T_94b547a4_4b36_11ec_be6c_0242ac1c0002row3_col23\" class=\"data row3 col23\" >-0.026158</td>\n",
              "            </tr>\n",
              "            <tr>\n",
              "                        <th id=\"T_94b547a4_4b36_11ec_be6c_0242ac1c0002level0_row4\" class=\"row_heading level0 row4\" >T2M</th>\n",
              "                        <td id=\"T_94b547a4_4b36_11ec_be6c_0242ac1c0002row4_col0\" class=\"data row4 col0\" >-0.035788</td>\n",
              "                        <td id=\"T_94b547a4_4b36_11ec_be6c_0242ac1c0002row4_col1\" class=\"data row4 col1\" >-0.111960</td>\n",
              "                        <td id=\"T_94b547a4_4b36_11ec_be6c_0242ac1c0002row4_col2\" class=\"data row4 col2\" >0.138355</td>\n",
              "                        <td id=\"T_94b547a4_4b36_11ec_be6c_0242ac1c0002row4_col3\" class=\"data row4 col3\" >-0.094610</td>\n",
              "                        <td id=\"T_94b547a4_4b36_11ec_be6c_0242ac1c0002row4_col4\" class=\"data row4 col4\" >1.000000</td>\n",
              "                        <td id=\"T_94b547a4_4b36_11ec_be6c_0242ac1c0002row4_col5\" class=\"data row4 col5\" >-0.040505</td>\n",
              "                        <td id=\"T_94b547a4_4b36_11ec_be6c_0242ac1c0002row4_col6\" class=\"data row4 col6\" >-0.040935</td>\n",
              "                        <td id=\"T_94b547a4_4b36_11ec_be6c_0242ac1c0002row4_col7\" class=\"data row4 col7\" >0.787714</td>\n",
              "                        <td id=\"T_94b547a4_4b36_11ec_be6c_0242ac1c0002row4_col8\" class=\"data row4 col8\" >0.631722</td>\n",
              "                        <td id=\"T_94b547a4_4b36_11ec_be6c_0242ac1c0002row4_col9\" class=\"data row4 col9\" >0.168563</td>\n",
              "                        <td id=\"T_94b547a4_4b36_11ec_be6c_0242ac1c0002row4_col10\" class=\"data row4 col10\" >0.894569</td>\n",
              "                        <td id=\"T_94b547a4_4b36_11ec_be6c_0242ac1c0002row4_col11\" class=\"data row4 col11\" >0.030629</td>\n",
              "                        <td id=\"T_94b547a4_4b36_11ec_be6c_0242ac1c0002row4_col12\" class=\"data row4 col12\" >0.025467</td>\n",
              "                        <td id=\"T_94b547a4_4b36_11ec_be6c_0242ac1c0002row4_col13\" class=\"data row4 col13\" >0.023400</td>\n",
              "                        <td id=\"T_94b547a4_4b36_11ec_be6c_0242ac1c0002row4_col14\" class=\"data row4 col14\" >0.014287</td>\n",
              "                        <td id=\"T_94b547a4_4b36_11ec_be6c_0242ac1c0002row4_col15\" class=\"data row4 col15\" >0.046501</td>\n",
              "                        <td id=\"T_94b547a4_4b36_11ec_be6c_0242ac1c0002row4_col16\" class=\"data row4 col16\" >0.049805</td>\n",
              "                        <td id=\"T_94b547a4_4b36_11ec_be6c_0242ac1c0002row4_col17\" class=\"data row4 col17\" >0.021359</td>\n",
              "                        <td id=\"T_94b547a4_4b36_11ec_be6c_0242ac1c0002row4_col18\" class=\"data row4 col18\" >0.039190</td>\n",
              "                        <td id=\"T_94b547a4_4b36_11ec_be6c_0242ac1c0002row4_col19\" class=\"data row4 col19\" >0.182773</td>\n",
              "                        <td id=\"T_94b547a4_4b36_11ec_be6c_0242ac1c0002row4_col20\" class=\"data row4 col20\" >0.035938</td>\n",
              "                        <td id=\"T_94b547a4_4b36_11ec_be6c_0242ac1c0002row4_col21\" class=\"data row4 col21\" >0.134541</td>\n",
              "                        <td id=\"T_94b547a4_4b36_11ec_be6c_0242ac1c0002row4_col22\" class=\"data row4 col22\" >0.136626</td>\n",
              "                        <td id=\"T_94b547a4_4b36_11ec_be6c_0242ac1c0002row4_col23\" class=\"data row4 col23\" >0.012751</td>\n",
              "            </tr>\n",
              "            <tr>\n",
              "                        <th id=\"T_94b547a4_4b36_11ec_be6c_0242ac1c0002level0_row5\" class=\"row_heading level0 row5\" >T2MDEW</th>\n",
              "                        <td id=\"T_94b547a4_4b36_11ec_be6c_0242ac1c0002row5_col0\" class=\"data row5 col0\" >0.056190</td>\n",
              "                        <td id=\"T_94b547a4_4b36_11ec_be6c_0242ac1c0002row5_col1\" class=\"data row5 col1\" >0.223812</td>\n",
              "                        <td id=\"T_94b547a4_4b36_11ec_be6c_0242ac1c0002row5_col2\" class=\"data row5 col2\" >0.730546</td>\n",
              "                        <td id=\"T_94b547a4_4b36_11ec_be6c_0242ac1c0002row5_col3\" class=\"data row5 col3\" >0.979268</td>\n",
              "                        <td id=\"T_94b547a4_4b36_11ec_be6c_0242ac1c0002row5_col4\" class=\"data row5 col4\" >-0.040505</td>\n",
              "                        <td id=\"T_94b547a4_4b36_11ec_be6c_0242ac1c0002row5_col5\" class=\"data row5 col5\" >1.000000</td>\n",
              "                        <td id=\"T_94b547a4_4b36_11ec_be6c_0242ac1c0002row5_col6\" class=\"data row5 col6\" >0.999995</td>\n",
              "                        <td id=\"T_94b547a4_4b36_11ec_be6c_0242ac1c0002row5_col7\" class=\"data row5 col7\" >-0.389230</td>\n",
              "                        <td id=\"T_94b547a4_4b36_11ec_be6c_0242ac1c0002row5_col8\" class=\"data row5 col8\" >0.507582</td>\n",
              "                        <td id=\"T_94b547a4_4b36_11ec_be6c_0242ac1c0002row5_col9\" class=\"data row5 col9\" >-0.657662</td>\n",
              "                        <td id=\"T_94b547a4_4b36_11ec_be6c_0242ac1c0002row5_col10\" class=\"data row5 col10\" >-0.231240</td>\n",
              "                        <td id=\"T_94b547a4_4b36_11ec_be6c_0242ac1c0002row5_col11\" class=\"data row5 col11\" >-0.256550</td>\n",
              "                        <td id=\"T_94b547a4_4b36_11ec_be6c_0242ac1c0002row5_col12\" class=\"data row5 col12\" >-0.337709</td>\n",
              "                        <td id=\"T_94b547a4_4b36_11ec_be6c_0242ac1c0002row5_col13\" class=\"data row5 col13\" >-0.127478</td>\n",
              "                        <td id=\"T_94b547a4_4b36_11ec_be6c_0242ac1c0002row5_col14\" class=\"data row5 col14\" >-0.375674</td>\n",
              "                        <td id=\"T_94b547a4_4b36_11ec_be6c_0242ac1c0002row5_col15\" class=\"data row5 col15\" >-0.249093</td>\n",
              "                        <td id=\"T_94b547a4_4b36_11ec_be6c_0242ac1c0002row5_col16\" class=\"data row5 col16\" >-0.366386</td>\n",
              "                        <td id=\"T_94b547a4_4b36_11ec_be6c_0242ac1c0002row5_col17\" class=\"data row5 col17\" >-0.088385</td>\n",
              "                        <td id=\"T_94b547a4_4b36_11ec_be6c_0242ac1c0002row5_col18\" class=\"data row5 col18\" >-0.373345</td>\n",
              "                        <td id=\"T_94b547a4_4b36_11ec_be6c_0242ac1c0002row5_col19\" class=\"data row5 col19\" >-0.170253</td>\n",
              "                        <td id=\"T_94b547a4_4b36_11ec_be6c_0242ac1c0002row5_col20\" class=\"data row5 col20\" >0.104133</td>\n",
              "                        <td id=\"T_94b547a4_4b36_11ec_be6c_0242ac1c0002row5_col21\" class=\"data row5 col21\" >0.160228</td>\n",
              "                        <td id=\"T_94b547a4_4b36_11ec_be6c_0242ac1c0002row5_col22\" class=\"data row5 col22\" >0.155294</td>\n",
              "                        <td id=\"T_94b547a4_4b36_11ec_be6c_0242ac1c0002row5_col23\" class=\"data row5 col23\" >-0.020766</td>\n",
              "            </tr>\n",
              "            <tr>\n",
              "                        <th id=\"T_94b547a4_4b36_11ec_be6c_0242ac1c0002level0_row6\" class=\"row_heading level0 row6\" >T2MWET</th>\n",
              "                        <td id=\"T_94b547a4_4b36_11ec_be6c_0242ac1c0002row6_col0\" class=\"data row6 col0\" >0.055890</td>\n",
              "                        <td id=\"T_94b547a4_4b36_11ec_be6c_0242ac1c0002row6_col1\" class=\"data row6 col1\" >0.224008</td>\n",
              "                        <td id=\"T_94b547a4_4b36_11ec_be6c_0242ac1c0002row6_col2\" class=\"data row6 col2\" >0.731083</td>\n",
              "                        <td id=\"T_94b547a4_4b36_11ec_be6c_0242ac1c0002row6_col3\" class=\"data row6 col3\" >0.979593</td>\n",
              "                        <td id=\"T_94b547a4_4b36_11ec_be6c_0242ac1c0002row6_col4\" class=\"data row6 col4\" >-0.040935</td>\n",
              "                        <td id=\"T_94b547a4_4b36_11ec_be6c_0242ac1c0002row6_col5\" class=\"data row6 col5\" >0.999995</td>\n",
              "                        <td id=\"T_94b547a4_4b36_11ec_be6c_0242ac1c0002row6_col6\" class=\"data row6 col6\" >1.000000</td>\n",
              "                        <td id=\"T_94b547a4_4b36_11ec_be6c_0242ac1c0002row6_col7\" class=\"data row6 col7\" >-0.389784</td>\n",
              "                        <td id=\"T_94b547a4_4b36_11ec_be6c_0242ac1c0002row6_col8\" class=\"data row6 col8\" >0.507628</td>\n",
              "                        <td id=\"T_94b547a4_4b36_11ec_be6c_0242ac1c0002row6_col9\" class=\"data row6 col9\" >-0.658124</td>\n",
              "                        <td id=\"T_94b547a4_4b36_11ec_be6c_0242ac1c0002row6_col10\" class=\"data row6 col10\" >-0.231762</td>\n",
              "                        <td id=\"T_94b547a4_4b36_11ec_be6c_0242ac1c0002row6_col11\" class=\"data row6 col11\" >-0.257004</td>\n",
              "                        <td id=\"T_94b547a4_4b36_11ec_be6c_0242ac1c0002row6_col12\" class=\"data row6 col12\" >-0.338173</td>\n",
              "                        <td id=\"T_94b547a4_4b36_11ec_be6c_0242ac1c0002row6_col13\" class=\"data row6 col13\" >-0.127842</td>\n",
              "                        <td id=\"T_94b547a4_4b36_11ec_be6c_0242ac1c0002row6_col14\" class=\"data row6 col14\" >-0.375998</td>\n",
              "                        <td id=\"T_94b547a4_4b36_11ec_be6c_0242ac1c0002row6_col15\" class=\"data row6 col15\" >-0.249581</td>\n",
              "                        <td id=\"T_94b547a4_4b36_11ec_be6c_0242ac1c0002row6_col16\" class=\"data row6 col16\" >-0.366971</td>\n",
              "                        <td id=\"T_94b547a4_4b36_11ec_be6c_0242ac1c0002row6_col17\" class=\"data row6 col17\" >-0.088709</td>\n",
              "                        <td id=\"T_94b547a4_4b36_11ec_be6c_0242ac1c0002row6_col18\" class=\"data row6 col18\" >-0.373715</td>\n",
              "                        <td id=\"T_94b547a4_4b36_11ec_be6c_0242ac1c0002row6_col19\" class=\"data row6 col19\" >-0.170420</td>\n",
              "                        <td id=\"T_94b547a4_4b36_11ec_be6c_0242ac1c0002row6_col20\" class=\"data row6 col20\" >0.104280</td>\n",
              "                        <td id=\"T_94b547a4_4b36_11ec_be6c_0242ac1c0002row6_col21\" class=\"data row6 col21\" >0.160110</td>\n",
              "                        <td id=\"T_94b547a4_4b36_11ec_be6c_0242ac1c0002row6_col22\" class=\"data row6 col22\" >0.155157</td>\n",
              "                        <td id=\"T_94b547a4_4b36_11ec_be6c_0242ac1c0002row6_col23\" class=\"data row6 col23\" >-0.020805</td>\n",
              "            </tr>\n",
              "            <tr>\n",
              "                        <th id=\"T_94b547a4_4b36_11ec_be6c_0242ac1c0002level0_row7\" class=\"row_heading level0 row7\" >T2M_MAX</th>\n",
              "                        <td id=\"T_94b547a4_4b36_11ec_be6c_0242ac1c0002row7_col0\" class=\"data row7 col0\" >-0.076970</td>\n",
              "                        <td id=\"T_94b547a4_4b36_11ec_be6c_0242ac1c0002row7_col1\" class=\"data row7 col1\" >-0.221066</td>\n",
              "                        <td id=\"T_94b547a4_4b36_11ec_be6c_0242ac1c0002row7_col2\" class=\"data row7 col2\" >-0.127037</td>\n",
              "                        <td id=\"T_94b547a4_4b36_11ec_be6c_0242ac1c0002row7_col3\" class=\"data row7 col3\" >-0.448385</td>\n",
              "                        <td id=\"T_94b547a4_4b36_11ec_be6c_0242ac1c0002row7_col4\" class=\"data row7 col4\" >0.787714</td>\n",
              "                        <td id=\"T_94b547a4_4b36_11ec_be6c_0242ac1c0002row7_col5\" class=\"data row7 col5\" >-0.389230</td>\n",
              "                        <td id=\"T_94b547a4_4b36_11ec_be6c_0242ac1c0002row7_col6\" class=\"data row7 col6\" >-0.389784</td>\n",
              "                        <td id=\"T_94b547a4_4b36_11ec_be6c_0242ac1c0002row7_col7\" class=\"data row7 col7\" >1.000000</td>\n",
              "                        <td id=\"T_94b547a4_4b36_11ec_be6c_0242ac1c0002row7_col8\" class=\"data row7 col8\" >0.085521</td>\n",
              "                        <td id=\"T_94b547a4_4b36_11ec_be6c_0242ac1c0002row7_col9\" class=\"data row7 col9\" >0.715986</td>\n",
              "                        <td id=\"T_94b547a4_4b36_11ec_be6c_0242ac1c0002row7_col10\" class=\"data row7 col10\" >0.729412</td>\n",
              "                        <td id=\"T_94b547a4_4b36_11ec_be6c_0242ac1c0002row7_col11\" class=\"data row7 col11\" >0.079601</td>\n",
              "                        <td id=\"T_94b547a4_4b36_11ec_be6c_0242ac1c0002row7_col12\" class=\"data row7 col12\" >0.105532</td>\n",
              "                        <td id=\"T_94b547a4_4b36_11ec_be6c_0242ac1c0002row7_col13\" class=\"data row7 col13\" >0.035802</td>\n",
              "                        <td id=\"T_94b547a4_4b36_11ec_be6c_0242ac1c0002row7_col14\" class=\"data row7 col14\" >0.121503</td>\n",
              "                        <td id=\"T_94b547a4_4b36_11ec_be6c_0242ac1c0002row7_col15\" class=\"data row7 col15\" >0.125185</td>\n",
              "                        <td id=\"T_94b547a4_4b36_11ec_be6c_0242ac1c0002row7_col16\" class=\"data row7 col16\" >0.197087</td>\n",
              "                        <td id=\"T_94b547a4_4b36_11ec_be6c_0242ac1c0002row7_col17\" class=\"data row7 col17\" >0.031167</td>\n",
              "                        <td id=\"T_94b547a4_4b36_11ec_be6c_0242ac1c0002row7_col18\" class=\"data row7 col18\" >0.221076</td>\n",
              "                        <td id=\"T_94b547a4_4b36_11ec_be6c_0242ac1c0002row7_col19\" class=\"data row7 col19\" >0.182332</td>\n",
              "                        <td id=\"T_94b547a4_4b36_11ec_be6c_0242ac1c0002row7_col20\" class=\"data row7 col20\" >-0.019337</td>\n",
              "                        <td id=\"T_94b547a4_4b36_11ec_be6c_0242ac1c0002row7_col21\" class=\"data row7 col21\" >0.014984</td>\n",
              "                        <td id=\"T_94b547a4_4b36_11ec_be6c_0242ac1c0002row7_col22\" class=\"data row7 col22\" >0.015771</td>\n",
              "                        <td id=\"T_94b547a4_4b36_11ec_be6c_0242ac1c0002row7_col23\" class=\"data row7 col23\" >0.009680</td>\n",
              "            </tr>\n",
              "            <tr>\n",
              "                        <th id=\"T_94b547a4_4b36_11ec_be6c_0242ac1c0002level0_row8\" class=\"row_heading level0 row8\" >T2M_MIN</th>\n",
              "                        <td id=\"T_94b547a4_4b36_11ec_be6c_0242ac1c0002row8_col0\" class=\"data row8 col0\" >0.036424</td>\n",
              "                        <td id=\"T_94b547a4_4b36_11ec_be6c_0242ac1c0002row8_col1\" class=\"data row8 col1\" >0.132294</td>\n",
              "                        <td id=\"T_94b547a4_4b36_11ec_be6c_0242ac1c0002row8_col2\" class=\"data row8 col2\" >0.477353</td>\n",
              "                        <td id=\"T_94b547a4_4b36_11ec_be6c_0242ac1c0002row8_col3\" class=\"data row8 col3\" >0.497852</td>\n",
              "                        <td id=\"T_94b547a4_4b36_11ec_be6c_0242ac1c0002row8_col4\" class=\"data row8 col4\" >0.631722</td>\n",
              "                        <td id=\"T_94b547a4_4b36_11ec_be6c_0242ac1c0002row8_col5\" class=\"data row8 col5\" >0.507582</td>\n",
              "                        <td id=\"T_94b547a4_4b36_11ec_be6c_0242ac1c0002row8_col6\" class=\"data row8 col6\" >0.507628</td>\n",
              "                        <td id=\"T_94b547a4_4b36_11ec_be6c_0242ac1c0002row8_col7\" class=\"data row8 col7\" >0.085521</td>\n",
              "                        <td id=\"T_94b547a4_4b36_11ec_be6c_0242ac1c0002row8_col8\" class=\"data row8 col8\" >1.000000</td>\n",
              "                        <td id=\"T_94b547a4_4b36_11ec_be6c_0242ac1c0002row8_col9\" class=\"data row8 col9\" >-0.634323</td>\n",
              "                        <td id=\"T_94b547a4_4b36_11ec_be6c_0242ac1c0002row8_col10\" class=\"data row8 col10\" >0.490524</td>\n",
              "                        <td id=\"T_94b547a4_4b36_11ec_be6c_0242ac1c0002row8_col11\" class=\"data row8 col11\" >-0.040048</td>\n",
              "                        <td id=\"T_94b547a4_4b36_11ec_be6c_0242ac1c0002row8_col12\" class=\"data row8 col12\" >-0.077190</td>\n",
              "                        <td id=\"T_94b547a4_4b36_11ec_be6c_0242ac1c0002row8_col13\" class=\"data row8 col13\" >-0.000637</td>\n",
              "                        <td id=\"T_94b547a4_4b36_11ec_be6c_0242ac1c0002row8_col14\" class=\"data row8 col14\" >-0.114910</td>\n",
              "                        <td id=\"T_94b547a4_4b36_11ec_be6c_0242ac1c0002row8_col15\" class=\"data row8 col15\" >-0.064228</td>\n",
              "                        <td id=\"T_94b547a4_4b36_11ec_be6c_0242ac1c0002row8_col16\" class=\"data row8 col16\" >-0.156804</td>\n",
              "                        <td id=\"T_94b547a4_4b36_11ec_be6c_0242ac1c0002row8_col17\" class=\"data row8 col17\" >0.015872</td>\n",
              "                        <td id=\"T_94b547a4_4b36_11ec_be6c_0242ac1c0002row8_col18\" class=\"data row8 col18\" >-0.226207</td>\n",
              "                        <td id=\"T_94b547a4_4b36_11ec_be6c_0242ac1c0002row8_col19\" class=\"data row8 col19\" >0.053470</td>\n",
              "                        <td id=\"T_94b547a4_4b36_11ec_be6c_0242ac1c0002row8_col20\" class=\"data row8 col20\" >0.094599</td>\n",
              "                        <td id=\"T_94b547a4_4b36_11ec_be6c_0242ac1c0002row8_col21\" class=\"data row8 col21\" >0.248104</td>\n",
              "                        <td id=\"T_94b547a4_4b36_11ec_be6c_0242ac1c0002row8_col22\" class=\"data row8 col22\" >0.257326</td>\n",
              "                        <td id=\"T_94b547a4_4b36_11ec_be6c_0242ac1c0002row8_col23\" class=\"data row8 col23\" >0.017508</td>\n",
              "            </tr>\n",
              "            <tr>\n",
              "                        <th id=\"T_94b547a4_4b36_11ec_be6c_0242ac1c0002level0_row9\" class=\"row_heading level0 row9\" >T2M_RANGE</th>\n",
              "                        <td id=\"T_94b547a4_4b36_11ec_be6c_0242ac1c0002row9_col0\" class=\"data row9 col0\" >-0.085247</td>\n",
              "                        <td id=\"T_94b547a4_4b36_11ec_be6c_0242ac1c0002row9_col1\" class=\"data row9 col1\" >-0.264215</td>\n",
              "                        <td id=\"T_94b547a4_4b36_11ec_be6c_0242ac1c0002row9_col2\" class=\"data row9 col2\" >-0.433047</td>\n",
              "                        <td id=\"T_94b547a4_4b36_11ec_be6c_0242ac1c0002row9_col3\" class=\"data row9 col3\" >-0.696744</td>\n",
              "                        <td id=\"T_94b547a4_4b36_11ec_be6c_0242ac1c0002row9_col4\" class=\"data row9 col4\" >0.168563</td>\n",
              "                        <td id=\"T_94b547a4_4b36_11ec_be6c_0242ac1c0002row9_col5\" class=\"data row9 col5\" >-0.657662</td>\n",
              "                        <td id=\"T_94b547a4_4b36_11ec_be6c_0242ac1c0002row9_col6\" class=\"data row9 col6\" >-0.658124</td>\n",
              "                        <td id=\"T_94b547a4_4b36_11ec_be6c_0242ac1c0002row9_col7\" class=\"data row9 col7\" >0.715986</td>\n",
              "                        <td id=\"T_94b547a4_4b36_11ec_be6c_0242ac1c0002row9_col8\" class=\"data row9 col8\" >-0.634323</td>\n",
              "                        <td id=\"T_94b547a4_4b36_11ec_be6c_0242ac1c0002row9_col9\" class=\"data row9 col9\" >1.000000</td>\n",
              "                        <td id=\"T_94b547a4_4b36_11ec_be6c_0242ac1c0002row9_col10\" class=\"data row9 col10\" >0.222262</td>\n",
              "                        <td id=\"T_94b547a4_4b36_11ec_be6c_0242ac1c0002row9_col11\" class=\"data row9 col11\" >0.089817</td>\n",
              "                        <td id=\"T_94b547a4_4b36_11ec_be6c_0242ac1c0002row9_col12\" class=\"data row9 col12\" >0.135959</td>\n",
              "                        <td id=\"T_94b547a4_4b36_11ec_be6c_0242ac1c0002row9_col13\" class=\"data row9 col13\" >0.028217</td>\n",
              "                        <td id=\"T_94b547a4_4b36_11ec_be6c_0242ac1c0002row9_col14\" class=\"data row9 col14\" >0.174784</td>\n",
              "                        <td id=\"T_94b547a4_4b36_11ec_be6c_0242ac1c0002row9_col15\" class=\"data row9 col15\" >0.142129</td>\n",
              "                        <td id=\"T_94b547a4_4b36_11ec_be6c_0242ac1c0002row9_col16\" class=\"data row9 col16\" >0.262784</td>\n",
              "                        <td id=\"T_94b547a4_4b36_11ec_be6c_0242ac1c0002row9_col17\" class=\"data row9 col17\" >0.013054</td>\n",
              "                        <td id=\"T_94b547a4_4b36_11ec_be6c_0242ac1c0002row9_col18\" class=\"data row9 col18\" >0.330034</td>\n",
              "                        <td id=\"T_94b547a4_4b36_11ec_be6c_0242ac1c0002row9_col19\" class=\"data row9 col19\" >0.104015</td>\n",
              "                        <td id=\"T_94b547a4_4b36_11ec_be6c_0242ac1c0002row9_col20\" class=\"data row9 col20\" >-0.081292</td>\n",
              "                        <td id=\"T_94b547a4_4b36_11ec_be6c_0242ac1c0002row9_col21\" class=\"data row9 col21\" >-0.162223</td>\n",
              "                        <td id=\"T_94b547a4_4b36_11ec_be6c_0242ac1c0002row9_col22\" class=\"data row9 col22\" >-0.168076</td>\n",
              "                        <td id=\"T_94b547a4_4b36_11ec_be6c_0242ac1c0002row9_col23\" class=\"data row9 col23\" >-0.004762</td>\n",
              "            </tr>\n",
              "            <tr>\n",
              "                        <th id=\"T_94b547a4_4b36_11ec_be6c_0242ac1c0002level0_row10\" class=\"row_heading level0 row10\" >TS</th>\n",
              "                        <td id=\"T_94b547a4_4b36_11ec_be6c_0242ac1c0002row10_col0\" class=\"data row10 col0\" >0.109544</td>\n",
              "                        <td id=\"T_94b547a4_4b36_11ec_be6c_0242ac1c0002row10_col1\" class=\"data row10 col1\" >-0.166011</td>\n",
              "                        <td id=\"T_94b547a4_4b36_11ec_be6c_0242ac1c0002row10_col2\" class=\"data row10 col2\" >-0.078597</td>\n",
              "                        <td id=\"T_94b547a4_4b36_11ec_be6c_0242ac1c0002row10_col3\" class=\"data row10 col3\" >-0.283952</td>\n",
              "                        <td id=\"T_94b547a4_4b36_11ec_be6c_0242ac1c0002row10_col4\" class=\"data row10 col4\" >0.894569</td>\n",
              "                        <td id=\"T_94b547a4_4b36_11ec_be6c_0242ac1c0002row10_col5\" class=\"data row10 col5\" >-0.231240</td>\n",
              "                        <td id=\"T_94b547a4_4b36_11ec_be6c_0242ac1c0002row10_col6\" class=\"data row10 col6\" >-0.231762</td>\n",
              "                        <td id=\"T_94b547a4_4b36_11ec_be6c_0242ac1c0002row10_col7\" class=\"data row10 col7\" >0.729412</td>\n",
              "                        <td id=\"T_94b547a4_4b36_11ec_be6c_0242ac1c0002row10_col8\" class=\"data row10 col8\" >0.490524</td>\n",
              "                        <td id=\"T_94b547a4_4b36_11ec_be6c_0242ac1c0002row10_col9\" class=\"data row10 col9\" >0.222262</td>\n",
              "                        <td id=\"T_94b547a4_4b36_11ec_be6c_0242ac1c0002row10_col10\" class=\"data row10 col10\" >1.000000</td>\n",
              "                        <td id=\"T_94b547a4_4b36_11ec_be6c_0242ac1c0002row10_col11\" class=\"data row10 col11\" >0.155104</td>\n",
              "                        <td id=\"T_94b547a4_4b36_11ec_be6c_0242ac1c0002row10_col12\" class=\"data row10 col12\" >0.192260</td>\n",
              "                        <td id=\"T_94b547a4_4b36_11ec_be6c_0242ac1c0002row10_col13\" class=\"data row10 col13\" >0.083641</td>\n",
              "                        <td id=\"T_94b547a4_4b36_11ec_be6c_0242ac1c0002row10_col14\" class=\"data row10 col14\" >0.202600</td>\n",
              "                        <td id=\"T_94b547a4_4b36_11ec_be6c_0242ac1c0002row10_col15\" class=\"data row10 col15\" >0.125895</td>\n",
              "                        <td id=\"T_94b547a4_4b36_11ec_be6c_0242ac1c0002row10_col16\" class=\"data row10 col16\" >0.191023</td>\n",
              "                        <td id=\"T_94b547a4_4b36_11ec_be6c_0242ac1c0002row10_col17\" class=\"data row10 col17\" >0.041615</td>\n",
              "                        <td id=\"T_94b547a4_4b36_11ec_be6c_0242ac1c0002row10_col18\" class=\"data row10 col18\" >0.200174</td>\n",
              "                        <td id=\"T_94b547a4_4b36_11ec_be6c_0242ac1c0002row10_col19\" class=\"data row10 col19\" >0.244193</td>\n",
              "                        <td id=\"T_94b547a4_4b36_11ec_be6c_0242ac1c0002row10_col20\" class=\"data row10 col20\" >0.024447</td>\n",
              "                        <td id=\"T_94b547a4_4b36_11ec_be6c_0242ac1c0002row10_col21\" class=\"data row10 col21\" >0.049251</td>\n",
              "                        <td id=\"T_94b547a4_4b36_11ec_be6c_0242ac1c0002row10_col22\" class=\"data row10 col22\" >0.054890</td>\n",
              "                        <td id=\"T_94b547a4_4b36_11ec_be6c_0242ac1c0002row10_col23\" class=\"data row10 col23\" >0.023323</td>\n",
              "            </tr>\n",
              "            <tr>\n",
              "                        <th id=\"T_94b547a4_4b36_11ec_be6c_0242ac1c0002level0_row11\" class=\"row_heading level0 row11\" >WS10M</th>\n",
              "                        <td id=\"T_94b547a4_4b36_11ec_be6c_0242ac1c0002row11_col0\" class=\"data row11 col0\" >0.351739</td>\n",
              "                        <td id=\"T_94b547a4_4b36_11ec_be6c_0242ac1c0002row11_col1\" class=\"data row11 col1\" >-0.132543</td>\n",
              "                        <td id=\"T_94b547a4_4b36_11ec_be6c_0242ac1c0002row11_col2\" class=\"data row11 col2\" >-0.384509</td>\n",
              "                        <td id=\"T_94b547a4_4b36_11ec_be6c_0242ac1c0002row11_col3\" class=\"data row11 col3\" >-0.268419</td>\n",
              "                        <td id=\"T_94b547a4_4b36_11ec_be6c_0242ac1c0002row11_col4\" class=\"data row11 col4\" >0.030629</td>\n",
              "                        <td id=\"T_94b547a4_4b36_11ec_be6c_0242ac1c0002row11_col5\" class=\"data row11 col5\" >-0.256550</td>\n",
              "                        <td id=\"T_94b547a4_4b36_11ec_be6c_0242ac1c0002row11_col6\" class=\"data row11 col6\" >-0.257004</td>\n",
              "                        <td id=\"T_94b547a4_4b36_11ec_be6c_0242ac1c0002row11_col7\" class=\"data row11 col7\" >0.079601</td>\n",
              "                        <td id=\"T_94b547a4_4b36_11ec_be6c_0242ac1c0002row11_col8\" class=\"data row11 col8\" >-0.040048</td>\n",
              "                        <td id=\"T_94b547a4_4b36_11ec_be6c_0242ac1c0002row11_col9\" class=\"data row11 col9\" >0.089817</td>\n",
              "                        <td id=\"T_94b547a4_4b36_11ec_be6c_0242ac1c0002row11_col10\" class=\"data row11 col10\" >0.155104</td>\n",
              "                        <td id=\"T_94b547a4_4b36_11ec_be6c_0242ac1c0002row11_col11\" class=\"data row11 col11\" >1.000000</td>\n",
              "                        <td id=\"T_94b547a4_4b36_11ec_be6c_0242ac1c0002row11_col12\" class=\"data row11 col12\" >0.944415</td>\n",
              "                        <td id=\"T_94b547a4_4b36_11ec_be6c_0242ac1c0002row11_col13\" class=\"data row11 col13\" >0.895164</td>\n",
              "                        <td id=\"T_94b547a4_4b36_11ec_be6c_0242ac1c0002row11_col14\" class=\"data row11 col14\" >0.501916</td>\n",
              "                        <td id=\"T_94b547a4_4b36_11ec_be6c_0242ac1c0002row11_col15\" class=\"data row11 col15\" >0.982269</td>\n",
              "                        <td id=\"T_94b547a4_4b36_11ec_be6c_0242ac1c0002row11_col16\" class=\"data row11 col16\" >0.903070</td>\n",
              "                        <td id=\"T_94b547a4_4b36_11ec_be6c_0242ac1c0002row11_col17\" class=\"data row11 col17\" >0.876128</td>\n",
              "                        <td id=\"T_94b547a4_4b36_11ec_be6c_0242ac1c0002row11_col18\" class=\"data row11 col18\" >0.106018</td>\n",
              "                        <td id=\"T_94b547a4_4b36_11ec_be6c_0242ac1c0002row11_col19\" class=\"data row11 col19\" >0.066938</td>\n",
              "                        <td id=\"T_94b547a4_4b36_11ec_be6c_0242ac1c0002row11_col20\" class=\"data row11 col20\" >-0.041727</td>\n",
              "                        <td id=\"T_94b547a4_4b36_11ec_be6c_0242ac1c0002row11_col21\" class=\"data row11 col21\" >-0.208089</td>\n",
              "                        <td id=\"T_94b547a4_4b36_11ec_be6c_0242ac1c0002row11_col22\" class=\"data row11 col22\" >-0.199443</td>\n",
              "                        <td id=\"T_94b547a4_4b36_11ec_be6c_0242ac1c0002row11_col23\" class=\"data row11 col23\" >0.036706</td>\n",
              "            </tr>\n",
              "            <tr>\n",
              "                        <th id=\"T_94b547a4_4b36_11ec_be6c_0242ac1c0002level0_row12\" class=\"row_heading level0 row12\" >WS10M_MAX</th>\n",
              "                        <td id=\"T_94b547a4_4b36_11ec_be6c_0242ac1c0002row12_col0\" class=\"data row12 col0\" >0.346802</td>\n",
              "                        <td id=\"T_94b547a4_4b36_11ec_be6c_0242ac1c0002row12_col1\" class=\"data row12 col1\" >-0.109413</td>\n",
              "                        <td id=\"T_94b547a4_4b36_11ec_be6c_0242ac1c0002row12_col2\" class=\"data row12 col2\" >-0.461919</td>\n",
              "                        <td id=\"T_94b547a4_4b36_11ec_be6c_0242ac1c0002row12_col3\" class=\"data row12 col3\" >-0.341642</td>\n",
              "                        <td id=\"T_94b547a4_4b36_11ec_be6c_0242ac1c0002row12_col4\" class=\"data row12 col4\" >0.025467</td>\n",
              "                        <td id=\"T_94b547a4_4b36_11ec_be6c_0242ac1c0002row12_col5\" class=\"data row12 col5\" >-0.337709</td>\n",
              "                        <td id=\"T_94b547a4_4b36_11ec_be6c_0242ac1c0002row12_col6\" class=\"data row12 col6\" >-0.338173</td>\n",
              "                        <td id=\"T_94b547a4_4b36_11ec_be6c_0242ac1c0002row12_col7\" class=\"data row12 col7\" >0.105532</td>\n",
              "                        <td id=\"T_94b547a4_4b36_11ec_be6c_0242ac1c0002row12_col8\" class=\"data row12 col8\" >-0.077190</td>\n",
              "                        <td id=\"T_94b547a4_4b36_11ec_be6c_0242ac1c0002row12_col9\" class=\"data row12 col9\" >0.135959</td>\n",
              "                        <td id=\"T_94b547a4_4b36_11ec_be6c_0242ac1c0002row12_col10\" class=\"data row12 col10\" >0.192260</td>\n",
              "                        <td id=\"T_94b547a4_4b36_11ec_be6c_0242ac1c0002row12_col11\" class=\"data row12 col11\" >0.944415</td>\n",
              "                        <td id=\"T_94b547a4_4b36_11ec_be6c_0242ac1c0002row12_col12\" class=\"data row12 col12\" >1.000000</td>\n",
              "                        <td id=\"T_94b547a4_4b36_11ec_be6c_0242ac1c0002row12_col13\" class=\"data row12 col13\" >0.747052</td>\n",
              "                        <td id=\"T_94b547a4_4b36_11ec_be6c_0242ac1c0002row12_col14\" class=\"data row12 col14\" >0.735958</td>\n",
              "                        <td id=\"T_94b547a4_4b36_11ec_be6c_0242ac1c0002row12_col15\" class=\"data row12 col15\" >0.913993</td>\n",
              "                        <td id=\"T_94b547a4_4b36_11ec_be6c_0242ac1c0002row12_col16\" class=\"data row12 col16\" >0.937159</td>\n",
              "                        <td id=\"T_94b547a4_4b36_11ec_be6c_0242ac1c0002row12_col17\" class=\"data row12 col17\" >0.728668</td>\n",
              "                        <td id=\"T_94b547a4_4b36_11ec_be6c_0242ac1c0002row12_col18\" class=\"data row12 col18\" >0.333305</td>\n",
              "                        <td id=\"T_94b547a4_4b36_11ec_be6c_0242ac1c0002row12_col19\" class=\"data row12 col19\" >0.080104</td>\n",
              "                        <td id=\"T_94b547a4_4b36_11ec_be6c_0242ac1c0002row12_col20\" class=\"data row12 col20\" >-0.036091</td>\n",
              "                        <td id=\"T_94b547a4_4b36_11ec_be6c_0242ac1c0002row12_col21\" class=\"data row12 col21\" >-0.206755</td>\n",
              "                        <td id=\"T_94b547a4_4b36_11ec_be6c_0242ac1c0002row12_col22\" class=\"data row12 col22\" >-0.194473</td>\n",
              "                        <td id=\"T_94b547a4_4b36_11ec_be6c_0242ac1c0002row12_col23\" class=\"data row12 col23\" >0.043286</td>\n",
              "            </tr>\n",
              "            <tr>\n",
              "                        <th id=\"T_94b547a4_4b36_11ec_be6c_0242ac1c0002level0_row13\" class=\"row_heading level0 row13\" >WS10M_MIN</th>\n",
              "                        <td id=\"T_94b547a4_4b36_11ec_be6c_0242ac1c0002row13_col0\" class=\"data row13 col0\" >0.291494</td>\n",
              "                        <td id=\"T_94b547a4_4b36_11ec_be6c_0242ac1c0002row13_col1\" class=\"data row13 col1\" >-0.145477</td>\n",
              "                        <td id=\"T_94b547a4_4b36_11ec_be6c_0242ac1c0002row13_col2\" class=\"data row13 col2\" >-0.236007</td>\n",
              "                        <td id=\"T_94b547a4_4b36_11ec_be6c_0242ac1c0002row13_col3\" class=\"data row13 col3\" >-0.145290</td>\n",
              "                        <td id=\"T_94b547a4_4b36_11ec_be6c_0242ac1c0002row13_col4\" class=\"data row13 col4\" >0.023400</td>\n",
              "                        <td id=\"T_94b547a4_4b36_11ec_be6c_0242ac1c0002row13_col5\" class=\"data row13 col5\" >-0.127478</td>\n",
              "                        <td id=\"T_94b547a4_4b36_11ec_be6c_0242ac1c0002row13_col6\" class=\"data row13 col6\" >-0.127842</td>\n",
              "                        <td id=\"T_94b547a4_4b36_11ec_be6c_0242ac1c0002row13_col7\" class=\"data row13 col7\" >0.035802</td>\n",
              "                        <td id=\"T_94b547a4_4b36_11ec_be6c_0242ac1c0002row13_col8\" class=\"data row13 col8\" >-0.000637</td>\n",
              "                        <td id=\"T_94b547a4_4b36_11ec_be6c_0242ac1c0002row13_col9\" class=\"data row13 col9\" >0.028217</td>\n",
              "                        <td id=\"T_94b547a4_4b36_11ec_be6c_0242ac1c0002row13_col10\" class=\"data row13 col10\" >0.083641</td>\n",
              "                        <td id=\"T_94b547a4_4b36_11ec_be6c_0242ac1c0002row13_col11\" class=\"data row13 col11\" >0.895164</td>\n",
              "                        <td id=\"T_94b547a4_4b36_11ec_be6c_0242ac1c0002row13_col12\" class=\"data row13 col12\" >0.747052</td>\n",
              "                        <td id=\"T_94b547a4_4b36_11ec_be6c_0242ac1c0002row13_col13\" class=\"data row13 col13\" >1.000000</td>\n",
              "                        <td id=\"T_94b547a4_4b36_11ec_be6c_0242ac1c0002row13_col14\" class=\"data row13 col14\" >0.099741</td>\n",
              "                        <td id=\"T_94b547a4_4b36_11ec_be6c_0242ac1c0002row13_col15\" class=\"data row13 col15\" >0.897522</td>\n",
              "                        <td id=\"T_94b547a4_4b36_11ec_be6c_0242ac1c0002row13_col16\" class=\"data row13 col16\" >0.726874</td>\n",
              "                        <td id=\"T_94b547a4_4b36_11ec_be6c_0242ac1c0002row13_col17\" class=\"data row13 col17\" >0.956344</td>\n",
              "                        <td id=\"T_94b547a4_4b36_11ec_be6c_0242ac1c0002row13_col18\" class=\"data row13 col18\" >-0.225297</td>\n",
              "                        <td id=\"T_94b547a4_4b36_11ec_be6c_0242ac1c0002row13_col19\" class=\"data row13 col19\" >0.047100</td>\n",
              "                        <td id=\"T_94b547a4_4b36_11ec_be6c_0242ac1c0002row13_col20\" class=\"data row13 col20\" >-0.040989</td>\n",
              "                        <td id=\"T_94b547a4_4b36_11ec_be6c_0242ac1c0002row13_col21\" class=\"data row13 col21\" >-0.183786</td>\n",
              "                        <td id=\"T_94b547a4_4b36_11ec_be6c_0242ac1c0002row13_col22\" class=\"data row13 col22\" >-0.181196</td>\n",
              "                        <td id=\"T_94b547a4_4b36_11ec_be6c_0242ac1c0002row13_col23\" class=\"data row13 col23\" >0.021625</td>\n",
              "            </tr>\n",
              "            <tr>\n",
              "                        <th id=\"T_94b547a4_4b36_11ec_be6c_0242ac1c0002level0_row14\" class=\"row_heading level0 row14\" >WS10M_RANGE</th>\n",
              "                        <td id=\"T_94b547a4_4b36_11ec_be6c_0242ac1c0002row14_col0\" class=\"data row14 col0\" >0.222233</td>\n",
              "                        <td id=\"T_94b547a4_4b36_11ec_be6c_0242ac1c0002row14_col1\" class=\"data row14 col1\" >-0.015629</td>\n",
              "                        <td id=\"T_94b547a4_4b36_11ec_be6c_0242ac1c0002row14_col2\" class=\"data row14 col2\" >-0.451051</td>\n",
              "                        <td id=\"T_94b547a4_4b36_11ec_be6c_0242ac1c0002row14_col3\" class=\"data row14 col3\" >-0.363421</td>\n",
              "                        <td id=\"T_94b547a4_4b36_11ec_be6c_0242ac1c0002row14_col4\" class=\"data row14 col4\" >0.014287</td>\n",
              "                        <td id=\"T_94b547a4_4b36_11ec_be6c_0242ac1c0002row14_col5\" class=\"data row14 col5\" >-0.375674</td>\n",
              "                        <td id=\"T_94b547a4_4b36_11ec_be6c_0242ac1c0002row14_col6\" class=\"data row14 col6\" >-0.375998</td>\n",
              "                        <td id=\"T_94b547a4_4b36_11ec_be6c_0242ac1c0002row14_col7\" class=\"data row14 col7\" >0.121503</td>\n",
              "                        <td id=\"T_94b547a4_4b36_11ec_be6c_0242ac1c0002row14_col8\" class=\"data row14 col8\" >-0.114910</td>\n",
              "                        <td id=\"T_94b547a4_4b36_11ec_be6c_0242ac1c0002row14_col9\" class=\"data row14 col9\" >0.174784</td>\n",
              "                        <td id=\"T_94b547a4_4b36_11ec_be6c_0242ac1c0002row14_col10\" class=\"data row14 col10\" >0.202600</td>\n",
              "                        <td id=\"T_94b547a4_4b36_11ec_be6c_0242ac1c0002row14_col11\" class=\"data row14 col11\" >0.501916</td>\n",
              "                        <td id=\"T_94b547a4_4b36_11ec_be6c_0242ac1c0002row14_col12\" class=\"data row14 col12\" >0.735958</td>\n",
              "                        <td id=\"T_94b547a4_4b36_11ec_be6c_0242ac1c0002row14_col13\" class=\"data row14 col13\" >0.099741</td>\n",
              "                        <td id=\"T_94b547a4_4b36_11ec_be6c_0242ac1c0002row14_col14\" class=\"data row14 col14\" >1.000000</td>\n",
              "                        <td id=\"T_94b547a4_4b36_11ec_be6c_0242ac1c0002row14_col15\" class=\"data row14 col15\" >0.453978</td>\n",
              "                        <td id=\"T_94b547a4_4b36_11ec_be6c_0242ac1c0002row14_col16\" class=\"data row14 col16\" >0.662458</td>\n",
              "                        <td id=\"T_94b547a4_4b36_11ec_be6c_0242ac1c0002row14_col17\" class=\"data row14 col17\" >0.116671</td>\n",
              "                        <td id=\"T_94b547a4_4b36_11ec_be6c_0242ac1c0002row14_col18\" class=\"data row14 col18\" >0.728364</td>\n",
              "                        <td id=\"T_94b547a4_4b36_11ec_be6c_0242ac1c0002row14_col19\" class=\"data row14 col19\" >0.071901</td>\n",
              "                        <td id=\"T_94b547a4_4b36_11ec_be6c_0242ac1c0002row14_col20\" class=\"data row14 col20\" >-0.012280</td>\n",
              "                        <td id=\"T_94b547a4_4b36_11ec_be6c_0242ac1c0002row14_col21\" class=\"data row14 col21\" >-0.122295</td>\n",
              "                        <td id=\"T_94b547a4_4b36_11ec_be6c_0242ac1c0002row14_col22\" class=\"data row14 col22\" >-0.106549</td>\n",
              "                        <td id=\"T_94b547a4_4b36_11ec_be6c_0242ac1c0002row14_col23\" class=\"data row14 col23\" >0.042764</td>\n",
              "            </tr>\n",
              "            <tr>\n",
              "                        <th id=\"T_94b547a4_4b36_11ec_be6c_0242ac1c0002level0_row15\" class=\"row_heading level0 row15\" >WS50M</th>\n",
              "                        <td id=\"T_94b547a4_4b36_11ec_be6c_0242ac1c0002row15_col0\" class=\"data row15 col0\" >0.324720</td>\n",
              "                        <td id=\"T_94b547a4_4b36_11ec_be6c_0242ac1c0002row15_col1\" class=\"data row15 col1\" >-0.143694</td>\n",
              "                        <td id=\"T_94b547a4_4b36_11ec_be6c_0242ac1c0002row15_col2\" class=\"data row15 col2\" >-0.369270</td>\n",
              "                        <td id=\"T_94b547a4_4b36_11ec_be6c_0242ac1c0002row15_col3\" class=\"data row15 col3\" >-0.268089</td>\n",
              "                        <td id=\"T_94b547a4_4b36_11ec_be6c_0242ac1c0002row15_col4\" class=\"data row15 col4\" >0.046501</td>\n",
              "                        <td id=\"T_94b547a4_4b36_11ec_be6c_0242ac1c0002row15_col5\" class=\"data row15 col5\" >-0.249093</td>\n",
              "                        <td id=\"T_94b547a4_4b36_11ec_be6c_0242ac1c0002row15_col6\" class=\"data row15 col6\" >-0.249581</td>\n",
              "                        <td id=\"T_94b547a4_4b36_11ec_be6c_0242ac1c0002row15_col7\" class=\"data row15 col7\" >0.125185</td>\n",
              "                        <td id=\"T_94b547a4_4b36_11ec_be6c_0242ac1c0002row15_col8\" class=\"data row15 col8\" >-0.064228</td>\n",
              "                        <td id=\"T_94b547a4_4b36_11ec_be6c_0242ac1c0002row15_col9\" class=\"data row15 col9\" >0.142129</td>\n",
              "                        <td id=\"T_94b547a4_4b36_11ec_be6c_0242ac1c0002row15_col10\" class=\"data row15 col10\" >0.125895</td>\n",
              "                        <td id=\"T_94b547a4_4b36_11ec_be6c_0242ac1c0002row15_col11\" class=\"data row15 col11\" >0.982269</td>\n",
              "                        <td id=\"T_94b547a4_4b36_11ec_be6c_0242ac1c0002row15_col12\" class=\"data row15 col12\" >0.913993</td>\n",
              "                        <td id=\"T_94b547a4_4b36_11ec_be6c_0242ac1c0002row15_col13\" class=\"data row15 col13\" >0.897522</td>\n",
              "                        <td id=\"T_94b547a4_4b36_11ec_be6c_0242ac1c0002row15_col14\" class=\"data row15 col14\" >0.453978</td>\n",
              "                        <td id=\"T_94b547a4_4b36_11ec_be6c_0242ac1c0002row15_col15\" class=\"data row15 col15\" >1.000000</td>\n",
              "                        <td id=\"T_94b547a4_4b36_11ec_be6c_0242ac1c0002row15_col16\" class=\"data row15 col16\" >0.906320</td>\n",
              "                        <td id=\"T_94b547a4_4b36_11ec_be6c_0242ac1c0002row15_col17\" class=\"data row15 col17\" >0.896854</td>\n",
              "                        <td id=\"T_94b547a4_4b36_11ec_be6c_0242ac1c0002row15_col18\" class=\"data row15 col18\" >0.084662</td>\n",
              "                        <td id=\"T_94b547a4_4b36_11ec_be6c_0242ac1c0002row15_col19\" class=\"data row15 col19\" >0.049385</td>\n",
              "                        <td id=\"T_94b547a4_4b36_11ec_be6c_0242ac1c0002row15_col20\" class=\"data row15 col20\" >-0.046426</td>\n",
              "                        <td id=\"T_94b547a4_4b36_11ec_be6c_0242ac1c0002row15_col21\" class=\"data row15 col21\" >-0.190619</td>\n",
              "                        <td id=\"T_94b547a4_4b36_11ec_be6c_0242ac1c0002row15_col22\" class=\"data row15 col22\" >-0.184052</td>\n",
              "                        <td id=\"T_94b547a4_4b36_11ec_be6c_0242ac1c0002row15_col23\" class=\"data row15 col23\" >0.029955</td>\n",
              "            </tr>\n",
              "            <tr>\n",
              "                        <th id=\"T_94b547a4_4b36_11ec_be6c_0242ac1c0002level0_row16\" class=\"row_heading level0 row16\" >WS50M_MAX</th>\n",
              "                        <td id=\"T_94b547a4_4b36_11ec_be6c_0242ac1c0002row16_col0\" class=\"data row16 col0\" >0.335203</td>\n",
              "                        <td id=\"T_94b547a4_4b36_11ec_be6c_0242ac1c0002row16_col1\" class=\"data row16 col1\" >-0.128286</td>\n",
              "                        <td id=\"T_94b547a4_4b36_11ec_be6c_0242ac1c0002row16_col2\" class=\"data row16 col2\" >-0.489322</td>\n",
              "                        <td id=\"T_94b547a4_4b36_11ec_be6c_0242ac1c0002row16_col3\" class=\"data row16 col3\" >-0.381605</td>\n",
              "                        <td id=\"T_94b547a4_4b36_11ec_be6c_0242ac1c0002row16_col4\" class=\"data row16 col4\" >0.049805</td>\n",
              "                        <td id=\"T_94b547a4_4b36_11ec_be6c_0242ac1c0002row16_col5\" class=\"data row16 col5\" >-0.366386</td>\n",
              "                        <td id=\"T_94b547a4_4b36_11ec_be6c_0242ac1c0002row16_col6\" class=\"data row16 col6\" >-0.366971</td>\n",
              "                        <td id=\"T_94b547a4_4b36_11ec_be6c_0242ac1c0002row16_col7\" class=\"data row16 col7\" >0.197087</td>\n",
              "                        <td id=\"T_94b547a4_4b36_11ec_be6c_0242ac1c0002row16_col8\" class=\"data row16 col8\" >-0.156804</td>\n",
              "                        <td id=\"T_94b547a4_4b36_11ec_be6c_0242ac1c0002row16_col9\" class=\"data row16 col9\" >0.262784</td>\n",
              "                        <td id=\"T_94b547a4_4b36_11ec_be6c_0242ac1c0002row16_col10\" class=\"data row16 col10\" >0.191023</td>\n",
              "                        <td id=\"T_94b547a4_4b36_11ec_be6c_0242ac1c0002row16_col11\" class=\"data row16 col11\" >0.903070</td>\n",
              "                        <td id=\"T_94b547a4_4b36_11ec_be6c_0242ac1c0002row16_col12\" class=\"data row16 col12\" >0.937159</td>\n",
              "                        <td id=\"T_94b547a4_4b36_11ec_be6c_0242ac1c0002row16_col13\" class=\"data row16 col13\" >0.726874</td>\n",
              "                        <td id=\"T_94b547a4_4b36_11ec_be6c_0242ac1c0002row16_col14\" class=\"data row16 col14\" >0.662458</td>\n",
              "                        <td id=\"T_94b547a4_4b36_11ec_be6c_0242ac1c0002row16_col15\" class=\"data row16 col15\" >0.906320</td>\n",
              "                        <td id=\"T_94b547a4_4b36_11ec_be6c_0242ac1c0002row16_col16\" class=\"data row16 col16\" >1.000000</td>\n",
              "                        <td id=\"T_94b547a4_4b36_11ec_be6c_0242ac1c0002row16_col17\" class=\"data row16 col17\" >0.695105</td>\n",
              "                        <td id=\"T_94b547a4_4b36_11ec_be6c_0242ac1c0002row16_col18\" class=\"data row16 col18\" >0.457598</td>\n",
              "                        <td id=\"T_94b547a4_4b36_11ec_be6c_0242ac1c0002row16_col19\" class=\"data row16 col19\" >0.064056</td>\n",
              "                        <td id=\"T_94b547a4_4b36_11ec_be6c_0242ac1c0002row16_col20\" class=\"data row16 col20\" >-0.039927</td>\n",
              "                        <td id=\"T_94b547a4_4b36_11ec_be6c_0242ac1c0002row16_col21\" class=\"data row16 col21\" >-0.205342</td>\n",
              "                        <td id=\"T_94b547a4_4b36_11ec_be6c_0242ac1c0002row16_col22\" class=\"data row16 col22\" >-0.196535</td>\n",
              "                        <td id=\"T_94b547a4_4b36_11ec_be6c_0242ac1c0002row16_col23\" class=\"data row16 col23\" >0.034325</td>\n",
              "            </tr>\n",
              "            <tr>\n",
              "                        <th id=\"T_94b547a4_4b36_11ec_be6c_0242ac1c0002level0_row17\" class=\"row_heading level0 row17\" >WS50M_MIN</th>\n",
              "                        <td id=\"T_94b547a4_4b36_11ec_be6c_0242ac1c0002row17_col0\" class=\"data row17 col0\" >0.262578</td>\n",
              "                        <td id=\"T_94b547a4_4b36_11ec_be6c_0242ac1c0002row17_col1\" class=\"data row17 col1\" >-0.141102</td>\n",
              "                        <td id=\"T_94b547a4_4b36_11ec_be6c_0242ac1c0002row17_col2\" class=\"data row17 col2\" >-0.185282</td>\n",
              "                        <td id=\"T_94b547a4_4b36_11ec_be6c_0242ac1c0002row17_col3\" class=\"data row17 col3\" >-0.107874</td>\n",
              "                        <td id=\"T_94b547a4_4b36_11ec_be6c_0242ac1c0002row17_col4\" class=\"data row17 col4\" >0.021359</td>\n",
              "                        <td id=\"T_94b547a4_4b36_11ec_be6c_0242ac1c0002row17_col5\" class=\"data row17 col5\" >-0.088385</td>\n",
              "                        <td id=\"T_94b547a4_4b36_11ec_be6c_0242ac1c0002row17_col6\" class=\"data row17 col6\" >-0.088709</td>\n",
              "                        <td id=\"T_94b547a4_4b36_11ec_be6c_0242ac1c0002row17_col7\" class=\"data row17 col7\" >0.031167</td>\n",
              "                        <td id=\"T_94b547a4_4b36_11ec_be6c_0242ac1c0002row17_col8\" class=\"data row17 col8\" >0.015872</td>\n",
              "                        <td id=\"T_94b547a4_4b36_11ec_be6c_0242ac1c0002row17_col9\" class=\"data row17 col9\" >0.013054</td>\n",
              "                        <td id=\"T_94b547a4_4b36_11ec_be6c_0242ac1c0002row17_col10\" class=\"data row17 col10\" >0.041615</td>\n",
              "                        <td id=\"T_94b547a4_4b36_11ec_be6c_0242ac1c0002row17_col11\" class=\"data row17 col11\" >0.876128</td>\n",
              "                        <td id=\"T_94b547a4_4b36_11ec_be6c_0242ac1c0002row17_col12\" class=\"data row17 col12\" >0.728668</td>\n",
              "                        <td id=\"T_94b547a4_4b36_11ec_be6c_0242ac1c0002row17_col13\" class=\"data row17 col13\" >0.956344</td>\n",
              "                        <td id=\"T_94b547a4_4b36_11ec_be6c_0242ac1c0002row17_col14\" class=\"data row17 col14\" >0.116671</td>\n",
              "                        <td id=\"T_94b547a4_4b36_11ec_be6c_0242ac1c0002row17_col15\" class=\"data row17 col15\" >0.896854</td>\n",
              "                        <td id=\"T_94b547a4_4b36_11ec_be6c_0242ac1c0002row17_col16\" class=\"data row17 col16\" >0.695105</td>\n",
              "                        <td id=\"T_94b547a4_4b36_11ec_be6c_0242ac1c0002row17_col17\" class=\"data row17 col17\" >1.000000</td>\n",
              "                        <td id=\"T_94b547a4_4b36_11ec_be6c_0242ac1c0002row17_col18\" class=\"data row17 col18\" >-0.321142</td>\n",
              "                        <td id=\"T_94b547a4_4b36_11ec_be6c_0242ac1c0002row17_col19\" class=\"data row17 col19\" >0.033045</td>\n",
              "                        <td id=\"T_94b547a4_4b36_11ec_be6c_0242ac1c0002row17_col20\" class=\"data row17 col20\" >-0.040611</td>\n",
              "                        <td id=\"T_94b547a4_4b36_11ec_be6c_0242ac1c0002row17_col21\" class=\"data row17 col21\" >-0.163425</td>\n",
              "                        <td id=\"T_94b547a4_4b36_11ec_be6c_0242ac1c0002row17_col22\" class=\"data row17 col22\" >-0.162497</td>\n",
              "                        <td id=\"T_94b547a4_4b36_11ec_be6c_0242ac1c0002row17_col23\" class=\"data row17 col23\" >0.015700</td>\n",
              "            </tr>\n",
              "            <tr>\n",
              "                        <th id=\"T_94b547a4_4b36_11ec_be6c_0242ac1c0002level0_row18\" class=\"row_heading level0 row18\" >WS50M_RANGE</th>\n",
              "                        <td id=\"T_94b547a4_4b36_11ec_be6c_0242ac1c0002row18_col0\" class=\"data row18 col0\" >0.116800</td>\n",
              "                        <td id=\"T_94b547a4_4b36_11ec_be6c_0242ac1c0002row18_col1\" class=\"data row18 col1\" >0.005543</td>\n",
              "                        <td id=\"T_94b547a4_4b36_11ec_be6c_0242ac1c0002row18_col2\" class=\"data row18 col2\" >-0.415434</td>\n",
              "                        <td id=\"T_94b547a4_4b36_11ec_be6c_0242ac1c0002row18_col3\" class=\"data row18 col3\" >-0.369291</td>\n",
              "                        <td id=\"T_94b547a4_4b36_11ec_be6c_0242ac1c0002row18_col4\" class=\"data row18 col4\" >0.039190</td>\n",
              "                        <td id=\"T_94b547a4_4b36_11ec_be6c_0242ac1c0002row18_col5\" class=\"data row18 col5\" >-0.373345</td>\n",
              "                        <td id=\"T_94b547a4_4b36_11ec_be6c_0242ac1c0002row18_col6\" class=\"data row18 col6\" >-0.373715</td>\n",
              "                        <td id=\"T_94b547a4_4b36_11ec_be6c_0242ac1c0002row18_col7\" class=\"data row18 col7\" >0.221076</td>\n",
              "                        <td id=\"T_94b547a4_4b36_11ec_be6c_0242ac1c0002row18_col8\" class=\"data row18 col8\" >-0.226207</td>\n",
              "                        <td id=\"T_94b547a4_4b36_11ec_be6c_0242ac1c0002row18_col9\" class=\"data row18 col9\" >0.330034</td>\n",
              "                        <td id=\"T_94b547a4_4b36_11ec_be6c_0242ac1c0002row18_col10\" class=\"data row18 col10\" >0.200174</td>\n",
              "                        <td id=\"T_94b547a4_4b36_11ec_be6c_0242ac1c0002row18_col11\" class=\"data row18 col11\" >0.106018</td>\n",
              "                        <td id=\"T_94b547a4_4b36_11ec_be6c_0242ac1c0002row18_col12\" class=\"data row18 col12\" >0.333305</td>\n",
              "                        <td id=\"T_94b547a4_4b36_11ec_be6c_0242ac1c0002row18_col13\" class=\"data row18 col13\" >-0.225297</td>\n",
              "                        <td id=\"T_94b547a4_4b36_11ec_be6c_0242ac1c0002row18_col14\" class=\"data row18 col14\" >0.728364</td>\n",
              "                        <td id=\"T_94b547a4_4b36_11ec_be6c_0242ac1c0002row18_col15\" class=\"data row18 col15\" >0.084662</td>\n",
              "                        <td id=\"T_94b547a4_4b36_11ec_be6c_0242ac1c0002row18_col16\" class=\"data row18 col16\" >0.457598</td>\n",
              "                        <td id=\"T_94b547a4_4b36_11ec_be6c_0242ac1c0002row18_col17\" class=\"data row18 col17\" >-0.321142</td>\n",
              "                        <td id=\"T_94b547a4_4b36_11ec_be6c_0242ac1c0002row18_col18\" class=\"data row18 col18\" >1.000000</td>\n",
              "                        <td id=\"T_94b547a4_4b36_11ec_be6c_0242ac1c0002row18_col19\" class=\"data row18 col19\" >0.043536</td>\n",
              "                        <td id=\"T_94b547a4_4b36_11ec_be6c_0242ac1c0002row18_col20\" class=\"data row18 col20\" >-0.002372</td>\n",
              "                        <td id=\"T_94b547a4_4b36_11ec_be6c_0242ac1c0002row18_col21\" class=\"data row18 col21\" >-0.068384</td>\n",
              "                        <td id=\"T_94b547a4_4b36_11ec_be6c_0242ac1c0002row18_col22\" class=\"data row18 col22\" >-0.057935</td>\n",
              "                        <td id=\"T_94b547a4_4b36_11ec_be6c_0242ac1c0002row18_col23\" class=\"data row18 col23\" >0.025792</td>\n",
              "            </tr>\n",
              "            <tr>\n",
              "                        <th id=\"T_94b547a4_4b36_11ec_be6c_0242ac1c0002level0_row19\" class=\"row_heading level0 row19\" >score</th>\n",
              "                        <td id=\"T_94b547a4_4b36_11ec_be6c_0242ac1c0002row19_col0\" class=\"data row19 col0\" >0.005794</td>\n",
              "                        <td id=\"T_94b547a4_4b36_11ec_be6c_0242ac1c0002row19_col1\" class=\"data row19 col1\" >-0.012724</td>\n",
              "                        <td id=\"T_94b547a4_4b36_11ec_be6c_0242ac1c0002row19_col2\" class=\"data row19 col2\" >-0.051535</td>\n",
              "                        <td id=\"T_94b547a4_4b36_11ec_be6c_0242ac1c0002row19_col3\" class=\"data row19 col3\" >-0.201055</td>\n",
              "                        <td id=\"T_94b547a4_4b36_11ec_be6c_0242ac1c0002row19_col4\" class=\"data row19 col4\" >0.182773</td>\n",
              "                        <td id=\"T_94b547a4_4b36_11ec_be6c_0242ac1c0002row19_col5\" class=\"data row19 col5\" >-0.170253</td>\n",
              "                        <td id=\"T_94b547a4_4b36_11ec_be6c_0242ac1c0002row19_col6\" class=\"data row19 col6\" >-0.170420</td>\n",
              "                        <td id=\"T_94b547a4_4b36_11ec_be6c_0242ac1c0002row19_col7\" class=\"data row19 col7\" >0.182332</td>\n",
              "                        <td id=\"T_94b547a4_4b36_11ec_be6c_0242ac1c0002row19_col8\" class=\"data row19 col8\" >0.053470</td>\n",
              "                        <td id=\"T_94b547a4_4b36_11ec_be6c_0242ac1c0002row19_col9\" class=\"data row19 col9\" >0.104015</td>\n",
              "                        <td id=\"T_94b547a4_4b36_11ec_be6c_0242ac1c0002row19_col10\" class=\"data row19 col10\" >0.244193</td>\n",
              "                        <td id=\"T_94b547a4_4b36_11ec_be6c_0242ac1c0002row19_col11\" class=\"data row19 col11\" >0.066938</td>\n",
              "                        <td id=\"T_94b547a4_4b36_11ec_be6c_0242ac1c0002row19_col12\" class=\"data row19 col12\" >0.080104</td>\n",
              "                        <td id=\"T_94b547a4_4b36_11ec_be6c_0242ac1c0002row19_col13\" class=\"data row19 col13\" >0.047100</td>\n",
              "                        <td id=\"T_94b547a4_4b36_11ec_be6c_0242ac1c0002row19_col14\" class=\"data row19 col14\" >0.071901</td>\n",
              "                        <td id=\"T_94b547a4_4b36_11ec_be6c_0242ac1c0002row19_col15\" class=\"data row19 col15\" >0.049385</td>\n",
              "                        <td id=\"T_94b547a4_4b36_11ec_be6c_0242ac1c0002row19_col16\" class=\"data row19 col16\" >0.064056</td>\n",
              "                        <td id=\"T_94b547a4_4b36_11ec_be6c_0242ac1c0002row19_col17\" class=\"data row19 col17\" >0.033045</td>\n",
              "                        <td id=\"T_94b547a4_4b36_11ec_be6c_0242ac1c0002row19_col18\" class=\"data row19 col18\" >0.043536</td>\n",
              "                        <td id=\"T_94b547a4_4b36_11ec_be6c_0242ac1c0002row19_col19\" class=\"data row19 col19\" >1.000000</td>\n",
              "                        <td id=\"T_94b547a4_4b36_11ec_be6c_0242ac1c0002row19_col20\" class=\"data row19 col20\" >0.094532</td>\n",
              "                        <td id=\"T_94b547a4_4b36_11ec_be6c_0242ac1c0002row19_col21\" class=\"data row19 col21\" >-0.036524</td>\n",
              "                        <td id=\"T_94b547a4_4b36_11ec_be6c_0242ac1c0002row19_col22\" class=\"data row19 col22\" >-0.026999</td>\n",
              "                        <td id=\"T_94b547a4_4b36_11ec_be6c_0242ac1c0002row19_col23\" class=\"data row19 col23\" >0.047672</td>\n",
              "            </tr>\n",
              "            <tr>\n",
              "                        <th id=\"T_94b547a4_4b36_11ec_be6c_0242ac1c0002level0_row20\" class=\"row_heading level0 row20\" >year</th>\n",
              "                        <td id=\"T_94b547a4_4b36_11ec_be6c_0242ac1c0002row20_col0\" class=\"data row20 col0\" >0.008911</td>\n",
              "                        <td id=\"T_94b547a4_4b36_11ec_be6c_0242ac1c0002row20_col1\" class=\"data row20 col1\" >0.016803</td>\n",
              "                        <td id=\"T_94b547a4_4b36_11ec_be6c_0242ac1c0002row20_col2\" class=\"data row20 col2\" >0.037325</td>\n",
              "                        <td id=\"T_94b547a4_4b36_11ec_be6c_0242ac1c0002row20_col3\" class=\"data row20 col3\" >0.124962</td>\n",
              "                        <td id=\"T_94b547a4_4b36_11ec_be6c_0242ac1c0002row20_col4\" class=\"data row20 col4\" >0.035938</td>\n",
              "                        <td id=\"T_94b547a4_4b36_11ec_be6c_0242ac1c0002row20_col5\" class=\"data row20 col5\" >0.104133</td>\n",
              "                        <td id=\"T_94b547a4_4b36_11ec_be6c_0242ac1c0002row20_col6\" class=\"data row20 col6\" >0.104280</td>\n",
              "                        <td id=\"T_94b547a4_4b36_11ec_be6c_0242ac1c0002row20_col7\" class=\"data row20 col7\" >-0.019337</td>\n",
              "                        <td id=\"T_94b547a4_4b36_11ec_be6c_0242ac1c0002row20_col8\" class=\"data row20 col8\" >0.094599</td>\n",
              "                        <td id=\"T_94b547a4_4b36_11ec_be6c_0242ac1c0002row20_col9\" class=\"data row20 col9\" >-0.081292</td>\n",
              "                        <td id=\"T_94b547a4_4b36_11ec_be6c_0242ac1c0002row20_col10\" class=\"data row20 col10\" >0.024447</td>\n",
              "                        <td id=\"T_94b547a4_4b36_11ec_be6c_0242ac1c0002row20_col11\" class=\"data row20 col11\" >-0.041727</td>\n",
              "                        <td id=\"T_94b547a4_4b36_11ec_be6c_0242ac1c0002row20_col12\" class=\"data row20 col12\" >-0.036091</td>\n",
              "                        <td id=\"T_94b547a4_4b36_11ec_be6c_0242ac1c0002row20_col13\" class=\"data row20 col13\" >-0.040989</td>\n",
              "                        <td id=\"T_94b547a4_4b36_11ec_be6c_0242ac1c0002row20_col14\" class=\"data row20 col14\" >-0.012280</td>\n",
              "                        <td id=\"T_94b547a4_4b36_11ec_be6c_0242ac1c0002row20_col15\" class=\"data row20 col15\" >-0.046426</td>\n",
              "                        <td id=\"T_94b547a4_4b36_11ec_be6c_0242ac1c0002row20_col16\" class=\"data row20 col16\" >-0.039927</td>\n",
              "                        <td id=\"T_94b547a4_4b36_11ec_be6c_0242ac1c0002row20_col17\" class=\"data row20 col17\" >-0.040611</td>\n",
              "                        <td id=\"T_94b547a4_4b36_11ec_be6c_0242ac1c0002row20_col18\" class=\"data row20 col18\" >-0.002372</td>\n",
              "                        <td id=\"T_94b547a4_4b36_11ec_be6c_0242ac1c0002row20_col19\" class=\"data row20 col19\" >0.094532</td>\n",
              "                        <td id=\"T_94b547a4_4b36_11ec_be6c_0242ac1c0002row20_col20\" class=\"data row20 col20\" >1.000000</td>\n",
              "                        <td id=\"T_94b547a4_4b36_11ec_be6c_0242ac1c0002row20_col21\" class=\"data row20 col21\" >-0.017256</td>\n",
              "                        <td id=\"T_94b547a4_4b36_11ec_be6c_0242ac1c0002row20_col22\" class=\"data row20 col22\" >-0.020320</td>\n",
              "                        <td id=\"T_94b547a4_4b36_11ec_be6c_0242ac1c0002row20_col23\" class=\"data row20 col23\" >-0.006832</td>\n",
              "            </tr>\n",
              "            <tr>\n",
              "                        <th id=\"T_94b547a4_4b36_11ec_be6c_0242ac1c0002level0_row21\" class=\"row_heading level0 row21\" >month</th>\n",
              "                        <td id=\"T_94b547a4_4b36_11ec_be6c_0242ac1c0002row21_col0\" class=\"data row21 col0\" >-0.046321</td>\n",
              "                        <td id=\"T_94b547a4_4b36_11ec_be6c_0242ac1c0002row21_col1\" class=\"data row21 col1\" >0.000144</td>\n",
              "                        <td id=\"T_94b547a4_4b36_11ec_be6c_0242ac1c0002row21_col2\" class=\"data row21 col2\" >0.121151</td>\n",
              "                        <td id=\"T_94b547a4_4b36_11ec_be6c_0242ac1c0002row21_col3\" class=\"data row21 col3\" >0.143646</td>\n",
              "                        <td id=\"T_94b547a4_4b36_11ec_be6c_0242ac1c0002row21_col4\" class=\"data row21 col4\" >0.134541</td>\n",
              "                        <td id=\"T_94b547a4_4b36_11ec_be6c_0242ac1c0002row21_col5\" class=\"data row21 col5\" >0.160228</td>\n",
              "                        <td id=\"T_94b547a4_4b36_11ec_be6c_0242ac1c0002row21_col6\" class=\"data row21 col6\" >0.160110</td>\n",
              "                        <td id=\"T_94b547a4_4b36_11ec_be6c_0242ac1c0002row21_col7\" class=\"data row21 col7\" >0.014984</td>\n",
              "                        <td id=\"T_94b547a4_4b36_11ec_be6c_0242ac1c0002row21_col8\" class=\"data row21 col8\" >0.248104</td>\n",
              "                        <td id=\"T_94b547a4_4b36_11ec_be6c_0242ac1c0002row21_col9\" class=\"data row21 col9\" >-0.162223</td>\n",
              "                        <td id=\"T_94b547a4_4b36_11ec_be6c_0242ac1c0002row21_col10\" class=\"data row21 col10\" >0.049251</td>\n",
              "                        <td id=\"T_94b547a4_4b36_11ec_be6c_0242ac1c0002row21_col11\" class=\"data row21 col11\" >-0.208089</td>\n",
              "                        <td id=\"T_94b547a4_4b36_11ec_be6c_0242ac1c0002row21_col12\" class=\"data row21 col12\" >-0.206755</td>\n",
              "                        <td id=\"T_94b547a4_4b36_11ec_be6c_0242ac1c0002row21_col13\" class=\"data row21 col13\" >-0.183786</td>\n",
              "                        <td id=\"T_94b547a4_4b36_11ec_be6c_0242ac1c0002row21_col14\" class=\"data row21 col14\" >-0.122295</td>\n",
              "                        <td id=\"T_94b547a4_4b36_11ec_be6c_0242ac1c0002row21_col15\" class=\"data row21 col15\" >-0.190619</td>\n",
              "                        <td id=\"T_94b547a4_4b36_11ec_be6c_0242ac1c0002row21_col16\" class=\"data row21 col16\" >-0.205342</td>\n",
              "                        <td id=\"T_94b547a4_4b36_11ec_be6c_0242ac1c0002row21_col17\" class=\"data row21 col17\" >-0.163425</td>\n",
              "                        <td id=\"T_94b547a4_4b36_11ec_be6c_0242ac1c0002row21_col18\" class=\"data row21 col18\" >-0.068384</td>\n",
              "                        <td id=\"T_94b547a4_4b36_11ec_be6c_0242ac1c0002row21_col19\" class=\"data row21 col19\" >-0.036524</td>\n",
              "                        <td id=\"T_94b547a4_4b36_11ec_be6c_0242ac1c0002row21_col20\" class=\"data row21 col20\" >-0.017256</td>\n",
              "                        <td id=\"T_94b547a4_4b36_11ec_be6c_0242ac1c0002row21_col21\" class=\"data row21 col21\" >1.000000</td>\n",
              "                        <td id=\"T_94b547a4_4b36_11ec_be6c_0242ac1c0002row21_col22\" class=\"data row21 col22\" >0.943872</td>\n",
              "                        <td id=\"T_94b547a4_4b36_11ec_be6c_0242ac1c0002row21_col23\" class=\"data row21 col23\" >-0.312436</td>\n",
              "            </tr>\n",
              "            <tr>\n",
              "                        <th id=\"T_94b547a4_4b36_11ec_be6c_0242ac1c0002level0_row22\" class=\"row_heading level0 row22\" >week</th>\n",
              "                        <td id=\"T_94b547a4_4b36_11ec_be6c_0242ac1c0002row22_col0\" class=\"data row22 col0\" >-0.037325</td>\n",
              "                        <td id=\"T_94b547a4_4b36_11ec_be6c_0242ac1c0002row22_col1\" class=\"data row22 col1\" >0.007337</td>\n",
              "                        <td id=\"T_94b547a4_4b36_11ec_be6c_0242ac1c0002row22_col2\" class=\"data row22 col2\" >0.121039</td>\n",
              "                        <td id=\"T_94b547a4_4b36_11ec_be6c_0242ac1c0002row22_col3\" class=\"data row22 col3\" >0.135767</td>\n",
              "                        <td id=\"T_94b547a4_4b36_11ec_be6c_0242ac1c0002row22_col4\" class=\"data row22 col4\" >0.136626</td>\n",
              "                        <td id=\"T_94b547a4_4b36_11ec_be6c_0242ac1c0002row22_col5\" class=\"data row22 col5\" >0.155294</td>\n",
              "                        <td id=\"T_94b547a4_4b36_11ec_be6c_0242ac1c0002row22_col6\" class=\"data row22 col6\" >0.155157</td>\n",
              "                        <td id=\"T_94b547a4_4b36_11ec_be6c_0242ac1c0002row22_col7\" class=\"data row22 col7\" >0.015771</td>\n",
              "                        <td id=\"T_94b547a4_4b36_11ec_be6c_0242ac1c0002row22_col8\" class=\"data row22 col8\" >0.257326</td>\n",
              "                        <td id=\"T_94b547a4_4b36_11ec_be6c_0242ac1c0002row22_col9\" class=\"data row22 col9\" >-0.168076</td>\n",
              "                        <td id=\"T_94b547a4_4b36_11ec_be6c_0242ac1c0002row22_col10\" class=\"data row22 col10\" >0.054890</td>\n",
              "                        <td id=\"T_94b547a4_4b36_11ec_be6c_0242ac1c0002row22_col11\" class=\"data row22 col11\" >-0.199443</td>\n",
              "                        <td id=\"T_94b547a4_4b36_11ec_be6c_0242ac1c0002row22_col12\" class=\"data row22 col12\" >-0.194473</td>\n",
              "                        <td id=\"T_94b547a4_4b36_11ec_be6c_0242ac1c0002row22_col13\" class=\"data row22 col13\" >-0.181196</td>\n",
              "                        <td id=\"T_94b547a4_4b36_11ec_be6c_0242ac1c0002row22_col14\" class=\"data row22 col14\" >-0.106549</td>\n",
              "                        <td id=\"T_94b547a4_4b36_11ec_be6c_0242ac1c0002row22_col15\" class=\"data row22 col15\" >-0.184052</td>\n",
              "                        <td id=\"T_94b547a4_4b36_11ec_be6c_0242ac1c0002row22_col16\" class=\"data row22 col16\" >-0.196535</td>\n",
              "                        <td id=\"T_94b547a4_4b36_11ec_be6c_0242ac1c0002row22_col17\" class=\"data row22 col17\" >-0.162497</td>\n",
              "                        <td id=\"T_94b547a4_4b36_11ec_be6c_0242ac1c0002row22_col18\" class=\"data row22 col18\" >-0.057935</td>\n",
              "                        <td id=\"T_94b547a4_4b36_11ec_be6c_0242ac1c0002row22_col19\" class=\"data row22 col19\" >-0.026999</td>\n",
              "                        <td id=\"T_94b547a4_4b36_11ec_be6c_0242ac1c0002row22_col20\" class=\"data row22 col20\" >-0.020320</td>\n",
              "                        <td id=\"T_94b547a4_4b36_11ec_be6c_0242ac1c0002row22_col21\" class=\"data row22 col21\" >0.943872</td>\n",
              "                        <td id=\"T_94b547a4_4b36_11ec_be6c_0242ac1c0002row22_col22\" class=\"data row22 col22\" >1.000000</td>\n",
              "                        <td id=\"T_94b547a4_4b36_11ec_be6c_0242ac1c0002row22_col23\" class=\"data row22 col23\" >0.011610</td>\n",
              "            </tr>\n",
              "            <tr>\n",
              "                        <th id=\"T_94b547a4_4b36_11ec_be6c_0242ac1c0002level0_row23\" class=\"row_heading level0 row23\" >day</th>\n",
              "                        <td id=\"T_94b547a4_4b36_11ec_be6c_0242ac1c0002row23_col0\" class=\"data row23 col0\" >0.016032</td>\n",
              "                        <td id=\"T_94b547a4_4b36_11ec_be6c_0242ac1c0002row23_col1\" class=\"data row23 col1\" >0.029887</td>\n",
              "                        <td id=\"T_94b547a4_4b36_11ec_be6c_0242ac1c0002row23_col2\" class=\"data row23 col2\" >-0.003542</td>\n",
              "                        <td id=\"T_94b547a4_4b36_11ec_be6c_0242ac1c0002row23_col3\" class=\"data row23 col3\" >-0.026158</td>\n",
              "                        <td id=\"T_94b547a4_4b36_11ec_be6c_0242ac1c0002row23_col4\" class=\"data row23 col4\" >0.012751</td>\n",
              "                        <td id=\"T_94b547a4_4b36_11ec_be6c_0242ac1c0002row23_col5\" class=\"data row23 col5\" >-0.020766</td>\n",
              "                        <td id=\"T_94b547a4_4b36_11ec_be6c_0242ac1c0002row23_col6\" class=\"data row23 col6\" >-0.020805</td>\n",
              "                        <td id=\"T_94b547a4_4b36_11ec_be6c_0242ac1c0002row23_col7\" class=\"data row23 col7\" >0.009680</td>\n",
              "                        <td id=\"T_94b547a4_4b36_11ec_be6c_0242ac1c0002row23_col8\" class=\"data row23 col8\" >0.017508</td>\n",
              "                        <td id=\"T_94b547a4_4b36_11ec_be6c_0242ac1c0002row23_col9\" class=\"data row23 col9\" >-0.004762</td>\n",
              "                        <td id=\"T_94b547a4_4b36_11ec_be6c_0242ac1c0002row23_col10\" class=\"data row23 col10\" >0.023323</td>\n",
              "                        <td id=\"T_94b547a4_4b36_11ec_be6c_0242ac1c0002row23_col11\" class=\"data row23 col11\" >0.036706</td>\n",
              "                        <td id=\"T_94b547a4_4b36_11ec_be6c_0242ac1c0002row23_col12\" class=\"data row23 col12\" >0.043286</td>\n",
              "                        <td id=\"T_94b547a4_4b36_11ec_be6c_0242ac1c0002row23_col13\" class=\"data row23 col13\" >0.021625</td>\n",
              "                        <td id=\"T_94b547a4_4b36_11ec_be6c_0242ac1c0002row23_col14\" class=\"data row23 col14\" >0.042764</td>\n",
              "                        <td id=\"T_94b547a4_4b36_11ec_be6c_0242ac1c0002row23_col15\" class=\"data row23 col15\" >0.029955</td>\n",
              "                        <td id=\"T_94b547a4_4b36_11ec_be6c_0242ac1c0002row23_col16\" class=\"data row23 col16\" >0.034325</td>\n",
              "                        <td id=\"T_94b547a4_4b36_11ec_be6c_0242ac1c0002row23_col17\" class=\"data row23 col17\" >0.015700</td>\n",
              "                        <td id=\"T_94b547a4_4b36_11ec_be6c_0242ac1c0002row23_col18\" class=\"data row23 col18\" >0.025792</td>\n",
              "                        <td id=\"T_94b547a4_4b36_11ec_be6c_0242ac1c0002row23_col19\" class=\"data row23 col19\" >0.047672</td>\n",
              "                        <td id=\"T_94b547a4_4b36_11ec_be6c_0242ac1c0002row23_col20\" class=\"data row23 col20\" >-0.006832</td>\n",
              "                        <td id=\"T_94b547a4_4b36_11ec_be6c_0242ac1c0002row23_col21\" class=\"data row23 col21\" >-0.312436</td>\n",
              "                        <td id=\"T_94b547a4_4b36_11ec_be6c_0242ac1c0002row23_col22\" class=\"data row23 col22\" >0.011610</td>\n",
              "                        <td id=\"T_94b547a4_4b36_11ec_be6c_0242ac1c0002row23_col23\" class=\"data row23 col23\" >1.000000</td>\n",
              "            </tr>\n",
              "    </tbody></table>"
            ],
            "text/plain": [
              "<pandas.io.formats.style.Styler at 0x7fdf7d71c390>"
            ]
          },
          "metadata": {},
          "execution_count": 217
        }
      ]
    },
    {
      "cell_type": "markdown",
      "source": [
        "# Feature Selection"
      ],
      "metadata": {
        "id": "aPnmgaYOFD83"
      }
    },
    {
      "cell_type": "code",
      "metadata": {
        "id": "MLzdONo1fDwU"
      },
      "source": [
        "from sklearn.feature_selection import SelectKBest\n",
        "from sklearn.feature_selection import f_regression\n",
        "from numpy import array \n",
        "from sklearn import feature_selection\n",
        "\n",
        "\n",
        "train_cols = df.columns[0:-5]\n",
        "target = df.columns[-5]\n",
        "\n",
        "x = df[['PRECTOT', 'PS', 'QV2M', 'T2M', 'T2MDEW', 'T2MWET',\n",
        "       'T2M_MAX', 'T2M_MIN', 'T2M_RANGE', 'TS', 'WS10M', 'WS10M_MAX',\n",
        "       'WS10M_MIN', 'WS10M_RANGE', 'WS50M', 'WS50M_MAX', 'WS50M_MIN',\n",
        "       'WS50M_RANGE', 'year', 'month']]\n",
        "y = df['score']"
      ],
      "execution_count": null,
      "outputs": []
    },
    {
      "cell_type": "code",
      "metadata": {
        "id": "CojsviA5fNCa",
        "colab": {
          "base_uri": "https://localhost:8080/"
        },
        "outputId": "5431cedf-403b-41a2-9306-d4fadc1580c7"
      },
      "source": [
        "# K best features are selected. \n",
        "select_features = SelectKBest(score_func=f_regression, k=7)\n",
        "z = select_features.fit_transform(x, y) \n",
        "z.shape\n",
        "\n",
        "features = array(df.columns)\n",
        "features = features[features!='score']\n",
        "\n",
        "filter = select_features.get_support()\n",
        "\n",
        "print(\"All features:\")\n",
        "print(features)\n",
        " \n",
        "print(\"\\n\\n Selected best 7:\")\n",
        "print(filter)"
      ],
      "execution_count": null,
      "outputs": [
        {
          "output_type": "stream",
          "name": "stdout",
          "text": [
            "All features:\n",
            "['fips' 'date' 'PRECTOT' 'PS' 'QV2M' 'T2M' 'T2MDEW' 'T2MWET' 'T2M_MAX'\n",
            " 'T2M_MIN' 'T2M_RANGE' 'TS' 'WS10M' 'WS10M_MAX' 'WS10M_MIN' 'WS10M_RANGE'\n",
            " 'WS50M' 'WS50M_MAX' 'WS50M_MIN' 'WS50M_RANGE' 'year' 'month' 'week' 'day']\n",
            "\n",
            "\n",
            " Selected best 7:\n",
            "[False False  True  True  True  True  True False  True  True False False\n",
            " False False False False False False False False]\n"
          ]
        }
      ]
    }
  ]
}